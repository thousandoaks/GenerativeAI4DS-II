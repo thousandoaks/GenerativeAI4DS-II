{
  "nbformat": 4,
  "nbformat_minor": 0,
  "metadata": {
    "colab": {
      "provenance": []
    },
    "kernelspec": {
      "name": "python3",
      "display_name": "Python 3"
    },
    "language_info": {
      "name": "python"
    }
  },
  "cells": [
    {
      "cell_type": "markdown",
      "source": [
        "## GenerativeAI4DS-II\n",
        "### Healthcare Lab (Introduction to LangChain)\n"
      ],
      "metadata": {
        "id": "6Sw5D2XvB6of"
      }
    },
    {
      "cell_type": "markdown",
      "source": [
        "### In this lab you will learn how to compose basic prompts to process medical information and have these prompts executed on OpenAI using LangChain. Furthermore you will learn how to format the output for subsequent processing.\n"
      ],
      "metadata": {
        "id": "6svar5-1CGi_"
      }
    },
    {
      "cell_type": "markdown",
      "source": [
        "### Get your [OpenAI API Key](https://platform.openai.com/account/api-keys)"
      ],
      "metadata": {
        "id": "Dl_KD3DSCR4w"
      }
    },
    {
      "cell_type": "code",
      "execution_count": 62,
      "metadata": {
        "colab": {
          "base_uri": "https://localhost:8080/"
        },
        "id": "LyCRmhg2BytA",
        "outputId": "ecffe48d-3282-4f93-86a6-4b283ff9bbde"
      },
      "outputs": [
        {
          "output_type": "stream",
          "name": "stdout",
          "text": [
            "Requirement already satisfied: langchain in /usr/local/lib/python3.10/dist-packages (0.2.6)\n",
            "Requirement already satisfied: PyYAML>=5.3 in /usr/local/lib/python3.10/dist-packages (from langchain) (6.0.1)\n",
            "Requirement already satisfied: SQLAlchemy<3,>=1.4 in /usr/local/lib/python3.10/dist-packages (from langchain) (2.0.31)\n",
            "Requirement already satisfied: aiohttp<4.0.0,>=3.8.3 in /usr/local/lib/python3.10/dist-packages (from langchain) (3.9.5)\n",
            "Requirement already satisfied: async-timeout<5.0.0,>=4.0.0 in /usr/local/lib/python3.10/dist-packages (from langchain) (4.0.3)\n",
            "Requirement already satisfied: langchain-core<0.3.0,>=0.2.10 in /usr/local/lib/python3.10/dist-packages (from langchain) (0.2.10)\n",
            "Requirement already satisfied: langchain-text-splitters<0.3.0,>=0.2.0 in /usr/local/lib/python3.10/dist-packages (from langchain) (0.2.2)\n",
            "Requirement already satisfied: langsmith<0.2.0,>=0.1.17 in /usr/local/lib/python3.10/dist-packages (from langchain) (0.1.82)\n",
            "Requirement already satisfied: numpy<2,>=1 in /usr/local/lib/python3.10/dist-packages (from langchain) (1.25.2)\n",
            "Requirement already satisfied: pydantic<3,>=1 in /usr/local/lib/python3.10/dist-packages (from langchain) (2.7.4)\n",
            "Requirement already satisfied: requests<3,>=2 in /usr/local/lib/python3.10/dist-packages (from langchain) (2.31.0)\n",
            "Requirement already satisfied: tenacity!=8.4.0,<9.0.0,>=8.1.0 in /usr/local/lib/python3.10/dist-packages (from langchain) (8.4.1)\n",
            "Requirement already satisfied: aiosignal>=1.1.2 in /usr/local/lib/python3.10/dist-packages (from aiohttp<4.0.0,>=3.8.3->langchain) (1.3.1)\n",
            "Requirement already satisfied: attrs>=17.3.0 in /usr/local/lib/python3.10/dist-packages (from aiohttp<4.0.0,>=3.8.3->langchain) (23.2.0)\n",
            "Requirement already satisfied: frozenlist>=1.1.1 in /usr/local/lib/python3.10/dist-packages (from aiohttp<4.0.0,>=3.8.3->langchain) (1.4.1)\n",
            "Requirement already satisfied: multidict<7.0,>=4.5 in /usr/local/lib/python3.10/dist-packages (from aiohttp<4.0.0,>=3.8.3->langchain) (6.0.5)\n",
            "Requirement already satisfied: yarl<2.0,>=1.0 in /usr/local/lib/python3.10/dist-packages (from aiohttp<4.0.0,>=3.8.3->langchain) (1.9.4)\n",
            "Requirement already satisfied: jsonpatch<2.0,>=1.33 in /usr/local/lib/python3.10/dist-packages (from langchain-core<0.3.0,>=0.2.10->langchain) (1.33)\n",
            "Requirement already satisfied: packaging<25,>=23.2 in /usr/local/lib/python3.10/dist-packages (from langchain-core<0.3.0,>=0.2.10->langchain) (24.1)\n",
            "Requirement already satisfied: orjson<4.0.0,>=3.9.14 in /usr/local/lib/python3.10/dist-packages (from langsmith<0.2.0,>=0.1.17->langchain) (3.10.5)\n",
            "Requirement already satisfied: annotated-types>=0.4.0 in /usr/local/lib/python3.10/dist-packages (from pydantic<3,>=1->langchain) (0.7.0)\n",
            "Requirement already satisfied: pydantic-core==2.18.4 in /usr/local/lib/python3.10/dist-packages (from pydantic<3,>=1->langchain) (2.18.4)\n",
            "Requirement already satisfied: typing-extensions>=4.6.1 in /usr/local/lib/python3.10/dist-packages (from pydantic<3,>=1->langchain) (4.12.2)\n",
            "Requirement already satisfied: charset-normalizer<4,>=2 in /usr/local/lib/python3.10/dist-packages (from requests<3,>=2->langchain) (3.3.2)\n",
            "Requirement already satisfied: idna<4,>=2.5 in /usr/local/lib/python3.10/dist-packages (from requests<3,>=2->langchain) (3.7)\n",
            "Requirement already satisfied: urllib3<3,>=1.21.1 in /usr/local/lib/python3.10/dist-packages (from requests<3,>=2->langchain) (2.0.7)\n",
            "Requirement already satisfied: certifi>=2017.4.17 in /usr/local/lib/python3.10/dist-packages (from requests<3,>=2->langchain) (2024.6.2)\n",
            "Requirement already satisfied: greenlet!=0.4.17 in /usr/local/lib/python3.10/dist-packages (from SQLAlchemy<3,>=1.4->langchain) (3.0.3)\n",
            "Requirement already satisfied: jsonpointer>=1.9 in /usr/local/lib/python3.10/dist-packages (from jsonpatch<2.0,>=1.33->langchain-core<0.3.0,>=0.2.10->langchain) (3.0.0)\n"
          ]
        }
      ],
      "source": [
        "!pip install --upgrade langchain"
      ]
    },
    {
      "cell_type": "code",
      "source": [
        "\n",
        "!pip install openai"
      ],
      "metadata": {
        "colab": {
          "base_uri": "https://localhost:8080/"
        },
        "id": "JoM-v1DoCsI5",
        "outputId": "38fce9d6-cccc-468f-adbf-717e1d55c81d"
      },
      "execution_count": 63,
      "outputs": [
        {
          "output_type": "stream",
          "name": "stdout",
          "text": [
            "Requirement already satisfied: openai in /usr/local/lib/python3.10/dist-packages (1.35.7)\n",
            "Requirement already satisfied: anyio<5,>=3.5.0 in /usr/local/lib/python3.10/dist-packages (from openai) (3.7.1)\n",
            "Requirement already satisfied: distro<2,>=1.7.0 in /usr/lib/python3/dist-packages (from openai) (1.7.0)\n",
            "Requirement already satisfied: httpx<1,>=0.23.0 in /usr/local/lib/python3.10/dist-packages (from openai) (0.27.0)\n",
            "Requirement already satisfied: pydantic<3,>=1.9.0 in /usr/local/lib/python3.10/dist-packages (from openai) (2.7.4)\n",
            "Requirement already satisfied: sniffio in /usr/local/lib/python3.10/dist-packages (from openai) (1.3.1)\n",
            "Requirement already satisfied: tqdm>4 in /usr/local/lib/python3.10/dist-packages (from openai) (4.66.4)\n",
            "Requirement already satisfied: typing-extensions<5,>=4.7 in /usr/local/lib/python3.10/dist-packages (from openai) (4.12.2)\n",
            "Requirement already satisfied: idna>=2.8 in /usr/local/lib/python3.10/dist-packages (from anyio<5,>=3.5.0->openai) (3.7)\n",
            "Requirement already satisfied: exceptiongroup in /usr/local/lib/python3.10/dist-packages (from anyio<5,>=3.5.0->openai) (1.2.1)\n",
            "Requirement already satisfied: certifi in /usr/local/lib/python3.10/dist-packages (from httpx<1,>=0.23.0->openai) (2024.6.2)\n",
            "Requirement already satisfied: httpcore==1.* in /usr/local/lib/python3.10/dist-packages (from httpx<1,>=0.23.0->openai) (1.0.5)\n",
            "Requirement already satisfied: h11<0.15,>=0.13 in /usr/local/lib/python3.10/dist-packages (from httpcore==1.*->httpx<1,>=0.23.0->openai) (0.14.0)\n",
            "Requirement already satisfied: annotated-types>=0.4.0 in /usr/local/lib/python3.10/dist-packages (from pydantic<3,>=1.9.0->openai) (0.7.0)\n",
            "Requirement already satisfied: pydantic-core==2.18.4 in /usr/local/lib/python3.10/dist-packages (from pydantic<3,>=1.9.0->openai) (2.18.4)\n"
          ]
        }
      ]
    },
    {
      "cell_type": "code",
      "source": [
        "!pip install langchain-community"
      ],
      "metadata": {
        "colab": {
          "base_uri": "https://localhost:8080/"
        },
        "id": "C5F66gwbGV9P",
        "outputId": "0304d0ba-34de-4631-b314-a2ab024cbe40"
      },
      "execution_count": 64,
      "outputs": [
        {
          "output_type": "stream",
          "name": "stdout",
          "text": [
            "Requirement already satisfied: langchain-community in /usr/local/lib/python3.10/dist-packages (0.2.6)\n",
            "Requirement already satisfied: PyYAML>=5.3 in /usr/local/lib/python3.10/dist-packages (from langchain-community) (6.0.1)\n",
            "Requirement already satisfied: SQLAlchemy<3,>=1.4 in /usr/local/lib/python3.10/dist-packages (from langchain-community) (2.0.31)\n",
            "Requirement already satisfied: aiohttp<4.0.0,>=3.8.3 in /usr/local/lib/python3.10/dist-packages (from langchain-community) (3.9.5)\n",
            "Requirement already satisfied: dataclasses-json<0.7,>=0.5.7 in /usr/local/lib/python3.10/dist-packages (from langchain-community) (0.6.7)\n",
            "Requirement already satisfied: langchain<0.3.0,>=0.2.6 in /usr/local/lib/python3.10/dist-packages (from langchain-community) (0.2.6)\n",
            "Requirement already satisfied: langchain-core<0.3.0,>=0.2.10 in /usr/local/lib/python3.10/dist-packages (from langchain-community) (0.2.10)\n",
            "Requirement already satisfied: langsmith<0.2.0,>=0.1.0 in /usr/local/lib/python3.10/dist-packages (from langchain-community) (0.1.82)\n",
            "Requirement already satisfied: numpy<2,>=1 in /usr/local/lib/python3.10/dist-packages (from langchain-community) (1.25.2)\n",
            "Requirement already satisfied: requests<3,>=2 in /usr/local/lib/python3.10/dist-packages (from langchain-community) (2.31.0)\n",
            "Requirement already satisfied: tenacity!=8.4.0,<9.0.0,>=8.1.0 in /usr/local/lib/python3.10/dist-packages (from langchain-community) (8.4.1)\n",
            "Requirement already satisfied: aiosignal>=1.1.2 in /usr/local/lib/python3.10/dist-packages (from aiohttp<4.0.0,>=3.8.3->langchain-community) (1.3.1)\n",
            "Requirement already satisfied: attrs>=17.3.0 in /usr/local/lib/python3.10/dist-packages (from aiohttp<4.0.0,>=3.8.3->langchain-community) (23.2.0)\n",
            "Requirement already satisfied: frozenlist>=1.1.1 in /usr/local/lib/python3.10/dist-packages (from aiohttp<4.0.0,>=3.8.3->langchain-community) (1.4.1)\n",
            "Requirement already satisfied: multidict<7.0,>=4.5 in /usr/local/lib/python3.10/dist-packages (from aiohttp<4.0.0,>=3.8.3->langchain-community) (6.0.5)\n",
            "Requirement already satisfied: yarl<2.0,>=1.0 in /usr/local/lib/python3.10/dist-packages (from aiohttp<4.0.0,>=3.8.3->langchain-community) (1.9.4)\n",
            "Requirement already satisfied: async-timeout<5.0,>=4.0 in /usr/local/lib/python3.10/dist-packages (from aiohttp<4.0.0,>=3.8.3->langchain-community) (4.0.3)\n",
            "Requirement already satisfied: marshmallow<4.0.0,>=3.18.0 in /usr/local/lib/python3.10/dist-packages (from dataclasses-json<0.7,>=0.5.7->langchain-community) (3.21.3)\n",
            "Requirement already satisfied: typing-inspect<1,>=0.4.0 in /usr/local/lib/python3.10/dist-packages (from dataclasses-json<0.7,>=0.5.7->langchain-community) (0.9.0)\n",
            "Requirement already satisfied: langchain-text-splitters<0.3.0,>=0.2.0 in /usr/local/lib/python3.10/dist-packages (from langchain<0.3.0,>=0.2.6->langchain-community) (0.2.2)\n",
            "Requirement already satisfied: pydantic<3,>=1 in /usr/local/lib/python3.10/dist-packages (from langchain<0.3.0,>=0.2.6->langchain-community) (2.7.4)\n",
            "Requirement already satisfied: jsonpatch<2.0,>=1.33 in /usr/local/lib/python3.10/dist-packages (from langchain-core<0.3.0,>=0.2.10->langchain-community) (1.33)\n",
            "Requirement already satisfied: packaging<25,>=23.2 in /usr/local/lib/python3.10/dist-packages (from langchain-core<0.3.0,>=0.2.10->langchain-community) (24.1)\n",
            "Requirement already satisfied: orjson<4.0.0,>=3.9.14 in /usr/local/lib/python3.10/dist-packages (from langsmith<0.2.0,>=0.1.0->langchain-community) (3.10.5)\n",
            "Requirement already satisfied: charset-normalizer<4,>=2 in /usr/local/lib/python3.10/dist-packages (from requests<3,>=2->langchain-community) (3.3.2)\n",
            "Requirement already satisfied: idna<4,>=2.5 in /usr/local/lib/python3.10/dist-packages (from requests<3,>=2->langchain-community) (3.7)\n",
            "Requirement already satisfied: urllib3<3,>=1.21.1 in /usr/local/lib/python3.10/dist-packages (from requests<3,>=2->langchain-community) (2.0.7)\n",
            "Requirement already satisfied: certifi>=2017.4.17 in /usr/local/lib/python3.10/dist-packages (from requests<3,>=2->langchain-community) (2024.6.2)\n",
            "Requirement already satisfied: typing-extensions>=4.6.0 in /usr/local/lib/python3.10/dist-packages (from SQLAlchemy<3,>=1.4->langchain-community) (4.12.2)\n",
            "Requirement already satisfied: greenlet!=0.4.17 in /usr/local/lib/python3.10/dist-packages (from SQLAlchemy<3,>=1.4->langchain-community) (3.0.3)\n",
            "Requirement already satisfied: jsonpointer>=1.9 in /usr/local/lib/python3.10/dist-packages (from jsonpatch<2.0,>=1.33->langchain-core<0.3.0,>=0.2.10->langchain-community) (3.0.0)\n",
            "Requirement already satisfied: annotated-types>=0.4.0 in /usr/local/lib/python3.10/dist-packages (from pydantic<3,>=1->langchain<0.3.0,>=0.2.6->langchain-community) (0.7.0)\n",
            "Requirement already satisfied: pydantic-core==2.18.4 in /usr/local/lib/python3.10/dist-packages (from pydantic<3,>=1->langchain<0.3.0,>=0.2.6->langchain-community) (2.18.4)\n",
            "Requirement already satisfied: mypy-extensions>=0.3.0 in /usr/local/lib/python3.10/dist-packages (from typing-inspect<1,>=0.4.0->dataclasses-json<0.7,>=0.5.7->langchain-community) (1.0.0)\n"
          ]
        }
      ]
    },
    {
      "cell_type": "code",
      "source": [
        "import os\n",
        "import openai\n",
        "\n"
      ],
      "metadata": {
        "id": "IWoj8JJzCxKB"
      },
      "execution_count": 65,
      "outputs": []
    },
    {
      "cell_type": "code",
      "source": [
        "OPENAI_API_KEY=\"YOU-NEED-YOUR-OWN-KEY\""
      ],
      "metadata": {
        "id": "HRQ0G9VBCxHt"
      },
      "execution_count": 66,
      "outputs": []
    },
    {
      "cell_type": "code",
      "source": [],
      "metadata": {
        "id": "MNrWieviCxE0"
      },
      "execution_count": 66,
      "outputs": []
    },
    {
      "cell_type": "code",
      "source": [],
      "metadata": {
        "id": "Wz5TOnffCxBd"
      },
      "execution_count": 66,
      "outputs": []
    },
    {
      "cell_type": "markdown",
      "source": [
        "### 1. Model"
      ],
      "metadata": {
        "id": "fYYaGF0fCV4-"
      }
    },
    {
      "cell_type": "code",
      "source": [
        "from langchain.chat_models import ChatOpenAI"
      ],
      "metadata": {
        "id": "wdRFVAmGDJPA"
      },
      "execution_count": 67,
      "outputs": []
    },
    {
      "cell_type": "code",
      "source": [
        "# To control the randomness and creativity of the generated\n",
        "# text by an LLM, use temperature = 0.0\n",
        "chat = ChatOpenAI(temperature=0.0, model='gpt-3.5-turbo',openai_api_key=OPENAI_API_KEY)\n",
        "chat"
      ],
      "metadata": {
        "colab": {
          "base_uri": "https://localhost:8080/"
        },
        "id": "KB6UJOmtDaBp",
        "outputId": "eb1a5429-4c14-4806-ebd6-16dd2c7e36ac"
      },
      "execution_count": 68,
      "outputs": [
        {
          "output_type": "execute_result",
          "data": {
            "text/plain": [
              "ChatOpenAI(client=<openai.resources.chat.completions.Completions object at 0x7affe69c1840>, async_client=<openai.resources.chat.completions.AsyncCompletions object at 0x7affe69c0cd0>, temperature=0.0, openai_api_key='sk-proj-DMnj4x5sUYrpvDMAFJEeT3BlbkFJq8noUO0vY90qelg5LNdE', openai_proxy='')"
            ]
          },
          "metadata": {},
          "execution_count": 68
        }
      ]
    },
    {
      "cell_type": "markdown",
      "source": [
        "### 2. Prompt template"
      ],
      "metadata": {
        "id": "M-Yecm2mEPLM"
      }
    },
    {
      "cell_type": "code",
      "source": [
        "template_string = \"\"\"Summarize the medical text that is delimited by triple backticks into a style that is {style}. text: ```{text}``` \"\"\""
      ],
      "metadata": {
        "id": "istsJ1HvDZ_D"
      },
      "execution_count": 69,
      "outputs": []
    },
    {
      "cell_type": "code",
      "source": [
        "from langchain.prompts import ChatPromptTemplate\n",
        "\n",
        "prompt_template = ChatPromptTemplate.from_template(template_string)"
      ],
      "metadata": {
        "id": "WyiAp-0EDZ8d"
      },
      "execution_count": 70,
      "outputs": []
    },
    {
      "cell_type": "code",
      "source": [
        "prompt_template.messages[0].prompt"
      ],
      "metadata": {
        "colab": {
          "base_uri": "https://localhost:8080/"
        },
        "id": "Zfyfg7sQDZ5T",
        "outputId": "b2d8a0a5-106c-4910-d160-5cc003823de0"
      },
      "execution_count": 71,
      "outputs": [
        {
          "output_type": "execute_result",
          "data": {
            "text/plain": [
              "PromptTemplate(input_variables=['style', 'text'], template='Summarize the medical text that is delimited by triple backticks into a style that is {style}. text: ```{text}``` ')"
            ]
          },
          "metadata": {},
          "execution_count": 71
        }
      ]
    },
    {
      "cell_type": "code",
      "source": [
        "prompt_template.messages[0].prompt.input_variables"
      ],
      "metadata": {
        "colab": {
          "base_uri": "https://localhost:8080/"
        },
        "id": "gvGjBDfbEj0A",
        "outputId": "11191e6b-a2bf-40d4-dece-b5dcbe094324"
      },
      "execution_count": 72,
      "outputs": [
        {
          "output_type": "execute_result",
          "data": {
            "text/plain": [
              "['style', 'text']"
            ]
          },
          "metadata": {},
          "execution_count": 72
        }
      ]
    },
    {
      "cell_type": "code",
      "source": [
        "medical_style = \"\"\"Plain English, suitable for a non-medical audiente \"\"\""
      ],
      "metadata": {
        "id": "SlUmZWWpEjxZ"
      },
      "execution_count": 73,
      "outputs": []
    },
    {
      "cell_type": "markdown",
      "source": [
        "### 3. Prompt Execution (Example 1)\n",
        "#### Using the model and the template previously defined we want to summarize a medical diagnosis according to the style we desire."
      ],
      "metadata": {
        "id": "mceebBT4HQLW"
      }
    },
    {
      "cell_type": "code",
      "source": [
        "medical_diagnosis = \"\"\"\n",
        "\n",
        " Patient Case: Complex Medical Diagnosis of Pancreatic Adenocarcinoma\n",
        "\n",
        "**Patient Information:**\n",
        "- **Name:** John Doe\n",
        "- **Age:** 62 years old\n",
        "- **Gender:** Male\n",
        "- **Medical History:** Type 2 diabetes mellitus, hypertension, chronic pancreatitis\n",
        "- **Family History:** Father diagnosed with colon cancer at age 70\n",
        "\n",
        "**Presenting Symptoms:**\n",
        "- Unintentional weight loss of 15 pounds over 3 months\n",
        "- Persistent upper abdominal pain radiating to the back\n",
        "- Jaundice (yellowing of the skin and eyes)\n",
        "- Dark urine and pale stools\n",
        "- Loss of appetite and early satiety\n",
        "\n",
        "**Physical Examination:**\n",
        "- Cachexia (severe weight loss)\n",
        "- Icterus (jaundice)\n",
        "- Palpable non-tender gallbladder (Courvoisier's sign)\n",
        "- Epigastric tenderness\n",
        "\n",
        "**Diagnostic Workup:**\n",
        "\n",
        "1. **Laboratory Tests:**\n",
        "   - Complete blood count (CBC): Normocytic anemia\n",
        "   - Liver function tests (LFTs): Elevated bilirubin, alkaline phosphatase, and gamma-glutamyl transferase (GGT)\n",
        "   - Tumor markers: Elevated CA 19-9 and CEA levels\n",
        "\n",
        "2. **Imaging Studies:**\n",
        "   - **Abdominal Ultrasound:**\n",
        "     - Dilated bile ducts\n",
        "     - Mass in the head of the pancreas\n",
        "   - **Contrast-Enhanced CT Scan of the Abdomen:**\n",
        "     - Hypoattenuating mass in the head of the pancreas measuring 4.5 cm\n",
        "     - Dilatation of the pancreatic and bile ducts (double duct sign)\n",
        "     - Involvement of the superior mesenteric artery\n",
        "     - Suspicious lesions in the liver suggestive of metastasis\n",
        "   - **MRI/MRCP:**\n",
        "     - Detailed view of the biliary tree and pancreatic ducts confirming CT findings\n",
        "\n",
        "3. **Biopsy:**\n",
        "   - **Endoscopic Ultrasound-Guided Fine Needle Aspiration (EUS-FNA):**\n",
        "     - Cytology: Adenocarcinoma cells\n",
        "\n",
        "**Diagnosis:**\n",
        "- **Stage IV Pancreatic Adenocarcinoma with Liver Metastasis**\n",
        "  - Based on the TNM staging system:\n",
        "    - T4: Tumor involves the superior mesenteric artery\n",
        "    - N1: Regional lymph node involvement\n",
        "    - M1: Distant metastasis to the liver\n",
        "\n",
        "**Treatment Plan:**\n",
        "- **Palliative Care:** Focus on symptom management and quality of life\n",
        "- **Chemotherapy:**\n",
        "  - Gemcitabine-based regimen or FOLFIRINOX (combination of folinic acid, fluorouracil, irinotecan, and oxaliplatin)\n",
        "- **Radiation Therapy:** Considered for local control of pain\n",
        "- **Supportive Care:**\n",
        "  - Pain management with opioids\n",
        "  - Nutritional support\n",
        "  - Psychological support and counseling\n",
        "\n",
        "**Prognosis:**\n",
        "- The prognosis for stage IV pancreatic cancer is poor, with a median survival time of approximately 6-12 months. The primary goal of treatment is to improve the quality of life and manage symptoms.\n",
        "\n",
        "\n",
        "\n",
        "\n",
        " \"\"\""
      ],
      "metadata": {
        "id": "fEUcHIEIEjuh"
      },
      "execution_count": 74,
      "outputs": []
    },
    {
      "cell_type": "code",
      "source": [
        "patient_messages = prompt_template.format_messages(\n",
        "                    style=medical_style,\n",
        "                    text=medical_diagnosis)"
      ],
      "metadata": {
        "id": "kcXP1VoEFGHD"
      },
      "execution_count": 75,
      "outputs": []
    },
    {
      "cell_type": "code",
      "source": [
        "print(type(patient_messages))\n",
        "print(type(patient_messages[0]))"
      ],
      "metadata": {
        "colab": {
          "base_uri": "https://localhost:8080/"
        },
        "id": "XeX1mzT2FN6n",
        "outputId": "9a03b917-29cc-4171-c628-8f1d3db7b1c3"
      },
      "execution_count": 76,
      "outputs": [
        {
          "output_type": "stream",
          "name": "stdout",
          "text": [
            "<class 'list'>\n",
            "<class 'langchain_core.messages.human.HumanMessage'>\n"
          ]
        }
      ]
    },
    {
      "cell_type": "code",
      "source": [
        "print(patient_messages[0])"
      ],
      "metadata": {
        "colab": {
          "base_uri": "https://localhost:8080/"
        },
        "id": "Ukeh8FehFPtM",
        "outputId": "850ebd4c-7f7e-4415-fa73-9cea3703f583"
      },
      "execution_count": 77,
      "outputs": [
        {
          "output_type": "stream",
          "name": "stdout",
          "text": [
            "content=\"Summarize the medical text that is delimited by triple backticks into a style that is Plain English, suitable for a non-medical audiente . text: ```\\n\\n Patient Case: Complex Medical Diagnosis of Pancreatic Adenocarcinoma\\n\\n**Patient Information:**\\n- **Name:** John Doe\\n- **Age:** 62 years old\\n- **Gender:** Male\\n- **Medical History:** Type 2 diabetes mellitus, hypertension, chronic pancreatitis\\n- **Family History:** Father diagnosed with colon cancer at age 70\\n\\n**Presenting Symptoms:**\\n- Unintentional weight loss of 15 pounds over 3 months\\n- Persistent upper abdominal pain radiating to the back\\n- Jaundice (yellowing of the skin and eyes)\\n- Dark urine and pale stools\\n- Loss of appetite and early satiety\\n\\n**Physical Examination:**\\n- Cachexia (severe weight loss)\\n- Icterus (jaundice)\\n- Palpable non-tender gallbladder (Courvoisier's sign)\\n- Epigastric tenderness\\n\\n**Diagnostic Workup:**\\n\\n1. **Laboratory Tests:**\\n   - Complete blood count (CBC): Normocytic anemia\\n   - Liver function tests (LFTs): Elevated bilirubin, alkaline phosphatase, and gamma-glutamyl transferase (GGT)\\n   - Tumor markers: Elevated CA 19-9 and CEA levels\\n\\n2. **Imaging Studies:**\\n   - **Abdominal Ultrasound:**\\n     - Dilated bile ducts\\n     - Mass in the head of the pancreas\\n   - **Contrast-Enhanced CT Scan of the Abdomen:**\\n     - Hypoattenuating mass in the head of the pancreas measuring 4.5 cm\\n     - Dilatation of the pancreatic and bile ducts (double duct sign)\\n     - Involvement of the superior mesenteric artery\\n     - Suspicious lesions in the liver suggestive of metastasis\\n   - **MRI/MRCP:**\\n     - Detailed view of the biliary tree and pancreatic ducts confirming CT findings\\n\\n3. **Biopsy:**\\n   - **Endoscopic Ultrasound-Guided Fine Needle Aspiration (EUS-FNA):**\\n     - Cytology: Adenocarcinoma cells\\n\\n**Diagnosis:**\\n- **Stage IV Pancreatic Adenocarcinoma with Liver Metastasis**\\n  - Based on the TNM staging system:\\n    - T4: Tumor involves the superior mesenteric artery\\n    - N1: Regional lymph node involvement\\n    - M1: Distant metastasis to the liver\\n\\n**Treatment Plan:**\\n- **Palliative Care:** Focus on symptom management and quality of life\\n- **Chemotherapy:**\\n  - Gemcitabine-based regimen or FOLFIRINOX (combination of folinic acid, fluorouracil, irinotecan, and oxaliplatin)\\n- **Radiation Therapy:** Considered for local control of pain\\n- **Supportive Care:**\\n  - Pain management with opioids\\n  - Nutritional support\\n  - Psychological support and counseling\\n\\n**Prognosis:**\\n- The prognosis for stage IV pancreatic cancer is poor, with a median survival time of approximately 6-12 months. The primary goal of treatment is to improve the quality of life and manage symptoms.\\n\\n\\n\\n\\n ``` \"\n"
          ]
        }
      ]
    },
    {
      "cell_type": "code",
      "source": [
        "# Call the LLM to translate to the style of the customer message\n",
        "patient_response = chat(patient_messages)"
      ],
      "metadata": {
        "id": "TDDvxaqaFSWR"
      },
      "execution_count": 78,
      "outputs": []
    },
    {
      "cell_type": "code",
      "source": [
        "from IPython.display import display, Markdown as md\n",
        "display(patient_response.content)"
      ],
      "metadata": {
        "colab": {
          "base_uri": "https://localhost:8080/",
          "height": 86
        },
        "id": "Brjra9M5iyVY",
        "outputId": "529f6855-7a50-4566-bbf2-85ea5d4f725f"
      },
      "execution_count": 79,
      "outputs": [
        {
          "output_type": "display_data",
          "data": {
            "text/plain": [
              "'John Doe, a 62-year-old male with a history of diabetes, hypertension, and pancreatitis, presented with symptoms like weight loss, abdominal pain, jaundice, and appetite loss. Tests showed anemia, liver function issues, and elevated tumor markers. Imaging revealed a mass in the pancreas and liver involvement. Biopsy confirmed Stage IV Pancreatic Adenocarcinoma with liver metastasis. Treatment includes palliative care, chemotherapy, and supportive measures. The prognosis is poor, with a focus on improving quality of life and symptom management.'"
            ],
            "application/vnd.google.colaboratory.intrinsic+json": {
              "type": "string"
            }
          },
          "metadata": {}
        }
      ]
    },
    {
      "cell_type": "markdown",
      "source": [
        "### 3. Prompt Execution (Example 2)\n",
        "#### Using the model and the response previously generated we want to translate the medical diagnosis into plain spanish"
      ],
      "metadata": {
        "id": "QSQJs2SWHtKQ"
      }
    },
    {
      "cell_type": "code",
      "source": [
        "language_style = \"\"\" a polite tone that speaks in Plain spanish \"\"\""
      ],
      "metadata": {
        "id": "bNSPGoRnImUF"
      },
      "execution_count": 81,
      "outputs": []
    },
    {
      "cell_type": "code",
      "source": [
        "service_messages = prompt_template.format_messages(\n",
        "    style=language_style,\n",
        "    text=patient_response.content)\n",
        "\n",
        "print(service_messages[0].content)"
      ],
      "metadata": {
        "colab": {
          "base_uri": "https://localhost:8080/"
        },
        "id": "x_svE8G8H9cH",
        "outputId": "59aa99c4-3855-4bed-d23c-7b1102b9dc6c"
      },
      "execution_count": 82,
      "outputs": [
        {
          "output_type": "stream",
          "name": "stdout",
          "text": [
            "Summarize the medical text that is delimited by triple backticks into a style that is  a polite tone that speaks in Plain spanish . text: ```John Doe, a 62-year-old male with a history of diabetes, hypertension, and pancreatitis, presented with symptoms like weight loss, abdominal pain, jaundice, and appetite loss. Tests showed anemia, liver function issues, and elevated tumor markers. Imaging revealed a mass in the pancreas and liver involvement. Biopsy confirmed Stage IV Pancreatic Adenocarcinoma with liver metastasis. Treatment includes palliative care, chemotherapy, and supportive measures. The prognosis is poor, with a focus on improving quality of life and symptom management.``` \n"
          ]
        }
      ]
    },
    {
      "cell_type": "code",
      "source": [
        "service_response = chat(service_messages)\n",
        "display(service_response.content)"
      ],
      "metadata": {
        "colab": {
          "base_uri": "https://localhost:8080/",
          "height": 86
        },
        "id": "5MpkT6fOIgVQ",
        "outputId": "8f36080c-4d5f-4a5a-e7ac-89e0b4b43bf0"
      },
      "execution_count": 83,
      "outputs": [
        {
          "output_type": "display_data",
          "data": {
            "text/plain": [
              "'El señor John Doe, un hombre de 62 años con antecedentes de diabetes, hipertensión y pancreatitis, se presentó con síntomas como pérdida de peso, dolor abdominal, ictericia y pérdida de apetito. Los exámenes mostraron anemia, problemas de función hepática y marcadores tumorales elevados. La imagen reveló una masa en el páncreas y compromiso del hígado. La biopsia confirmó un adenocarcinoma pancreático en etapa IV con metástasis hepática. El tratamiento incluye cuidados paliativos, quimioterapia y medidas de apoyo. El pronóstico es pobre, con un enfoque en mejorar la calidad de vida y el manejo de los síntomas.'"
            ],
            "application/vnd.google.colaboratory.intrinsic+json": {
              "type": "string"
            }
          },
          "metadata": {}
        }
      ]
    },
    {
      "cell_type": "code",
      "source": [],
      "metadata": {
        "id": "jyG5sYAnl521"
      },
      "execution_count": 83,
      "outputs": []
    }
  ]
}