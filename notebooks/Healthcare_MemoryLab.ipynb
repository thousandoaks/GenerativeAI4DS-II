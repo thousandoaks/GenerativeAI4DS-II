{
  "nbformat": 4,
  "nbformat_minor": 0,
  "metadata": {
    "colab": {
      "provenance": [],
      "authorship_tag": "ABX9TyPFhytnJZAZVOR7qZR8WsP9"
    },
    "kernelspec": {
      "name": "python3",
      "display_name": "Python 3"
    },
    "language_info": {
      "name": "python"
    }
  },
  "cells": [
    {
      "cell_type": "markdown",
      "source": [
        "## GenerativeAI4DS-II\n",
        "## Healthcare Lab: Implementing basic memory services in LangChain\n"
      ],
      "metadata": {
        "id": "6Sw5D2XvB6of"
      }
    },
    {
      "cell_type": "markdown",
      "source": [
        "### LLMS are stateless, they don't keep previous conversations in memory. Conversational bots need to keep track of past interactions with the user.\n",
        "### In this lab you will learn how to implement \"stateful\" LLMs through LangChain's API."
      ],
      "metadata": {
        "id": "6svar5-1CGi_"
      }
    },
    {
      "cell_type": "markdown",
      "source": [
        "### Get your [OpenAI API Key](https://platform.openai.com/account/api-keys)"
      ],
      "metadata": {
        "id": "Dl_KD3DSCR4w"
      }
    },
    {
      "cell_type": "code",
      "source": [
        "#OPENAI_API_KEY=\"YOU-NEED-YOUR-OWN-KEY\""
      ],
      "metadata": {
        "id": "5ipJpykzVyuX"
      },
      "execution_count": 55,
      "outputs": []
    },
    {
      "cell_type": "code",
      "execution_count": 56,
      "metadata": {
        "colab": {
          "base_uri": "https://localhost:8080/"
        },
        "id": "LyCRmhg2BytA",
        "outputId": "4dca9936-167e-46b7-f1d1-01133e3ad31d"
      },
      "outputs": [
        {
          "output_type": "stream",
          "name": "stdout",
          "text": [
            "Requirement already satisfied: langchain in /usr/local/lib/python3.10/dist-packages (0.2.6)\n",
            "Requirement already satisfied: PyYAML>=5.3 in /usr/local/lib/python3.10/dist-packages (from langchain) (6.0.1)\n",
            "Requirement already satisfied: SQLAlchemy<3,>=1.4 in /usr/local/lib/python3.10/dist-packages (from langchain) (2.0.31)\n",
            "Requirement already satisfied: aiohttp<4.0.0,>=3.8.3 in /usr/local/lib/python3.10/dist-packages (from langchain) (3.9.5)\n",
            "Requirement already satisfied: async-timeout<5.0.0,>=4.0.0 in /usr/local/lib/python3.10/dist-packages (from langchain) (4.0.3)\n",
            "Requirement already satisfied: langchain-core<0.3.0,>=0.2.10 in /usr/local/lib/python3.10/dist-packages (from langchain) (0.2.10)\n",
            "Requirement already satisfied: langchain-text-splitters<0.3.0,>=0.2.0 in /usr/local/lib/python3.10/dist-packages (from langchain) (0.2.2)\n",
            "Requirement already satisfied: langsmith<0.2.0,>=0.1.17 in /usr/local/lib/python3.10/dist-packages (from langchain) (0.1.83)\n",
            "Requirement already satisfied: numpy<2,>=1 in /usr/local/lib/python3.10/dist-packages (from langchain) (1.25.2)\n",
            "Requirement already satisfied: pydantic<3,>=1 in /usr/local/lib/python3.10/dist-packages (from langchain) (2.7.4)\n",
            "Requirement already satisfied: requests<3,>=2 in /usr/local/lib/python3.10/dist-packages (from langchain) (2.31.0)\n",
            "Requirement already satisfied: tenacity!=8.4.0,<9.0.0,>=8.1.0 in /usr/local/lib/python3.10/dist-packages (from langchain) (8.4.2)\n",
            "Requirement already satisfied: aiosignal>=1.1.2 in /usr/local/lib/python3.10/dist-packages (from aiohttp<4.0.0,>=3.8.3->langchain) (1.3.1)\n",
            "Requirement already satisfied: attrs>=17.3.0 in /usr/local/lib/python3.10/dist-packages (from aiohttp<4.0.0,>=3.8.3->langchain) (23.2.0)\n",
            "Requirement already satisfied: frozenlist>=1.1.1 in /usr/local/lib/python3.10/dist-packages (from aiohttp<4.0.0,>=3.8.3->langchain) (1.4.1)\n",
            "Requirement already satisfied: multidict<7.0,>=4.5 in /usr/local/lib/python3.10/dist-packages (from aiohttp<4.0.0,>=3.8.3->langchain) (6.0.5)\n",
            "Requirement already satisfied: yarl<2.0,>=1.0 in /usr/local/lib/python3.10/dist-packages (from aiohttp<4.0.0,>=3.8.3->langchain) (1.9.4)\n",
            "Requirement already satisfied: jsonpatch<2.0,>=1.33 in /usr/local/lib/python3.10/dist-packages (from langchain-core<0.3.0,>=0.2.10->langchain) (1.33)\n",
            "Requirement already satisfied: packaging<25,>=23.2 in /usr/local/lib/python3.10/dist-packages (from langchain-core<0.3.0,>=0.2.10->langchain) (24.1)\n",
            "Requirement already satisfied: orjson<4.0.0,>=3.9.14 in /usr/local/lib/python3.10/dist-packages (from langsmith<0.2.0,>=0.1.17->langchain) (3.10.5)\n",
            "Requirement already satisfied: annotated-types>=0.4.0 in /usr/local/lib/python3.10/dist-packages (from pydantic<3,>=1->langchain) (0.7.0)\n",
            "Requirement already satisfied: pydantic-core==2.18.4 in /usr/local/lib/python3.10/dist-packages (from pydantic<3,>=1->langchain) (2.18.4)\n",
            "Requirement already satisfied: typing-extensions>=4.6.1 in /usr/local/lib/python3.10/dist-packages (from pydantic<3,>=1->langchain) (4.12.2)\n",
            "Requirement already satisfied: charset-normalizer<4,>=2 in /usr/local/lib/python3.10/dist-packages (from requests<3,>=2->langchain) (3.3.2)\n",
            "Requirement already satisfied: idna<4,>=2.5 in /usr/local/lib/python3.10/dist-packages (from requests<3,>=2->langchain) (3.7)\n",
            "Requirement already satisfied: urllib3<3,>=1.21.1 in /usr/local/lib/python3.10/dist-packages (from requests<3,>=2->langchain) (2.0.7)\n",
            "Requirement already satisfied: certifi>=2017.4.17 in /usr/local/lib/python3.10/dist-packages (from requests<3,>=2->langchain) (2024.6.2)\n",
            "Requirement already satisfied: greenlet!=0.4.17 in /usr/local/lib/python3.10/dist-packages (from SQLAlchemy<3,>=1.4->langchain) (3.0.3)\n",
            "Requirement already satisfied: jsonpointer>=1.9 in /usr/local/lib/python3.10/dist-packages (from jsonpatch<2.0,>=1.33->langchain-core<0.3.0,>=0.2.10->langchain) (3.0.0)\n"
          ]
        }
      ],
      "source": [
        "!pip install --upgrade langchain;"
      ]
    },
    {
      "cell_type": "code",
      "source": [
        "\n",
        "!pip install openai"
      ],
      "metadata": {
        "colab": {
          "base_uri": "https://localhost:8080/"
        },
        "id": "JoM-v1DoCsI5",
        "outputId": "e160566a-9e14-460a-8cc9-0beeaecaba40"
      },
      "execution_count": 57,
      "outputs": [
        {
          "output_type": "stream",
          "name": "stdout",
          "text": [
            "Requirement already satisfied: openai in /usr/local/lib/python3.10/dist-packages (1.35.7)\n",
            "Requirement already satisfied: anyio<5,>=3.5.0 in /usr/local/lib/python3.10/dist-packages (from openai) (3.7.1)\n",
            "Requirement already satisfied: distro<2,>=1.7.0 in /usr/lib/python3/dist-packages (from openai) (1.7.0)\n",
            "Requirement already satisfied: httpx<1,>=0.23.0 in /usr/local/lib/python3.10/dist-packages (from openai) (0.27.0)\n",
            "Requirement already satisfied: pydantic<3,>=1.9.0 in /usr/local/lib/python3.10/dist-packages (from openai) (2.7.4)\n",
            "Requirement already satisfied: sniffio in /usr/local/lib/python3.10/dist-packages (from openai) (1.3.1)\n",
            "Requirement already satisfied: tqdm>4 in /usr/local/lib/python3.10/dist-packages (from openai) (4.66.4)\n",
            "Requirement already satisfied: typing-extensions<5,>=4.7 in /usr/local/lib/python3.10/dist-packages (from openai) (4.12.2)\n",
            "Requirement already satisfied: idna>=2.8 in /usr/local/lib/python3.10/dist-packages (from anyio<5,>=3.5.0->openai) (3.7)\n",
            "Requirement already satisfied: exceptiongroup in /usr/local/lib/python3.10/dist-packages (from anyio<5,>=3.5.0->openai) (1.2.1)\n",
            "Requirement already satisfied: certifi in /usr/local/lib/python3.10/dist-packages (from httpx<1,>=0.23.0->openai) (2024.6.2)\n",
            "Requirement already satisfied: httpcore==1.* in /usr/local/lib/python3.10/dist-packages (from httpx<1,>=0.23.0->openai) (1.0.5)\n",
            "Requirement already satisfied: h11<0.15,>=0.13 in /usr/local/lib/python3.10/dist-packages (from httpcore==1.*->httpx<1,>=0.23.0->openai) (0.14.0)\n",
            "Requirement already satisfied: annotated-types>=0.4.0 in /usr/local/lib/python3.10/dist-packages (from pydantic<3,>=1.9.0->openai) (0.7.0)\n",
            "Requirement already satisfied: pydantic-core==2.18.4 in /usr/local/lib/python3.10/dist-packages (from pydantic<3,>=1.9.0->openai) (2.18.4)\n"
          ]
        }
      ]
    },
    {
      "cell_type": "code",
      "source": [
        "!pip install langchain-community"
      ],
      "metadata": {
        "colab": {
          "base_uri": "https://localhost:8080/"
        },
        "id": "f_KTgX_PSKMX",
        "outputId": "9010b3cd-8c73-466f-fb44-13c768cfaae4"
      },
      "execution_count": 58,
      "outputs": [
        {
          "output_type": "stream",
          "name": "stdout",
          "text": [
            "Requirement already satisfied: langchain-community in /usr/local/lib/python3.10/dist-packages (0.2.6)\n",
            "Requirement already satisfied: PyYAML>=5.3 in /usr/local/lib/python3.10/dist-packages (from langchain-community) (6.0.1)\n",
            "Requirement already satisfied: SQLAlchemy<3,>=1.4 in /usr/local/lib/python3.10/dist-packages (from langchain-community) (2.0.31)\n",
            "Requirement already satisfied: aiohttp<4.0.0,>=3.8.3 in /usr/local/lib/python3.10/dist-packages (from langchain-community) (3.9.5)\n",
            "Requirement already satisfied: dataclasses-json<0.7,>=0.5.7 in /usr/local/lib/python3.10/dist-packages (from langchain-community) (0.6.7)\n",
            "Requirement already satisfied: langchain<0.3.0,>=0.2.6 in /usr/local/lib/python3.10/dist-packages (from langchain-community) (0.2.6)\n",
            "Requirement already satisfied: langchain-core<0.3.0,>=0.2.10 in /usr/local/lib/python3.10/dist-packages (from langchain-community) (0.2.10)\n",
            "Requirement already satisfied: langsmith<0.2.0,>=0.1.0 in /usr/local/lib/python3.10/dist-packages (from langchain-community) (0.1.83)\n",
            "Requirement already satisfied: numpy<2,>=1 in /usr/local/lib/python3.10/dist-packages (from langchain-community) (1.25.2)\n",
            "Requirement already satisfied: requests<3,>=2 in /usr/local/lib/python3.10/dist-packages (from langchain-community) (2.31.0)\n",
            "Requirement already satisfied: tenacity!=8.4.0,<9.0.0,>=8.1.0 in /usr/local/lib/python3.10/dist-packages (from langchain-community) (8.4.2)\n",
            "Requirement already satisfied: aiosignal>=1.1.2 in /usr/local/lib/python3.10/dist-packages (from aiohttp<4.0.0,>=3.8.3->langchain-community) (1.3.1)\n",
            "Requirement already satisfied: attrs>=17.3.0 in /usr/local/lib/python3.10/dist-packages (from aiohttp<4.0.0,>=3.8.3->langchain-community) (23.2.0)\n",
            "Requirement already satisfied: frozenlist>=1.1.1 in /usr/local/lib/python3.10/dist-packages (from aiohttp<4.0.0,>=3.8.3->langchain-community) (1.4.1)\n",
            "Requirement already satisfied: multidict<7.0,>=4.5 in /usr/local/lib/python3.10/dist-packages (from aiohttp<4.0.0,>=3.8.3->langchain-community) (6.0.5)\n",
            "Requirement already satisfied: yarl<2.0,>=1.0 in /usr/local/lib/python3.10/dist-packages (from aiohttp<4.0.0,>=3.8.3->langchain-community) (1.9.4)\n",
            "Requirement already satisfied: async-timeout<5.0,>=4.0 in /usr/local/lib/python3.10/dist-packages (from aiohttp<4.0.0,>=3.8.3->langchain-community) (4.0.3)\n",
            "Requirement already satisfied: marshmallow<4.0.0,>=3.18.0 in /usr/local/lib/python3.10/dist-packages (from dataclasses-json<0.7,>=0.5.7->langchain-community) (3.21.3)\n",
            "Requirement already satisfied: typing-inspect<1,>=0.4.0 in /usr/local/lib/python3.10/dist-packages (from dataclasses-json<0.7,>=0.5.7->langchain-community) (0.9.0)\n",
            "Requirement already satisfied: langchain-text-splitters<0.3.0,>=0.2.0 in /usr/local/lib/python3.10/dist-packages (from langchain<0.3.0,>=0.2.6->langchain-community) (0.2.2)\n",
            "Requirement already satisfied: pydantic<3,>=1 in /usr/local/lib/python3.10/dist-packages (from langchain<0.3.0,>=0.2.6->langchain-community) (2.7.4)\n",
            "Requirement already satisfied: jsonpatch<2.0,>=1.33 in /usr/local/lib/python3.10/dist-packages (from langchain-core<0.3.0,>=0.2.10->langchain-community) (1.33)\n",
            "Requirement already satisfied: packaging<25,>=23.2 in /usr/local/lib/python3.10/dist-packages (from langchain-core<0.3.0,>=0.2.10->langchain-community) (24.1)\n",
            "Requirement already satisfied: orjson<4.0.0,>=3.9.14 in /usr/local/lib/python3.10/dist-packages (from langsmith<0.2.0,>=0.1.0->langchain-community) (3.10.5)\n",
            "Requirement already satisfied: charset-normalizer<4,>=2 in /usr/local/lib/python3.10/dist-packages (from requests<3,>=2->langchain-community) (3.3.2)\n",
            "Requirement already satisfied: idna<4,>=2.5 in /usr/local/lib/python3.10/dist-packages (from requests<3,>=2->langchain-community) (3.7)\n",
            "Requirement already satisfied: urllib3<3,>=1.21.1 in /usr/local/lib/python3.10/dist-packages (from requests<3,>=2->langchain-community) (2.0.7)\n",
            "Requirement already satisfied: certifi>=2017.4.17 in /usr/local/lib/python3.10/dist-packages (from requests<3,>=2->langchain-community) (2024.6.2)\n",
            "Requirement already satisfied: typing-extensions>=4.6.0 in /usr/local/lib/python3.10/dist-packages (from SQLAlchemy<3,>=1.4->langchain-community) (4.12.2)\n",
            "Requirement already satisfied: greenlet!=0.4.17 in /usr/local/lib/python3.10/dist-packages (from SQLAlchemy<3,>=1.4->langchain-community) (3.0.3)\n",
            "Requirement already satisfied: jsonpointer>=1.9 in /usr/local/lib/python3.10/dist-packages (from jsonpatch<2.0,>=1.33->langchain-core<0.3.0,>=0.2.10->langchain-community) (3.0.0)\n",
            "Requirement already satisfied: annotated-types>=0.4.0 in /usr/local/lib/python3.10/dist-packages (from pydantic<3,>=1->langchain<0.3.0,>=0.2.6->langchain-community) (0.7.0)\n",
            "Requirement already satisfied: pydantic-core==2.18.4 in /usr/local/lib/python3.10/dist-packages (from pydantic<3,>=1->langchain<0.3.0,>=0.2.6->langchain-community) (2.18.4)\n",
            "Requirement already satisfied: mypy-extensions>=0.3.0 in /usr/local/lib/python3.10/dist-packages (from typing-inspect<1,>=0.4.0->dataclasses-json<0.7,>=0.5.7->langchain-community) (1.0.0)\n"
          ]
        }
      ]
    },
    {
      "cell_type": "code",
      "source": [
        "import os\n",
        "import openai\n",
        "\n"
      ],
      "metadata": {
        "id": "IWoj8JJzCxKB"
      },
      "execution_count": 59,
      "outputs": []
    },
    {
      "cell_type": "code",
      "source": [],
      "metadata": {
        "id": "HRQ0G9VBCxHt"
      },
      "execution_count": 59,
      "outputs": []
    },
    {
      "cell_type": "code",
      "source": [],
      "metadata": {
        "id": "MNrWieviCxE0"
      },
      "execution_count": 59,
      "outputs": []
    },
    {
      "cell_type": "code",
      "source": [],
      "metadata": {
        "id": "Wz5TOnffCxBd"
      },
      "execution_count": 59,
      "outputs": []
    },
    {
      "cell_type": "markdown",
      "source": [
        "### 1. Model\n",
        "#### This time we specify a model with memory capabilities"
      ],
      "metadata": {
        "id": "fYYaGF0fCV4-"
      }
    },
    {
      "cell_type": "code",
      "source": [
        "from langchain.chat_models import ChatOpenAI\n",
        "from langchain.chains import ConversationChain\n",
        "from langchain.memory import ConversationBufferMemory\n"
      ],
      "metadata": {
        "id": "wdRFVAmGDJPA"
      },
      "execution_count": 60,
      "outputs": []
    },
    {
      "cell_type": "code",
      "source": [
        "\n",
        "llm = ChatOpenAI(temperature=0.0, model='gpt-3.5-turbo',openai_api_key=OPENAI_API_KEY)"
      ],
      "metadata": {
        "id": "yPo6awxi_Jtz"
      },
      "execution_count": 61,
      "outputs": []
    },
    {
      "cell_type": "markdown",
      "source": [
        "### 2. Memory functionality\n",
        "#### This time we specify a model with memory capabilities"
      ],
      "metadata": {
        "id": "WOGipbhe_LvZ"
      }
    },
    {
      "cell_type": "code",
      "source": [
        "## We set verbose=True to inspect how the LLM operates\n",
        "memory = ConversationBufferMemory()\n",
        "conversation = ConversationChain(\n",
        "    llm=llm,\n",
        "    memory = memory,\n",
        "    verbose=True\n",
        ")"
      ],
      "metadata": {
        "id": "KB6UJOmtDaBp"
      },
      "execution_count": 62,
      "outputs": []
    },
    {
      "cell_type": "markdown",
      "source": [
        "### 3. Conversations\n",
        "#### Now that we have a model with memory capabilities we can implement basic conversational bots"
      ],
      "metadata": {
        "id": "CTPTtOGv_dui"
      }
    },
    {
      "cell_type": "code",
      "source": [
        "conversation.predict(input=\"Hi, my name is Mark Thompson\")"
      ],
      "metadata": {
        "colab": {
          "base_uri": "https://localhost:8080/",
          "height": 259
        },
        "id": "8ovtrZw6-GUx",
        "outputId": "622d4ec4-9c62-4b06-950d-a30f51bfae8e"
      },
      "execution_count": 63,
      "outputs": [
        {
          "output_type": "stream",
          "name": "stdout",
          "text": [
            "\n",
            "\n",
            "\u001b[1m> Entering new ConversationChain chain...\u001b[0m\n",
            "Prompt after formatting:\n",
            "\u001b[32;1m\u001b[1;3mThe following is a friendly conversation between a human and an AI. The AI is talkative and provides lots of specific details from its context. If the AI does not know the answer to a question, it truthfully says it does not know.\n",
            "\n",
            "Current conversation:\n",
            "\n",
            "Human: Hi, my name is Mark Thompson\n",
            "AI:\u001b[0m\n",
            "\n",
            "\u001b[1m> Finished chain.\u001b[0m\n"
          ]
        },
        {
          "output_type": "execute_result",
          "data": {
            "text/plain": [
              "\"Hello Mark Thompson! It's nice to meet you. How can I assist you today?\""
            ],
            "application/vnd.google.colaboratory.intrinsic+json": {
              "type": "string"
            }
          },
          "metadata": {},
          "execution_count": 63
        }
      ]
    },
    {
      "cell_type": "code",
      "source": [
        "conversation.predict(input='''My medical details are:\n",
        "\n",
        "- **Age:** 62 years old\n",
        "- **Gender:** Male\n",
        "- **Medical History:** Type 2 diabetes mellitus, hypertension, chronic pancreatitis\n",
        "- **Family History:** Father diagnosed with colon cancer at age 70''')"
      ],
      "metadata": {
        "colab": {
          "base_uri": "https://localhost:8080/",
          "height": 378
        },
        "id": "uRlmW7i8Waiv",
        "outputId": "6fefe091-bebc-44a5-de79-a8322601cbde"
      },
      "execution_count": 64,
      "outputs": [
        {
          "output_type": "stream",
          "name": "stdout",
          "text": [
            "\n",
            "\n",
            "\u001b[1m> Entering new ConversationChain chain...\u001b[0m\n",
            "Prompt after formatting:\n",
            "\u001b[32;1m\u001b[1;3mThe following is a friendly conversation between a human and an AI. The AI is talkative and provides lots of specific details from its context. If the AI does not know the answer to a question, it truthfully says it does not know.\n",
            "\n",
            "Current conversation:\n",
            "Human: Hi, my name is Mark Thompson\n",
            "AI: Hello Mark Thompson! It's nice to meet you. How can I assist you today?\n",
            "Human: My medical details are: \n",
            "\n",
            "- **Age:** 62 years old\n",
            "- **Gender:** Male\n",
            "- **Medical History:** Type 2 diabetes mellitus, hypertension, chronic pancreatitis\n",
            "- **Family History:** Father diagnosed with colon cancer at age 70\n",
            "AI:\u001b[0m\n",
            "\n",
            "\u001b[1m> Finished chain.\u001b[0m\n"
          ]
        },
        {
          "output_type": "execute_result",
          "data": {
            "text/plain": [
              "\"Thank you for sharing your medical details, Mark. It's important to keep track of your health history. If you have any specific questions or concerns related to your medical conditions, feel free to ask. I'm here to help!\""
            ],
            "application/vnd.google.colaboratory.intrinsic+json": {
              "type": "string"
            }
          },
          "metadata": {},
          "execution_count": 64
        }
      ]
    },
    {
      "cell_type": "code",
      "source": [
        "conversation.predict(input='was my father diagnosed with colon cancer ?')"
      ],
      "metadata": {
        "colab": {
          "base_uri": "https://localhost:8080/",
          "height": 429
        },
        "id": "ET5g0AJkWaga",
        "outputId": "37ef0944-95f8-4671-e572-e623cc6bed98"
      },
      "execution_count": 65,
      "outputs": [
        {
          "output_type": "stream",
          "name": "stdout",
          "text": [
            "\n",
            "\n",
            "\u001b[1m> Entering new ConversationChain chain...\u001b[0m\n",
            "Prompt after formatting:\n",
            "\u001b[32;1m\u001b[1;3mThe following is a friendly conversation between a human and an AI. The AI is talkative and provides lots of specific details from its context. If the AI does not know the answer to a question, it truthfully says it does not know.\n",
            "\n",
            "Current conversation:\n",
            "Human: Hi, my name is Mark Thompson\n",
            "AI: Hello Mark Thompson! It's nice to meet you. How can I assist you today?\n",
            "Human: My medical details are: \n",
            "\n",
            "- **Age:** 62 years old\n",
            "- **Gender:** Male\n",
            "- **Medical History:** Type 2 diabetes mellitus, hypertension, chronic pancreatitis\n",
            "- **Family History:** Father diagnosed with colon cancer at age 70\n",
            "AI: Thank you for sharing your medical details, Mark. It's important to keep track of your health history. If you have any specific questions or concerns related to your medical conditions, feel free to ask. I'm here to help!\n",
            "Human: was my father diagnosed with colon cancer ?\n",
            "AI:\u001b[0m\n",
            "\n",
            "\u001b[1m> Finished chain.\u001b[0m\n"
          ]
        },
        {
          "output_type": "execute_result",
          "data": {
            "text/plain": [
              "\"Yes, based on the information you provided, your father was diagnosed with colon cancer at the age of 70. It's important to be aware of your family history of medical conditions as it can impact your own health. If you have any concerns or questions about colon cancer or any other health issues, please let me know.\""
            ],
            "application/vnd.google.colaboratory.intrinsic+json": {
              "type": "string"
            }
          },
          "metadata": {},
          "execution_count": 65
        }
      ]
    },
    {
      "cell_type": "code",
      "source": [
        "conversation.predict(input='and lung cancer ?')"
      ],
      "metadata": {
        "colab": {
          "base_uri": "https://localhost:8080/",
          "height": 463
        },
        "id": "0bFxGsnMWadz",
        "outputId": "22e73f7c-8022-49f2-ce6f-0db599e76354"
      },
      "execution_count": 66,
      "outputs": [
        {
          "output_type": "stream",
          "name": "stdout",
          "text": [
            "\n",
            "\n",
            "\u001b[1m> Entering new ConversationChain chain...\u001b[0m\n",
            "Prompt after formatting:\n",
            "\u001b[32;1m\u001b[1;3mThe following is a friendly conversation between a human and an AI. The AI is talkative and provides lots of specific details from its context. If the AI does not know the answer to a question, it truthfully says it does not know.\n",
            "\n",
            "Current conversation:\n",
            "Human: Hi, my name is Mark Thompson\n",
            "AI: Hello Mark Thompson! It's nice to meet you. How can I assist you today?\n",
            "Human: My medical details are: \n",
            "\n",
            "- **Age:** 62 years old\n",
            "- **Gender:** Male\n",
            "- **Medical History:** Type 2 diabetes mellitus, hypertension, chronic pancreatitis\n",
            "- **Family History:** Father diagnosed with colon cancer at age 70\n",
            "AI: Thank you for sharing your medical details, Mark. It's important to keep track of your health history. If you have any specific questions or concerns related to your medical conditions, feel free to ask. I'm here to help!\n",
            "Human: was my father diagnosed with colon cancer ?\n",
            "AI: Yes, based on the information you provided, your father was diagnosed with colon cancer at the age of 70. It's important to be aware of your family history of medical conditions as it can impact your own health. If you have any concerns or questions about colon cancer or any other health issues, please let me know.\n",
            "Human: and lung cancer ?\n",
            "AI:\u001b[0m\n",
            "\n",
            "\u001b[1m> Finished chain.\u001b[0m\n"
          ]
        },
        {
          "output_type": "execute_result",
          "data": {
            "text/plain": [
              "\"I'm sorry, but based on the information you provided, there is no mention of your father being diagnosed with lung cancer. It's always a good idea to discuss your family medical history with your healthcare provider to assess your risk factors for various conditions. If you have any other questions or concerns, feel free to ask.\""
            ],
            "application/vnd.google.colaboratory.intrinsic+json": {
              "type": "string"
            }
          },
          "metadata": {},
          "execution_count": 66
        }
      ]
    },
    {
      "cell_type": "code",
      "source": [
        "conversation.predict(input='''\n",
        "\n",
        "A Physical Examination determined that I have:\n",
        "\n",
        "- Cachexia (severe weight loss)\n",
        "- Icterus (jaundice)\n",
        "- Palpable non-tender gallbladder (Courvoisier's sign)\n",
        "- Epigastric tenderness\n",
        "\n",
        "''')"
      ],
      "metadata": {
        "colab": {
          "base_uri": "https://localhost:8080/",
          "height": 667
        },
        "id": "NGddtG6LWabN",
        "outputId": "40e09254-f168-4941-9946-30024cab4dbc"
      },
      "execution_count": 67,
      "outputs": [
        {
          "output_type": "stream",
          "name": "stdout",
          "text": [
            "\n",
            "\n",
            "\u001b[1m> Entering new ConversationChain chain...\u001b[0m\n",
            "Prompt after formatting:\n",
            "\u001b[32;1m\u001b[1;3mThe following is a friendly conversation between a human and an AI. The AI is talkative and provides lots of specific details from its context. If the AI does not know the answer to a question, it truthfully says it does not know.\n",
            "\n",
            "Current conversation:\n",
            "Human: Hi, my name is Mark Thompson\n",
            "AI: Hello Mark Thompson! It's nice to meet you. How can I assist you today?\n",
            "Human: My medical details are: \n",
            "\n",
            "- **Age:** 62 years old\n",
            "- **Gender:** Male\n",
            "- **Medical History:** Type 2 diabetes mellitus, hypertension, chronic pancreatitis\n",
            "- **Family History:** Father diagnosed with colon cancer at age 70\n",
            "AI: Thank you for sharing your medical details, Mark. It's important to keep track of your health history. If you have any specific questions or concerns related to your medical conditions, feel free to ask. I'm here to help!\n",
            "Human: was my father diagnosed with colon cancer ?\n",
            "AI: Yes, based on the information you provided, your father was diagnosed with colon cancer at the age of 70. It's important to be aware of your family history of medical conditions as it can impact your own health. If you have any concerns or questions about colon cancer or any other health issues, please let me know.\n",
            "Human: and lung cancer ?\n",
            "AI: I'm sorry, but based on the information you provided, there is no mention of your father being diagnosed with lung cancer. It's always a good idea to discuss your family medical history with your healthcare provider to assess your risk factors for various conditions. If you have any other questions or concerns, feel free to ask.\n",
            "Human:  \n",
            "\n",
            "A Physical Examination determined that I have:\n",
            "\n",
            "- Cachexia (severe weight loss)\n",
            "- Icterus (jaundice)\n",
            "- Palpable non-tender gallbladder (Courvoisier's sign)\n",
            "- Epigastric tenderness\n",
            "\n",
            "\n",
            "AI:\u001b[0m\n",
            "\n",
            "\u001b[1m> Finished chain.\u001b[0m\n"
          ]
        },
        {
          "output_type": "execute_result",
          "data": {
            "text/plain": [
              "\"Based on the physical examination findings you provided, it seems like there are some concerning symptoms present. Cachexia, jaundice, a palpable non-tender gallbladder (Courvoisier's sign), and epigastric tenderness can be indicative of various underlying health issues, including pancreatic cancer. It's important to follow up with your healthcare provider for further evaluation and management. If you have any questions or need more information about these symptoms, please let me know.\""
            ],
            "application/vnd.google.colaboratory.intrinsic+json": {
              "type": "string"
            }
          },
          "metadata": {},
          "execution_count": 67
        }
      ]
    },
    {
      "cell_type": "code",
      "source": [
        "conversation.predict(input='''\n",
        "\n",
        "I have just received the following laboratory results:\n",
        "\n",
        "   - Complete blood count (CBC): Normocytic anemia\n",
        "   - Liver function tests (LFTs): Elevated bilirubin, alkaline phosphatase, and gamma-glutamyl transferase (GGT)\n",
        "   - Tumor markers: Elevated CA 19-9 and CEA levels\n",
        "\n",
        "     ''')\n",
        "\n"
      ],
      "metadata": {
        "colab": {
          "base_uri": "https://localhost:8080/",
          "height": 854
        },
        "id": "10hDj0viWaYt",
        "outputId": "d1f5f682-edc0-4b6f-ca25-fe59122c33e3"
      },
      "execution_count": 68,
      "outputs": [
        {
          "output_type": "stream",
          "name": "stdout",
          "text": [
            "\n",
            "\n",
            "\u001b[1m> Entering new ConversationChain chain...\u001b[0m\n",
            "Prompt after formatting:\n",
            "\u001b[32;1m\u001b[1;3mThe following is a friendly conversation between a human and an AI. The AI is talkative and provides lots of specific details from its context. If the AI does not know the answer to a question, it truthfully says it does not know.\n",
            "\n",
            "Current conversation:\n",
            "Human: Hi, my name is Mark Thompson\n",
            "AI: Hello Mark Thompson! It's nice to meet you. How can I assist you today?\n",
            "Human: My medical details are: \n",
            "\n",
            "- **Age:** 62 years old\n",
            "- **Gender:** Male\n",
            "- **Medical History:** Type 2 diabetes mellitus, hypertension, chronic pancreatitis\n",
            "- **Family History:** Father diagnosed with colon cancer at age 70\n",
            "AI: Thank you for sharing your medical details, Mark. It's important to keep track of your health history. If you have any specific questions or concerns related to your medical conditions, feel free to ask. I'm here to help!\n",
            "Human: was my father diagnosed with colon cancer ?\n",
            "AI: Yes, based on the information you provided, your father was diagnosed with colon cancer at the age of 70. It's important to be aware of your family history of medical conditions as it can impact your own health. If you have any concerns or questions about colon cancer or any other health issues, please let me know.\n",
            "Human: and lung cancer ?\n",
            "AI: I'm sorry, but based on the information you provided, there is no mention of your father being diagnosed with lung cancer. It's always a good idea to discuss your family medical history with your healthcare provider to assess your risk factors for various conditions. If you have any other questions or concerns, feel free to ask.\n",
            "Human:  \n",
            "\n",
            "A Physical Examination determined that I have:\n",
            "\n",
            "- Cachexia (severe weight loss)\n",
            "- Icterus (jaundice)\n",
            "- Palpable non-tender gallbladder (Courvoisier's sign)\n",
            "- Epigastric tenderness\n",
            "\n",
            "\n",
            "AI: Based on the physical examination findings you provided, it seems like there are some concerning symptoms present. Cachexia, jaundice, a palpable non-tender gallbladder (Courvoisier's sign), and epigastric tenderness can be indicative of various underlying health issues, including pancreatic cancer. It's important to follow up with your healthcare provider for further evaluation and management. If you have any questions or need more information about these symptoms, please let me know.\n",
            "Human: \n",
            "\n",
            "I have just received the following laboratory results:\n",
            "\n",
            "   - Complete blood count (CBC): Normocytic anemia\n",
            "   - Liver function tests (LFTs): Elevated bilirubin, alkaline phosphatase, and gamma-glutamyl transferase (GGT)\n",
            "   - Tumor markers: Elevated CA 19-9 and CEA levels\n",
            "\n",
            "     \n",
            "AI:\u001b[0m\n",
            "\n",
            "\u001b[1m> Finished chain.\u001b[0m\n"
          ]
        },
        {
          "output_type": "execute_result",
          "data": {
            "text/plain": [
              "\"Based on the laboratory results you provided, it appears that there are abnormalities in your blood work that may be concerning. The normocytic anemia, elevated bilirubin, alkaline phosphatase, gamma-glutamyl transferase (GGT), and tumor markers (elevated CA 19-9 and CEA levels) can be indicative of liver or pancreatic issues, including pancreatic cancer. It's crucial to discuss these results with your healthcare provider for further evaluation and appropriate management. If you have any questions or need more information about these lab findings, please feel free to ask.\""
            ],
            "application/vnd.google.colaboratory.intrinsic+json": {
              "type": "string"
            }
          },
          "metadata": {},
          "execution_count": 68
        }
      ]
    },
    {
      "cell_type": "code",
      "source": [
        "conversation.predict(input='''\n",
        "\n",
        "\n",
        "and the following imaging studies\n",
        "\n",
        "\n",
        "   - **Abdominal Ultrasound:**\n",
        "     - Dilated bile ducts\n",
        "     - Mass in the head of the pancreas\n",
        "   - **Contrast-Enhanced CT Scan of the Abdomen:**\n",
        "     - Hypoattenuating mass in the head of the pancreas measuring 4.5 cm\n",
        "     - Dilatation of the pancreatic and bile ducts (double duct sign)\n",
        "     - Involvement of the superior mesenteric artery\n",
        "     - Suspicious lesions in the liver suggestive of metastasis\n",
        "   - **MRI/MRCP:**\n",
        "     - Detailed view of the biliary tree and pancreatic ducts confirming CT findings\n",
        "\n",
        "\n",
        "''')\n",
        "\n",
        "\n"
      ],
      "metadata": {
        "colab": {
          "base_uri": "https://localhost:8080/",
          "height": 1000
        },
        "id": "LvXeNYL5WaWO",
        "outputId": "10b7af26-3bee-48a1-c129-690eb3fac8fe"
      },
      "execution_count": 69,
      "outputs": [
        {
          "output_type": "stream",
          "name": "stdout",
          "text": [
            "\n",
            "\n",
            "\u001b[1m> Entering new ConversationChain chain...\u001b[0m\n",
            "Prompt after formatting:\n",
            "\u001b[32;1m\u001b[1;3mThe following is a friendly conversation between a human and an AI. The AI is talkative and provides lots of specific details from its context. If the AI does not know the answer to a question, it truthfully says it does not know.\n",
            "\n",
            "Current conversation:\n",
            "Human: Hi, my name is Mark Thompson\n",
            "AI: Hello Mark Thompson! It's nice to meet you. How can I assist you today?\n",
            "Human: My medical details are: \n",
            "\n",
            "- **Age:** 62 years old\n",
            "- **Gender:** Male\n",
            "- **Medical History:** Type 2 diabetes mellitus, hypertension, chronic pancreatitis\n",
            "- **Family History:** Father diagnosed with colon cancer at age 70\n",
            "AI: Thank you for sharing your medical details, Mark. It's important to keep track of your health history. If you have any specific questions or concerns related to your medical conditions, feel free to ask. I'm here to help!\n",
            "Human: was my father diagnosed with colon cancer ?\n",
            "AI: Yes, based on the information you provided, your father was diagnosed with colon cancer at the age of 70. It's important to be aware of your family history of medical conditions as it can impact your own health. If you have any concerns or questions about colon cancer or any other health issues, please let me know.\n",
            "Human: and lung cancer ?\n",
            "AI: I'm sorry, but based on the information you provided, there is no mention of your father being diagnosed with lung cancer. It's always a good idea to discuss your family medical history with your healthcare provider to assess your risk factors for various conditions. If you have any other questions or concerns, feel free to ask.\n",
            "Human:  \n",
            "\n",
            "A Physical Examination determined that I have:\n",
            "\n",
            "- Cachexia (severe weight loss)\n",
            "- Icterus (jaundice)\n",
            "- Palpable non-tender gallbladder (Courvoisier's sign)\n",
            "- Epigastric tenderness\n",
            "\n",
            "\n",
            "AI: Based on the physical examination findings you provided, it seems like there are some concerning symptoms present. Cachexia, jaundice, a palpable non-tender gallbladder (Courvoisier's sign), and epigastric tenderness can be indicative of various underlying health issues, including pancreatic cancer. It's important to follow up with your healthcare provider for further evaluation and management. If you have any questions or need more information about these symptoms, please let me know.\n",
            "Human: \n",
            "\n",
            "I have just received the following laboratory results:\n",
            "\n",
            "   - Complete blood count (CBC): Normocytic anemia\n",
            "   - Liver function tests (LFTs): Elevated bilirubin, alkaline phosphatase, and gamma-glutamyl transferase (GGT)\n",
            "   - Tumor markers: Elevated CA 19-9 and CEA levels\n",
            "\n",
            "     \n",
            "AI: Based on the laboratory results you provided, it appears that there are abnormalities in your blood work that may be concerning. The normocytic anemia, elevated bilirubin, alkaline phosphatase, gamma-glutamyl transferase (GGT), and tumor markers (elevated CA 19-9 and CEA levels) can be indicative of liver or pancreatic issues, including pancreatic cancer. It's crucial to discuss these results with your healthcare provider for further evaluation and appropriate management. If you have any questions or need more information about these lab findings, please feel free to ask.\n",
            "Human: \n",
            "\n",
            "\n",
            "and the following imaging studies\n",
            "\n",
            "\n",
            "   - **Abdominal Ultrasound:**\n",
            "     - Dilated bile ducts\n",
            "     - Mass in the head of the pancreas\n",
            "   - **Contrast-Enhanced CT Scan of the Abdomen:**\n",
            "     - Hypoattenuating mass in the head of the pancreas measuring 4.5 cm\n",
            "     - Dilatation of the pancreatic and bile ducts (double duct sign)\n",
            "     - Involvement of the superior mesenteric artery\n",
            "     - Suspicious lesions in the liver suggestive of metastasis\n",
            "   - **MRI/MRCP:**\n",
            "     - Detailed view of the biliary tree and pancreatic ducts confirming CT findings\n",
            "\n",
            "\n",
            "\n",
            "AI:\u001b[0m\n",
            "\n",
            "\u001b[1m> Finished chain.\u001b[0m\n"
          ]
        },
        {
          "output_type": "execute_result",
          "data": {
            "text/plain": [
              "\"Based on the imaging studies you provided, it seems like there are significant findings that are concerning for pancreatic cancer. The presence of a mass in the head of the pancreas, dilated bile ducts, involvement of the superior mesenteric artery, and suspicious lesions in the liver suggestive of metastasis are all worrisome signs. It's important to discuss these imaging results with your healthcare provider for further evaluation and treatment planning. If you have any questions or need more information about these imaging findings, please let me know.\""
            ],
            "application/vnd.google.colaboratory.intrinsic+json": {
              "type": "string"
            }
          },
          "metadata": {},
          "execution_count": 69
        }
      ]
    },
    {
      "cell_type": "code",
      "source": [
        "conversation.predict(input='''\n",
        "\n",
        "a recent biopsy gives the following results\n",
        "\n",
        "- **Endoscopic Ultrasound-Guided Fine Needle Aspiration (EUS-FNA):**\n",
        "     - Cytology: Adenocarcinoma cells\n",
        "\n",
        "\n",
        "\n",
        "''')"
      ],
      "metadata": {
        "colab": {
          "base_uri": "https://localhost:8080/",
          "height": 1000
        },
        "id": "8caBjaoOWaTm",
        "outputId": "a80329ef-a521-41eb-e80b-0737186a80f8"
      },
      "execution_count": 70,
      "outputs": [
        {
          "output_type": "stream",
          "name": "stdout",
          "text": [
            "\n",
            "\n",
            "\u001b[1m> Entering new ConversationChain chain...\u001b[0m\n",
            "Prompt after formatting:\n",
            "\u001b[32;1m\u001b[1;3mThe following is a friendly conversation between a human and an AI. The AI is talkative and provides lots of specific details from its context. If the AI does not know the answer to a question, it truthfully says it does not know.\n",
            "\n",
            "Current conversation:\n",
            "Human: Hi, my name is Mark Thompson\n",
            "AI: Hello Mark Thompson! It's nice to meet you. How can I assist you today?\n",
            "Human: My medical details are: \n",
            "\n",
            "- **Age:** 62 years old\n",
            "- **Gender:** Male\n",
            "- **Medical History:** Type 2 diabetes mellitus, hypertension, chronic pancreatitis\n",
            "- **Family History:** Father diagnosed with colon cancer at age 70\n",
            "AI: Thank you for sharing your medical details, Mark. It's important to keep track of your health history. If you have any specific questions or concerns related to your medical conditions, feel free to ask. I'm here to help!\n",
            "Human: was my father diagnosed with colon cancer ?\n",
            "AI: Yes, based on the information you provided, your father was diagnosed with colon cancer at the age of 70. It's important to be aware of your family history of medical conditions as it can impact your own health. If you have any concerns or questions about colon cancer or any other health issues, please let me know.\n",
            "Human: and lung cancer ?\n",
            "AI: I'm sorry, but based on the information you provided, there is no mention of your father being diagnosed with lung cancer. It's always a good idea to discuss your family medical history with your healthcare provider to assess your risk factors for various conditions. If you have any other questions or concerns, feel free to ask.\n",
            "Human:  \n",
            "\n",
            "A Physical Examination determined that I have:\n",
            "\n",
            "- Cachexia (severe weight loss)\n",
            "- Icterus (jaundice)\n",
            "- Palpable non-tender gallbladder (Courvoisier's sign)\n",
            "- Epigastric tenderness\n",
            "\n",
            "\n",
            "AI: Based on the physical examination findings you provided, it seems like there are some concerning symptoms present. Cachexia, jaundice, a palpable non-tender gallbladder (Courvoisier's sign), and epigastric tenderness can be indicative of various underlying health issues, including pancreatic cancer. It's important to follow up with your healthcare provider for further evaluation and management. If you have any questions or need more information about these symptoms, please let me know.\n",
            "Human: \n",
            "\n",
            "I have just received the following laboratory results:\n",
            "\n",
            "   - Complete blood count (CBC): Normocytic anemia\n",
            "   - Liver function tests (LFTs): Elevated bilirubin, alkaline phosphatase, and gamma-glutamyl transferase (GGT)\n",
            "   - Tumor markers: Elevated CA 19-9 and CEA levels\n",
            "\n",
            "     \n",
            "AI: Based on the laboratory results you provided, it appears that there are abnormalities in your blood work that may be concerning. The normocytic anemia, elevated bilirubin, alkaline phosphatase, gamma-glutamyl transferase (GGT), and tumor markers (elevated CA 19-9 and CEA levels) can be indicative of liver or pancreatic issues, including pancreatic cancer. It's crucial to discuss these results with your healthcare provider for further evaluation and appropriate management. If you have any questions or need more information about these lab findings, please feel free to ask.\n",
            "Human: \n",
            "\n",
            "\n",
            "and the following imaging studies\n",
            "\n",
            "\n",
            "   - **Abdominal Ultrasound:**\n",
            "     - Dilated bile ducts\n",
            "     - Mass in the head of the pancreas\n",
            "   - **Contrast-Enhanced CT Scan of the Abdomen:**\n",
            "     - Hypoattenuating mass in the head of the pancreas measuring 4.5 cm\n",
            "     - Dilatation of the pancreatic and bile ducts (double duct sign)\n",
            "     - Involvement of the superior mesenteric artery\n",
            "     - Suspicious lesions in the liver suggestive of metastasis\n",
            "   - **MRI/MRCP:**\n",
            "     - Detailed view of the biliary tree and pancreatic ducts confirming CT findings\n",
            "\n",
            "\n",
            "\n",
            "AI: Based on the imaging studies you provided, it seems like there are significant findings that are concerning for pancreatic cancer. The presence of a mass in the head of the pancreas, dilated bile ducts, involvement of the superior mesenteric artery, and suspicious lesions in the liver suggestive of metastasis are all worrisome signs. It's important to discuss these imaging results with your healthcare provider for further evaluation and treatment planning. If you have any questions or need more information about these imaging findings, please let me know.\n",
            "Human: \n",
            "\n",
            "a recent biopsy gives the following results\n",
            "\n",
            "- **Endoscopic Ultrasound-Guided Fine Needle Aspiration (EUS-FNA):**\n",
            "     - Cytology: Adenocarcinoma cells\n",
            "\n",
            "\n",
            "\n",
            "\n",
            "AI:\u001b[0m\n",
            "\n",
            "\u001b[1m> Finished chain.\u001b[0m\n"
          ]
        },
        {
          "output_type": "execute_result",
          "data": {
            "text/plain": [
              "\"Based on the biopsy results you provided, the presence of adenocarcinoma cells confirms the diagnosis of pancreatic cancer. Adenocarcinoma is the most common type of pancreatic cancer, and further staging and treatment options will need to be discussed with your healthcare provider. It's essential to have open communication with your medical team to understand the next steps in your care. If you have any questions or need more information about pancreatic cancer or treatment options, please feel free to ask.\""
            ],
            "application/vnd.google.colaboratory.intrinsic+json": {
              "type": "string"
            }
          },
          "metadata": {},
          "execution_count": 70
        }
      ]
    },
    {
      "cell_type": "code",
      "source": [
        "conversation.predict(input='Please give me a medical diagnosis in plain english')"
      ],
      "metadata": {
        "colab": {
          "base_uri": "https://localhost:8080/",
          "height": 1000
        },
        "id": "RdzqnMJGWaRK",
        "outputId": "14577f11-ae39-49f5-f448-b6eb7f76b8a1"
      },
      "execution_count": 71,
      "outputs": [
        {
          "output_type": "stream",
          "name": "stdout",
          "text": [
            "\n",
            "\n",
            "\u001b[1m> Entering new ConversationChain chain...\u001b[0m\n",
            "Prompt after formatting:\n",
            "\u001b[32;1m\u001b[1;3mThe following is a friendly conversation between a human and an AI. The AI is talkative and provides lots of specific details from its context. If the AI does not know the answer to a question, it truthfully says it does not know.\n",
            "\n",
            "Current conversation:\n",
            "Human: Hi, my name is Mark Thompson\n",
            "AI: Hello Mark Thompson! It's nice to meet you. How can I assist you today?\n",
            "Human: My medical details are: \n",
            "\n",
            "- **Age:** 62 years old\n",
            "- **Gender:** Male\n",
            "- **Medical History:** Type 2 diabetes mellitus, hypertension, chronic pancreatitis\n",
            "- **Family History:** Father diagnosed with colon cancer at age 70\n",
            "AI: Thank you for sharing your medical details, Mark. It's important to keep track of your health history. If you have any specific questions or concerns related to your medical conditions, feel free to ask. I'm here to help!\n",
            "Human: was my father diagnosed with colon cancer ?\n",
            "AI: Yes, based on the information you provided, your father was diagnosed with colon cancer at the age of 70. It's important to be aware of your family history of medical conditions as it can impact your own health. If you have any concerns or questions about colon cancer or any other health issues, please let me know.\n",
            "Human: and lung cancer ?\n",
            "AI: I'm sorry, but based on the information you provided, there is no mention of your father being diagnosed with lung cancer. It's always a good idea to discuss your family medical history with your healthcare provider to assess your risk factors for various conditions. If you have any other questions or concerns, feel free to ask.\n",
            "Human:  \n",
            "\n",
            "A Physical Examination determined that I have:\n",
            "\n",
            "- Cachexia (severe weight loss)\n",
            "- Icterus (jaundice)\n",
            "- Palpable non-tender gallbladder (Courvoisier's sign)\n",
            "- Epigastric tenderness\n",
            "\n",
            "\n",
            "AI: Based on the physical examination findings you provided, it seems like there are some concerning symptoms present. Cachexia, jaundice, a palpable non-tender gallbladder (Courvoisier's sign), and epigastric tenderness can be indicative of various underlying health issues, including pancreatic cancer. It's important to follow up with your healthcare provider for further evaluation and management. If you have any questions or need more information about these symptoms, please let me know.\n",
            "Human: \n",
            "\n",
            "I have just received the following laboratory results:\n",
            "\n",
            "   - Complete blood count (CBC): Normocytic anemia\n",
            "   - Liver function tests (LFTs): Elevated bilirubin, alkaline phosphatase, and gamma-glutamyl transferase (GGT)\n",
            "   - Tumor markers: Elevated CA 19-9 and CEA levels\n",
            "\n",
            "     \n",
            "AI: Based on the laboratory results you provided, it appears that there are abnormalities in your blood work that may be concerning. The normocytic anemia, elevated bilirubin, alkaline phosphatase, gamma-glutamyl transferase (GGT), and tumor markers (elevated CA 19-9 and CEA levels) can be indicative of liver or pancreatic issues, including pancreatic cancer. It's crucial to discuss these results with your healthcare provider for further evaluation and appropriate management. If you have any questions or need more information about these lab findings, please feel free to ask.\n",
            "Human: \n",
            "\n",
            "\n",
            "and the following imaging studies\n",
            "\n",
            "\n",
            "   - **Abdominal Ultrasound:**\n",
            "     - Dilated bile ducts\n",
            "     - Mass in the head of the pancreas\n",
            "   - **Contrast-Enhanced CT Scan of the Abdomen:**\n",
            "     - Hypoattenuating mass in the head of the pancreas measuring 4.5 cm\n",
            "     - Dilatation of the pancreatic and bile ducts (double duct sign)\n",
            "     - Involvement of the superior mesenteric artery\n",
            "     - Suspicious lesions in the liver suggestive of metastasis\n",
            "   - **MRI/MRCP:**\n",
            "     - Detailed view of the biliary tree and pancreatic ducts confirming CT findings\n",
            "\n",
            "\n",
            "\n",
            "AI: Based on the imaging studies you provided, it seems like there are significant findings that are concerning for pancreatic cancer. The presence of a mass in the head of the pancreas, dilated bile ducts, involvement of the superior mesenteric artery, and suspicious lesions in the liver suggestive of metastasis are all worrisome signs. It's important to discuss these imaging results with your healthcare provider for further evaluation and treatment planning. If you have any questions or need more information about these imaging findings, please let me know.\n",
            "Human: \n",
            "\n",
            "a recent biopsy gives the following results\n",
            "\n",
            "- **Endoscopic Ultrasound-Guided Fine Needle Aspiration (EUS-FNA):**\n",
            "     - Cytology: Adenocarcinoma cells\n",
            "\n",
            "\n",
            "\n",
            "\n",
            "AI: Based on the biopsy results you provided, the presence of adenocarcinoma cells confirms the diagnosis of pancreatic cancer. Adenocarcinoma is the most common type of pancreatic cancer, and further staging and treatment options will need to be discussed with your healthcare provider. It's essential to have open communication with your medical team to understand the next steps in your care. If you have any questions or need more information about pancreatic cancer or treatment options, please feel free to ask.\n",
            "Human: Please give me a medical diagnosis in plain english\n",
            "AI:\u001b[0m\n",
            "\n",
            "\u001b[1m> Finished chain.\u001b[0m\n"
          ]
        },
        {
          "output_type": "execute_result",
          "data": {
            "text/plain": [
              "\"Based on the information you have provided, the medical diagnosis is pancreatic cancer. Pancreatic cancer is a serious condition that requires prompt medical attention and treatment. It's important to work closely with your healthcare provider to discuss further evaluation, staging, and treatment options. If you have any questions or need more information about pancreatic cancer, feel free to ask.\""
            ],
            "application/vnd.google.colaboratory.intrinsic+json": {
              "type": "string"
            }
          },
          "metadata": {},
          "execution_count": 71
        }
      ]
    },
    {
      "cell_type": "code",
      "source": [
        "conversation.predict(input='''\n",
        "What is my prognosis ?\n",
        "\n",
        "''')"
      ],
      "metadata": {
        "colab": {
          "base_uri": "https://localhost:8080/",
          "height": 1000
        },
        "id": "3MGcS2edWaOj",
        "outputId": "e34c1a1a-d439-4473-b4e8-64aab6b909ba"
      },
      "execution_count": 72,
      "outputs": [
        {
          "output_type": "stream",
          "name": "stdout",
          "text": [
            "\n",
            "\n",
            "\u001b[1m> Entering new ConversationChain chain...\u001b[0m\n",
            "Prompt after formatting:\n",
            "\u001b[32;1m\u001b[1;3mThe following is a friendly conversation between a human and an AI. The AI is talkative and provides lots of specific details from its context. If the AI does not know the answer to a question, it truthfully says it does not know.\n",
            "\n",
            "Current conversation:\n",
            "Human: Hi, my name is Mark Thompson\n",
            "AI: Hello Mark Thompson! It's nice to meet you. How can I assist you today?\n",
            "Human: My medical details are: \n",
            "\n",
            "- **Age:** 62 years old\n",
            "- **Gender:** Male\n",
            "- **Medical History:** Type 2 diabetes mellitus, hypertension, chronic pancreatitis\n",
            "- **Family History:** Father diagnosed with colon cancer at age 70\n",
            "AI: Thank you for sharing your medical details, Mark. It's important to keep track of your health history. If you have any specific questions or concerns related to your medical conditions, feel free to ask. I'm here to help!\n",
            "Human: was my father diagnosed with colon cancer ?\n",
            "AI: Yes, based on the information you provided, your father was diagnosed with colon cancer at the age of 70. It's important to be aware of your family history of medical conditions as it can impact your own health. If you have any concerns or questions about colon cancer or any other health issues, please let me know.\n",
            "Human: and lung cancer ?\n",
            "AI: I'm sorry, but based on the information you provided, there is no mention of your father being diagnosed with lung cancer. It's always a good idea to discuss your family medical history with your healthcare provider to assess your risk factors for various conditions. If you have any other questions or concerns, feel free to ask.\n",
            "Human:  \n",
            "\n",
            "A Physical Examination determined that I have:\n",
            "\n",
            "- Cachexia (severe weight loss)\n",
            "- Icterus (jaundice)\n",
            "- Palpable non-tender gallbladder (Courvoisier's sign)\n",
            "- Epigastric tenderness\n",
            "\n",
            "\n",
            "AI: Based on the physical examination findings you provided, it seems like there are some concerning symptoms present. Cachexia, jaundice, a palpable non-tender gallbladder (Courvoisier's sign), and epigastric tenderness can be indicative of various underlying health issues, including pancreatic cancer. It's important to follow up with your healthcare provider for further evaluation and management. If you have any questions or need more information about these symptoms, please let me know.\n",
            "Human: \n",
            "\n",
            "I have just received the following laboratory results:\n",
            "\n",
            "   - Complete blood count (CBC): Normocytic anemia\n",
            "   - Liver function tests (LFTs): Elevated bilirubin, alkaline phosphatase, and gamma-glutamyl transferase (GGT)\n",
            "   - Tumor markers: Elevated CA 19-9 and CEA levels\n",
            "\n",
            "     \n",
            "AI: Based on the laboratory results you provided, it appears that there are abnormalities in your blood work that may be concerning. The normocytic anemia, elevated bilirubin, alkaline phosphatase, gamma-glutamyl transferase (GGT), and tumor markers (elevated CA 19-9 and CEA levels) can be indicative of liver or pancreatic issues, including pancreatic cancer. It's crucial to discuss these results with your healthcare provider for further evaluation and appropriate management. If you have any questions or need more information about these lab findings, please feel free to ask.\n",
            "Human: \n",
            "\n",
            "\n",
            "and the following imaging studies\n",
            "\n",
            "\n",
            "   - **Abdominal Ultrasound:**\n",
            "     - Dilated bile ducts\n",
            "     - Mass in the head of the pancreas\n",
            "   - **Contrast-Enhanced CT Scan of the Abdomen:**\n",
            "     - Hypoattenuating mass in the head of the pancreas measuring 4.5 cm\n",
            "     - Dilatation of the pancreatic and bile ducts (double duct sign)\n",
            "     - Involvement of the superior mesenteric artery\n",
            "     - Suspicious lesions in the liver suggestive of metastasis\n",
            "   - **MRI/MRCP:**\n",
            "     - Detailed view of the biliary tree and pancreatic ducts confirming CT findings\n",
            "\n",
            "\n",
            "\n",
            "AI: Based on the imaging studies you provided, it seems like there are significant findings that are concerning for pancreatic cancer. The presence of a mass in the head of the pancreas, dilated bile ducts, involvement of the superior mesenteric artery, and suspicious lesions in the liver suggestive of metastasis are all worrisome signs. It's important to discuss these imaging results with your healthcare provider for further evaluation and treatment planning. If you have any questions or need more information about these imaging findings, please let me know.\n",
            "Human: \n",
            "\n",
            "a recent biopsy gives the following results\n",
            "\n",
            "- **Endoscopic Ultrasound-Guided Fine Needle Aspiration (EUS-FNA):**\n",
            "     - Cytology: Adenocarcinoma cells\n",
            "\n",
            "\n",
            "\n",
            "\n",
            "AI: Based on the biopsy results you provided, the presence of adenocarcinoma cells confirms the diagnosis of pancreatic cancer. Adenocarcinoma is the most common type of pancreatic cancer, and further staging and treatment options will need to be discussed with your healthcare provider. It's essential to have open communication with your medical team to understand the next steps in your care. If you have any questions or need more information about pancreatic cancer or treatment options, please feel free to ask.\n",
            "Human: Please give me a medical diagnosis in plain english\n",
            "AI: Based on the information you have provided, the medical diagnosis is pancreatic cancer. Pancreatic cancer is a serious condition that requires prompt medical attention and treatment. It's important to work closely with your healthcare provider to discuss further evaluation, staging, and treatment options. If you have any questions or need more information about pancreatic cancer, feel free to ask.\n",
            "Human: \n",
            "What is my prognosis ?\n",
            "\n",
            "\n",
            "AI:\u001b[0m\n",
            "\n",
            "\u001b[1m> Finished chain.\u001b[0m\n"
          ]
        },
        {
          "output_type": "execute_result",
          "data": {
            "text/plain": [
              "\"I'm sorry, but as an AI, I do not have access to real-time medical data or the ability to provide personalized medical advice. Prognosis for pancreatic cancer can vary depending on various factors such as the stage of the cancer, overall health of the individual, and response to treatment. It's important to discuss your prognosis with your healthcare provider who can provide you with more specific information based on your individual case. If you have any other questions or concerns, please let me know.\""
            ],
            "application/vnd.google.colaboratory.intrinsic+json": {
              "type": "string"
            }
          },
          "metadata": {},
          "execution_count": 72
        }
      ]
    },
    {
      "cell_type": "code",
      "source": [
        "conversation.predict(input='''\n",
        "What is the prognosis of my aunt Claire ?\n",
        "\n",
        "''')"
      ],
      "metadata": {
        "colab": {
          "base_uri": "https://localhost:8080/",
          "height": 1000
        },
        "id": "3PP59dISWaMA",
        "outputId": "f5b8cca1-a876-484f-a8fc-89a8c2e3b236"
      },
      "execution_count": 73,
      "outputs": [
        {
          "output_type": "stream",
          "name": "stdout",
          "text": [
            "\n",
            "\n",
            "\u001b[1m> Entering new ConversationChain chain...\u001b[0m\n",
            "Prompt after formatting:\n",
            "\u001b[32;1m\u001b[1;3mThe following is a friendly conversation between a human and an AI. The AI is talkative and provides lots of specific details from its context. If the AI does not know the answer to a question, it truthfully says it does not know.\n",
            "\n",
            "Current conversation:\n",
            "Human: Hi, my name is Mark Thompson\n",
            "AI: Hello Mark Thompson! It's nice to meet you. How can I assist you today?\n",
            "Human: My medical details are: \n",
            "\n",
            "- **Age:** 62 years old\n",
            "- **Gender:** Male\n",
            "- **Medical History:** Type 2 diabetes mellitus, hypertension, chronic pancreatitis\n",
            "- **Family History:** Father diagnosed with colon cancer at age 70\n",
            "AI: Thank you for sharing your medical details, Mark. It's important to keep track of your health history. If you have any specific questions or concerns related to your medical conditions, feel free to ask. I'm here to help!\n",
            "Human: was my father diagnosed with colon cancer ?\n",
            "AI: Yes, based on the information you provided, your father was diagnosed with colon cancer at the age of 70. It's important to be aware of your family history of medical conditions as it can impact your own health. If you have any concerns or questions about colon cancer or any other health issues, please let me know.\n",
            "Human: and lung cancer ?\n",
            "AI: I'm sorry, but based on the information you provided, there is no mention of your father being diagnosed with lung cancer. It's always a good idea to discuss your family medical history with your healthcare provider to assess your risk factors for various conditions. If you have any other questions or concerns, feel free to ask.\n",
            "Human:  \n",
            "\n",
            "A Physical Examination determined that I have:\n",
            "\n",
            "- Cachexia (severe weight loss)\n",
            "- Icterus (jaundice)\n",
            "- Palpable non-tender gallbladder (Courvoisier's sign)\n",
            "- Epigastric tenderness\n",
            "\n",
            "\n",
            "AI: Based on the physical examination findings you provided, it seems like there are some concerning symptoms present. Cachexia, jaundice, a palpable non-tender gallbladder (Courvoisier's sign), and epigastric tenderness can be indicative of various underlying health issues, including pancreatic cancer. It's important to follow up with your healthcare provider for further evaluation and management. If you have any questions or need more information about these symptoms, please let me know.\n",
            "Human: \n",
            "\n",
            "I have just received the following laboratory results:\n",
            "\n",
            "   - Complete blood count (CBC): Normocytic anemia\n",
            "   - Liver function tests (LFTs): Elevated bilirubin, alkaline phosphatase, and gamma-glutamyl transferase (GGT)\n",
            "   - Tumor markers: Elevated CA 19-9 and CEA levels\n",
            "\n",
            "     \n",
            "AI: Based on the laboratory results you provided, it appears that there are abnormalities in your blood work that may be concerning. The normocytic anemia, elevated bilirubin, alkaline phosphatase, gamma-glutamyl transferase (GGT), and tumor markers (elevated CA 19-9 and CEA levels) can be indicative of liver or pancreatic issues, including pancreatic cancer. It's crucial to discuss these results with your healthcare provider for further evaluation and appropriate management. If you have any questions or need more information about these lab findings, please feel free to ask.\n",
            "Human: \n",
            "\n",
            "\n",
            "and the following imaging studies\n",
            "\n",
            "\n",
            "   - **Abdominal Ultrasound:**\n",
            "     - Dilated bile ducts\n",
            "     - Mass in the head of the pancreas\n",
            "   - **Contrast-Enhanced CT Scan of the Abdomen:**\n",
            "     - Hypoattenuating mass in the head of the pancreas measuring 4.5 cm\n",
            "     - Dilatation of the pancreatic and bile ducts (double duct sign)\n",
            "     - Involvement of the superior mesenteric artery\n",
            "     - Suspicious lesions in the liver suggestive of metastasis\n",
            "   - **MRI/MRCP:**\n",
            "     - Detailed view of the biliary tree and pancreatic ducts confirming CT findings\n",
            "\n",
            "\n",
            "\n",
            "AI: Based on the imaging studies you provided, it seems like there are significant findings that are concerning for pancreatic cancer. The presence of a mass in the head of the pancreas, dilated bile ducts, involvement of the superior mesenteric artery, and suspicious lesions in the liver suggestive of metastasis are all worrisome signs. It's important to discuss these imaging results with your healthcare provider for further evaluation and treatment planning. If you have any questions or need more information about these imaging findings, please let me know.\n",
            "Human: \n",
            "\n",
            "a recent biopsy gives the following results\n",
            "\n",
            "- **Endoscopic Ultrasound-Guided Fine Needle Aspiration (EUS-FNA):**\n",
            "     - Cytology: Adenocarcinoma cells\n",
            "\n",
            "\n",
            "\n",
            "\n",
            "AI: Based on the biopsy results you provided, the presence of adenocarcinoma cells confirms the diagnosis of pancreatic cancer. Adenocarcinoma is the most common type of pancreatic cancer, and further staging and treatment options will need to be discussed with your healthcare provider. It's essential to have open communication with your medical team to understand the next steps in your care. If you have any questions or need more information about pancreatic cancer or treatment options, please feel free to ask.\n",
            "Human: Please give me a medical diagnosis in plain english\n",
            "AI: Based on the information you have provided, the medical diagnosis is pancreatic cancer. Pancreatic cancer is a serious condition that requires prompt medical attention and treatment. It's important to work closely with your healthcare provider to discuss further evaluation, staging, and treatment options. If you have any questions or need more information about pancreatic cancer, feel free to ask.\n",
            "Human: \n",
            "What is my prognosis ?\n",
            "\n",
            "\n",
            "AI: I'm sorry, but as an AI, I do not have access to real-time medical data or the ability to provide personalized medical advice. Prognosis for pancreatic cancer can vary depending on various factors such as the stage of the cancer, overall health of the individual, and response to treatment. It's important to discuss your prognosis with your healthcare provider who can provide you with more specific information based on your individual case. If you have any other questions or concerns, please let me know.\n",
            "Human: \n",
            "What is the prognosis of my aunt Claire ?\n",
            "\n",
            "\n",
            "AI:\u001b[0m\n",
            "\n",
            "\u001b[1m> Finished chain.\u001b[0m\n"
          ]
        },
        {
          "output_type": "execute_result",
          "data": {
            "text/plain": [
              "\"I'm sorry, but based on the information provided, there is no mention of your aunt Claire in the context of this conversation. If you have specific details about your aunt's medical condition or history, please feel free to share them, and I can try to provide more information or guidance.\""
            ],
            "application/vnd.google.colaboratory.intrinsic+json": {
              "type": "string"
            }
          },
          "metadata": {},
          "execution_count": 73
        }
      ]
    },
    {
      "cell_type": "code",
      "source": [
        "conversation.predict(input='please advice on a treatment plan')"
      ],
      "metadata": {
        "colab": {
          "base_uri": "https://localhost:8080/",
          "height": 1000
        },
        "id": "NeBr3ynOWaJh",
        "outputId": "9a534a37-2943-404a-fd2f-a8d4bc99313c"
      },
      "execution_count": 74,
      "outputs": [
        {
          "output_type": "stream",
          "name": "stdout",
          "text": [
            "\n",
            "\n",
            "\u001b[1m> Entering new ConversationChain chain...\u001b[0m\n",
            "Prompt after formatting:\n",
            "\u001b[32;1m\u001b[1;3mThe following is a friendly conversation between a human and an AI. The AI is talkative and provides lots of specific details from its context. If the AI does not know the answer to a question, it truthfully says it does not know.\n",
            "\n",
            "Current conversation:\n",
            "Human: Hi, my name is Mark Thompson\n",
            "AI: Hello Mark Thompson! It's nice to meet you. How can I assist you today?\n",
            "Human: My medical details are: \n",
            "\n",
            "- **Age:** 62 years old\n",
            "- **Gender:** Male\n",
            "- **Medical History:** Type 2 diabetes mellitus, hypertension, chronic pancreatitis\n",
            "- **Family History:** Father diagnosed with colon cancer at age 70\n",
            "AI: Thank you for sharing your medical details, Mark. It's important to keep track of your health history. If you have any specific questions or concerns related to your medical conditions, feel free to ask. I'm here to help!\n",
            "Human: was my father diagnosed with colon cancer ?\n",
            "AI: Yes, based on the information you provided, your father was diagnosed with colon cancer at the age of 70. It's important to be aware of your family history of medical conditions as it can impact your own health. If you have any concerns or questions about colon cancer or any other health issues, please let me know.\n",
            "Human: and lung cancer ?\n",
            "AI: I'm sorry, but based on the information you provided, there is no mention of your father being diagnosed with lung cancer. It's always a good idea to discuss your family medical history with your healthcare provider to assess your risk factors for various conditions. If you have any other questions or concerns, feel free to ask.\n",
            "Human:  \n",
            "\n",
            "A Physical Examination determined that I have:\n",
            "\n",
            "- Cachexia (severe weight loss)\n",
            "- Icterus (jaundice)\n",
            "- Palpable non-tender gallbladder (Courvoisier's sign)\n",
            "- Epigastric tenderness\n",
            "\n",
            "\n",
            "AI: Based on the physical examination findings you provided, it seems like there are some concerning symptoms present. Cachexia, jaundice, a palpable non-tender gallbladder (Courvoisier's sign), and epigastric tenderness can be indicative of various underlying health issues, including pancreatic cancer. It's important to follow up with your healthcare provider for further evaluation and management. If you have any questions or need more information about these symptoms, please let me know.\n",
            "Human: \n",
            "\n",
            "I have just received the following laboratory results:\n",
            "\n",
            "   - Complete blood count (CBC): Normocytic anemia\n",
            "   - Liver function tests (LFTs): Elevated bilirubin, alkaline phosphatase, and gamma-glutamyl transferase (GGT)\n",
            "   - Tumor markers: Elevated CA 19-9 and CEA levels\n",
            "\n",
            "     \n",
            "AI: Based on the laboratory results you provided, it appears that there are abnormalities in your blood work that may be concerning. The normocytic anemia, elevated bilirubin, alkaline phosphatase, gamma-glutamyl transferase (GGT), and tumor markers (elevated CA 19-9 and CEA levels) can be indicative of liver or pancreatic issues, including pancreatic cancer. It's crucial to discuss these results with your healthcare provider for further evaluation and appropriate management. If you have any questions or need more information about these lab findings, please feel free to ask.\n",
            "Human: \n",
            "\n",
            "\n",
            "and the following imaging studies\n",
            "\n",
            "\n",
            "   - **Abdominal Ultrasound:**\n",
            "     - Dilated bile ducts\n",
            "     - Mass in the head of the pancreas\n",
            "   - **Contrast-Enhanced CT Scan of the Abdomen:**\n",
            "     - Hypoattenuating mass in the head of the pancreas measuring 4.5 cm\n",
            "     - Dilatation of the pancreatic and bile ducts (double duct sign)\n",
            "     - Involvement of the superior mesenteric artery\n",
            "     - Suspicious lesions in the liver suggestive of metastasis\n",
            "   - **MRI/MRCP:**\n",
            "     - Detailed view of the biliary tree and pancreatic ducts confirming CT findings\n",
            "\n",
            "\n",
            "\n",
            "AI: Based on the imaging studies you provided, it seems like there are significant findings that are concerning for pancreatic cancer. The presence of a mass in the head of the pancreas, dilated bile ducts, involvement of the superior mesenteric artery, and suspicious lesions in the liver suggestive of metastasis are all worrisome signs. It's important to discuss these imaging results with your healthcare provider for further evaluation and treatment planning. If you have any questions or need more information about these imaging findings, please let me know.\n",
            "Human: \n",
            "\n",
            "a recent biopsy gives the following results\n",
            "\n",
            "- **Endoscopic Ultrasound-Guided Fine Needle Aspiration (EUS-FNA):**\n",
            "     - Cytology: Adenocarcinoma cells\n",
            "\n",
            "\n",
            "\n",
            "\n",
            "AI: Based on the biopsy results you provided, the presence of adenocarcinoma cells confirms the diagnosis of pancreatic cancer. Adenocarcinoma is the most common type of pancreatic cancer, and further staging and treatment options will need to be discussed with your healthcare provider. It's essential to have open communication with your medical team to understand the next steps in your care. If you have any questions or need more information about pancreatic cancer or treatment options, please feel free to ask.\n",
            "Human: Please give me a medical diagnosis in plain english\n",
            "AI: Based on the information you have provided, the medical diagnosis is pancreatic cancer. Pancreatic cancer is a serious condition that requires prompt medical attention and treatment. It's important to work closely with your healthcare provider to discuss further evaluation, staging, and treatment options. If you have any questions or need more information about pancreatic cancer, feel free to ask.\n",
            "Human: \n",
            "What is my prognosis ?\n",
            "\n",
            "\n",
            "AI: I'm sorry, but as an AI, I do not have access to real-time medical data or the ability to provide personalized medical advice. Prognosis for pancreatic cancer can vary depending on various factors such as the stage of the cancer, overall health of the individual, and response to treatment. It's important to discuss your prognosis with your healthcare provider who can provide you with more specific information based on your individual case. If you have any other questions or concerns, please let me know.\n",
            "Human: \n",
            "What is the prognosis of my aunt Claire ?\n",
            "\n",
            "\n",
            "AI: I'm sorry, but based on the information provided, there is no mention of your aunt Claire in the context of this conversation. If you have specific details about your aunt's medical condition or history, please feel free to share them, and I can try to provide more information or guidance.\n",
            "Human: please advice on a treatment plan\n",
            "AI:\u001b[0m\n",
            "\n",
            "\u001b[1m> Finished chain.\u001b[0m\n"
          ]
        },
        {
          "output_type": "execute_result",
          "data": {
            "text/plain": [
              "\"As an AI, I cannot provide personalized medical advice or treatment plans. It's crucial to consult with your healthcare provider or a specialist who can evaluate your specific case, discuss treatment options, and create a tailored plan based on your individual needs and medical history. Treatment for pancreatic cancer may involve a combination of surgery, chemotherapy, radiation therapy, targeted therapy, immunotherapy, or clinical trials. Your healthcare team will work with you to determine the most appropriate course of action. If you have any questions or need more information about treatment options for pancreatic cancer, please discuss them with your healthcare provider.\""
            ],
            "application/vnd.google.colaboratory.intrinsic+json": {
              "type": "string"
            }
          },
          "metadata": {},
          "execution_count": 74
        }
      ]
    },
    {
      "cell_type": "code",
      "source": [],
      "metadata": {
        "id": "zxRJVw7Ndy9O"
      },
      "execution_count": 74,
      "outputs": []
    }
  ]
}