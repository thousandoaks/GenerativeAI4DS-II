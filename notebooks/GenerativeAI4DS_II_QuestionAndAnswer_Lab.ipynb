{
  "nbformat": 4,
  "nbformat_minor": 0,
  "metadata": {
    "colab": {
      "provenance": [],
      "authorship_tag": "ABX9TyOi/6pwuteagqfLz2DYDQWy"
    },
    "kernelspec": {
      "name": "python3",
      "display_name": "Python 3"
    },
    "language_info": {
      "name": "python"
    }
  },
  "cells": [
    {
      "cell_type": "markdown",
      "source": [
        "## GenerativeAI4DS-II\n",
        "## Healthcare Lab. Question and Answering services\n"
      ],
      "metadata": {
        "id": "6Sw5D2XvB6of"
      }
    },
    {
      "cell_type": "markdown",
      "source": [
        "### In this lab you will learn how to implement RAG architectures to process healthcare information and implement Q&A services over medical records"
      ],
      "metadata": {
        "id": "6svar5-1CGi_"
      }
    },
    {
      "cell_type": "markdown",
      "source": [
        "### Get your [OpenAI API Key](https://platform.openai.com/account/api-keys)"
      ],
      "metadata": {
        "id": "Dl_KD3DSCR4w"
      }
    },
    {
      "cell_type": "code",
      "source": [
        "#OPENAI_API_KEY=\"YOU-NEED-YOUR-OWN-API\""
      ],
      "metadata": {
        "id": "5ipJpykzVyuX"
      },
      "execution_count": 2,
      "outputs": []
    },
    {
      "cell_type": "code",
      "execution_count": 3,
      "metadata": {
        "colab": {
          "base_uri": "https://localhost:8080/"
        },
        "id": "LyCRmhg2BytA",
        "outputId": "cd2e1789-7bda-4286-99f9-85701cfe8ca7"
      },
      "outputs": [
        {
          "output_type": "stream",
          "name": "stdout",
          "text": [
            "Collecting langchain\n",
            "  Downloading langchain-0.2.6-py3-none-any.whl (975 kB)\n",
            "\u001b[2K     \u001b[90m━━━━━━━━━━━━━━━━━━━━━━━━━━━━━━━━━━━━━━━━\u001b[0m \u001b[32m975.5/975.5 kB\u001b[0m \u001b[31m11.6 MB/s\u001b[0m eta \u001b[36m0:00:00\u001b[0m\n",
            "\u001b[?25hRequirement already satisfied: PyYAML>=5.3 in /usr/local/lib/python3.10/dist-packages (from langchain) (6.0.1)\n",
            "Requirement already satisfied: SQLAlchemy<3,>=1.4 in /usr/local/lib/python3.10/dist-packages (from langchain) (2.0.31)\n",
            "Requirement already satisfied: aiohttp<4.0.0,>=3.8.3 in /usr/local/lib/python3.10/dist-packages (from langchain) (3.9.5)\n",
            "Requirement already satisfied: async-timeout<5.0.0,>=4.0.0 in /usr/local/lib/python3.10/dist-packages (from langchain) (4.0.3)\n",
            "Collecting langchain-core<0.3.0,>=0.2.10 (from langchain)\n",
            "  Downloading langchain_core-0.2.11-py3-none-any.whl (337 kB)\n",
            "\u001b[2K     \u001b[90m━━━━━━━━━━━━━━━━━━━━━━━━━━━━━━━━━━━━━━━━\u001b[0m \u001b[32m337.4/337.4 kB\u001b[0m \u001b[31m23.1 MB/s\u001b[0m eta \u001b[36m0:00:00\u001b[0m\n",
            "\u001b[?25hCollecting langchain-text-splitters<0.3.0,>=0.2.0 (from langchain)\n",
            "  Downloading langchain_text_splitters-0.2.2-py3-none-any.whl (25 kB)\n",
            "Collecting langsmith<0.2.0,>=0.1.17 (from langchain)\n",
            "  Downloading langsmith-0.1.83-py3-none-any.whl (127 kB)\n",
            "\u001b[2K     \u001b[90m━━━━━━━━━━━━━━━━━━━━━━━━━━━━━━━━━━━━━━━━\u001b[0m \u001b[32m127.5/127.5 kB\u001b[0m \u001b[31m7.6 MB/s\u001b[0m eta \u001b[36m0:00:00\u001b[0m\n",
            "\u001b[?25hRequirement already satisfied: numpy<2,>=1 in /usr/local/lib/python3.10/dist-packages (from langchain) (1.25.2)\n",
            "Requirement already satisfied: pydantic<3,>=1 in /usr/local/lib/python3.10/dist-packages (from langchain) (2.8.0)\n",
            "Requirement already satisfied: requests<3,>=2 in /usr/local/lib/python3.10/dist-packages (from langchain) (2.31.0)\n",
            "Requirement already satisfied: tenacity!=8.4.0,<9.0.0,>=8.1.0 in /usr/local/lib/python3.10/dist-packages (from langchain) (8.4.2)\n",
            "Requirement already satisfied: aiosignal>=1.1.2 in /usr/local/lib/python3.10/dist-packages (from aiohttp<4.0.0,>=3.8.3->langchain) (1.3.1)\n",
            "Requirement already satisfied: attrs>=17.3.0 in /usr/local/lib/python3.10/dist-packages (from aiohttp<4.0.0,>=3.8.3->langchain) (23.2.0)\n",
            "Requirement already satisfied: frozenlist>=1.1.1 in /usr/local/lib/python3.10/dist-packages (from aiohttp<4.0.0,>=3.8.3->langchain) (1.4.1)\n",
            "Requirement already satisfied: multidict<7.0,>=4.5 in /usr/local/lib/python3.10/dist-packages (from aiohttp<4.0.0,>=3.8.3->langchain) (6.0.5)\n",
            "Requirement already satisfied: yarl<2.0,>=1.0 in /usr/local/lib/python3.10/dist-packages (from aiohttp<4.0.0,>=3.8.3->langchain) (1.9.4)\n",
            "Collecting jsonpatch<2.0,>=1.33 (from langchain-core<0.3.0,>=0.2.10->langchain)\n",
            "  Downloading jsonpatch-1.33-py2.py3-none-any.whl (12 kB)\n",
            "Requirement already satisfied: packaging<25,>=23.2 in /usr/local/lib/python3.10/dist-packages (from langchain-core<0.3.0,>=0.2.10->langchain) (24.1)\n",
            "Collecting orjson<4.0.0,>=3.9.14 (from langsmith<0.2.0,>=0.1.17->langchain)\n",
            "  Downloading orjson-3.10.6-cp310-cp310-manylinux_2_17_x86_64.manylinux2014_x86_64.whl (141 kB)\n",
            "\u001b[2K     \u001b[90m━━━━━━━━━━━━━━━━━━━━━━━━━━━━━━━━━━━━━━━━\u001b[0m \u001b[32m141.1/141.1 kB\u001b[0m \u001b[31m3.6 MB/s\u001b[0m eta \u001b[36m0:00:00\u001b[0m\n",
            "\u001b[?25hRequirement already satisfied: annotated-types>=0.4.0 in /usr/local/lib/python3.10/dist-packages (from pydantic<3,>=1->langchain) (0.7.0)\n",
            "Requirement already satisfied: pydantic-core==2.20.0 in /usr/local/lib/python3.10/dist-packages (from pydantic<3,>=1->langchain) (2.20.0)\n",
            "Requirement already satisfied: typing-extensions>=4.6.1 in /usr/local/lib/python3.10/dist-packages (from pydantic<3,>=1->langchain) (4.12.2)\n",
            "Requirement already satisfied: charset-normalizer<4,>=2 in /usr/local/lib/python3.10/dist-packages (from requests<3,>=2->langchain) (3.3.2)\n",
            "Requirement already satisfied: idna<4,>=2.5 in /usr/local/lib/python3.10/dist-packages (from requests<3,>=2->langchain) (3.7)\n",
            "Requirement already satisfied: urllib3<3,>=1.21.1 in /usr/local/lib/python3.10/dist-packages (from requests<3,>=2->langchain) (2.0.7)\n",
            "Requirement already satisfied: certifi>=2017.4.17 in /usr/local/lib/python3.10/dist-packages (from requests<3,>=2->langchain) (2024.6.2)\n",
            "Requirement already satisfied: greenlet!=0.4.17 in /usr/local/lib/python3.10/dist-packages (from SQLAlchemy<3,>=1.4->langchain) (3.0.3)\n",
            "Collecting jsonpointer>=1.9 (from jsonpatch<2.0,>=1.33->langchain-core<0.3.0,>=0.2.10->langchain)\n",
            "  Downloading jsonpointer-3.0.0-py2.py3-none-any.whl (7.6 kB)\n",
            "Installing collected packages: orjson, jsonpointer, jsonpatch, langsmith, langchain-core, langchain-text-splitters, langchain\n",
            "Successfully installed jsonpatch-1.33 jsonpointer-3.0.0 langchain-0.2.6 langchain-core-0.2.11 langchain-text-splitters-0.2.2 langsmith-0.1.83 orjson-3.10.6\n"
          ]
        }
      ],
      "source": [
        "!pip install --upgrade langchain;"
      ]
    },
    {
      "cell_type": "code",
      "source": [
        "\n",
        "!pip install openai"
      ],
      "metadata": {
        "colab": {
          "base_uri": "https://localhost:8080/"
        },
        "id": "JoM-v1DoCsI5",
        "outputId": "528593dd-5a1b-4503-8169-2b313c8b045c"
      },
      "execution_count": 4,
      "outputs": [
        {
          "output_type": "stream",
          "name": "stdout",
          "text": [
            "Collecting openai\n",
            "  Downloading openai-1.35.10-py3-none-any.whl (328 kB)\n",
            "\u001b[2K     \u001b[90m━━━━━━━━━━━━━━━━━━━━━━━━━━━━━━━━━━━━━━━━\u001b[0m \u001b[32m328.3/328.3 kB\u001b[0m \u001b[31m4.3 MB/s\u001b[0m eta \u001b[36m0:00:00\u001b[0m\n",
            "\u001b[?25hRequirement already satisfied: anyio<5,>=3.5.0 in /usr/local/lib/python3.10/dist-packages (from openai) (3.7.1)\n",
            "Requirement already satisfied: distro<2,>=1.7.0 in /usr/lib/python3/dist-packages (from openai) (1.7.0)\n",
            "Collecting httpx<1,>=0.23.0 (from openai)\n",
            "  Downloading httpx-0.27.0-py3-none-any.whl (75 kB)\n",
            "\u001b[2K     \u001b[90m━━━━━━━━━━━━━━━━━━━━━━━━━━━━━━━━━━━━━━━━\u001b[0m \u001b[32m75.6/75.6 kB\u001b[0m \u001b[31m6.4 MB/s\u001b[0m eta \u001b[36m0:00:00\u001b[0m\n",
            "\u001b[?25hRequirement already satisfied: pydantic<3,>=1.9.0 in /usr/local/lib/python3.10/dist-packages (from openai) (2.8.0)\n",
            "Requirement already satisfied: sniffio in /usr/local/lib/python3.10/dist-packages (from openai) (1.3.1)\n",
            "Requirement already satisfied: tqdm>4 in /usr/local/lib/python3.10/dist-packages (from openai) (4.66.4)\n",
            "Requirement already satisfied: typing-extensions<5,>=4.7 in /usr/local/lib/python3.10/dist-packages (from openai) (4.12.2)\n",
            "Requirement already satisfied: idna>=2.8 in /usr/local/lib/python3.10/dist-packages (from anyio<5,>=3.5.0->openai) (3.7)\n",
            "Requirement already satisfied: exceptiongroup in /usr/local/lib/python3.10/dist-packages (from anyio<5,>=3.5.0->openai) (1.2.1)\n",
            "Requirement already satisfied: certifi in /usr/local/lib/python3.10/dist-packages (from httpx<1,>=0.23.0->openai) (2024.6.2)\n",
            "Collecting httpcore==1.* (from httpx<1,>=0.23.0->openai)\n",
            "  Downloading httpcore-1.0.5-py3-none-any.whl (77 kB)\n",
            "\u001b[2K     \u001b[90m━━━━━━━━━━━━━━━━━━━━━━━━━━━━━━━━━━━━━━━━\u001b[0m \u001b[32m77.9/77.9 kB\u001b[0m \u001b[31m8.8 MB/s\u001b[0m eta \u001b[36m0:00:00\u001b[0m\n",
            "\u001b[?25hCollecting h11<0.15,>=0.13 (from httpcore==1.*->httpx<1,>=0.23.0->openai)\n",
            "  Downloading h11-0.14.0-py3-none-any.whl (58 kB)\n",
            "\u001b[2K     \u001b[90m━━━━━━━━━━━━━━━━━━━━━━━━━━━━━━━━━━━━━━━━\u001b[0m \u001b[32m58.3/58.3 kB\u001b[0m \u001b[31m6.7 MB/s\u001b[0m eta \u001b[36m0:00:00\u001b[0m\n",
            "\u001b[?25hRequirement already satisfied: annotated-types>=0.4.0 in /usr/local/lib/python3.10/dist-packages (from pydantic<3,>=1.9.0->openai) (0.7.0)\n",
            "Requirement already satisfied: pydantic-core==2.20.0 in /usr/local/lib/python3.10/dist-packages (from pydantic<3,>=1.9.0->openai) (2.20.0)\n",
            "Installing collected packages: h11, httpcore, httpx, openai\n",
            "Successfully installed h11-0.14.0 httpcore-1.0.5 httpx-0.27.0 openai-1.35.10\n"
          ]
        }
      ]
    },
    {
      "cell_type": "code",
      "source": [
        "!pip install langchain-openai"
      ],
      "metadata": {
        "colab": {
          "base_uri": "https://localhost:8080/"
        },
        "id": "Awok8R9McFU3",
        "outputId": "d8569063-efeb-4269-b0d5-f1b285b4777d"
      },
      "execution_count": 5,
      "outputs": [
        {
          "output_type": "stream",
          "name": "stdout",
          "text": [
            "Collecting langchain-openai\n",
            "  Downloading langchain_openai-0.1.14-py3-none-any.whl (45 kB)\n",
            "\u001b[2K     \u001b[90m━━━━━━━━━━━━━━━━━━━━━━━━━━━━━━━━━━━━━━━━\u001b[0m \u001b[32m45.9/45.9 kB\u001b[0m \u001b[31m757.8 kB/s\u001b[0m eta \u001b[36m0:00:00\u001b[0m\n",
            "\u001b[?25hRequirement already satisfied: langchain-core<0.3,>=0.2.2 in /usr/local/lib/python3.10/dist-packages (from langchain-openai) (0.2.11)\n",
            "Requirement already satisfied: openai<2.0.0,>=1.32.0 in /usr/local/lib/python3.10/dist-packages (from langchain-openai) (1.35.10)\n",
            "Collecting tiktoken<1,>=0.7 (from langchain-openai)\n",
            "  Downloading tiktoken-0.7.0-cp310-cp310-manylinux_2_17_x86_64.manylinux2014_x86_64.whl (1.1 MB)\n",
            "\u001b[2K     \u001b[90m━━━━━━━━━━━━━━━━━━━━━━━━━━━━━━━━━━━━━━━━\u001b[0m \u001b[32m1.1/1.1 MB\u001b[0m \u001b[31m7.4 MB/s\u001b[0m eta \u001b[36m0:00:00\u001b[0m\n",
            "\u001b[?25hRequirement already satisfied: PyYAML>=5.3 in /usr/local/lib/python3.10/dist-packages (from langchain-core<0.3,>=0.2.2->langchain-openai) (6.0.1)\n",
            "Requirement already satisfied: jsonpatch<2.0,>=1.33 in /usr/local/lib/python3.10/dist-packages (from langchain-core<0.3,>=0.2.2->langchain-openai) (1.33)\n",
            "Requirement already satisfied: langsmith<0.2.0,>=0.1.75 in /usr/local/lib/python3.10/dist-packages (from langchain-core<0.3,>=0.2.2->langchain-openai) (0.1.83)\n",
            "Requirement already satisfied: packaging<25,>=23.2 in /usr/local/lib/python3.10/dist-packages (from langchain-core<0.3,>=0.2.2->langchain-openai) (24.1)\n",
            "Requirement already satisfied: pydantic<3,>=1 in /usr/local/lib/python3.10/dist-packages (from langchain-core<0.3,>=0.2.2->langchain-openai) (2.8.0)\n",
            "Requirement already satisfied: tenacity!=8.4.0,<9.0.0,>=8.1.0 in /usr/local/lib/python3.10/dist-packages (from langchain-core<0.3,>=0.2.2->langchain-openai) (8.4.2)\n",
            "Requirement already satisfied: anyio<5,>=3.5.0 in /usr/local/lib/python3.10/dist-packages (from openai<2.0.0,>=1.32.0->langchain-openai) (3.7.1)\n",
            "Requirement already satisfied: distro<2,>=1.7.0 in /usr/lib/python3/dist-packages (from openai<2.0.0,>=1.32.0->langchain-openai) (1.7.0)\n",
            "Requirement already satisfied: httpx<1,>=0.23.0 in /usr/local/lib/python3.10/dist-packages (from openai<2.0.0,>=1.32.0->langchain-openai) (0.27.0)\n",
            "Requirement already satisfied: sniffio in /usr/local/lib/python3.10/dist-packages (from openai<2.0.0,>=1.32.0->langchain-openai) (1.3.1)\n",
            "Requirement already satisfied: tqdm>4 in /usr/local/lib/python3.10/dist-packages (from openai<2.0.0,>=1.32.0->langchain-openai) (4.66.4)\n",
            "Requirement already satisfied: typing-extensions<5,>=4.7 in /usr/local/lib/python3.10/dist-packages (from openai<2.0.0,>=1.32.0->langchain-openai) (4.12.2)\n",
            "Requirement already satisfied: regex>=2022.1.18 in /usr/local/lib/python3.10/dist-packages (from tiktoken<1,>=0.7->langchain-openai) (2024.5.15)\n",
            "Requirement already satisfied: requests>=2.26.0 in /usr/local/lib/python3.10/dist-packages (from tiktoken<1,>=0.7->langchain-openai) (2.31.0)\n",
            "Requirement already satisfied: idna>=2.8 in /usr/local/lib/python3.10/dist-packages (from anyio<5,>=3.5.0->openai<2.0.0,>=1.32.0->langchain-openai) (3.7)\n",
            "Requirement already satisfied: exceptiongroup in /usr/local/lib/python3.10/dist-packages (from anyio<5,>=3.5.0->openai<2.0.0,>=1.32.0->langchain-openai) (1.2.1)\n",
            "Requirement already satisfied: certifi in /usr/local/lib/python3.10/dist-packages (from httpx<1,>=0.23.0->openai<2.0.0,>=1.32.0->langchain-openai) (2024.6.2)\n",
            "Requirement already satisfied: httpcore==1.* in /usr/local/lib/python3.10/dist-packages (from httpx<1,>=0.23.0->openai<2.0.0,>=1.32.0->langchain-openai) (1.0.5)\n",
            "Requirement already satisfied: h11<0.15,>=0.13 in /usr/local/lib/python3.10/dist-packages (from httpcore==1.*->httpx<1,>=0.23.0->openai<2.0.0,>=1.32.0->langchain-openai) (0.14.0)\n",
            "Requirement already satisfied: jsonpointer>=1.9 in /usr/local/lib/python3.10/dist-packages (from jsonpatch<2.0,>=1.33->langchain-core<0.3,>=0.2.2->langchain-openai) (3.0.0)\n",
            "Requirement already satisfied: orjson<4.0.0,>=3.9.14 in /usr/local/lib/python3.10/dist-packages (from langsmith<0.2.0,>=0.1.75->langchain-core<0.3,>=0.2.2->langchain-openai) (3.10.6)\n",
            "Requirement already satisfied: annotated-types>=0.4.0 in /usr/local/lib/python3.10/dist-packages (from pydantic<3,>=1->langchain-core<0.3,>=0.2.2->langchain-openai) (0.7.0)\n",
            "Requirement already satisfied: pydantic-core==2.20.0 in /usr/local/lib/python3.10/dist-packages (from pydantic<3,>=1->langchain-core<0.3,>=0.2.2->langchain-openai) (2.20.0)\n",
            "Requirement already satisfied: charset-normalizer<4,>=2 in /usr/local/lib/python3.10/dist-packages (from requests>=2.26.0->tiktoken<1,>=0.7->langchain-openai) (3.3.2)\n",
            "Requirement already satisfied: urllib3<3,>=1.21.1 in /usr/local/lib/python3.10/dist-packages (from requests>=2.26.0->tiktoken<1,>=0.7->langchain-openai) (2.0.7)\n",
            "Installing collected packages: tiktoken, langchain-openai\n",
            "Successfully installed langchain-openai-0.1.14 tiktoken-0.7.0\n"
          ]
        }
      ]
    },
    {
      "cell_type": "code",
      "source": [
        "!pip install unstructured"
      ],
      "metadata": {
        "colab": {
          "base_uri": "https://localhost:8080/"
        },
        "id": "puJEbUbt0b2w",
        "outputId": "c5695cdd-3280-404e-b6db-8f54c2127c29"
      },
      "execution_count": 6,
      "outputs": [
        {
          "output_type": "stream",
          "name": "stdout",
          "text": [
            "Collecting unstructured\n",
            "  Downloading unstructured-0.14.9-py3-none-any.whl (2.1 MB)\n",
            "\u001b[2K     \u001b[90m━━━━━━━━━━━━━━━━━━━━━━━━━━━━━━━━━━━━━━━━\u001b[0m \u001b[32m2.1/2.1 MB\u001b[0m \u001b[31m16.6 MB/s\u001b[0m eta \u001b[36m0:00:00\u001b[0m\n",
            "\u001b[?25hRequirement already satisfied: chardet in /usr/local/lib/python3.10/dist-packages (from unstructured) (5.2.0)\n",
            "Collecting filetype (from unstructured)\n",
            "  Downloading filetype-1.2.0-py2.py3-none-any.whl (19 kB)\n",
            "Collecting python-magic (from unstructured)\n",
            "  Downloading python_magic-0.4.27-py2.py3-none-any.whl (13 kB)\n",
            "Requirement already satisfied: lxml in /usr/local/lib/python3.10/dist-packages (from unstructured) (4.9.4)\n",
            "Requirement already satisfied: nltk in /usr/local/lib/python3.10/dist-packages (from unstructured) (3.8.1)\n",
            "Requirement already satisfied: tabulate in /usr/local/lib/python3.10/dist-packages (from unstructured) (0.9.0)\n",
            "Requirement already satisfied: requests in /usr/local/lib/python3.10/dist-packages (from unstructured) (2.31.0)\n",
            "Requirement already satisfied: beautifulsoup4 in /usr/local/lib/python3.10/dist-packages (from unstructured) (4.12.3)\n",
            "Collecting emoji (from unstructured)\n",
            "  Downloading emoji-2.12.1-py3-none-any.whl (431 kB)\n",
            "\u001b[2K     \u001b[90m━━━━━━━━━━━━━━━━━━━━━━━━━━━━━━━━━━━━━━━━\u001b[0m \u001b[32m431.4/431.4 kB\u001b[0m \u001b[31m8.6 MB/s\u001b[0m eta \u001b[36m0:00:00\u001b[0m\n",
            "\u001b[?25hCollecting dataclasses-json (from unstructured)\n",
            "  Downloading dataclasses_json-0.6.7-py3-none-any.whl (28 kB)\n",
            "Collecting python-iso639 (from unstructured)\n",
            "  Downloading python_iso639-2024.4.27-py3-none-any.whl (274 kB)\n",
            "\u001b[2K     \u001b[90m━━━━━━━━━━━━━━━━━━━━━━━━━━━━━━━━━━━━━━━━\u001b[0m \u001b[32m274.7/274.7 kB\u001b[0m \u001b[31m15.0 MB/s\u001b[0m eta \u001b[36m0:00:00\u001b[0m\n",
            "\u001b[?25hCollecting langdetect (from unstructured)\n",
            "  Downloading langdetect-1.0.9.tar.gz (981 kB)\n",
            "\u001b[2K     \u001b[90m━━━━━━━━━━━━━━━━━━━━━━━━━━━━━━━━━━━━━━━━\u001b[0m \u001b[32m981.5/981.5 kB\u001b[0m \u001b[31m20.1 MB/s\u001b[0m eta \u001b[36m0:00:00\u001b[0m\n",
            "\u001b[?25h  Preparing metadata (setup.py) ... \u001b[?25l\u001b[?25hdone\n",
            "Requirement already satisfied: numpy<2 in /usr/local/lib/python3.10/dist-packages (from unstructured) (1.25.2)\n",
            "Collecting rapidfuzz (from unstructured)\n",
            "  Downloading rapidfuzz-3.9.4-cp310-cp310-manylinux_2_17_x86_64.manylinux2014_x86_64.whl (3.4 MB)\n",
            "\u001b[2K     \u001b[90m━━━━━━━━━━━━━━━━━━━━━━━━━━━━━━━━━━━━━━━━\u001b[0m \u001b[32m3.4/3.4 MB\u001b[0m \u001b[31m70.1 MB/s\u001b[0m eta \u001b[36m0:00:00\u001b[0m\n",
            "\u001b[?25hCollecting backoff (from unstructured)\n",
            "  Downloading backoff-2.2.1-py3-none-any.whl (15 kB)\n",
            "Requirement already satisfied: typing-extensions in /usr/local/lib/python3.10/dist-packages (from unstructured) (4.12.2)\n",
            "Collecting unstructured-client (from unstructured)\n",
            "  Downloading unstructured_client-0.23.8-py3-none-any.whl (40 kB)\n",
            "\u001b[2K     \u001b[90m━━━━━━━━━━━━━━━━━━━━━━━━━━━━━━━━━━━━━━━━\u001b[0m \u001b[32m41.0/41.0 kB\u001b[0m \u001b[31m4.7 MB/s\u001b[0m eta \u001b[36m0:00:00\u001b[0m\n",
            "\u001b[?25hRequirement already satisfied: wrapt in /usr/local/lib/python3.10/dist-packages (from unstructured) (1.14.1)\n",
            "Requirement already satisfied: tqdm in /usr/local/lib/python3.10/dist-packages (from unstructured) (4.66.4)\n",
            "Requirement already satisfied: soupsieve>1.2 in /usr/local/lib/python3.10/dist-packages (from beautifulsoup4->unstructured) (2.5)\n",
            "Collecting marshmallow<4.0.0,>=3.18.0 (from dataclasses-json->unstructured)\n",
            "  Downloading marshmallow-3.21.3-py3-none-any.whl (49 kB)\n",
            "\u001b[2K     \u001b[90m━━━━━━━━━━━━━━━━━━━━━━━━━━━━━━━━━━━━━━━━\u001b[0m \u001b[32m49.2/49.2 kB\u001b[0m \u001b[31m5.1 MB/s\u001b[0m eta \u001b[36m0:00:00\u001b[0m\n",
            "\u001b[?25hCollecting typing-inspect<1,>=0.4.0 (from dataclasses-json->unstructured)\n",
            "  Downloading typing_inspect-0.9.0-py3-none-any.whl (8.8 kB)\n",
            "Requirement already satisfied: six in /usr/local/lib/python3.10/dist-packages (from langdetect->unstructured) (1.16.0)\n",
            "Requirement already satisfied: click in /usr/local/lib/python3.10/dist-packages (from nltk->unstructured) (8.1.7)\n",
            "Requirement already satisfied: joblib in /usr/local/lib/python3.10/dist-packages (from nltk->unstructured) (1.4.2)\n",
            "Requirement already satisfied: regex>=2021.8.3 in /usr/local/lib/python3.10/dist-packages (from nltk->unstructured) (2024.5.15)\n",
            "Requirement already satisfied: charset-normalizer<4,>=2 in /usr/local/lib/python3.10/dist-packages (from requests->unstructured) (3.3.2)\n",
            "Requirement already satisfied: idna<4,>=2.5 in /usr/local/lib/python3.10/dist-packages (from requests->unstructured) (3.7)\n",
            "Requirement already satisfied: urllib3<3,>=1.21.1 in /usr/local/lib/python3.10/dist-packages (from requests->unstructured) (2.0.7)\n",
            "Requirement already satisfied: certifi>=2017.4.17 in /usr/local/lib/python3.10/dist-packages (from requests->unstructured) (2024.6.2)\n",
            "Collecting deepdiff>=6.0 (from unstructured-client->unstructured)\n",
            "  Downloading deepdiff-7.0.1-py3-none-any.whl (80 kB)\n",
            "\u001b[2K     \u001b[90m━━━━━━━━━━━━━━━━━━━━━━━━━━━━━━━━━━━━━━━━\u001b[0m \u001b[32m80.8/80.8 kB\u001b[0m \u001b[31m8.9 MB/s\u001b[0m eta \u001b[36m0:00:00\u001b[0m\n",
            "\u001b[?25hRequirement already satisfied: httpx>=0.27.0 in /usr/local/lib/python3.10/dist-packages (from unstructured-client->unstructured) (0.27.0)\n",
            "Collecting jsonpath-python>=1.0.6 (from unstructured-client->unstructured)\n",
            "  Downloading jsonpath_python-1.0.6-py3-none-any.whl (7.6 kB)\n",
            "Collecting mypy-extensions>=1.0.0 (from unstructured-client->unstructured)\n",
            "  Downloading mypy_extensions-1.0.0-py3-none-any.whl (4.7 kB)\n",
            "Requirement already satisfied: nest-asyncio>=1.6.0 in /usr/local/lib/python3.10/dist-packages (from unstructured-client->unstructured) (1.6.0)\n",
            "Requirement already satisfied: packaging>=23.1 in /usr/local/lib/python3.10/dist-packages (from unstructured-client->unstructured) (24.1)\n",
            "Collecting pypdf>=4.0 (from unstructured-client->unstructured)\n",
            "  Downloading pypdf-4.2.0-py3-none-any.whl (290 kB)\n",
            "\u001b[2K     \u001b[90m━━━━━━━━━━━━━━━━━━━━━━━━━━━━━━━━━━━━━━━━\u001b[0m \u001b[32m290.4/290.4 kB\u001b[0m \u001b[31m30.4 MB/s\u001b[0m eta \u001b[36m0:00:00\u001b[0m\n",
            "\u001b[?25hRequirement already satisfied: python-dateutil>=2.8.2 in /usr/local/lib/python3.10/dist-packages (from unstructured-client->unstructured) (2.8.2)\n",
            "Collecting requests-toolbelt>=1.0.0 (from unstructured-client->unstructured)\n",
            "  Downloading requests_toolbelt-1.0.0-py2.py3-none-any.whl (54 kB)\n",
            "\u001b[2K     \u001b[90m━━━━━━━━━━━━━━━━━━━━━━━━━━━━━━━━━━━━━━━━\u001b[0m \u001b[32m54.5/54.5 kB\u001b[0m \u001b[31m5.7 MB/s\u001b[0m eta \u001b[36m0:00:00\u001b[0m\n",
            "\u001b[?25hCollecting ordered-set<4.2.0,>=4.1.0 (from deepdiff>=6.0->unstructured-client->unstructured)\n",
            "  Downloading ordered_set-4.1.0-py3-none-any.whl (7.6 kB)\n",
            "Requirement already satisfied: anyio in /usr/local/lib/python3.10/dist-packages (from httpx>=0.27.0->unstructured-client->unstructured) (3.7.1)\n",
            "Requirement already satisfied: httpcore==1.* in /usr/local/lib/python3.10/dist-packages (from httpx>=0.27.0->unstructured-client->unstructured) (1.0.5)\n",
            "Requirement already satisfied: sniffio in /usr/local/lib/python3.10/dist-packages (from httpx>=0.27.0->unstructured-client->unstructured) (1.3.1)\n",
            "Requirement already satisfied: h11<0.15,>=0.13 in /usr/local/lib/python3.10/dist-packages (from httpcore==1.*->httpx>=0.27.0->unstructured-client->unstructured) (0.14.0)\n",
            "Requirement already satisfied: exceptiongroup in /usr/local/lib/python3.10/dist-packages (from anyio->httpx>=0.27.0->unstructured-client->unstructured) (1.2.1)\n",
            "Building wheels for collected packages: langdetect\n",
            "  Building wheel for langdetect (setup.py) ... \u001b[?25l\u001b[?25hdone\n",
            "  Created wheel for langdetect: filename=langdetect-1.0.9-py3-none-any.whl size=993227 sha256=2ea06db1e2648c62ca2770d6298dc4e94fc2f4284ebba925cbec1a1598c1c372\n",
            "  Stored in directory: /root/.cache/pip/wheels/95/03/7d/59ea870c70ce4e5a370638b5462a7711ab78fba2f655d05106\n",
            "Successfully built langdetect\n",
            "Installing collected packages: filetype, rapidfuzz, python-magic, python-iso639, pypdf, ordered-set, mypy-extensions, marshmallow, langdetect, jsonpath-python, emoji, backoff, typing-inspect, requests-toolbelt, deepdiff, dataclasses-json, unstructured-client, unstructured\n",
            "Successfully installed backoff-2.2.1 dataclasses-json-0.6.7 deepdiff-7.0.1 emoji-2.12.1 filetype-1.2.0 jsonpath-python-1.0.6 langdetect-1.0.9 marshmallow-3.21.3 mypy-extensions-1.0.0 ordered-set-4.1.0 pypdf-4.2.0 python-iso639-2024.4.27 python-magic-0.4.27 rapidfuzz-3.9.4 requests-toolbelt-1.0.0 typing-inspect-0.9.0 unstructured-0.14.9 unstructured-client-0.23.8\n"
          ]
        }
      ]
    },
    {
      "cell_type": "code",
      "source": [
        "!pip install --upgrade --quiet  \"docarray\""
      ],
      "metadata": {
        "id": "O7YiufBI40an",
        "colab": {
          "base_uri": "https://localhost:8080/"
        },
        "outputId": "fca9517a-9dd7-42f9-a009-12abed9300bd"
      },
      "execution_count": 7,
      "outputs": [
        {
          "output_type": "stream",
          "name": "stdout",
          "text": [
            "\u001b[?25l     \u001b[90m━━━━━━━━━━━━━━━━━━━━━━━━━━━━━━━━━━━━━━━━\u001b[0m \u001b[32m0.0/270.2 kB\u001b[0m \u001b[31m?\u001b[0m eta \u001b[36m-:--:--\u001b[0m\r\u001b[2K     \u001b[91m━━━━━━━━━━━━━━━━━━\u001b[0m\u001b[90m╺\u001b[0m\u001b[90m━━━━━━━━━━━━━━━━━━━━━\u001b[0m \u001b[32m122.9/270.2 kB\u001b[0m \u001b[31m3.4 MB/s\u001b[0m eta \u001b[36m0:00:01\u001b[0m\r\u001b[2K     \u001b[90m━━━━━━━━━━━━━━━━━━━━━━━━━━━━━━━━━━━━━━━━\u001b[0m \u001b[32m270.2/270.2 kB\u001b[0m \u001b[31m3.8 MB/s\u001b[0m eta \u001b[36m0:00:00\u001b[0m\n",
            "\u001b[?25h"
          ]
        }
      ]
    },
    {
      "cell_type": "code",
      "source": [
        "!pip install langchain-community"
      ],
      "metadata": {
        "colab": {
          "base_uri": "https://localhost:8080/"
        },
        "id": "T8PwoOh8qaPW",
        "outputId": "b9feadd0-6551-4cab-b2e2-6f3586567f42"
      },
      "execution_count": 8,
      "outputs": [
        {
          "output_type": "stream",
          "name": "stdout",
          "text": [
            "Collecting langchain-community\n",
            "  Downloading langchain_community-0.2.6-py3-none-any.whl (2.2 MB)\n",
            "\u001b[2K     \u001b[90m━━━━━━━━━━━━━━━━━━━━━━━━━━━━━━━━━━━━━━━━\u001b[0m \u001b[32m2.2/2.2 MB\u001b[0m \u001b[31m17.6 MB/s\u001b[0m eta \u001b[36m0:00:00\u001b[0m\n",
            "\u001b[?25hRequirement already satisfied: PyYAML>=5.3 in /usr/local/lib/python3.10/dist-packages (from langchain-community) (6.0.1)\n",
            "Requirement already satisfied: SQLAlchemy<3,>=1.4 in /usr/local/lib/python3.10/dist-packages (from langchain-community) (2.0.31)\n",
            "Requirement already satisfied: aiohttp<4.0.0,>=3.8.3 in /usr/local/lib/python3.10/dist-packages (from langchain-community) (3.9.5)\n",
            "Requirement already satisfied: dataclasses-json<0.7,>=0.5.7 in /usr/local/lib/python3.10/dist-packages (from langchain-community) (0.6.7)\n",
            "Requirement already satisfied: langchain<0.3.0,>=0.2.6 in /usr/local/lib/python3.10/dist-packages (from langchain-community) (0.2.6)\n",
            "Requirement already satisfied: langchain-core<0.3.0,>=0.2.10 in /usr/local/lib/python3.10/dist-packages (from langchain-community) (0.2.11)\n",
            "Requirement already satisfied: langsmith<0.2.0,>=0.1.0 in /usr/local/lib/python3.10/dist-packages (from langchain-community) (0.1.83)\n",
            "Requirement already satisfied: numpy<2,>=1 in /usr/local/lib/python3.10/dist-packages (from langchain-community) (1.25.2)\n",
            "Requirement already satisfied: requests<3,>=2 in /usr/local/lib/python3.10/dist-packages (from langchain-community) (2.31.0)\n",
            "Requirement already satisfied: tenacity!=8.4.0,<9.0.0,>=8.1.0 in /usr/local/lib/python3.10/dist-packages (from langchain-community) (8.4.2)\n",
            "Requirement already satisfied: aiosignal>=1.1.2 in /usr/local/lib/python3.10/dist-packages (from aiohttp<4.0.0,>=3.8.3->langchain-community) (1.3.1)\n",
            "Requirement already satisfied: attrs>=17.3.0 in /usr/local/lib/python3.10/dist-packages (from aiohttp<4.0.0,>=3.8.3->langchain-community) (23.2.0)\n",
            "Requirement already satisfied: frozenlist>=1.1.1 in /usr/local/lib/python3.10/dist-packages (from aiohttp<4.0.0,>=3.8.3->langchain-community) (1.4.1)\n",
            "Requirement already satisfied: multidict<7.0,>=4.5 in /usr/local/lib/python3.10/dist-packages (from aiohttp<4.0.0,>=3.8.3->langchain-community) (6.0.5)\n",
            "Requirement already satisfied: yarl<2.0,>=1.0 in /usr/local/lib/python3.10/dist-packages (from aiohttp<4.0.0,>=3.8.3->langchain-community) (1.9.4)\n",
            "Requirement already satisfied: async-timeout<5.0,>=4.0 in /usr/local/lib/python3.10/dist-packages (from aiohttp<4.0.0,>=3.8.3->langchain-community) (4.0.3)\n",
            "Requirement already satisfied: marshmallow<4.0.0,>=3.18.0 in /usr/local/lib/python3.10/dist-packages (from dataclasses-json<0.7,>=0.5.7->langchain-community) (3.21.3)\n",
            "Requirement already satisfied: typing-inspect<1,>=0.4.0 in /usr/local/lib/python3.10/dist-packages (from dataclasses-json<0.7,>=0.5.7->langchain-community) (0.9.0)\n",
            "Requirement already satisfied: langchain-text-splitters<0.3.0,>=0.2.0 in /usr/local/lib/python3.10/dist-packages (from langchain<0.3.0,>=0.2.6->langchain-community) (0.2.2)\n",
            "Requirement already satisfied: pydantic<3,>=1 in /usr/local/lib/python3.10/dist-packages (from langchain<0.3.0,>=0.2.6->langchain-community) (2.8.0)\n",
            "Requirement already satisfied: jsonpatch<2.0,>=1.33 in /usr/local/lib/python3.10/dist-packages (from langchain-core<0.3.0,>=0.2.10->langchain-community) (1.33)\n",
            "Requirement already satisfied: packaging<25,>=23.2 in /usr/local/lib/python3.10/dist-packages (from langchain-core<0.3.0,>=0.2.10->langchain-community) (24.1)\n",
            "Requirement already satisfied: orjson<4.0.0,>=3.9.14 in /usr/local/lib/python3.10/dist-packages (from langsmith<0.2.0,>=0.1.0->langchain-community) (3.10.6)\n",
            "Requirement already satisfied: charset-normalizer<4,>=2 in /usr/local/lib/python3.10/dist-packages (from requests<3,>=2->langchain-community) (3.3.2)\n",
            "Requirement already satisfied: idna<4,>=2.5 in /usr/local/lib/python3.10/dist-packages (from requests<3,>=2->langchain-community) (3.7)\n",
            "Requirement already satisfied: urllib3<3,>=1.21.1 in /usr/local/lib/python3.10/dist-packages (from requests<3,>=2->langchain-community) (2.0.7)\n",
            "Requirement already satisfied: certifi>=2017.4.17 in /usr/local/lib/python3.10/dist-packages (from requests<3,>=2->langchain-community) (2024.6.2)\n",
            "Requirement already satisfied: typing-extensions>=4.6.0 in /usr/local/lib/python3.10/dist-packages (from SQLAlchemy<3,>=1.4->langchain-community) (4.12.2)\n",
            "Requirement already satisfied: greenlet!=0.4.17 in /usr/local/lib/python3.10/dist-packages (from SQLAlchemy<3,>=1.4->langchain-community) (3.0.3)\n",
            "Requirement already satisfied: jsonpointer>=1.9 in /usr/local/lib/python3.10/dist-packages (from jsonpatch<2.0,>=1.33->langchain-core<0.3.0,>=0.2.10->langchain-community) (3.0.0)\n",
            "Requirement already satisfied: annotated-types>=0.4.0 in /usr/local/lib/python3.10/dist-packages (from pydantic<3,>=1->langchain<0.3.0,>=0.2.6->langchain-community) (0.7.0)\n",
            "Requirement already satisfied: pydantic-core==2.20.0 in /usr/local/lib/python3.10/dist-packages (from pydantic<3,>=1->langchain<0.3.0,>=0.2.6->langchain-community) (2.20.0)\n",
            "Requirement already satisfied: mypy-extensions>=0.3.0 in /usr/local/lib/python3.10/dist-packages (from typing-inspect<1,>=0.4.0->dataclasses-json<0.7,>=0.5.7->langchain-community) (1.0.0)\n",
            "Installing collected packages: langchain-community\n",
            "Successfully installed langchain-community-0.2.6\n"
          ]
        }
      ]
    },
    {
      "cell_type": "code",
      "source": [
        "import os\n",
        "import openai\n",
        "\n"
      ],
      "metadata": {
        "id": "IWoj8JJzCxKB"
      },
      "execution_count": 9,
      "outputs": []
    },
    {
      "cell_type": "code",
      "source": [
        "from langchain.chains import RetrievalQA\n",
        "from langchain.chat_models import ChatOpenAI\n",
        "from langchain_community.document_loaders import DataFrameLoader\n",
        "from langchain.vectorstores import DocArrayInMemorySearch\n",
        "from IPython.display import display, Markdown\n",
        "from langchain.llms import OpenAI\n",
        "import pandas as pd"
      ],
      "metadata": {
        "id": "tyNutsKXem_9"
      },
      "execution_count": 10,
      "outputs": []
    },
    {
      "cell_type": "markdown",
      "source": [
        "### 1. Let's load a small subset of medical records"
      ],
      "metadata": {
        "id": "IkKlg84LbySn"
      }
    },
    {
      "cell_type": "code",
      "source": [
        "df=pd.read_csv(\"https://github.com/thousandoaks/Python4DS-I/raw/main/datasets/HealthcareDataset_PublicRelease.csv\",sep=',',parse_dates=['StartDate','EndDate','BirthDate'])"
      ],
      "metadata": {
        "id": "B7vsq3YU1-iO"
      },
      "execution_count": 35,
      "outputs": []
    },
    {
      "cell_type": "code",
      "source": [
        "pd.options.display.max_colwidth = 300\n",
        "df.head(20)"
      ],
      "metadata": {
        "id": "Jue9o0MR3Jxc",
        "colab": {
          "base_uri": "https://localhost:8080/",
          "height": 1000
        },
        "outputId": "275d5817-e07c-4247-fdab-f5c008585704"
      },
      "execution_count": 36,
      "outputs": [
        {
          "output_type": "execute_result",
          "data": {
            "text/plain": [
              "        Id MemberName  MemberID    County      MedicalClaim  ClaimItem  \\\n",
              "0   634363   e659f3f4  6a380a28  6f943458  c1e3436737c77899         18   \n",
              "1   634364   e659f3f4  6a380a28  6f943458  c1e3436737c77899         21   \n",
              "2   634387   e659f3f4  6a380a28  6f943458  c1e3436737c77899         10   \n",
              "3   634388   e659f3f4  6a380a28  6f943458  c1e3436737c77899         20   \n",
              "4   634389   e659f3f4  6a380a28  6f943458  c1e3436737c77899         19   \n",
              "5   634390   e659f3f4  6a380a28  6f943458  c1e3436737c77899          2   \n",
              "6   634391   e659f3f4  6a380a28  6f943458  c1e3436737c77899          6   \n",
              "7   634392   e659f3f4  6a380a28  6f943458  c1e3436737c77899         12   \n",
              "8   634393   e659f3f4  6a380a28  6f943458  c1e3436737c77899         15   \n",
              "9   634394   e659f3f4  6a380a28  6f943458  c1e3436737c77899         17   \n",
              "10  634395   e659f3f4  6a380a28  6f943458  c1e3436737c77899          1   \n",
              "11  634396   e659f3f4  6a380a28  6f943458  c1e3436737c77899          3   \n",
              "12  634397   e659f3f4  6a380a28  6f943458  c1e3436737c77899          4   \n",
              "13  634398   e659f3f4  6a380a28  6f943458  c1e3436737c77899          5   \n",
              "14  634399   e659f3f4  6a380a28  6f943458  c1e3436737c77899         16   \n",
              "15  634400   e659f3f4  6a380a28  6f943458  c1e3436737c77899         22   \n",
              "16  634401   e659f3f4  6a380a28  6f943458  c1e3436737c77899         23   \n",
              "17  634402   e659f3f4  6a380a28  6f943458  c1e3436737c77899          9   \n",
              "18  634403   e659f3f4  6a380a28  6f943458  c1e3436737c77899         14   \n",
              "19  634404   e659f3f4  6a380a28  6f943458  c1e3436737c77899         13   \n",
              "\n",
              "   HospitalName HospitalType  StartDate    EndDate PrincipalDiagnosisDesc  \\\n",
              "0      04b77561     HOSPITAL 2020-01-08 2020-01-08        Epigastric pain   \n",
              "1      04b77561     HOSPITAL 2020-01-08 2020-01-08        Epigastric pain   \n",
              "2      04b77561     HOSPITAL 2020-01-08 2020-01-08        Epigastric pain   \n",
              "3      04b77561     HOSPITAL 2020-01-08 2020-01-08        Epigastric pain   \n",
              "4      04b77561     HOSPITAL 2020-01-08 2020-01-08        Epigastric pain   \n",
              "5      04b77561     HOSPITAL 2020-01-08 2020-01-08        Epigastric pain   \n",
              "6      04b77561     HOSPITAL 2020-01-08 2020-01-08        Epigastric pain   \n",
              "7      04b77561     HOSPITAL 2020-01-08 2020-01-08        Epigastric pain   \n",
              "8      04b77561     HOSPITAL 2020-01-08 2020-01-08        Epigastric pain   \n",
              "9      04b77561     HOSPITAL 2020-01-08 2020-01-08        Epigastric pain   \n",
              "10     04b77561     HOSPITAL 2020-01-08 2020-01-08        Epigastric pain   \n",
              "11     04b77561     HOSPITAL 2020-01-08 2020-01-08        Epigastric pain   \n",
              "12     04b77561     HOSPITAL 2020-01-08 2020-01-08        Epigastric pain   \n",
              "13     04b77561     HOSPITAL 2020-01-08 2020-01-08        Epigastric pain   \n",
              "14     04b77561     HOSPITAL 2020-01-08 2020-01-08        Epigastric pain   \n",
              "15     04b77561     HOSPITAL 2020-01-08 2020-01-08        Epigastric pain   \n",
              "16     04b77561     HOSPITAL 2020-01-08 2020-01-08        Epigastric pain   \n",
              "17     04b77561     HOSPITAL 2020-01-08 2020-01-08        Epigastric pain   \n",
              "18     04b77561     HOSPITAL 2020-01-08 2020-01-08        Epigastric pain   \n",
              "19     04b77561     HOSPITAL 2020-01-08 2020-01-08        Epigastric pain   \n",
              "\n",
              "   PrincipalDiagnosis  \\\n",
              "0              R10.13   \n",
              "1              R10.13   \n",
              "2              R10.13   \n",
              "3              R10.13   \n",
              "4              R10.13   \n",
              "5              R10.13   \n",
              "6              R10.13   \n",
              "7              R10.13   \n",
              "8              R10.13   \n",
              "9              R10.13   \n",
              "10             R10.13   \n",
              "11             R10.13   \n",
              "12             R10.13   \n",
              "13             R10.13   \n",
              "14             R10.13   \n",
              "15             R10.13   \n",
              "16             R10.13   \n",
              "17             R10.13   \n",
              "18             R10.13   \n",
              "19             R10.13   \n",
              "\n",
              "                                             RevenueCodeDesc  RevenueCode  \\\n",
              "0   DRUGS REQUIRE SPECIFIC ID: DRUGS REQUIRING DETAIL CODING        636.0   \n",
              "1   DRUGS REQUIRE SPECIFIC ID: DRUGS REQUIRING DETAIL CODING        636.0   \n",
              "2               LABORATORY - CLINICAL DIAGNOSTIC: HEMATOLOGY        305.0   \n",
              "3   DRUGS REQUIRE SPECIFIC ID: DRUGS REQUIRING DETAIL CODING        636.0   \n",
              "4   DRUGS REQUIRE SPECIFIC ID: DRUGS REQUIRING DETAIL CODING        636.0   \n",
              "5                LABORATORY - CLINICAL DIAGNOSTIC: CHEMISTRY        301.0   \n",
              "6                LABORATORY - CLINICAL DIAGNOSTIC: CHEMISTRY        301.0   \n",
              "7                        RADIOLOGY - DIAGNOSTIC: CHEST X-RAY        324.0   \n",
              "8                                             EMERGENCY ROOM        450.0   \n",
              "9                                             EMERGENCY ROOM        450.0   \n",
              "10                                                  PHARMACY        250.0   \n",
              "11               LABORATORY - CLINICAL DIAGNOSTIC: CHEMISTRY        301.0   \n",
              "12               LABORATORY - CLINICAL DIAGNOSTIC: CHEMISTRY        301.0   \n",
              "13               LABORATORY - CLINICAL DIAGNOSTIC: CHEMISTRY        301.0   \n",
              "14                                            EMERGENCY ROOM        450.0   \n",
              "15  DRUGS REQUIRE SPECIFIC ID: DRUGS REQUIRING DETAIL CODING        636.0   \n",
              "16                                                   EKG/ECG        730.0   \n",
              "17              LABORATORY - CLINICAL DIAGNOSTIC: HEMATOLOGY        305.0   \n",
              "18                                            EMERGENCY ROOM        450.0   \n",
              "19                        OTHER IMAGING SERVICES: ULTRASOUND        402.0   \n",
              "\n",
              "   TypeFlag  BirthDate  TotalExpenses  \n",
              "0        ER 1967-05-13         15.148  \n",
              "1        ER 1967-05-13          3.073  \n",
              "2        ER 1967-05-13        123.900  \n",
              "3        ER 1967-05-13          7.511  \n",
              "4        ER 1967-05-13          8.631  \n",
              "5        ER 1967-05-13        263.200  \n",
              "6        ER 1967-05-13         44.100  \n",
              "7        ER 1967-05-13        364.000  \n",
              "8        ER 1967-05-13        789.600  \n",
              "9        ER 1967-05-13        478.100  \n",
              "10       ER 1967-05-13          4.256  \n",
              "11       ER 1967-05-13        221.900  \n",
              "12       ER 1967-05-13        199.500  \n",
              "13       ER 1967-05-13        161.700  \n",
              "14       ER 1967-05-13        594.300  \n",
              "15       ER 1967-05-13          1.911  \n",
              "16       ER 1967-05-13        402.500  \n",
              "17       ER 1967-05-13        137.200  \n",
              "18       ER 1967-05-13       3549.700  \n",
              "19       ER 1967-05-13        805.700  "
            ],
            "text/html": [
              "\n",
              "  <div id=\"df-c8f1e58e-9c98-4352-8c96-a8a6e81e4f44\" class=\"colab-df-container\">\n",
              "    <div>\n",
              "<style scoped>\n",
              "    .dataframe tbody tr th:only-of-type {\n",
              "        vertical-align: middle;\n",
              "    }\n",
              "\n",
              "    .dataframe tbody tr th {\n",
              "        vertical-align: top;\n",
              "    }\n",
              "\n",
              "    .dataframe thead th {\n",
              "        text-align: right;\n",
              "    }\n",
              "</style>\n",
              "<table border=\"1\" class=\"dataframe\">\n",
              "  <thead>\n",
              "    <tr style=\"text-align: right;\">\n",
              "      <th></th>\n",
              "      <th>Id</th>\n",
              "      <th>MemberName</th>\n",
              "      <th>MemberID</th>\n",
              "      <th>County</th>\n",
              "      <th>MedicalClaim</th>\n",
              "      <th>ClaimItem</th>\n",
              "      <th>HospitalName</th>\n",
              "      <th>HospitalType</th>\n",
              "      <th>StartDate</th>\n",
              "      <th>EndDate</th>\n",
              "      <th>PrincipalDiagnosisDesc</th>\n",
              "      <th>PrincipalDiagnosis</th>\n",
              "      <th>RevenueCodeDesc</th>\n",
              "      <th>RevenueCode</th>\n",
              "      <th>TypeFlag</th>\n",
              "      <th>BirthDate</th>\n",
              "      <th>TotalExpenses</th>\n",
              "    </tr>\n",
              "  </thead>\n",
              "  <tbody>\n",
              "    <tr>\n",
              "      <th>0</th>\n",
              "      <td>634363</td>\n",
              "      <td>e659f3f4</td>\n",
              "      <td>6a380a28</td>\n",
              "      <td>6f943458</td>\n",
              "      <td>c1e3436737c77899</td>\n",
              "      <td>18</td>\n",
              "      <td>04b77561</td>\n",
              "      <td>HOSPITAL</td>\n",
              "      <td>2020-01-08</td>\n",
              "      <td>2020-01-08</td>\n",
              "      <td>Epigastric pain</td>\n",
              "      <td>R10.13</td>\n",
              "      <td>DRUGS REQUIRE SPECIFIC ID: DRUGS REQUIRING DETAIL CODING</td>\n",
              "      <td>636.0</td>\n",
              "      <td>ER</td>\n",
              "      <td>1967-05-13</td>\n",
              "      <td>15.148</td>\n",
              "    </tr>\n",
              "    <tr>\n",
              "      <th>1</th>\n",
              "      <td>634364</td>\n",
              "      <td>e659f3f4</td>\n",
              "      <td>6a380a28</td>\n",
              "      <td>6f943458</td>\n",
              "      <td>c1e3436737c77899</td>\n",
              "      <td>21</td>\n",
              "      <td>04b77561</td>\n",
              "      <td>HOSPITAL</td>\n",
              "      <td>2020-01-08</td>\n",
              "      <td>2020-01-08</td>\n",
              "      <td>Epigastric pain</td>\n",
              "      <td>R10.13</td>\n",
              "      <td>DRUGS REQUIRE SPECIFIC ID: DRUGS REQUIRING DETAIL CODING</td>\n",
              "      <td>636.0</td>\n",
              "      <td>ER</td>\n",
              "      <td>1967-05-13</td>\n",
              "      <td>3.073</td>\n",
              "    </tr>\n",
              "    <tr>\n",
              "      <th>2</th>\n",
              "      <td>634387</td>\n",
              "      <td>e659f3f4</td>\n",
              "      <td>6a380a28</td>\n",
              "      <td>6f943458</td>\n",
              "      <td>c1e3436737c77899</td>\n",
              "      <td>10</td>\n",
              "      <td>04b77561</td>\n",
              "      <td>HOSPITAL</td>\n",
              "      <td>2020-01-08</td>\n",
              "      <td>2020-01-08</td>\n",
              "      <td>Epigastric pain</td>\n",
              "      <td>R10.13</td>\n",
              "      <td>LABORATORY - CLINICAL DIAGNOSTIC: HEMATOLOGY</td>\n",
              "      <td>305.0</td>\n",
              "      <td>ER</td>\n",
              "      <td>1967-05-13</td>\n",
              "      <td>123.900</td>\n",
              "    </tr>\n",
              "    <tr>\n",
              "      <th>3</th>\n",
              "      <td>634388</td>\n",
              "      <td>e659f3f4</td>\n",
              "      <td>6a380a28</td>\n",
              "      <td>6f943458</td>\n",
              "      <td>c1e3436737c77899</td>\n",
              "      <td>20</td>\n",
              "      <td>04b77561</td>\n",
              "      <td>HOSPITAL</td>\n",
              "      <td>2020-01-08</td>\n",
              "      <td>2020-01-08</td>\n",
              "      <td>Epigastric pain</td>\n",
              "      <td>R10.13</td>\n",
              "      <td>DRUGS REQUIRE SPECIFIC ID: DRUGS REQUIRING DETAIL CODING</td>\n",
              "      <td>636.0</td>\n",
              "      <td>ER</td>\n",
              "      <td>1967-05-13</td>\n",
              "      <td>7.511</td>\n",
              "    </tr>\n",
              "    <tr>\n",
              "      <th>4</th>\n",
              "      <td>634389</td>\n",
              "      <td>e659f3f4</td>\n",
              "      <td>6a380a28</td>\n",
              "      <td>6f943458</td>\n",
              "      <td>c1e3436737c77899</td>\n",
              "      <td>19</td>\n",
              "      <td>04b77561</td>\n",
              "      <td>HOSPITAL</td>\n",
              "      <td>2020-01-08</td>\n",
              "      <td>2020-01-08</td>\n",
              "      <td>Epigastric pain</td>\n",
              "      <td>R10.13</td>\n",
              "      <td>DRUGS REQUIRE SPECIFIC ID: DRUGS REQUIRING DETAIL CODING</td>\n",
              "      <td>636.0</td>\n",
              "      <td>ER</td>\n",
              "      <td>1967-05-13</td>\n",
              "      <td>8.631</td>\n",
              "    </tr>\n",
              "    <tr>\n",
              "      <th>5</th>\n",
              "      <td>634390</td>\n",
              "      <td>e659f3f4</td>\n",
              "      <td>6a380a28</td>\n",
              "      <td>6f943458</td>\n",
              "      <td>c1e3436737c77899</td>\n",
              "      <td>2</td>\n",
              "      <td>04b77561</td>\n",
              "      <td>HOSPITAL</td>\n",
              "      <td>2020-01-08</td>\n",
              "      <td>2020-01-08</td>\n",
              "      <td>Epigastric pain</td>\n",
              "      <td>R10.13</td>\n",
              "      <td>LABORATORY - CLINICAL DIAGNOSTIC: CHEMISTRY</td>\n",
              "      <td>301.0</td>\n",
              "      <td>ER</td>\n",
              "      <td>1967-05-13</td>\n",
              "      <td>263.200</td>\n",
              "    </tr>\n",
              "    <tr>\n",
              "      <th>6</th>\n",
              "      <td>634391</td>\n",
              "      <td>e659f3f4</td>\n",
              "      <td>6a380a28</td>\n",
              "      <td>6f943458</td>\n",
              "      <td>c1e3436737c77899</td>\n",
              "      <td>6</td>\n",
              "      <td>04b77561</td>\n",
              "      <td>HOSPITAL</td>\n",
              "      <td>2020-01-08</td>\n",
              "      <td>2020-01-08</td>\n",
              "      <td>Epigastric pain</td>\n",
              "      <td>R10.13</td>\n",
              "      <td>LABORATORY - CLINICAL DIAGNOSTIC: CHEMISTRY</td>\n",
              "      <td>301.0</td>\n",
              "      <td>ER</td>\n",
              "      <td>1967-05-13</td>\n",
              "      <td>44.100</td>\n",
              "    </tr>\n",
              "    <tr>\n",
              "      <th>7</th>\n",
              "      <td>634392</td>\n",
              "      <td>e659f3f4</td>\n",
              "      <td>6a380a28</td>\n",
              "      <td>6f943458</td>\n",
              "      <td>c1e3436737c77899</td>\n",
              "      <td>12</td>\n",
              "      <td>04b77561</td>\n",
              "      <td>HOSPITAL</td>\n",
              "      <td>2020-01-08</td>\n",
              "      <td>2020-01-08</td>\n",
              "      <td>Epigastric pain</td>\n",
              "      <td>R10.13</td>\n",
              "      <td>RADIOLOGY - DIAGNOSTIC: CHEST X-RAY</td>\n",
              "      <td>324.0</td>\n",
              "      <td>ER</td>\n",
              "      <td>1967-05-13</td>\n",
              "      <td>364.000</td>\n",
              "    </tr>\n",
              "    <tr>\n",
              "      <th>8</th>\n",
              "      <td>634393</td>\n",
              "      <td>e659f3f4</td>\n",
              "      <td>6a380a28</td>\n",
              "      <td>6f943458</td>\n",
              "      <td>c1e3436737c77899</td>\n",
              "      <td>15</td>\n",
              "      <td>04b77561</td>\n",
              "      <td>HOSPITAL</td>\n",
              "      <td>2020-01-08</td>\n",
              "      <td>2020-01-08</td>\n",
              "      <td>Epigastric pain</td>\n",
              "      <td>R10.13</td>\n",
              "      <td>EMERGENCY ROOM</td>\n",
              "      <td>450.0</td>\n",
              "      <td>ER</td>\n",
              "      <td>1967-05-13</td>\n",
              "      <td>789.600</td>\n",
              "    </tr>\n",
              "    <tr>\n",
              "      <th>9</th>\n",
              "      <td>634394</td>\n",
              "      <td>e659f3f4</td>\n",
              "      <td>6a380a28</td>\n",
              "      <td>6f943458</td>\n",
              "      <td>c1e3436737c77899</td>\n",
              "      <td>17</td>\n",
              "      <td>04b77561</td>\n",
              "      <td>HOSPITAL</td>\n",
              "      <td>2020-01-08</td>\n",
              "      <td>2020-01-08</td>\n",
              "      <td>Epigastric pain</td>\n",
              "      <td>R10.13</td>\n",
              "      <td>EMERGENCY ROOM</td>\n",
              "      <td>450.0</td>\n",
              "      <td>ER</td>\n",
              "      <td>1967-05-13</td>\n",
              "      <td>478.100</td>\n",
              "    </tr>\n",
              "    <tr>\n",
              "      <th>10</th>\n",
              "      <td>634395</td>\n",
              "      <td>e659f3f4</td>\n",
              "      <td>6a380a28</td>\n",
              "      <td>6f943458</td>\n",
              "      <td>c1e3436737c77899</td>\n",
              "      <td>1</td>\n",
              "      <td>04b77561</td>\n",
              "      <td>HOSPITAL</td>\n",
              "      <td>2020-01-08</td>\n",
              "      <td>2020-01-08</td>\n",
              "      <td>Epigastric pain</td>\n",
              "      <td>R10.13</td>\n",
              "      <td>PHARMACY</td>\n",
              "      <td>250.0</td>\n",
              "      <td>ER</td>\n",
              "      <td>1967-05-13</td>\n",
              "      <td>4.256</td>\n",
              "    </tr>\n",
              "    <tr>\n",
              "      <th>11</th>\n",
              "      <td>634396</td>\n",
              "      <td>e659f3f4</td>\n",
              "      <td>6a380a28</td>\n",
              "      <td>6f943458</td>\n",
              "      <td>c1e3436737c77899</td>\n",
              "      <td>3</td>\n",
              "      <td>04b77561</td>\n",
              "      <td>HOSPITAL</td>\n",
              "      <td>2020-01-08</td>\n",
              "      <td>2020-01-08</td>\n",
              "      <td>Epigastric pain</td>\n",
              "      <td>R10.13</td>\n",
              "      <td>LABORATORY - CLINICAL DIAGNOSTIC: CHEMISTRY</td>\n",
              "      <td>301.0</td>\n",
              "      <td>ER</td>\n",
              "      <td>1967-05-13</td>\n",
              "      <td>221.900</td>\n",
              "    </tr>\n",
              "    <tr>\n",
              "      <th>12</th>\n",
              "      <td>634397</td>\n",
              "      <td>e659f3f4</td>\n",
              "      <td>6a380a28</td>\n",
              "      <td>6f943458</td>\n",
              "      <td>c1e3436737c77899</td>\n",
              "      <td>4</td>\n",
              "      <td>04b77561</td>\n",
              "      <td>HOSPITAL</td>\n",
              "      <td>2020-01-08</td>\n",
              "      <td>2020-01-08</td>\n",
              "      <td>Epigastric pain</td>\n",
              "      <td>R10.13</td>\n",
              "      <td>LABORATORY - CLINICAL DIAGNOSTIC: CHEMISTRY</td>\n",
              "      <td>301.0</td>\n",
              "      <td>ER</td>\n",
              "      <td>1967-05-13</td>\n",
              "      <td>199.500</td>\n",
              "    </tr>\n",
              "    <tr>\n",
              "      <th>13</th>\n",
              "      <td>634398</td>\n",
              "      <td>e659f3f4</td>\n",
              "      <td>6a380a28</td>\n",
              "      <td>6f943458</td>\n",
              "      <td>c1e3436737c77899</td>\n",
              "      <td>5</td>\n",
              "      <td>04b77561</td>\n",
              "      <td>HOSPITAL</td>\n",
              "      <td>2020-01-08</td>\n",
              "      <td>2020-01-08</td>\n",
              "      <td>Epigastric pain</td>\n",
              "      <td>R10.13</td>\n",
              "      <td>LABORATORY - CLINICAL DIAGNOSTIC: CHEMISTRY</td>\n",
              "      <td>301.0</td>\n",
              "      <td>ER</td>\n",
              "      <td>1967-05-13</td>\n",
              "      <td>161.700</td>\n",
              "    </tr>\n",
              "    <tr>\n",
              "      <th>14</th>\n",
              "      <td>634399</td>\n",
              "      <td>e659f3f4</td>\n",
              "      <td>6a380a28</td>\n",
              "      <td>6f943458</td>\n",
              "      <td>c1e3436737c77899</td>\n",
              "      <td>16</td>\n",
              "      <td>04b77561</td>\n",
              "      <td>HOSPITAL</td>\n",
              "      <td>2020-01-08</td>\n",
              "      <td>2020-01-08</td>\n",
              "      <td>Epigastric pain</td>\n",
              "      <td>R10.13</td>\n",
              "      <td>EMERGENCY ROOM</td>\n",
              "      <td>450.0</td>\n",
              "      <td>ER</td>\n",
              "      <td>1967-05-13</td>\n",
              "      <td>594.300</td>\n",
              "    </tr>\n",
              "    <tr>\n",
              "      <th>15</th>\n",
              "      <td>634400</td>\n",
              "      <td>e659f3f4</td>\n",
              "      <td>6a380a28</td>\n",
              "      <td>6f943458</td>\n",
              "      <td>c1e3436737c77899</td>\n",
              "      <td>22</td>\n",
              "      <td>04b77561</td>\n",
              "      <td>HOSPITAL</td>\n",
              "      <td>2020-01-08</td>\n",
              "      <td>2020-01-08</td>\n",
              "      <td>Epigastric pain</td>\n",
              "      <td>R10.13</td>\n",
              "      <td>DRUGS REQUIRE SPECIFIC ID: DRUGS REQUIRING DETAIL CODING</td>\n",
              "      <td>636.0</td>\n",
              "      <td>ER</td>\n",
              "      <td>1967-05-13</td>\n",
              "      <td>1.911</td>\n",
              "    </tr>\n",
              "    <tr>\n",
              "      <th>16</th>\n",
              "      <td>634401</td>\n",
              "      <td>e659f3f4</td>\n",
              "      <td>6a380a28</td>\n",
              "      <td>6f943458</td>\n",
              "      <td>c1e3436737c77899</td>\n",
              "      <td>23</td>\n",
              "      <td>04b77561</td>\n",
              "      <td>HOSPITAL</td>\n",
              "      <td>2020-01-08</td>\n",
              "      <td>2020-01-08</td>\n",
              "      <td>Epigastric pain</td>\n",
              "      <td>R10.13</td>\n",
              "      <td>EKG/ECG</td>\n",
              "      <td>730.0</td>\n",
              "      <td>ER</td>\n",
              "      <td>1967-05-13</td>\n",
              "      <td>402.500</td>\n",
              "    </tr>\n",
              "    <tr>\n",
              "      <th>17</th>\n",
              "      <td>634402</td>\n",
              "      <td>e659f3f4</td>\n",
              "      <td>6a380a28</td>\n",
              "      <td>6f943458</td>\n",
              "      <td>c1e3436737c77899</td>\n",
              "      <td>9</td>\n",
              "      <td>04b77561</td>\n",
              "      <td>HOSPITAL</td>\n",
              "      <td>2020-01-08</td>\n",
              "      <td>2020-01-08</td>\n",
              "      <td>Epigastric pain</td>\n",
              "      <td>R10.13</td>\n",
              "      <td>LABORATORY - CLINICAL DIAGNOSTIC: HEMATOLOGY</td>\n",
              "      <td>305.0</td>\n",
              "      <td>ER</td>\n",
              "      <td>1967-05-13</td>\n",
              "      <td>137.200</td>\n",
              "    </tr>\n",
              "    <tr>\n",
              "      <th>18</th>\n",
              "      <td>634403</td>\n",
              "      <td>e659f3f4</td>\n",
              "      <td>6a380a28</td>\n",
              "      <td>6f943458</td>\n",
              "      <td>c1e3436737c77899</td>\n",
              "      <td>14</td>\n",
              "      <td>04b77561</td>\n",
              "      <td>HOSPITAL</td>\n",
              "      <td>2020-01-08</td>\n",
              "      <td>2020-01-08</td>\n",
              "      <td>Epigastric pain</td>\n",
              "      <td>R10.13</td>\n",
              "      <td>EMERGENCY ROOM</td>\n",
              "      <td>450.0</td>\n",
              "      <td>ER</td>\n",
              "      <td>1967-05-13</td>\n",
              "      <td>3549.700</td>\n",
              "    </tr>\n",
              "    <tr>\n",
              "      <th>19</th>\n",
              "      <td>634404</td>\n",
              "      <td>e659f3f4</td>\n",
              "      <td>6a380a28</td>\n",
              "      <td>6f943458</td>\n",
              "      <td>c1e3436737c77899</td>\n",
              "      <td>13</td>\n",
              "      <td>04b77561</td>\n",
              "      <td>HOSPITAL</td>\n",
              "      <td>2020-01-08</td>\n",
              "      <td>2020-01-08</td>\n",
              "      <td>Epigastric pain</td>\n",
              "      <td>R10.13</td>\n",
              "      <td>OTHER IMAGING SERVICES: ULTRASOUND</td>\n",
              "      <td>402.0</td>\n",
              "      <td>ER</td>\n",
              "      <td>1967-05-13</td>\n",
              "      <td>805.700</td>\n",
              "    </tr>\n",
              "  </tbody>\n",
              "</table>\n",
              "</div>\n",
              "    <div class=\"colab-df-buttons\">\n",
              "\n",
              "  <div class=\"colab-df-container\">\n",
              "    <button class=\"colab-df-convert\" onclick=\"convertToInteractive('df-c8f1e58e-9c98-4352-8c96-a8a6e81e4f44')\"\n",
              "            title=\"Convert this dataframe to an interactive table.\"\n",
              "            style=\"display:none;\">\n",
              "\n",
              "  <svg xmlns=\"http://www.w3.org/2000/svg\" height=\"24px\" viewBox=\"0 -960 960 960\">\n",
              "    <path d=\"M120-120v-720h720v720H120Zm60-500h600v-160H180v160Zm220 220h160v-160H400v160Zm0 220h160v-160H400v160ZM180-400h160v-160H180v160Zm440 0h160v-160H620v160ZM180-180h160v-160H180v160Zm440 0h160v-160H620v160Z\"/>\n",
              "  </svg>\n",
              "    </button>\n",
              "\n",
              "  <style>\n",
              "    .colab-df-container {\n",
              "      display:flex;\n",
              "      gap: 12px;\n",
              "    }\n",
              "\n",
              "    .colab-df-convert {\n",
              "      background-color: #E8F0FE;\n",
              "      border: none;\n",
              "      border-radius: 50%;\n",
              "      cursor: pointer;\n",
              "      display: none;\n",
              "      fill: #1967D2;\n",
              "      height: 32px;\n",
              "      padding: 0 0 0 0;\n",
              "      width: 32px;\n",
              "    }\n",
              "\n",
              "    .colab-df-convert:hover {\n",
              "      background-color: #E2EBFA;\n",
              "      box-shadow: 0px 1px 2px rgba(60, 64, 67, 0.3), 0px 1px 3px 1px rgba(60, 64, 67, 0.15);\n",
              "      fill: #174EA6;\n",
              "    }\n",
              "\n",
              "    .colab-df-buttons div {\n",
              "      margin-bottom: 4px;\n",
              "    }\n",
              "\n",
              "    [theme=dark] .colab-df-convert {\n",
              "      background-color: #3B4455;\n",
              "      fill: #D2E3FC;\n",
              "    }\n",
              "\n",
              "    [theme=dark] .colab-df-convert:hover {\n",
              "      background-color: #434B5C;\n",
              "      box-shadow: 0px 1px 3px 1px rgba(0, 0, 0, 0.15);\n",
              "      filter: drop-shadow(0px 1px 2px rgba(0, 0, 0, 0.3));\n",
              "      fill: #FFFFFF;\n",
              "    }\n",
              "  </style>\n",
              "\n",
              "    <script>\n",
              "      const buttonEl =\n",
              "        document.querySelector('#df-c8f1e58e-9c98-4352-8c96-a8a6e81e4f44 button.colab-df-convert');\n",
              "      buttonEl.style.display =\n",
              "        google.colab.kernel.accessAllowed ? 'block' : 'none';\n",
              "\n",
              "      async function convertToInteractive(key) {\n",
              "        const element = document.querySelector('#df-c8f1e58e-9c98-4352-8c96-a8a6e81e4f44');\n",
              "        const dataTable =\n",
              "          await google.colab.kernel.invokeFunction('convertToInteractive',\n",
              "                                                    [key], {});\n",
              "        if (!dataTable) return;\n",
              "\n",
              "        const docLinkHtml = 'Like what you see? Visit the ' +\n",
              "          '<a target=\"_blank\" href=https://colab.research.google.com/notebooks/data_table.ipynb>data table notebook</a>'\n",
              "          + ' to learn more about interactive tables.';\n",
              "        element.innerHTML = '';\n",
              "        dataTable['output_type'] = 'display_data';\n",
              "        await google.colab.output.renderOutput(dataTable, element);\n",
              "        const docLink = document.createElement('div');\n",
              "        docLink.innerHTML = docLinkHtml;\n",
              "        element.appendChild(docLink);\n",
              "      }\n",
              "    </script>\n",
              "  </div>\n",
              "\n",
              "\n",
              "<div id=\"df-965fca2a-a33f-4b07-882f-6ccd7b6cccea\">\n",
              "  <button class=\"colab-df-quickchart\" onclick=\"quickchart('df-965fca2a-a33f-4b07-882f-6ccd7b6cccea')\"\n",
              "            title=\"Suggest charts\"\n",
              "            style=\"display:none;\">\n",
              "\n",
              "<svg xmlns=\"http://www.w3.org/2000/svg\" height=\"24px\"viewBox=\"0 0 24 24\"\n",
              "     width=\"24px\">\n",
              "    <g>\n",
              "        <path d=\"M19 3H5c-1.1 0-2 .9-2 2v14c0 1.1.9 2 2 2h14c1.1 0 2-.9 2-2V5c0-1.1-.9-2-2-2zM9 17H7v-7h2v7zm4 0h-2V7h2v10zm4 0h-2v-4h2v4z\"/>\n",
              "    </g>\n",
              "</svg>\n",
              "  </button>\n",
              "\n",
              "<style>\n",
              "  .colab-df-quickchart {\n",
              "      --bg-color: #E8F0FE;\n",
              "      --fill-color: #1967D2;\n",
              "      --hover-bg-color: #E2EBFA;\n",
              "      --hover-fill-color: #174EA6;\n",
              "      --disabled-fill-color: #AAA;\n",
              "      --disabled-bg-color: #DDD;\n",
              "  }\n",
              "\n",
              "  [theme=dark] .colab-df-quickchart {\n",
              "      --bg-color: #3B4455;\n",
              "      --fill-color: #D2E3FC;\n",
              "      --hover-bg-color: #434B5C;\n",
              "      --hover-fill-color: #FFFFFF;\n",
              "      --disabled-bg-color: #3B4455;\n",
              "      --disabled-fill-color: #666;\n",
              "  }\n",
              "\n",
              "  .colab-df-quickchart {\n",
              "    background-color: var(--bg-color);\n",
              "    border: none;\n",
              "    border-radius: 50%;\n",
              "    cursor: pointer;\n",
              "    display: none;\n",
              "    fill: var(--fill-color);\n",
              "    height: 32px;\n",
              "    padding: 0;\n",
              "    width: 32px;\n",
              "  }\n",
              "\n",
              "  .colab-df-quickchart:hover {\n",
              "    background-color: var(--hover-bg-color);\n",
              "    box-shadow: 0 1px 2px rgba(60, 64, 67, 0.3), 0 1px 3px 1px rgba(60, 64, 67, 0.15);\n",
              "    fill: var(--button-hover-fill-color);\n",
              "  }\n",
              "\n",
              "  .colab-df-quickchart-complete:disabled,\n",
              "  .colab-df-quickchart-complete:disabled:hover {\n",
              "    background-color: var(--disabled-bg-color);\n",
              "    fill: var(--disabled-fill-color);\n",
              "    box-shadow: none;\n",
              "  }\n",
              "\n",
              "  .colab-df-spinner {\n",
              "    border: 2px solid var(--fill-color);\n",
              "    border-color: transparent;\n",
              "    border-bottom-color: var(--fill-color);\n",
              "    animation:\n",
              "      spin 1s steps(1) infinite;\n",
              "  }\n",
              "\n",
              "  @keyframes spin {\n",
              "    0% {\n",
              "      border-color: transparent;\n",
              "      border-bottom-color: var(--fill-color);\n",
              "      border-left-color: var(--fill-color);\n",
              "    }\n",
              "    20% {\n",
              "      border-color: transparent;\n",
              "      border-left-color: var(--fill-color);\n",
              "      border-top-color: var(--fill-color);\n",
              "    }\n",
              "    30% {\n",
              "      border-color: transparent;\n",
              "      border-left-color: var(--fill-color);\n",
              "      border-top-color: var(--fill-color);\n",
              "      border-right-color: var(--fill-color);\n",
              "    }\n",
              "    40% {\n",
              "      border-color: transparent;\n",
              "      border-right-color: var(--fill-color);\n",
              "      border-top-color: var(--fill-color);\n",
              "    }\n",
              "    60% {\n",
              "      border-color: transparent;\n",
              "      border-right-color: var(--fill-color);\n",
              "    }\n",
              "    80% {\n",
              "      border-color: transparent;\n",
              "      border-right-color: var(--fill-color);\n",
              "      border-bottom-color: var(--fill-color);\n",
              "    }\n",
              "    90% {\n",
              "      border-color: transparent;\n",
              "      border-bottom-color: var(--fill-color);\n",
              "    }\n",
              "  }\n",
              "</style>\n",
              "\n",
              "  <script>\n",
              "    async function quickchart(key) {\n",
              "      const quickchartButtonEl =\n",
              "        document.querySelector('#' + key + ' button');\n",
              "      quickchartButtonEl.disabled = true;  // To prevent multiple clicks.\n",
              "      quickchartButtonEl.classList.add('colab-df-spinner');\n",
              "      try {\n",
              "        const charts = await google.colab.kernel.invokeFunction(\n",
              "            'suggestCharts', [key], {});\n",
              "      } catch (error) {\n",
              "        console.error('Error during call to suggestCharts:', error);\n",
              "      }\n",
              "      quickchartButtonEl.classList.remove('colab-df-spinner');\n",
              "      quickchartButtonEl.classList.add('colab-df-quickchart-complete');\n",
              "    }\n",
              "    (() => {\n",
              "      let quickchartButtonEl =\n",
              "        document.querySelector('#df-965fca2a-a33f-4b07-882f-6ccd7b6cccea button');\n",
              "      quickchartButtonEl.style.display =\n",
              "        google.colab.kernel.accessAllowed ? 'block' : 'none';\n",
              "    })();\n",
              "  </script>\n",
              "</div>\n",
              "\n",
              "    </div>\n",
              "  </div>\n"
            ],
            "application/vnd.google.colaboratory.intrinsic+json": {
              "type": "dataframe",
              "variable_name": "df",
              "summary": "{\n  \"name\": \"df\",\n  \"rows\": 52563,\n  \"fields\": [\n    {\n      \"column\": \"Id\",\n      \"properties\": {\n        \"dtype\": \"number\",\n        \"std\": 30913,\n        \"min\": 634363,\n        \"max\": 741736,\n        \"num_unique_values\": 52563,\n        \"samples\": [\n          717055,\n          672046,\n          641484\n        ],\n        \"semantic_type\": \"\",\n        \"description\": \"\"\n      }\n    },\n    {\n      \"column\": \"MemberName\",\n      \"properties\": {\n        \"dtype\": \"category\",\n        \"num_unique_values\": 1753,\n        \"samples\": [\n          \"0a3c2ad9\",\n          \"48eb7f89\",\n          \"980f6ed4\"\n        ],\n        \"semantic_type\": \"\",\n        \"description\": \"\"\n      }\n    },\n    {\n      \"column\": \"MemberID\",\n      \"properties\": {\n        \"dtype\": \"category\",\n        \"num_unique_values\": 1757,\n        \"samples\": [\n          \"d3f3ebbc\",\n          \"5f609d45\",\n          \"477e3256\"\n        ],\n        \"semantic_type\": \"\",\n        \"description\": \"\"\n      }\n    },\n    {\n      \"column\": \"County\",\n      \"properties\": {\n        \"dtype\": \"category\",\n        \"num_unique_values\": 19,\n        \"samples\": [\n          \"6f943458\",\n          \"02af982d\",\n          \"adb3fb00\"\n        ],\n        \"semantic_type\": \"\",\n        \"description\": \"\"\n      }\n    },\n    {\n      \"column\": \"MedicalClaim\",\n      \"properties\": {\n        \"dtype\": \"category\",\n        \"num_unique_values\": 3361,\n        \"samples\": [\n          \"79032eefd1feeb8e\",\n          \"f3f81c5ebf62ed91\",\n          \"48c67d5441f9ca6d\"\n        ],\n        \"semantic_type\": \"\",\n        \"description\": \"\"\n      }\n    },\n    {\n      \"column\": \"ClaimItem\",\n      \"properties\": {\n        \"dtype\": \"number\",\n        \"std\": 10,\n        \"min\": 1,\n        \"max\": 127,\n        \"num_unique_values\": 127,\n        \"samples\": [\n          40,\n          111,\n          83\n        ],\n        \"semantic_type\": \"\",\n        \"description\": \"\"\n      }\n    },\n    {\n      \"column\": \"HospitalName\",\n      \"properties\": {\n        \"dtype\": \"category\",\n        \"num_unique_values\": 148,\n        \"samples\": [\n          \"2c2f104d\",\n          \"0a075ac9\",\n          \"d691f78d\"\n        ],\n        \"semantic_type\": \"\",\n        \"description\": \"\"\n      }\n    },\n    {\n      \"column\": \"HospitalType\",\n      \"properties\": {\n        \"dtype\": \"category\",\n        \"num_unique_values\": 3,\n        \"samples\": [\n          \"HOSPITAL\",\n          \"REHABILITATION CENTER\",\n          \"HOSPITAL LONG TERM ACUTE\"\n        ],\n        \"semantic_type\": \"\",\n        \"description\": \"\"\n      }\n    },\n    {\n      \"column\": \"StartDate\",\n      \"properties\": {\n        \"dtype\": \"date\",\n        \"min\": \"2020-01-01 00:00:00\",\n        \"max\": \"2020-12-31 00:00:00\",\n        \"num_unique_values\": 366,\n        \"samples\": [\n          \"2020-07-25 00:00:00\",\n          \"2020-02-28 00:00:00\",\n          \"2020-01-20 00:00:00\"\n        ],\n        \"semantic_type\": \"\",\n        \"description\": \"\"\n      }\n    },\n    {\n      \"column\": \"EndDate\",\n      \"properties\": {\n        \"dtype\": \"date\",\n        \"min\": \"2020-01-01 00:00:00\",\n        \"max\": \"2020-12-31 00:00:00\",\n        \"num_unique_values\": 366,\n        \"samples\": [\n          \"2020-07-17 00:00:00\",\n          \"2020-02-03 00:00:00\",\n          \"2020-01-29 00:00:00\"\n        ],\n        \"semantic_type\": \"\",\n        \"description\": \"\"\n      }\n    },\n    {\n      \"column\": \"PrincipalDiagnosisDesc\",\n      \"properties\": {\n        \"dtype\": \"category\",\n        \"num_unique_values\": 798,\n        \"samples\": [\n          \"Biliary acute pancreatiti\",\n          \"Calculus of ureter\",\n          \"Major depressive disorder\"\n        ],\n        \"semantic_type\": \"\",\n        \"description\": \"\"\n      }\n    },\n    {\n      \"column\": \"PrincipalDiagnosis\",\n      \"properties\": {\n        \"dtype\": \"category\",\n        \"num_unique_values\": 1037,\n        \"samples\": [\n          \"S52.612A\",\n          \"R33.8\",\n          \"I35.2\"\n        ],\n        \"semantic_type\": \"\",\n        \"description\": \"\"\n      }\n    },\n    {\n      \"column\": \"RevenueCodeDesc\",\n      \"properties\": {\n        \"dtype\": \"category\",\n        \"num_unique_values\": 131,\n        \"samples\": [\n          \"MEDICAL/SURGICAL SUPPLIES\",\n          \"MAGNETIC RESONANCE TECH. (MRT)\",\n          \"MEDICAL/SURGICAL/GYN\"\n        ],\n        \"semantic_type\": \"\",\n        \"description\": \"\"\n      }\n    },\n    {\n      \"column\": \"RevenueCode\",\n      \"properties\": {\n        \"dtype\": \"number\",\n        \"std\": 158.55173341141844,\n        \"min\": 24.0,\n        \"max\": 942.0,\n        \"num_unique_values\": 136,\n        \"samples\": [\n          900.0,\n          420.0,\n          444.0\n        ],\n        \"semantic_type\": \"\",\n        \"description\": \"\"\n      }\n    },\n    {\n      \"column\": \"TypeFlag\",\n      \"properties\": {\n        \"dtype\": \"category\",\n        \"num_unique_values\": 2,\n        \"samples\": [\n          \"INP\",\n          \"ER\"\n        ],\n        \"semantic_type\": \"\",\n        \"description\": \"\"\n      }\n    },\n    {\n      \"column\": \"BirthDate\",\n      \"properties\": {\n        \"dtype\": \"date\",\n        \"min\": \"1921-01-18 00:00:00\",\n        \"max\": \"1999-08-09 00:00:00\",\n        \"num_unique_values\": 1632,\n        \"samples\": [\n          \"1949-05-31 00:00:00\",\n          \"1952-03-21 00:00:00\"\n        ],\n        \"semantic_type\": \"\",\n        \"description\": \"\"\n      }\n    },\n    {\n      \"column\": \"TotalExpenses\",\n      \"properties\": {\n        \"dtype\": \"number\",\n        \"std\": 8292.178928308394,\n        \"min\": 0.0,\n        \"max\": 504533.4,\n        \"num_unique_values\": 18853,\n        \"samples\": [\n          72417.1,\n          196.7\n        ],\n        \"semantic_type\": \"\",\n        \"description\": \"\"\n      }\n    }\n  ]\n}"
            }
          },
          "metadata": {},
          "execution_count": 36
        }
      ]
    },
    {
      "cell_type": "code",
      "source": [],
      "metadata": {
        "id": "PiWV4AOF0XZ0"
      },
      "execution_count": null,
      "outputs": []
    },
    {
      "cell_type": "code",
      "source": [
        "MedicalRecords=df.sort_values(by='MemberName').head(200).groupby([\"MedicalClaim\",\"MemberName\",\"PrincipalDiagnosisDesc\",\"PrincipalDiagnosis\"]).agg({\"TotalExpenses\": [\"sum\"],\"RevenueCodeDesc\":' '.join}).reset_index()\n",
        "\n",
        "\n",
        "\n"
      ],
      "metadata": {
        "id": "TnGNkpLcxDSR"
      },
      "execution_count": 111,
      "outputs": []
    },
    {
      "cell_type": "code",
      "source": [
        "MedicalRecords.columns"
      ],
      "metadata": {
        "colab": {
          "base_uri": "https://localhost:8080/"
        },
        "id": "vKeKBnMQxDQJ",
        "outputId": "e7f86bfb-7487-4038-f654-fef8cee4fe1a"
      },
      "execution_count": 112,
      "outputs": [
        {
          "output_type": "execute_result",
          "data": {
            "text/plain": [
              "MultiIndex([(          'MedicalClaim',     ''),\n",
              "            (            'MemberName',     ''),\n",
              "            ('PrincipalDiagnosisDesc',     ''),\n",
              "            (    'PrincipalDiagnosis',     ''),\n",
              "            (         'TotalExpenses',  'sum'),\n",
              "            (       'RevenueCodeDesc', 'join')],\n",
              "           )"
            ]
          },
          "metadata": {},
          "execution_count": 112
        }
      ]
    },
    {
      "cell_type": "code",
      "source": [
        "# We flatten the multindex into a regular DataFrame\n",
        "MedicalRecords.columns=MedicalRecords.columns.get_level_values(0)"
      ],
      "metadata": {
        "id": "jNvKWPQKxDNx"
      },
      "execution_count": 113,
      "outputs": []
    },
    {
      "cell_type": "code",
      "source": [
        "MedicalRecords.head(3)"
      ],
      "metadata": {
        "colab": {
          "base_uri": "https://localhost:8080/",
          "height": 300
        },
        "id": "aN9Sxzzp5IUu",
        "outputId": "98e9c723-3a3c-4611-db24-6312d8c2de5f"
      },
      "execution_count": 114,
      "outputs": [
        {
          "output_type": "execute_result",
          "data": {
            "text/plain": [
              "       MedicalClaim MemberName     PrincipalDiagnosisDesc PrincipalDiagnosis  \\\n",
              "0  01db6f5467574d6e   00bdc46e  Hypertensive heart diseas              I11.0   \n",
              "1  11c6f93bdbb127d8   00f62513             Rectal abscess              K61.1   \n",
              "2  3076d98ae812aec7   00f62513  Abnormal finding of blood              R79.9   \n",
              "\n",
              "   TotalExpenses  \\\n",
              "0     111436.402   \n",
              "1      46470.151   \n",
              "2       4739.028   \n",
              "\n",
              "                                                                                                                                                                                                                                                                                               RevenueCodeDesc  \n",
              "0  LABORATORY - CLINICAL DIAGNOSTIC: UROLOGY MEDICAL/SURGICAL/GYN PULMONARY FUNCTION RADIOLOGY - DIAGNOSTIC: CHEST X-RAY PHYSICAL THERAPY: EVALUATION/RE-EVALUATION PHYSICAL THERAPY RESPIRATORY SERVICES EMERGENCY ROOM CT SCAN: HEAD LABORATORY - CLINICAL DIAGNOSTIC: BACTERIOLOGY/MICROBIOLOGY CT SCAN ...  \n",
              "1                                                                                                                                                                                                                                  EKG/ECG BLOOD STORAGE/PROCESSING ANESTHESIA OPERATING ROOM SERVICES CT SCAN  \n",
              "2  EMERGENCY ROOM LABORATORY - CLINICAL DIAGNOSTIC LABORATORY - CLINICAL DIAGNOSTIC: HEMATOLOGY LABORATORY - CLINICAL DIAGNOSTIC: IMMUNOLOGY LABORATORY - CLINICAL DIAGNOSTIC: IMMUNOLOGY LABORATORY - CLINICAL DIAGNOSTIC: IMMUNOLOGY MEDICAL/SURGICAL SUPPLIES: STERILE SUPPLIES LABORATORY - CLINICAL DI...  "
            ],
            "text/html": [
              "\n",
              "  <div id=\"df-ff4da704-1c13-4d04-8efc-449755c6a5da\" class=\"colab-df-container\">\n",
              "    <div>\n",
              "<style scoped>\n",
              "    .dataframe tbody tr th:only-of-type {\n",
              "        vertical-align: middle;\n",
              "    }\n",
              "\n",
              "    .dataframe tbody tr th {\n",
              "        vertical-align: top;\n",
              "    }\n",
              "\n",
              "    .dataframe thead th {\n",
              "        text-align: right;\n",
              "    }\n",
              "</style>\n",
              "<table border=\"1\" class=\"dataframe\">\n",
              "  <thead>\n",
              "    <tr style=\"text-align: right;\">\n",
              "      <th></th>\n",
              "      <th>MedicalClaim</th>\n",
              "      <th>MemberName</th>\n",
              "      <th>PrincipalDiagnosisDesc</th>\n",
              "      <th>PrincipalDiagnosis</th>\n",
              "      <th>TotalExpenses</th>\n",
              "      <th>RevenueCodeDesc</th>\n",
              "    </tr>\n",
              "  </thead>\n",
              "  <tbody>\n",
              "    <tr>\n",
              "      <th>0</th>\n",
              "      <td>01db6f5467574d6e</td>\n",
              "      <td>00bdc46e</td>\n",
              "      <td>Hypertensive heart diseas</td>\n",
              "      <td>I11.0</td>\n",
              "      <td>111436.402</td>\n",
              "      <td>LABORATORY - CLINICAL DIAGNOSTIC: UROLOGY MEDICAL/SURGICAL/GYN PULMONARY FUNCTION RADIOLOGY - DIAGNOSTIC: CHEST X-RAY PHYSICAL THERAPY: EVALUATION/RE-EVALUATION PHYSICAL THERAPY RESPIRATORY SERVICES EMERGENCY ROOM CT SCAN: HEAD LABORATORY - CLINICAL DIAGNOSTIC: BACTERIOLOGY/MICROBIOLOGY CT SCAN ...</td>\n",
              "    </tr>\n",
              "    <tr>\n",
              "      <th>1</th>\n",
              "      <td>11c6f93bdbb127d8</td>\n",
              "      <td>00f62513</td>\n",
              "      <td>Rectal abscess</td>\n",
              "      <td>K61.1</td>\n",
              "      <td>46470.151</td>\n",
              "      <td>EKG/ECG BLOOD STORAGE/PROCESSING ANESTHESIA OPERATING ROOM SERVICES CT SCAN</td>\n",
              "    </tr>\n",
              "    <tr>\n",
              "      <th>2</th>\n",
              "      <td>3076d98ae812aec7</td>\n",
              "      <td>00f62513</td>\n",
              "      <td>Abnormal finding of blood</td>\n",
              "      <td>R79.9</td>\n",
              "      <td>4739.028</td>\n",
              "      <td>EMERGENCY ROOM LABORATORY - CLINICAL DIAGNOSTIC LABORATORY - CLINICAL DIAGNOSTIC: HEMATOLOGY LABORATORY - CLINICAL DIAGNOSTIC: IMMUNOLOGY LABORATORY - CLINICAL DIAGNOSTIC: IMMUNOLOGY LABORATORY - CLINICAL DIAGNOSTIC: IMMUNOLOGY MEDICAL/SURGICAL SUPPLIES: STERILE SUPPLIES LABORATORY - CLINICAL DI...</td>\n",
              "    </tr>\n",
              "  </tbody>\n",
              "</table>\n",
              "</div>\n",
              "    <div class=\"colab-df-buttons\">\n",
              "\n",
              "  <div class=\"colab-df-container\">\n",
              "    <button class=\"colab-df-convert\" onclick=\"convertToInteractive('df-ff4da704-1c13-4d04-8efc-449755c6a5da')\"\n",
              "            title=\"Convert this dataframe to an interactive table.\"\n",
              "            style=\"display:none;\">\n",
              "\n",
              "  <svg xmlns=\"http://www.w3.org/2000/svg\" height=\"24px\" viewBox=\"0 -960 960 960\">\n",
              "    <path d=\"M120-120v-720h720v720H120Zm60-500h600v-160H180v160Zm220 220h160v-160H400v160Zm0 220h160v-160H400v160ZM180-400h160v-160H180v160Zm440 0h160v-160H620v160ZM180-180h160v-160H180v160Zm440 0h160v-160H620v160Z\"/>\n",
              "  </svg>\n",
              "    </button>\n",
              "\n",
              "  <style>\n",
              "    .colab-df-container {\n",
              "      display:flex;\n",
              "      gap: 12px;\n",
              "    }\n",
              "\n",
              "    .colab-df-convert {\n",
              "      background-color: #E8F0FE;\n",
              "      border: none;\n",
              "      border-radius: 50%;\n",
              "      cursor: pointer;\n",
              "      display: none;\n",
              "      fill: #1967D2;\n",
              "      height: 32px;\n",
              "      padding: 0 0 0 0;\n",
              "      width: 32px;\n",
              "    }\n",
              "\n",
              "    .colab-df-convert:hover {\n",
              "      background-color: #E2EBFA;\n",
              "      box-shadow: 0px 1px 2px rgba(60, 64, 67, 0.3), 0px 1px 3px 1px rgba(60, 64, 67, 0.15);\n",
              "      fill: #174EA6;\n",
              "    }\n",
              "\n",
              "    .colab-df-buttons div {\n",
              "      margin-bottom: 4px;\n",
              "    }\n",
              "\n",
              "    [theme=dark] .colab-df-convert {\n",
              "      background-color: #3B4455;\n",
              "      fill: #D2E3FC;\n",
              "    }\n",
              "\n",
              "    [theme=dark] .colab-df-convert:hover {\n",
              "      background-color: #434B5C;\n",
              "      box-shadow: 0px 1px 3px 1px rgba(0, 0, 0, 0.15);\n",
              "      filter: drop-shadow(0px 1px 2px rgba(0, 0, 0, 0.3));\n",
              "      fill: #FFFFFF;\n",
              "    }\n",
              "  </style>\n",
              "\n",
              "    <script>\n",
              "      const buttonEl =\n",
              "        document.querySelector('#df-ff4da704-1c13-4d04-8efc-449755c6a5da button.colab-df-convert');\n",
              "      buttonEl.style.display =\n",
              "        google.colab.kernel.accessAllowed ? 'block' : 'none';\n",
              "\n",
              "      async function convertToInteractive(key) {\n",
              "        const element = document.querySelector('#df-ff4da704-1c13-4d04-8efc-449755c6a5da');\n",
              "        const dataTable =\n",
              "          await google.colab.kernel.invokeFunction('convertToInteractive',\n",
              "                                                    [key], {});\n",
              "        if (!dataTable) return;\n",
              "\n",
              "        const docLinkHtml = 'Like what you see? Visit the ' +\n",
              "          '<a target=\"_blank\" href=https://colab.research.google.com/notebooks/data_table.ipynb>data table notebook</a>'\n",
              "          + ' to learn more about interactive tables.';\n",
              "        element.innerHTML = '';\n",
              "        dataTable['output_type'] = 'display_data';\n",
              "        await google.colab.output.renderOutput(dataTable, element);\n",
              "        const docLink = document.createElement('div');\n",
              "        docLink.innerHTML = docLinkHtml;\n",
              "        element.appendChild(docLink);\n",
              "      }\n",
              "    </script>\n",
              "  </div>\n",
              "\n",
              "\n",
              "<div id=\"df-9e81eb9f-9762-4792-834e-07ea5cbc4967\">\n",
              "  <button class=\"colab-df-quickchart\" onclick=\"quickchart('df-9e81eb9f-9762-4792-834e-07ea5cbc4967')\"\n",
              "            title=\"Suggest charts\"\n",
              "            style=\"display:none;\">\n",
              "\n",
              "<svg xmlns=\"http://www.w3.org/2000/svg\" height=\"24px\"viewBox=\"0 0 24 24\"\n",
              "     width=\"24px\">\n",
              "    <g>\n",
              "        <path d=\"M19 3H5c-1.1 0-2 .9-2 2v14c0 1.1.9 2 2 2h14c1.1 0 2-.9 2-2V5c0-1.1-.9-2-2-2zM9 17H7v-7h2v7zm4 0h-2V7h2v10zm4 0h-2v-4h2v4z\"/>\n",
              "    </g>\n",
              "</svg>\n",
              "  </button>\n",
              "\n",
              "<style>\n",
              "  .colab-df-quickchart {\n",
              "      --bg-color: #E8F0FE;\n",
              "      --fill-color: #1967D2;\n",
              "      --hover-bg-color: #E2EBFA;\n",
              "      --hover-fill-color: #174EA6;\n",
              "      --disabled-fill-color: #AAA;\n",
              "      --disabled-bg-color: #DDD;\n",
              "  }\n",
              "\n",
              "  [theme=dark] .colab-df-quickchart {\n",
              "      --bg-color: #3B4455;\n",
              "      --fill-color: #D2E3FC;\n",
              "      --hover-bg-color: #434B5C;\n",
              "      --hover-fill-color: #FFFFFF;\n",
              "      --disabled-bg-color: #3B4455;\n",
              "      --disabled-fill-color: #666;\n",
              "  }\n",
              "\n",
              "  .colab-df-quickchart {\n",
              "    background-color: var(--bg-color);\n",
              "    border: none;\n",
              "    border-radius: 50%;\n",
              "    cursor: pointer;\n",
              "    display: none;\n",
              "    fill: var(--fill-color);\n",
              "    height: 32px;\n",
              "    padding: 0;\n",
              "    width: 32px;\n",
              "  }\n",
              "\n",
              "  .colab-df-quickchart:hover {\n",
              "    background-color: var(--hover-bg-color);\n",
              "    box-shadow: 0 1px 2px rgba(60, 64, 67, 0.3), 0 1px 3px 1px rgba(60, 64, 67, 0.15);\n",
              "    fill: var(--button-hover-fill-color);\n",
              "  }\n",
              "\n",
              "  .colab-df-quickchart-complete:disabled,\n",
              "  .colab-df-quickchart-complete:disabled:hover {\n",
              "    background-color: var(--disabled-bg-color);\n",
              "    fill: var(--disabled-fill-color);\n",
              "    box-shadow: none;\n",
              "  }\n",
              "\n",
              "  .colab-df-spinner {\n",
              "    border: 2px solid var(--fill-color);\n",
              "    border-color: transparent;\n",
              "    border-bottom-color: var(--fill-color);\n",
              "    animation:\n",
              "      spin 1s steps(1) infinite;\n",
              "  }\n",
              "\n",
              "  @keyframes spin {\n",
              "    0% {\n",
              "      border-color: transparent;\n",
              "      border-bottom-color: var(--fill-color);\n",
              "      border-left-color: var(--fill-color);\n",
              "    }\n",
              "    20% {\n",
              "      border-color: transparent;\n",
              "      border-left-color: var(--fill-color);\n",
              "      border-top-color: var(--fill-color);\n",
              "    }\n",
              "    30% {\n",
              "      border-color: transparent;\n",
              "      border-left-color: var(--fill-color);\n",
              "      border-top-color: var(--fill-color);\n",
              "      border-right-color: var(--fill-color);\n",
              "    }\n",
              "    40% {\n",
              "      border-color: transparent;\n",
              "      border-right-color: var(--fill-color);\n",
              "      border-top-color: var(--fill-color);\n",
              "    }\n",
              "    60% {\n",
              "      border-color: transparent;\n",
              "      border-right-color: var(--fill-color);\n",
              "    }\n",
              "    80% {\n",
              "      border-color: transparent;\n",
              "      border-right-color: var(--fill-color);\n",
              "      border-bottom-color: var(--fill-color);\n",
              "    }\n",
              "    90% {\n",
              "      border-color: transparent;\n",
              "      border-bottom-color: var(--fill-color);\n",
              "    }\n",
              "  }\n",
              "</style>\n",
              "\n",
              "  <script>\n",
              "    async function quickchart(key) {\n",
              "      const quickchartButtonEl =\n",
              "        document.querySelector('#' + key + ' button');\n",
              "      quickchartButtonEl.disabled = true;  // To prevent multiple clicks.\n",
              "      quickchartButtonEl.classList.add('colab-df-spinner');\n",
              "      try {\n",
              "        const charts = await google.colab.kernel.invokeFunction(\n",
              "            'suggestCharts', [key], {});\n",
              "      } catch (error) {\n",
              "        console.error('Error during call to suggestCharts:', error);\n",
              "      }\n",
              "      quickchartButtonEl.classList.remove('colab-df-spinner');\n",
              "      quickchartButtonEl.classList.add('colab-df-quickchart-complete');\n",
              "    }\n",
              "    (() => {\n",
              "      let quickchartButtonEl =\n",
              "        document.querySelector('#df-9e81eb9f-9762-4792-834e-07ea5cbc4967 button');\n",
              "      quickchartButtonEl.style.display =\n",
              "        google.colab.kernel.accessAllowed ? 'block' : 'none';\n",
              "    })();\n",
              "  </script>\n",
              "</div>\n",
              "\n",
              "    </div>\n",
              "  </div>\n"
            ],
            "application/vnd.google.colaboratory.intrinsic+json": {
              "type": "dataframe",
              "variable_name": "MedicalRecords",
              "summary": "{\n  \"name\": \"MedicalRecords\",\n  \"rows\": 13,\n  \"fields\": [\n    {\n      \"column\": \"MedicalClaim\",\n      \"properties\": {\n        \"dtype\": \"string\",\n        \"num_unique_values\": 13,\n        \"samples\": [\n          \"f92bb137b39f997b\",\n          \"bd40b943533deb7b\",\n          \"01db6f5467574d6e\"\n        ],\n        \"semantic_type\": \"\",\n        \"description\": \"\"\n      }\n    },\n    {\n      \"column\": \"MemberName\",\n      \"properties\": {\n        \"dtype\": \"string\",\n        \"num_unique_values\": 7,\n        \"samples\": [\n          \"00bdc46e\",\n          \"00f62513\",\n          \"000e9b80\"\n        ],\n        \"semantic_type\": \"\",\n        \"description\": \"\"\n      }\n    },\n    {\n      \"column\": \"PrincipalDiagnosisDesc\",\n      \"properties\": {\n        \"dtype\": \"string\",\n        \"num_unique_values\": 12,\n        \"samples\": [\n          \"Sepsis unspecified organi\",\n          \"Chronic atrial fibrillati\",\n          \"Hypertensive heart diseas\"\n        ],\n        \"semantic_type\": \"\",\n        \"description\": \"\"\n      }\n    },\n    {\n      \"column\": \"PrincipalDiagnosis\",\n      \"properties\": {\n        \"dtype\": \"string\",\n        \"num_unique_values\": 12,\n        \"samples\": [\n          \"A41.9\",\n          \"I48.20\",\n          \"I11.0\"\n        ],\n        \"semantic_type\": \"\",\n        \"description\": \"\"\n      }\n    },\n    {\n      \"column\": \"TotalExpenses\",\n      \"properties\": {\n        \"dtype\": \"number\",\n        \"std\": 38433.09747211629,\n        \"min\": 1419.964,\n        \"max\": 115949.302,\n        \"num_unique_values\": 13,\n        \"samples\": [\n          115949.302,\n          23153.564000000002,\n          111436.402\n        ],\n        \"semantic_type\": \"\",\n        \"description\": \"\"\n      }\n    },\n    {\n      \"column\": \"RevenueCodeDesc\",\n      \"properties\": {\n        \"dtype\": \"string\",\n        \"num_unique_values\": 13,\n        \"samples\": [\n          \"OTHER DIAGNOSTIC SERVICES: PERIPHERAL VASCULAR LAB EKG/ECG RECOVERY ROOM DRUGS REQUIRE SPECIFIC ID: DRUGS REQUIRING DETAIL CODING PULMONARY FUNCTION PHARMACY: IV SOLUTIONS PHYSICAL THERAPY BLOOD STORAGE/PROCESSING: BLOOD ADMINISTRATION (EG. TRANSFUSION) ANESTHESIA CT SCAN RADIOLOGY - DIAGNOSTIC: CHEST X-RAY LABORATORY - CLINICAL DIAGNOSTIC: BACTERIOLOGY/MICROBIOLOGY LABORATORY - CLINICAL DIAGNOSTIC: IMMUNOLOGY BLOOD STORAGE/PROCESSING OPERATING ROOM SERVICES\",\n          \"LABORATORY - CLINICAL DIAGNOSTIC: HEMATOLOGY LABORATORY - CLINICAL DIAGNOSTIC: HEMATOLOGY PREVENTIVE CARE SERVICES: ADMIN. OF VACCINE LABORATORY - CLINICAL DIAGNOSTIC: CHEMISTRY LABORATORY - CLINICAL DIAGNOSTIC: HEMATOLOGY EKG/ECG TREATMENT/OBSERVATION ROOM: OBSERVATION ROOM RADIOLOGY - DIAGNOSTIC: CHEST X-RAY EKG/ECG LABORATORY - CLINICAL DIAGNOSTIC: HEMATOLOGY LABORATORY - CLINICAL DIAGNOSTIC: IMMUNOLOGY EMERGENCY ROOM LABORATORY - CLINICAL DIAGNOSTIC: CHEMISTRY LABORATORY - CLINICAL DIAGNOSTIC LABORATORY - CLINICAL DIAGNOSTIC: CHEMISTRY CARDIOLOGY: ECHOCARDIOLOGY DRUGS REQUIRE SPECIFIC ID: DRUGS REQUIRING DETAIL CODING LABORATORY - CLINICAL DIAGNOSTIC: CHEMISTRY DRUGS REQUIRE SPECIFIC ID: DRUGS REQUIRING DETAIL CODING OTHER THERAPEUTIC SERV LABORATORY - CLINICAL DIAGNOSTIC: HEMATOLOGY LABORATORY - CLINICAL DIAGNOSTIC: CHEMISTRY PHARMACY PHARMACY PHARMACY MEDICAL/SURGICAL SUPPLIES: STERILE SUPPLIES LABORATORY - CLINICAL DIAGNOSTIC LABORATORY - CLINICAL DIAGNOSTIC LABORATORY - CLINICAL DIAGNOSTIC: CHEMISTRY LABORATORY - CLINICAL DIAGNOSTIC: CHEMISTRY LABORATORY - CLINICAL DIAGNOSTIC: CHEMISTRY LABORATORY - CLINICAL DIAGNOSTIC: CHEMISTRY\",\n          \"LABORATORY - CLINICAL DIAGNOSTIC: UROLOGY MEDICAL/SURGICAL/GYN PULMONARY FUNCTION RADIOLOGY - DIAGNOSTIC: CHEST X-RAY PHYSICAL THERAPY: EVALUATION/RE-EVALUATION PHYSICAL THERAPY RESPIRATORY SERVICES EMERGENCY ROOM CT SCAN: HEAD LABORATORY - CLINICAL DIAGNOSTIC: BACTERIOLOGY/MICROBIOLOGY CT SCAN LABORATORY - CLINICAL DIAGNOSTIC: HEMATOLOGY PHARMACY MEDICAL/SURGICAL SUPPLIES: STERILE SUPPLIES LABORATORY - CLINICAL DIAGNOSTIC RADIOLOGY - DIAGNOSTIC PHYSICAL THERAPY: VISIT CHARGE LABORATORY - CLINICAL DIAGNOSTIC: CHEMISTRY INTERMEDIATE ICU DRUGS REQUIRE SPECIFIC ID: DRUGS REQUIRING DETAIL CODING LABORATORY - CLINICAL DIAGNOSTIC: IMMUNOLOGY EKG/ECG MEDICAL/SURGICAL SUPPLIES OTHER IMAGING SERVICES: ULTRASOUND\"\n        ],\n        \"semantic_type\": \"\",\n        \"description\": \"\"\n      }\n    }\n  ]\n}"
            }
          },
          "metadata": {},
          "execution_count": 114
        }
      ]
    },
    {
      "cell_type": "code",
      "source": [
        "# prompt: Using dataframe MedicalRecords: count number of different MemberName\n",
        "\n",
        "MedicalRecords.groupby('MemberName').count()"
      ],
      "metadata": {
        "colab": {
          "base_uri": "https://localhost:8080/",
          "height": 300
        },
        "id": "WPmOu-4ECb1n",
        "outputId": "56b0f123-8fa2-4fde-88b8-87480a769933"
      },
      "execution_count": 146,
      "outputs": [
        {
          "output_type": "execute_result",
          "data": {
            "text/plain": [
              "            MedicalClaim  PrincipalDiagnosisDesc  PrincipalDiagnosis  \\\n",
              "MemberName                                                             \n",
              "000e9b80               1                       1                   1   \n",
              "002451eb               1                       1                   1   \n",
              "003e47b4               1                       1                   1   \n",
              "00a90ae2               1                       1                   1   \n",
              "00bdc46e               3                       3                   3   \n",
              "00c10ea4               3                       3                   3   \n",
              "00f62513               3                       3                   3   \n",
              "\n",
              "            TotalExpenses  RevenueCodeDesc  MedicalInformation  \n",
              "MemberName                                                      \n",
              "000e9b80                1                1                   1  \n",
              "002451eb                1                1                   1  \n",
              "003e47b4                1                1                   1  \n",
              "00a90ae2                1                1                   1  \n",
              "00bdc46e                3                3                   3  \n",
              "00c10ea4                3                3                   3  \n",
              "00f62513                3                3                   3  "
            ],
            "text/html": [
              "\n",
              "  <div id=\"df-c4d82788-150c-495e-9811-fde90f981b29\" class=\"colab-df-container\">\n",
              "    <div>\n",
              "<style scoped>\n",
              "    .dataframe tbody tr th:only-of-type {\n",
              "        vertical-align: middle;\n",
              "    }\n",
              "\n",
              "    .dataframe tbody tr th {\n",
              "        vertical-align: top;\n",
              "    }\n",
              "\n",
              "    .dataframe thead th {\n",
              "        text-align: right;\n",
              "    }\n",
              "</style>\n",
              "<table border=\"1\" class=\"dataframe\">\n",
              "  <thead>\n",
              "    <tr style=\"text-align: right;\">\n",
              "      <th></th>\n",
              "      <th>MedicalClaim</th>\n",
              "      <th>PrincipalDiagnosisDesc</th>\n",
              "      <th>PrincipalDiagnosis</th>\n",
              "      <th>TotalExpenses</th>\n",
              "      <th>RevenueCodeDesc</th>\n",
              "      <th>MedicalInformation</th>\n",
              "    </tr>\n",
              "    <tr>\n",
              "      <th>MemberName</th>\n",
              "      <th></th>\n",
              "      <th></th>\n",
              "      <th></th>\n",
              "      <th></th>\n",
              "      <th></th>\n",
              "      <th></th>\n",
              "    </tr>\n",
              "  </thead>\n",
              "  <tbody>\n",
              "    <tr>\n",
              "      <th>000e9b80</th>\n",
              "      <td>1</td>\n",
              "      <td>1</td>\n",
              "      <td>1</td>\n",
              "      <td>1</td>\n",
              "      <td>1</td>\n",
              "      <td>1</td>\n",
              "    </tr>\n",
              "    <tr>\n",
              "      <th>002451eb</th>\n",
              "      <td>1</td>\n",
              "      <td>1</td>\n",
              "      <td>1</td>\n",
              "      <td>1</td>\n",
              "      <td>1</td>\n",
              "      <td>1</td>\n",
              "    </tr>\n",
              "    <tr>\n",
              "      <th>003e47b4</th>\n",
              "      <td>1</td>\n",
              "      <td>1</td>\n",
              "      <td>1</td>\n",
              "      <td>1</td>\n",
              "      <td>1</td>\n",
              "      <td>1</td>\n",
              "    </tr>\n",
              "    <tr>\n",
              "      <th>00a90ae2</th>\n",
              "      <td>1</td>\n",
              "      <td>1</td>\n",
              "      <td>1</td>\n",
              "      <td>1</td>\n",
              "      <td>1</td>\n",
              "      <td>1</td>\n",
              "    </tr>\n",
              "    <tr>\n",
              "      <th>00bdc46e</th>\n",
              "      <td>3</td>\n",
              "      <td>3</td>\n",
              "      <td>3</td>\n",
              "      <td>3</td>\n",
              "      <td>3</td>\n",
              "      <td>3</td>\n",
              "    </tr>\n",
              "    <tr>\n",
              "      <th>00c10ea4</th>\n",
              "      <td>3</td>\n",
              "      <td>3</td>\n",
              "      <td>3</td>\n",
              "      <td>3</td>\n",
              "      <td>3</td>\n",
              "      <td>3</td>\n",
              "    </tr>\n",
              "    <tr>\n",
              "      <th>00f62513</th>\n",
              "      <td>3</td>\n",
              "      <td>3</td>\n",
              "      <td>3</td>\n",
              "      <td>3</td>\n",
              "      <td>3</td>\n",
              "      <td>3</td>\n",
              "    </tr>\n",
              "  </tbody>\n",
              "</table>\n",
              "</div>\n",
              "    <div class=\"colab-df-buttons\">\n",
              "\n",
              "  <div class=\"colab-df-container\">\n",
              "    <button class=\"colab-df-convert\" onclick=\"convertToInteractive('df-c4d82788-150c-495e-9811-fde90f981b29')\"\n",
              "            title=\"Convert this dataframe to an interactive table.\"\n",
              "            style=\"display:none;\">\n",
              "\n",
              "  <svg xmlns=\"http://www.w3.org/2000/svg\" height=\"24px\" viewBox=\"0 -960 960 960\">\n",
              "    <path d=\"M120-120v-720h720v720H120Zm60-500h600v-160H180v160Zm220 220h160v-160H400v160Zm0 220h160v-160H400v160ZM180-400h160v-160H180v160Zm440 0h160v-160H620v160ZM180-180h160v-160H180v160Zm440 0h160v-160H620v160Z\"/>\n",
              "  </svg>\n",
              "    </button>\n",
              "\n",
              "  <style>\n",
              "    .colab-df-container {\n",
              "      display:flex;\n",
              "      gap: 12px;\n",
              "    }\n",
              "\n",
              "    .colab-df-convert {\n",
              "      background-color: #E8F0FE;\n",
              "      border: none;\n",
              "      border-radius: 50%;\n",
              "      cursor: pointer;\n",
              "      display: none;\n",
              "      fill: #1967D2;\n",
              "      height: 32px;\n",
              "      padding: 0 0 0 0;\n",
              "      width: 32px;\n",
              "    }\n",
              "\n",
              "    .colab-df-convert:hover {\n",
              "      background-color: #E2EBFA;\n",
              "      box-shadow: 0px 1px 2px rgba(60, 64, 67, 0.3), 0px 1px 3px 1px rgba(60, 64, 67, 0.15);\n",
              "      fill: #174EA6;\n",
              "    }\n",
              "\n",
              "    .colab-df-buttons div {\n",
              "      margin-bottom: 4px;\n",
              "    }\n",
              "\n",
              "    [theme=dark] .colab-df-convert {\n",
              "      background-color: #3B4455;\n",
              "      fill: #D2E3FC;\n",
              "    }\n",
              "\n",
              "    [theme=dark] .colab-df-convert:hover {\n",
              "      background-color: #434B5C;\n",
              "      box-shadow: 0px 1px 3px 1px rgba(0, 0, 0, 0.15);\n",
              "      filter: drop-shadow(0px 1px 2px rgba(0, 0, 0, 0.3));\n",
              "      fill: #FFFFFF;\n",
              "    }\n",
              "  </style>\n",
              "\n",
              "    <script>\n",
              "      const buttonEl =\n",
              "        document.querySelector('#df-c4d82788-150c-495e-9811-fde90f981b29 button.colab-df-convert');\n",
              "      buttonEl.style.display =\n",
              "        google.colab.kernel.accessAllowed ? 'block' : 'none';\n",
              "\n",
              "      async function convertToInteractive(key) {\n",
              "        const element = document.querySelector('#df-c4d82788-150c-495e-9811-fde90f981b29');\n",
              "        const dataTable =\n",
              "          await google.colab.kernel.invokeFunction('convertToInteractive',\n",
              "                                                    [key], {});\n",
              "        if (!dataTable) return;\n",
              "\n",
              "        const docLinkHtml = 'Like what you see? Visit the ' +\n",
              "          '<a target=\"_blank\" href=https://colab.research.google.com/notebooks/data_table.ipynb>data table notebook</a>'\n",
              "          + ' to learn more about interactive tables.';\n",
              "        element.innerHTML = '';\n",
              "        dataTable['output_type'] = 'display_data';\n",
              "        await google.colab.output.renderOutput(dataTable, element);\n",
              "        const docLink = document.createElement('div');\n",
              "        docLink.innerHTML = docLinkHtml;\n",
              "        element.appendChild(docLink);\n",
              "      }\n",
              "    </script>\n",
              "  </div>\n",
              "\n",
              "\n",
              "<div id=\"df-9ae994a0-44ef-4b6d-b0e6-f30cc02e6387\">\n",
              "  <button class=\"colab-df-quickchart\" onclick=\"quickchart('df-9ae994a0-44ef-4b6d-b0e6-f30cc02e6387')\"\n",
              "            title=\"Suggest charts\"\n",
              "            style=\"display:none;\">\n",
              "\n",
              "<svg xmlns=\"http://www.w3.org/2000/svg\" height=\"24px\"viewBox=\"0 0 24 24\"\n",
              "     width=\"24px\">\n",
              "    <g>\n",
              "        <path d=\"M19 3H5c-1.1 0-2 .9-2 2v14c0 1.1.9 2 2 2h14c1.1 0 2-.9 2-2V5c0-1.1-.9-2-2-2zM9 17H7v-7h2v7zm4 0h-2V7h2v10zm4 0h-2v-4h2v4z\"/>\n",
              "    </g>\n",
              "</svg>\n",
              "  </button>\n",
              "\n",
              "<style>\n",
              "  .colab-df-quickchart {\n",
              "      --bg-color: #E8F0FE;\n",
              "      --fill-color: #1967D2;\n",
              "      --hover-bg-color: #E2EBFA;\n",
              "      --hover-fill-color: #174EA6;\n",
              "      --disabled-fill-color: #AAA;\n",
              "      --disabled-bg-color: #DDD;\n",
              "  }\n",
              "\n",
              "  [theme=dark] .colab-df-quickchart {\n",
              "      --bg-color: #3B4455;\n",
              "      --fill-color: #D2E3FC;\n",
              "      --hover-bg-color: #434B5C;\n",
              "      --hover-fill-color: #FFFFFF;\n",
              "      --disabled-bg-color: #3B4455;\n",
              "      --disabled-fill-color: #666;\n",
              "  }\n",
              "\n",
              "  .colab-df-quickchart {\n",
              "    background-color: var(--bg-color);\n",
              "    border: none;\n",
              "    border-radius: 50%;\n",
              "    cursor: pointer;\n",
              "    display: none;\n",
              "    fill: var(--fill-color);\n",
              "    height: 32px;\n",
              "    padding: 0;\n",
              "    width: 32px;\n",
              "  }\n",
              "\n",
              "  .colab-df-quickchart:hover {\n",
              "    background-color: var(--hover-bg-color);\n",
              "    box-shadow: 0 1px 2px rgba(60, 64, 67, 0.3), 0 1px 3px 1px rgba(60, 64, 67, 0.15);\n",
              "    fill: var(--button-hover-fill-color);\n",
              "  }\n",
              "\n",
              "  .colab-df-quickchart-complete:disabled,\n",
              "  .colab-df-quickchart-complete:disabled:hover {\n",
              "    background-color: var(--disabled-bg-color);\n",
              "    fill: var(--disabled-fill-color);\n",
              "    box-shadow: none;\n",
              "  }\n",
              "\n",
              "  .colab-df-spinner {\n",
              "    border: 2px solid var(--fill-color);\n",
              "    border-color: transparent;\n",
              "    border-bottom-color: var(--fill-color);\n",
              "    animation:\n",
              "      spin 1s steps(1) infinite;\n",
              "  }\n",
              "\n",
              "  @keyframes spin {\n",
              "    0% {\n",
              "      border-color: transparent;\n",
              "      border-bottom-color: var(--fill-color);\n",
              "      border-left-color: var(--fill-color);\n",
              "    }\n",
              "    20% {\n",
              "      border-color: transparent;\n",
              "      border-left-color: var(--fill-color);\n",
              "      border-top-color: var(--fill-color);\n",
              "    }\n",
              "    30% {\n",
              "      border-color: transparent;\n",
              "      border-left-color: var(--fill-color);\n",
              "      border-top-color: var(--fill-color);\n",
              "      border-right-color: var(--fill-color);\n",
              "    }\n",
              "    40% {\n",
              "      border-color: transparent;\n",
              "      border-right-color: var(--fill-color);\n",
              "      border-top-color: var(--fill-color);\n",
              "    }\n",
              "    60% {\n",
              "      border-color: transparent;\n",
              "      border-right-color: var(--fill-color);\n",
              "    }\n",
              "    80% {\n",
              "      border-color: transparent;\n",
              "      border-right-color: var(--fill-color);\n",
              "      border-bottom-color: var(--fill-color);\n",
              "    }\n",
              "    90% {\n",
              "      border-color: transparent;\n",
              "      border-bottom-color: var(--fill-color);\n",
              "    }\n",
              "  }\n",
              "</style>\n",
              "\n",
              "  <script>\n",
              "    async function quickchart(key) {\n",
              "      const quickchartButtonEl =\n",
              "        document.querySelector('#' + key + ' button');\n",
              "      quickchartButtonEl.disabled = true;  // To prevent multiple clicks.\n",
              "      quickchartButtonEl.classList.add('colab-df-spinner');\n",
              "      try {\n",
              "        const charts = await google.colab.kernel.invokeFunction(\n",
              "            'suggestCharts', [key], {});\n",
              "      } catch (error) {\n",
              "        console.error('Error during call to suggestCharts:', error);\n",
              "      }\n",
              "      quickchartButtonEl.classList.remove('colab-df-spinner');\n",
              "      quickchartButtonEl.classList.add('colab-df-quickchart-complete');\n",
              "    }\n",
              "    (() => {\n",
              "      let quickchartButtonEl =\n",
              "        document.querySelector('#df-9ae994a0-44ef-4b6d-b0e6-f30cc02e6387 button');\n",
              "      quickchartButtonEl.style.display =\n",
              "        google.colab.kernel.accessAllowed ? 'block' : 'none';\n",
              "    })();\n",
              "  </script>\n",
              "</div>\n",
              "\n",
              "    </div>\n",
              "  </div>\n"
            ],
            "application/vnd.google.colaboratory.intrinsic+json": {
              "type": "dataframe",
              "summary": "{\n  \"name\": \"MedicalRecords\",\n  \"rows\": 7,\n  \"fields\": [\n    {\n      \"column\": \"MemberName\",\n      \"properties\": {\n        \"dtype\": \"string\",\n        \"num_unique_values\": 7,\n        \"samples\": [\n          \"000e9b80\",\n          \"002451eb\",\n          \"00c10ea4\"\n        ],\n        \"semantic_type\": \"\",\n        \"description\": \"\"\n      }\n    },\n    {\n      \"column\": \"MedicalClaim\",\n      \"properties\": {\n        \"dtype\": \"number\",\n        \"std\": 1,\n        \"min\": 1,\n        \"max\": 3,\n        \"num_unique_values\": 2,\n        \"samples\": [\n          3,\n          1\n        ],\n        \"semantic_type\": \"\",\n        \"description\": \"\"\n      }\n    },\n    {\n      \"column\": \"PrincipalDiagnosisDesc\",\n      \"properties\": {\n        \"dtype\": \"number\",\n        \"std\": 1,\n        \"min\": 1,\n        \"max\": 3,\n        \"num_unique_values\": 2,\n        \"samples\": [\n          3,\n          1\n        ],\n        \"semantic_type\": \"\",\n        \"description\": \"\"\n      }\n    },\n    {\n      \"column\": \"PrincipalDiagnosis\",\n      \"properties\": {\n        \"dtype\": \"number\",\n        \"std\": 1,\n        \"min\": 1,\n        \"max\": 3,\n        \"num_unique_values\": 2,\n        \"samples\": [\n          3,\n          1\n        ],\n        \"semantic_type\": \"\",\n        \"description\": \"\"\n      }\n    },\n    {\n      \"column\": \"TotalExpenses\",\n      \"properties\": {\n        \"dtype\": \"number\",\n        \"std\": 1,\n        \"min\": 1,\n        \"max\": 3,\n        \"num_unique_values\": 2,\n        \"samples\": [\n          3,\n          1\n        ],\n        \"semantic_type\": \"\",\n        \"description\": \"\"\n      }\n    },\n    {\n      \"column\": \"RevenueCodeDesc\",\n      \"properties\": {\n        \"dtype\": \"number\",\n        \"std\": 1,\n        \"min\": 1,\n        \"max\": 3,\n        \"num_unique_values\": 2,\n        \"samples\": [\n          3,\n          1\n        ],\n        \"semantic_type\": \"\",\n        \"description\": \"\"\n      }\n    },\n    {\n      \"column\": \"MedicalInformation\",\n      \"properties\": {\n        \"dtype\": \"number\",\n        \"std\": 1,\n        \"min\": 1,\n        \"max\": 3,\n        \"num_unique_values\": 2,\n        \"samples\": [\n          3,\n          1\n        ],\n        \"semantic_type\": \"\",\n        \"description\": \"\"\n      }\n    }\n  ]\n}"
            }
          },
          "metadata": {},
          "execution_count": 146
        }
      ]
    },
    {
      "cell_type": "code",
      "source": [],
      "metadata": {
        "id": "ETWG8q54CbQF"
      },
      "execution_count": null,
      "outputs": []
    },
    {
      "cell_type": "code",
      "source": [
        "MedicalRecords=MedicalRecords.astype(str)"
      ],
      "metadata": {
        "id": "sqHJff_9ABTQ"
      },
      "execution_count": 115,
      "outputs": []
    },
    {
      "cell_type": "code",
      "source": [
        "MedicalRecords['MedicalInformation']='MedicalClaim: '+MedicalRecords['MedicalClaim']+ ' # ' +'MemberName: ' +MedicalRecords['MemberName']+ ' # ' +'PrincipalDiagnosisDesc: ' +MedicalRecords['PrincipalDiagnosisDesc']+ ' # ' +'PrincipalDiagnosis: ' +MedicalRecords['PrincipalDiagnosis']+ ' # ' +'TotalExpenses: ' +MedicalRecords['TotalExpenses']+ ' # ' +'RevenueCodeDesc: ' +MedicalRecords['RevenueCodeDesc']\n",
        "\n"
      ],
      "metadata": {
        "id": "t-QqqUTg_ZdZ"
      },
      "execution_count": 120,
      "outputs": []
    },
    {
      "cell_type": "code",
      "source": [
        "MedicalRecords.head(2)"
      ],
      "metadata": {
        "colab": {
          "base_uri": "https://localhost:8080/",
          "height": 477
        },
        "id": "IV48jrNZ_ZaT",
        "outputId": "6fa8df8d-d4c9-44b2-ff64-52123e10d857"
      },
      "execution_count": 121,
      "outputs": [
        {
          "output_type": "execute_result",
          "data": {
            "text/plain": [
              "       MedicalClaim MemberName     PrincipalDiagnosisDesc PrincipalDiagnosis  \\\n",
              "0  01db6f5467574d6e   00bdc46e  Hypertensive heart diseas              I11.0   \n",
              "1  11c6f93bdbb127d8   00f62513             Rectal abscess              K61.1   \n",
              "\n",
              "        TotalExpenses  \\\n",
              "0          111436.402   \n",
              "1  46470.151000000005   \n",
              "\n",
              "                                                                                                                                                                                                                                                                                               RevenueCodeDesc  \\\n",
              "0  LABORATORY - CLINICAL DIAGNOSTIC: UROLOGY MEDICAL/SURGICAL/GYN PULMONARY FUNCTION RADIOLOGY - DIAGNOSTIC: CHEST X-RAY PHYSICAL THERAPY: EVALUATION/RE-EVALUATION PHYSICAL THERAPY RESPIRATORY SERVICES EMERGENCY ROOM CT SCAN: HEAD LABORATORY - CLINICAL DIAGNOSTIC: BACTERIOLOGY/MICROBIOLOGY CT SCAN ...   \n",
              "1                                                                                                                                                                                                                                  EKG/ECG BLOOD STORAGE/PROCESSING ANESTHESIA OPERATING ROOM SERVICES CT SCAN   \n",
              "\n",
              "                                                                                                                                                                                                                                                                                            MedicalInformation  \n",
              "0  MedicalClaim: 01db6f5467574d6e # MemberName: 00bdc46e # PrincipalDiagnosisDesc: Hypertensive heart diseas # PrincipalDiagnosis: I11.0 # TotalExpenses: 111436.402 # RevenueCodeDesc: LABORATORY - CLINICAL DIAGNOSTIC: UROLOGY MEDICAL/SURGICAL/GYN PULMONARY FUNCTION RADIOLOGY - DIAGNOSTIC: CHEST X-R...  \n",
              "1                                                MedicalClaim: 11c6f93bdbb127d8 # MemberName: 00f62513 # PrincipalDiagnosisDesc: Rectal abscess # PrincipalDiagnosis: K61.1 # TotalExpenses: 46470.151000000005 # RevenueCodeDesc: EKG/ECG BLOOD STORAGE/PROCESSING ANESTHESIA OPERATING ROOM SERVICES CT SCAN  "
            ],
            "text/html": [
              "\n",
              "  <div id=\"df-9dea3dcf-9ac2-47ae-a073-28dbe569f607\" class=\"colab-df-container\">\n",
              "    <div>\n",
              "<style scoped>\n",
              "    .dataframe tbody tr th:only-of-type {\n",
              "        vertical-align: middle;\n",
              "    }\n",
              "\n",
              "    .dataframe tbody tr th {\n",
              "        vertical-align: top;\n",
              "    }\n",
              "\n",
              "    .dataframe thead th {\n",
              "        text-align: right;\n",
              "    }\n",
              "</style>\n",
              "<table border=\"1\" class=\"dataframe\">\n",
              "  <thead>\n",
              "    <tr style=\"text-align: right;\">\n",
              "      <th></th>\n",
              "      <th>MedicalClaim</th>\n",
              "      <th>MemberName</th>\n",
              "      <th>PrincipalDiagnosisDesc</th>\n",
              "      <th>PrincipalDiagnosis</th>\n",
              "      <th>TotalExpenses</th>\n",
              "      <th>RevenueCodeDesc</th>\n",
              "      <th>MedicalInformation</th>\n",
              "    </tr>\n",
              "  </thead>\n",
              "  <tbody>\n",
              "    <tr>\n",
              "      <th>0</th>\n",
              "      <td>01db6f5467574d6e</td>\n",
              "      <td>00bdc46e</td>\n",
              "      <td>Hypertensive heart diseas</td>\n",
              "      <td>I11.0</td>\n",
              "      <td>111436.402</td>\n",
              "      <td>LABORATORY - CLINICAL DIAGNOSTIC: UROLOGY MEDICAL/SURGICAL/GYN PULMONARY FUNCTION RADIOLOGY - DIAGNOSTIC: CHEST X-RAY PHYSICAL THERAPY: EVALUATION/RE-EVALUATION PHYSICAL THERAPY RESPIRATORY SERVICES EMERGENCY ROOM CT SCAN: HEAD LABORATORY - CLINICAL DIAGNOSTIC: BACTERIOLOGY/MICROBIOLOGY CT SCAN ...</td>\n",
              "      <td>MedicalClaim: 01db6f5467574d6e # MemberName: 00bdc46e # PrincipalDiagnosisDesc: Hypertensive heart diseas # PrincipalDiagnosis: I11.0 # TotalExpenses: 111436.402 # RevenueCodeDesc: LABORATORY - CLINICAL DIAGNOSTIC: UROLOGY MEDICAL/SURGICAL/GYN PULMONARY FUNCTION RADIOLOGY - DIAGNOSTIC: CHEST X-R...</td>\n",
              "    </tr>\n",
              "    <tr>\n",
              "      <th>1</th>\n",
              "      <td>11c6f93bdbb127d8</td>\n",
              "      <td>00f62513</td>\n",
              "      <td>Rectal abscess</td>\n",
              "      <td>K61.1</td>\n",
              "      <td>46470.151000000005</td>\n",
              "      <td>EKG/ECG BLOOD STORAGE/PROCESSING ANESTHESIA OPERATING ROOM SERVICES CT SCAN</td>\n",
              "      <td>MedicalClaim: 11c6f93bdbb127d8 # MemberName: 00f62513 # PrincipalDiagnosisDesc: Rectal abscess # PrincipalDiagnosis: K61.1 # TotalExpenses: 46470.151000000005 # RevenueCodeDesc: EKG/ECG BLOOD STORAGE/PROCESSING ANESTHESIA OPERATING ROOM SERVICES CT SCAN</td>\n",
              "    </tr>\n",
              "  </tbody>\n",
              "</table>\n",
              "</div>\n",
              "    <div class=\"colab-df-buttons\">\n",
              "\n",
              "  <div class=\"colab-df-container\">\n",
              "    <button class=\"colab-df-convert\" onclick=\"convertToInteractive('df-9dea3dcf-9ac2-47ae-a073-28dbe569f607')\"\n",
              "            title=\"Convert this dataframe to an interactive table.\"\n",
              "            style=\"display:none;\">\n",
              "\n",
              "  <svg xmlns=\"http://www.w3.org/2000/svg\" height=\"24px\" viewBox=\"0 -960 960 960\">\n",
              "    <path d=\"M120-120v-720h720v720H120Zm60-500h600v-160H180v160Zm220 220h160v-160H400v160Zm0 220h160v-160H400v160ZM180-400h160v-160H180v160Zm440 0h160v-160H620v160ZM180-180h160v-160H180v160Zm440 0h160v-160H620v160Z\"/>\n",
              "  </svg>\n",
              "    </button>\n",
              "\n",
              "  <style>\n",
              "    .colab-df-container {\n",
              "      display:flex;\n",
              "      gap: 12px;\n",
              "    }\n",
              "\n",
              "    .colab-df-convert {\n",
              "      background-color: #E8F0FE;\n",
              "      border: none;\n",
              "      border-radius: 50%;\n",
              "      cursor: pointer;\n",
              "      display: none;\n",
              "      fill: #1967D2;\n",
              "      height: 32px;\n",
              "      padding: 0 0 0 0;\n",
              "      width: 32px;\n",
              "    }\n",
              "\n",
              "    .colab-df-convert:hover {\n",
              "      background-color: #E2EBFA;\n",
              "      box-shadow: 0px 1px 2px rgba(60, 64, 67, 0.3), 0px 1px 3px 1px rgba(60, 64, 67, 0.15);\n",
              "      fill: #174EA6;\n",
              "    }\n",
              "\n",
              "    .colab-df-buttons div {\n",
              "      margin-bottom: 4px;\n",
              "    }\n",
              "\n",
              "    [theme=dark] .colab-df-convert {\n",
              "      background-color: #3B4455;\n",
              "      fill: #D2E3FC;\n",
              "    }\n",
              "\n",
              "    [theme=dark] .colab-df-convert:hover {\n",
              "      background-color: #434B5C;\n",
              "      box-shadow: 0px 1px 3px 1px rgba(0, 0, 0, 0.15);\n",
              "      filter: drop-shadow(0px 1px 2px rgba(0, 0, 0, 0.3));\n",
              "      fill: #FFFFFF;\n",
              "    }\n",
              "  </style>\n",
              "\n",
              "    <script>\n",
              "      const buttonEl =\n",
              "        document.querySelector('#df-9dea3dcf-9ac2-47ae-a073-28dbe569f607 button.colab-df-convert');\n",
              "      buttonEl.style.display =\n",
              "        google.colab.kernel.accessAllowed ? 'block' : 'none';\n",
              "\n",
              "      async function convertToInteractive(key) {\n",
              "        const element = document.querySelector('#df-9dea3dcf-9ac2-47ae-a073-28dbe569f607');\n",
              "        const dataTable =\n",
              "          await google.colab.kernel.invokeFunction('convertToInteractive',\n",
              "                                                    [key], {});\n",
              "        if (!dataTable) return;\n",
              "\n",
              "        const docLinkHtml = 'Like what you see? Visit the ' +\n",
              "          '<a target=\"_blank\" href=https://colab.research.google.com/notebooks/data_table.ipynb>data table notebook</a>'\n",
              "          + ' to learn more about interactive tables.';\n",
              "        element.innerHTML = '';\n",
              "        dataTable['output_type'] = 'display_data';\n",
              "        await google.colab.output.renderOutput(dataTable, element);\n",
              "        const docLink = document.createElement('div');\n",
              "        docLink.innerHTML = docLinkHtml;\n",
              "        element.appendChild(docLink);\n",
              "      }\n",
              "    </script>\n",
              "  </div>\n",
              "\n",
              "\n",
              "<div id=\"df-14243501-a1e5-499f-8f36-5feaf80949c1\">\n",
              "  <button class=\"colab-df-quickchart\" onclick=\"quickchart('df-14243501-a1e5-499f-8f36-5feaf80949c1')\"\n",
              "            title=\"Suggest charts\"\n",
              "            style=\"display:none;\">\n",
              "\n",
              "<svg xmlns=\"http://www.w3.org/2000/svg\" height=\"24px\"viewBox=\"0 0 24 24\"\n",
              "     width=\"24px\">\n",
              "    <g>\n",
              "        <path d=\"M19 3H5c-1.1 0-2 .9-2 2v14c0 1.1.9 2 2 2h14c1.1 0 2-.9 2-2V5c0-1.1-.9-2-2-2zM9 17H7v-7h2v7zm4 0h-2V7h2v10zm4 0h-2v-4h2v4z\"/>\n",
              "    </g>\n",
              "</svg>\n",
              "  </button>\n",
              "\n",
              "<style>\n",
              "  .colab-df-quickchart {\n",
              "      --bg-color: #E8F0FE;\n",
              "      --fill-color: #1967D2;\n",
              "      --hover-bg-color: #E2EBFA;\n",
              "      --hover-fill-color: #174EA6;\n",
              "      --disabled-fill-color: #AAA;\n",
              "      --disabled-bg-color: #DDD;\n",
              "  }\n",
              "\n",
              "  [theme=dark] .colab-df-quickchart {\n",
              "      --bg-color: #3B4455;\n",
              "      --fill-color: #D2E3FC;\n",
              "      --hover-bg-color: #434B5C;\n",
              "      --hover-fill-color: #FFFFFF;\n",
              "      --disabled-bg-color: #3B4455;\n",
              "      --disabled-fill-color: #666;\n",
              "  }\n",
              "\n",
              "  .colab-df-quickchart {\n",
              "    background-color: var(--bg-color);\n",
              "    border: none;\n",
              "    border-radius: 50%;\n",
              "    cursor: pointer;\n",
              "    display: none;\n",
              "    fill: var(--fill-color);\n",
              "    height: 32px;\n",
              "    padding: 0;\n",
              "    width: 32px;\n",
              "  }\n",
              "\n",
              "  .colab-df-quickchart:hover {\n",
              "    background-color: var(--hover-bg-color);\n",
              "    box-shadow: 0 1px 2px rgba(60, 64, 67, 0.3), 0 1px 3px 1px rgba(60, 64, 67, 0.15);\n",
              "    fill: var(--button-hover-fill-color);\n",
              "  }\n",
              "\n",
              "  .colab-df-quickchart-complete:disabled,\n",
              "  .colab-df-quickchart-complete:disabled:hover {\n",
              "    background-color: var(--disabled-bg-color);\n",
              "    fill: var(--disabled-fill-color);\n",
              "    box-shadow: none;\n",
              "  }\n",
              "\n",
              "  .colab-df-spinner {\n",
              "    border: 2px solid var(--fill-color);\n",
              "    border-color: transparent;\n",
              "    border-bottom-color: var(--fill-color);\n",
              "    animation:\n",
              "      spin 1s steps(1) infinite;\n",
              "  }\n",
              "\n",
              "  @keyframes spin {\n",
              "    0% {\n",
              "      border-color: transparent;\n",
              "      border-bottom-color: var(--fill-color);\n",
              "      border-left-color: var(--fill-color);\n",
              "    }\n",
              "    20% {\n",
              "      border-color: transparent;\n",
              "      border-left-color: var(--fill-color);\n",
              "      border-top-color: var(--fill-color);\n",
              "    }\n",
              "    30% {\n",
              "      border-color: transparent;\n",
              "      border-left-color: var(--fill-color);\n",
              "      border-top-color: var(--fill-color);\n",
              "      border-right-color: var(--fill-color);\n",
              "    }\n",
              "    40% {\n",
              "      border-color: transparent;\n",
              "      border-right-color: var(--fill-color);\n",
              "      border-top-color: var(--fill-color);\n",
              "    }\n",
              "    60% {\n",
              "      border-color: transparent;\n",
              "      border-right-color: var(--fill-color);\n",
              "    }\n",
              "    80% {\n",
              "      border-color: transparent;\n",
              "      border-right-color: var(--fill-color);\n",
              "      border-bottom-color: var(--fill-color);\n",
              "    }\n",
              "    90% {\n",
              "      border-color: transparent;\n",
              "      border-bottom-color: var(--fill-color);\n",
              "    }\n",
              "  }\n",
              "</style>\n",
              "\n",
              "  <script>\n",
              "    async function quickchart(key) {\n",
              "      const quickchartButtonEl =\n",
              "        document.querySelector('#' + key + ' button');\n",
              "      quickchartButtonEl.disabled = true;  // To prevent multiple clicks.\n",
              "      quickchartButtonEl.classList.add('colab-df-spinner');\n",
              "      try {\n",
              "        const charts = await google.colab.kernel.invokeFunction(\n",
              "            'suggestCharts', [key], {});\n",
              "      } catch (error) {\n",
              "        console.error('Error during call to suggestCharts:', error);\n",
              "      }\n",
              "      quickchartButtonEl.classList.remove('colab-df-spinner');\n",
              "      quickchartButtonEl.classList.add('colab-df-quickchart-complete');\n",
              "    }\n",
              "    (() => {\n",
              "      let quickchartButtonEl =\n",
              "        document.querySelector('#df-14243501-a1e5-499f-8f36-5feaf80949c1 button');\n",
              "      quickchartButtonEl.style.display =\n",
              "        google.colab.kernel.accessAllowed ? 'block' : 'none';\n",
              "    })();\n",
              "  </script>\n",
              "</div>\n",
              "\n",
              "    </div>\n",
              "  </div>\n"
            ],
            "application/vnd.google.colaboratory.intrinsic+json": {
              "type": "dataframe",
              "variable_name": "MedicalRecords",
              "summary": "{\n  \"name\": \"MedicalRecords\",\n  \"rows\": 13,\n  \"fields\": [\n    {\n      \"column\": \"MedicalClaim\",\n      \"properties\": {\n        \"dtype\": \"string\",\n        \"num_unique_values\": 13,\n        \"samples\": [\n          \"f92bb137b39f997b\",\n          \"bd40b943533deb7b\",\n          \"01db6f5467574d6e\"\n        ],\n        \"semantic_type\": \"\",\n        \"description\": \"\"\n      }\n    },\n    {\n      \"column\": \"MemberName\",\n      \"properties\": {\n        \"dtype\": \"string\",\n        \"num_unique_values\": 7,\n        \"samples\": [\n          \"00bdc46e\",\n          \"00f62513\",\n          \"000e9b80\"\n        ],\n        \"semantic_type\": \"\",\n        \"description\": \"\"\n      }\n    },\n    {\n      \"column\": \"PrincipalDiagnosisDesc\",\n      \"properties\": {\n        \"dtype\": \"string\",\n        \"num_unique_values\": 12,\n        \"samples\": [\n          \"Sepsis unspecified organi\",\n          \"Chronic atrial fibrillati\",\n          \"Hypertensive heart diseas\"\n        ],\n        \"semantic_type\": \"\",\n        \"description\": \"\"\n      }\n    },\n    {\n      \"column\": \"PrincipalDiagnosis\",\n      \"properties\": {\n        \"dtype\": \"string\",\n        \"num_unique_values\": 12,\n        \"samples\": [\n          \"A41.9\",\n          \"I48.20\",\n          \"I11.0\"\n        ],\n        \"semantic_type\": \"\",\n        \"description\": \"\"\n      }\n    },\n    {\n      \"column\": \"TotalExpenses\",\n      \"properties\": {\n        \"dtype\": \"string\",\n        \"num_unique_values\": 13,\n        \"samples\": [\n          \"115949.302\",\n          \"23153.564000000002\",\n          \"111436.402\"\n        ],\n        \"semantic_type\": \"\",\n        \"description\": \"\"\n      }\n    },\n    {\n      \"column\": \"RevenueCodeDesc\",\n      \"properties\": {\n        \"dtype\": \"string\",\n        \"num_unique_values\": 13,\n        \"samples\": [\n          \"OTHER DIAGNOSTIC SERVICES: PERIPHERAL VASCULAR LAB EKG/ECG RECOVERY ROOM DRUGS REQUIRE SPECIFIC ID: DRUGS REQUIRING DETAIL CODING PULMONARY FUNCTION PHARMACY: IV SOLUTIONS PHYSICAL THERAPY BLOOD STORAGE/PROCESSING: BLOOD ADMINISTRATION (EG. TRANSFUSION) ANESTHESIA CT SCAN RADIOLOGY - DIAGNOSTIC: CHEST X-RAY LABORATORY - CLINICAL DIAGNOSTIC: BACTERIOLOGY/MICROBIOLOGY LABORATORY - CLINICAL DIAGNOSTIC: IMMUNOLOGY BLOOD STORAGE/PROCESSING OPERATING ROOM SERVICES\",\n          \"LABORATORY - CLINICAL DIAGNOSTIC: HEMATOLOGY LABORATORY - CLINICAL DIAGNOSTIC: HEMATOLOGY PREVENTIVE CARE SERVICES: ADMIN. OF VACCINE LABORATORY - CLINICAL DIAGNOSTIC: CHEMISTRY LABORATORY - CLINICAL DIAGNOSTIC: HEMATOLOGY EKG/ECG TREATMENT/OBSERVATION ROOM: OBSERVATION ROOM RADIOLOGY - DIAGNOSTIC: CHEST X-RAY EKG/ECG LABORATORY - CLINICAL DIAGNOSTIC: HEMATOLOGY LABORATORY - CLINICAL DIAGNOSTIC: IMMUNOLOGY EMERGENCY ROOM LABORATORY - CLINICAL DIAGNOSTIC: CHEMISTRY LABORATORY - CLINICAL DIAGNOSTIC LABORATORY - CLINICAL DIAGNOSTIC: CHEMISTRY CARDIOLOGY: ECHOCARDIOLOGY DRUGS REQUIRE SPECIFIC ID: DRUGS REQUIRING DETAIL CODING LABORATORY - CLINICAL DIAGNOSTIC: CHEMISTRY DRUGS REQUIRE SPECIFIC ID: DRUGS REQUIRING DETAIL CODING OTHER THERAPEUTIC SERV LABORATORY - CLINICAL DIAGNOSTIC: HEMATOLOGY LABORATORY - CLINICAL DIAGNOSTIC: CHEMISTRY PHARMACY PHARMACY PHARMACY MEDICAL/SURGICAL SUPPLIES: STERILE SUPPLIES LABORATORY - CLINICAL DIAGNOSTIC LABORATORY - CLINICAL DIAGNOSTIC LABORATORY - CLINICAL DIAGNOSTIC: CHEMISTRY LABORATORY - CLINICAL DIAGNOSTIC: CHEMISTRY LABORATORY - CLINICAL DIAGNOSTIC: CHEMISTRY LABORATORY - CLINICAL DIAGNOSTIC: CHEMISTRY\",\n          \"LABORATORY - CLINICAL DIAGNOSTIC: UROLOGY MEDICAL/SURGICAL/GYN PULMONARY FUNCTION RADIOLOGY - DIAGNOSTIC: CHEST X-RAY PHYSICAL THERAPY: EVALUATION/RE-EVALUATION PHYSICAL THERAPY RESPIRATORY SERVICES EMERGENCY ROOM CT SCAN: HEAD LABORATORY - CLINICAL DIAGNOSTIC: BACTERIOLOGY/MICROBIOLOGY CT SCAN LABORATORY - CLINICAL DIAGNOSTIC: HEMATOLOGY PHARMACY MEDICAL/SURGICAL SUPPLIES: STERILE SUPPLIES LABORATORY - CLINICAL DIAGNOSTIC RADIOLOGY - DIAGNOSTIC PHYSICAL THERAPY: VISIT CHARGE LABORATORY - CLINICAL DIAGNOSTIC: CHEMISTRY INTERMEDIATE ICU DRUGS REQUIRE SPECIFIC ID: DRUGS REQUIRING DETAIL CODING LABORATORY - CLINICAL DIAGNOSTIC: IMMUNOLOGY EKG/ECG MEDICAL/SURGICAL SUPPLIES OTHER IMAGING SERVICES: ULTRASOUND\"\n        ],\n        \"semantic_type\": \"\",\n        \"description\": \"\"\n      }\n    },\n    {\n      \"column\": \"MedicalInformation\",\n      \"properties\": {\n        \"dtype\": \"string\",\n        \"num_unique_values\": 13,\n        \"samples\": [\n          \"MedicalClaim: f92bb137b39f997b # MemberName: 00f62513 # PrincipalDiagnosisDesc: Sepsis unspecified organi # PrincipalDiagnosis: A41.9 # TotalExpenses: 115949.302 # RevenueCodeDesc: OTHER DIAGNOSTIC SERVICES: PERIPHERAL VASCULAR LAB EKG/ECG RECOVERY ROOM DRUGS REQUIRE SPECIFIC ID: DRUGS REQUIRING DETAIL CODING PULMONARY FUNCTION PHARMACY: IV SOLUTIONS PHYSICAL THERAPY BLOOD STORAGE/PROCESSING: BLOOD ADMINISTRATION (EG. TRANSFUSION) ANESTHESIA CT SCAN RADIOLOGY - DIAGNOSTIC: CHEST X-RAY LABORATORY - CLINICAL DIAGNOSTIC: BACTERIOLOGY/MICROBIOLOGY LABORATORY - CLINICAL DIAGNOSTIC: IMMUNOLOGY BLOOD STORAGE/PROCESSING OPERATING ROOM SERVICES\",\n          \"MedicalClaim: bd40b943533deb7b # MemberName: 002451eb # PrincipalDiagnosisDesc: Chronic atrial fibrillati # PrincipalDiagnosis: I48.20 # TotalExpenses: 23153.564000000002 # RevenueCodeDesc: LABORATORY - CLINICAL DIAGNOSTIC: HEMATOLOGY LABORATORY - CLINICAL DIAGNOSTIC: HEMATOLOGY PREVENTIVE CARE SERVICES: ADMIN. OF VACCINE LABORATORY - CLINICAL DIAGNOSTIC: CHEMISTRY LABORATORY - CLINICAL DIAGNOSTIC: HEMATOLOGY EKG/ECG TREATMENT/OBSERVATION ROOM: OBSERVATION ROOM RADIOLOGY - DIAGNOSTIC: CHEST X-RAY EKG/ECG LABORATORY - CLINICAL DIAGNOSTIC: HEMATOLOGY LABORATORY - CLINICAL DIAGNOSTIC: IMMUNOLOGY EMERGENCY ROOM LABORATORY - CLINICAL DIAGNOSTIC: CHEMISTRY LABORATORY - CLINICAL DIAGNOSTIC LABORATORY - CLINICAL DIAGNOSTIC: CHEMISTRY CARDIOLOGY: ECHOCARDIOLOGY DRUGS REQUIRE SPECIFIC ID: DRUGS REQUIRING DETAIL CODING LABORATORY - CLINICAL DIAGNOSTIC: CHEMISTRY DRUGS REQUIRE SPECIFIC ID: DRUGS REQUIRING DETAIL CODING OTHER THERAPEUTIC SERV LABORATORY - CLINICAL DIAGNOSTIC: HEMATOLOGY LABORATORY - CLINICAL DIAGNOSTIC: CHEMISTRY PHARMACY PHARMACY PHARMACY MEDICAL/SURGICAL SUPPLIES: STERILE SUPPLIES LABORATORY - CLINICAL DIAGNOSTIC LABORATORY - CLINICAL DIAGNOSTIC LABORATORY - CLINICAL DIAGNOSTIC: CHEMISTRY LABORATORY - CLINICAL DIAGNOSTIC: CHEMISTRY LABORATORY - CLINICAL DIAGNOSTIC: CHEMISTRY LABORATORY - CLINICAL DIAGNOSTIC: CHEMISTRY\",\n          \"MedicalClaim: 01db6f5467574d6e # MemberName: 00bdc46e # PrincipalDiagnosisDesc: Hypertensive heart diseas # PrincipalDiagnosis: I11.0 # TotalExpenses: 111436.402 # RevenueCodeDesc: LABORATORY - CLINICAL DIAGNOSTIC: UROLOGY MEDICAL/SURGICAL/GYN PULMONARY FUNCTION RADIOLOGY - DIAGNOSTIC: CHEST X-RAY PHYSICAL THERAPY: EVALUATION/RE-EVALUATION PHYSICAL THERAPY RESPIRATORY SERVICES EMERGENCY ROOM CT SCAN: HEAD LABORATORY - CLINICAL DIAGNOSTIC: BACTERIOLOGY/MICROBIOLOGY CT SCAN LABORATORY - CLINICAL DIAGNOSTIC: HEMATOLOGY PHARMACY MEDICAL/SURGICAL SUPPLIES: STERILE SUPPLIES LABORATORY - CLINICAL DIAGNOSTIC RADIOLOGY - DIAGNOSTIC PHYSICAL THERAPY: VISIT CHARGE LABORATORY - CLINICAL DIAGNOSTIC: CHEMISTRY INTERMEDIATE ICU DRUGS REQUIRE SPECIFIC ID: DRUGS REQUIRING DETAIL CODING LABORATORY - CLINICAL DIAGNOSTIC: IMMUNOLOGY EKG/ECG MEDICAL/SURGICAL SUPPLIES OTHER IMAGING SERVICES: ULTRASOUND\"\n        ],\n        \"semantic_type\": \"\",\n        \"description\": \"\"\n      }\n    }\n  ]\n}"
            }
          },
          "metadata": {},
          "execution_count": 121
        }
      ]
    },
    {
      "cell_type": "code",
      "source": [
        "loader = DataFrameLoader(MedicalRecords, page_content_column='MedicalInformation')"
      ],
      "metadata": {
        "id": "e2h0mfWb4qVI"
      },
      "execution_count": 122,
      "outputs": []
    },
    {
      "cell_type": "code",
      "source": [
        "MedicalRecordsCatalog=loader.load()"
      ],
      "metadata": {
        "id": "jl31IYjDxDLb"
      },
      "execution_count": 123,
      "outputs": []
    },
    {
      "cell_type": "code",
      "source": [
        "len(MedicalRecordsCatalog)"
      ],
      "metadata": {
        "colab": {
          "base_uri": "https://localhost:8080/"
        },
        "id": "XqxpLYJr6G06",
        "outputId": "6b62798f-9039-4b7c-cfe7-740ae4801444"
      },
      "execution_count": 124,
      "outputs": [
        {
          "output_type": "execute_result",
          "data": {
            "text/plain": [
              "13"
            ]
          },
          "metadata": {},
          "execution_count": 124
        }
      ]
    },
    {
      "cell_type": "code",
      "source": [
        "MedicalRecordsCatalog[0]"
      ],
      "metadata": {
        "colab": {
          "base_uri": "https://localhost:8080/"
        },
        "id": "n9g7qu1P5AxF",
        "outputId": "6a437940-3c68-4c42-ce66-422384dc0773"
      },
      "execution_count": 125,
      "outputs": [
        {
          "output_type": "execute_result",
          "data": {
            "text/plain": [
              "Document(metadata={'MedicalClaim': '01db6f5467574d6e', 'MemberName': '00bdc46e', 'PrincipalDiagnosisDesc': 'Hypertensive heart diseas', 'PrincipalDiagnosis': 'I11.0', 'TotalExpenses': '111436.402', 'RevenueCodeDesc': 'LABORATORY - CLINICAL DIAGNOSTIC: UROLOGY MEDICAL/SURGICAL/GYN PULMONARY FUNCTION RADIOLOGY - DIAGNOSTIC: CHEST X-RAY PHYSICAL THERAPY: EVALUATION/RE-EVALUATION PHYSICAL THERAPY RESPIRATORY SERVICES EMERGENCY ROOM CT SCAN: HEAD LABORATORY - CLINICAL DIAGNOSTIC: BACTERIOLOGY/MICROBIOLOGY CT SCAN LABORATORY - CLINICAL DIAGNOSTIC: HEMATOLOGY PHARMACY MEDICAL/SURGICAL SUPPLIES: STERILE SUPPLIES LABORATORY - CLINICAL DIAGNOSTIC RADIOLOGY - DIAGNOSTIC PHYSICAL THERAPY: VISIT CHARGE LABORATORY - CLINICAL DIAGNOSTIC: CHEMISTRY INTERMEDIATE ICU DRUGS REQUIRE SPECIFIC ID: DRUGS REQUIRING DETAIL CODING LABORATORY - CLINICAL DIAGNOSTIC: IMMUNOLOGY EKG/ECG MEDICAL/SURGICAL SUPPLIES OTHER IMAGING SERVICES: ULTRASOUND'}, page_content='MedicalClaim: 01db6f5467574d6e # MemberName: 00bdc46e # PrincipalDiagnosisDesc: Hypertensive heart diseas # PrincipalDiagnosis: I11.0 # TotalExpenses: 111436.402 # RevenueCodeDesc: LABORATORY - CLINICAL DIAGNOSTIC: UROLOGY MEDICAL/SURGICAL/GYN PULMONARY FUNCTION RADIOLOGY - DIAGNOSTIC: CHEST X-RAY PHYSICAL THERAPY: EVALUATION/RE-EVALUATION PHYSICAL THERAPY RESPIRATORY SERVICES EMERGENCY ROOM CT SCAN: HEAD LABORATORY - CLINICAL DIAGNOSTIC: BACTERIOLOGY/MICROBIOLOGY CT SCAN LABORATORY - CLINICAL DIAGNOSTIC: HEMATOLOGY PHARMACY MEDICAL/SURGICAL SUPPLIES: STERILE SUPPLIES LABORATORY - CLINICAL DIAGNOSTIC RADIOLOGY - DIAGNOSTIC PHYSICAL THERAPY: VISIT CHARGE LABORATORY - CLINICAL DIAGNOSTIC: CHEMISTRY INTERMEDIATE ICU DRUGS REQUIRE SPECIFIC ID: DRUGS REQUIRING DETAIL CODING LABORATORY - CLINICAL DIAGNOSTIC: IMMUNOLOGY EKG/ECG MEDICAL/SURGICAL SUPPLIES OTHER IMAGING SERVICES: ULTRASOUND')"
            ]
          },
          "metadata": {},
          "execution_count": 125
        }
      ]
    },
    {
      "cell_type": "code",
      "source": [
        "MedicalRecordsCatalog[1]"
      ],
      "metadata": {
        "colab": {
          "base_uri": "https://localhost:8080/"
        },
        "id": "_RRJea4j5Au8",
        "outputId": "8abc7664-7bf8-4056-e146-2858d2caf740"
      },
      "execution_count": 126,
      "outputs": [
        {
          "output_type": "execute_result",
          "data": {
            "text/plain": [
              "Document(metadata={'MedicalClaim': '11c6f93bdbb127d8', 'MemberName': '00f62513', 'PrincipalDiagnosisDesc': 'Rectal abscess', 'PrincipalDiagnosis': 'K61.1', 'TotalExpenses': '46470.151000000005', 'RevenueCodeDesc': 'EKG/ECG BLOOD STORAGE/PROCESSING ANESTHESIA OPERATING ROOM SERVICES CT SCAN'}, page_content='MedicalClaim: 11c6f93bdbb127d8 # MemberName: 00f62513 # PrincipalDiagnosisDesc: Rectal abscess # PrincipalDiagnosis: K61.1 # TotalExpenses: 46470.151000000005 # RevenueCodeDesc: EKG/ECG BLOOD STORAGE/PROCESSING ANESTHESIA OPERATING ROOM SERVICES CT SCAN')"
            ]
          },
          "metadata": {},
          "execution_count": 126
        }
      ]
    },
    {
      "cell_type": "code",
      "source": [],
      "metadata": {
        "id": "oaIx1JiM5AjY"
      },
      "execution_count": null,
      "outputs": []
    },
    {
      "cell_type": "code",
      "source": [],
      "metadata": {
        "id": "mXJuL95K5AhQ"
      },
      "execution_count": null,
      "outputs": []
    },
    {
      "cell_type": "code",
      "source": [],
      "metadata": {
        "id": "fLZ-zzt95Ae4"
      },
      "execution_count": null,
      "outputs": []
    },
    {
      "cell_type": "markdown",
      "source": [
        "### 2. Let's split these documents"
      ],
      "metadata": {
        "id": "ho45XrKhhQ9x"
      }
    },
    {
      "cell_type": "code",
      "source": [
        "from langchain_text_splitters import RecursiveCharacterTextSplitter\n",
        "text_splitter = RecursiveCharacterTextSplitter(\n",
        "    chunk_size=1000, chunk_overlap=0, add_start_index=True\n",
        ")"
      ],
      "metadata": {
        "id": "19vhi3T8hWg8"
      },
      "execution_count": 127,
      "outputs": []
    },
    {
      "cell_type": "code",
      "source": [
        "MedicalRecordsCatalogItems = text_splitter.split_documents(MedicalRecordsCatalog)"
      ],
      "metadata": {
        "id": "0aEiw9NShWen"
      },
      "execution_count": 128,
      "outputs": []
    },
    {
      "cell_type": "code",
      "source": [
        "len(MedicalRecordsCatalogItems)"
      ],
      "metadata": {
        "id": "dOpX30KmhWb_",
        "colab": {
          "base_uri": "https://localhost:8080/"
        },
        "outputId": "1900353a-81ed-44a1-a786-2108c6148be3"
      },
      "execution_count": 129,
      "outputs": [
        {
          "output_type": "execute_result",
          "data": {
            "text/plain": [
              "14"
            ]
          },
          "metadata": {},
          "execution_count": 129
        }
      ]
    },
    {
      "cell_type": "code",
      "source": [
        "MedicalRecordsCatalogItems[0]"
      ],
      "metadata": {
        "id": "Vrh3s5QahWZK",
        "colab": {
          "base_uri": "https://localhost:8080/"
        },
        "outputId": "84486ce7-d887-4d8c-edfc-3c9b2b0962f1"
      },
      "execution_count": 130,
      "outputs": [
        {
          "output_type": "execute_result",
          "data": {
            "text/plain": [
              "Document(metadata={'MedicalClaim': '01db6f5467574d6e', 'MemberName': '00bdc46e', 'PrincipalDiagnosisDesc': 'Hypertensive heart diseas', 'PrincipalDiagnosis': 'I11.0', 'TotalExpenses': '111436.402', 'RevenueCodeDesc': 'LABORATORY - CLINICAL DIAGNOSTIC: UROLOGY MEDICAL/SURGICAL/GYN PULMONARY FUNCTION RADIOLOGY - DIAGNOSTIC: CHEST X-RAY PHYSICAL THERAPY: EVALUATION/RE-EVALUATION PHYSICAL THERAPY RESPIRATORY SERVICES EMERGENCY ROOM CT SCAN: HEAD LABORATORY - CLINICAL DIAGNOSTIC: BACTERIOLOGY/MICROBIOLOGY CT SCAN LABORATORY - CLINICAL DIAGNOSTIC: HEMATOLOGY PHARMACY MEDICAL/SURGICAL SUPPLIES: STERILE SUPPLIES LABORATORY - CLINICAL DIAGNOSTIC RADIOLOGY - DIAGNOSTIC PHYSICAL THERAPY: VISIT CHARGE LABORATORY - CLINICAL DIAGNOSTIC: CHEMISTRY INTERMEDIATE ICU DRUGS REQUIRE SPECIFIC ID: DRUGS REQUIRING DETAIL CODING LABORATORY - CLINICAL DIAGNOSTIC: IMMUNOLOGY EKG/ECG MEDICAL/SURGICAL SUPPLIES OTHER IMAGING SERVICES: ULTRASOUND', 'start_index': 0}, page_content='MedicalClaim: 01db6f5467574d6e # MemberName: 00bdc46e # PrincipalDiagnosisDesc: Hypertensive heart diseas # PrincipalDiagnosis: I11.0 # TotalExpenses: 111436.402 # RevenueCodeDesc: LABORATORY - CLINICAL DIAGNOSTIC: UROLOGY MEDICAL/SURGICAL/GYN PULMONARY FUNCTION RADIOLOGY - DIAGNOSTIC: CHEST X-RAY PHYSICAL THERAPY: EVALUATION/RE-EVALUATION PHYSICAL THERAPY RESPIRATORY SERVICES EMERGENCY ROOM CT SCAN: HEAD LABORATORY - CLINICAL DIAGNOSTIC: BACTERIOLOGY/MICROBIOLOGY CT SCAN LABORATORY - CLINICAL DIAGNOSTIC: HEMATOLOGY PHARMACY MEDICAL/SURGICAL SUPPLIES: STERILE SUPPLIES LABORATORY - CLINICAL DIAGNOSTIC RADIOLOGY - DIAGNOSTIC PHYSICAL THERAPY: VISIT CHARGE LABORATORY - CLINICAL DIAGNOSTIC: CHEMISTRY INTERMEDIATE ICU DRUGS REQUIRE SPECIFIC ID: DRUGS REQUIRING DETAIL CODING LABORATORY - CLINICAL DIAGNOSTIC: IMMUNOLOGY EKG/ECG MEDICAL/SURGICAL SUPPLIES OTHER IMAGING SERVICES: ULTRASOUND')"
            ]
          },
          "metadata": {},
          "execution_count": 130
        }
      ]
    },
    {
      "cell_type": "code",
      "source": [
        "MedicalRecordsCatalogItems[1]"
      ],
      "metadata": {
        "colab": {
          "base_uri": "https://localhost:8080/"
        },
        "id": "mUP146Co-EPX",
        "outputId": "4af0efb7-218c-4e47-93d4-dbef6db95eb2"
      },
      "execution_count": 131,
      "outputs": [
        {
          "output_type": "execute_result",
          "data": {
            "text/plain": [
              "Document(metadata={'MedicalClaim': '11c6f93bdbb127d8', 'MemberName': '00f62513', 'PrincipalDiagnosisDesc': 'Rectal abscess', 'PrincipalDiagnosis': 'K61.1', 'TotalExpenses': '46470.151000000005', 'RevenueCodeDesc': 'EKG/ECG BLOOD STORAGE/PROCESSING ANESTHESIA OPERATING ROOM SERVICES CT SCAN', 'start_index': 0}, page_content='MedicalClaim: 11c6f93bdbb127d8 # MemberName: 00f62513 # PrincipalDiagnosisDesc: Rectal abscess # PrincipalDiagnosis: K61.1 # TotalExpenses: 46470.151000000005 # RevenueCodeDesc: EKG/ECG BLOOD STORAGE/PROCESSING ANESTHESIA OPERATING ROOM SERVICES CT SCAN')"
            ]
          },
          "metadata": {},
          "execution_count": 131
        }
      ]
    },
    {
      "cell_type": "code",
      "source": [
        "MedicalRecordsCatalogItems[2]"
      ],
      "metadata": {
        "colab": {
          "base_uri": "https://localhost:8080/"
        },
        "id": "Kwa6ZuyJ-Gjh",
        "outputId": "2d6e201e-c21a-44cd-cc0f-cda097448ce6"
      },
      "execution_count": 90,
      "outputs": [
        {
          "output_type": "execute_result",
          "data": {
            "text/plain": [
              "Document(metadata={'MedicalClaim': '3076d98ae812aec7', 'MemberName': '00f62513', 'PrincipalDiagnosisDesc': 'Abnormal finding of blood', 'PrincipalDiagnosis': 'R79.9', 'TotalExpenses': 4739.028, 'start_index': 0}, page_content='EMERGENCY ROOM LABORATORY - CLINICAL DIAGNOSTIC LABORATORY - CLINICAL DIAGNOSTIC: HEMATOLOGY LABORATORY - CLINICAL DIAGNOSTIC: IMMUNOLOGY LABORATORY - CLINICAL DIAGNOSTIC: IMMUNOLOGY LABORATORY - CLINICAL DIAGNOSTIC: IMMUNOLOGY MEDICAL/SURGICAL SUPPLIES: STERILE SUPPLIES LABORATORY - CLINICAL DIAGNOSTIC: CHEMISTRY')"
            ]
          },
          "metadata": {},
          "execution_count": 90
        }
      ]
    },
    {
      "cell_type": "code",
      "source": [],
      "metadata": {
        "id": "b6WPvPbb-I76"
      },
      "execution_count": null,
      "outputs": []
    },
    {
      "cell_type": "markdown",
      "source": [
        "### 2. Let's insert the catalog into a Vector Store"
      ],
      "metadata": {
        "id": "SQs2Xi0m3WOz"
      }
    },
    {
      "cell_type": "code",
      "source": [
        "from langchain.embeddings import OpenAIEmbeddings\n",
        "embeddings_model = OpenAIEmbeddings(openai_api_key=OPENAI_API_KEY)"
      ],
      "metadata": {
        "id": "2lTUk6r73WvJ"
      },
      "execution_count": 132,
      "outputs": []
    },
    {
      "cell_type": "code",
      "source": [
        "from langchain_community.vectorstores import DocArrayInMemorySearch\n",
        "db = DocArrayInMemorySearch.from_documents(MedicalRecordsCatalogItems, embeddings_model)"
      ],
      "metadata": {
        "id": "0cWQeyQa4mpn"
      },
      "execution_count": 133,
      "outputs": []
    },
    {
      "cell_type": "markdown",
      "source": [
        "### 3. Let's query the database"
      ],
      "metadata": {
        "id": "bn2iJCzK5E5k"
      }
    },
    {
      "cell_type": "code",
      "source": [
        "query = \"EMERGENCY\""
      ],
      "metadata": {
        "id": "13Ox0eaD4p-S"
      },
      "execution_count": 163,
      "outputs": []
    },
    {
      "cell_type": "code",
      "source": [
        "docs = db.similarity_search(query,k=10)"
      ],
      "metadata": {
        "id": "Oc47YqYg5N6s"
      },
      "execution_count": 175,
      "outputs": []
    },
    {
      "cell_type": "code",
      "source": [
        "len(docs)"
      ],
      "metadata": {
        "id": "Dy5CSHqy5QOJ",
        "colab": {
          "base_uri": "https://localhost:8080/"
        },
        "outputId": "c8eb969c-ee93-434c-9aec-2079930404b7"
      },
      "execution_count": 176,
      "outputs": [
        {
          "output_type": "execute_result",
          "data": {
            "text/plain": [
              "10"
            ]
          },
          "metadata": {},
          "execution_count": 176
        }
      ]
    },
    {
      "cell_type": "code",
      "source": [
        "docs[0]"
      ],
      "metadata": {
        "id": "VM1owJRD5RaU",
        "colab": {
          "base_uri": "https://localhost:8080/"
        },
        "outputId": "597a28e4-c72d-4d61-c1e2-75c847f5b48b"
      },
      "execution_count": 177,
      "outputs": [
        {
          "output_type": "execute_result",
          "data": {
            "text/plain": [
              "Document(metadata={'MedicalClaim': '6016589b30e19fd0', 'MemberName': '00c10ea4', 'PrincipalDiagnosisDesc': 'Myalgia unspecified site', 'PrincipalDiagnosis': 'M79.10', 'TotalExpenses': '6728.981', 'RevenueCodeDesc': 'LABORATORY - CLINICAL DIAGNOSTIC DRUGS REQUIRE SPECIFIC ID: DRUGS REQUIRING DETAIL CODING EMERGENCY ROOM EKG/ECG MEDICAL/SURGICAL SUPPLIES: STERILE SUPPLIES LABORATORY - CLINICAL DIAGNOSTIC: HEMATOLOGY LABORATORY - CLINICAL DIAGNOSTIC: CHEMISTRY EMERGENCY ROOM EMERGENCY ROOM PHARMACY', 'start_index': 0}, page_content='MedicalClaim: 6016589b30e19fd0 # MemberName: 00c10ea4 # PrincipalDiagnosisDesc: Myalgia unspecified site # PrincipalDiagnosis: M79.10 # TotalExpenses: 6728.981 # RevenueCodeDesc: LABORATORY - CLINICAL DIAGNOSTIC DRUGS REQUIRE SPECIFIC ID: DRUGS REQUIRING DETAIL CODING EMERGENCY ROOM EKG/ECG MEDICAL/SURGICAL SUPPLIES: STERILE SUPPLIES LABORATORY - CLINICAL DIAGNOSTIC: HEMATOLOGY LABORATORY - CLINICAL DIAGNOSTIC: CHEMISTRY EMERGENCY ROOM EMERGENCY ROOM PHARMACY')"
            ]
          },
          "metadata": {},
          "execution_count": 177
        }
      ]
    },
    {
      "cell_type": "code",
      "source": [
        "docs[1]"
      ],
      "metadata": {
        "id": "-hiyyKNYg5wX",
        "colab": {
          "base_uri": "https://localhost:8080/"
        },
        "outputId": "a5ea88b4-f66f-42cd-9108-c2d911fec4ae"
      },
      "execution_count": 178,
      "outputs": [
        {
          "output_type": "execute_result",
          "data": {
            "text/plain": [
              "Document(metadata={'MedicalClaim': '3076d98ae812aec7', 'MemberName': '00f62513', 'PrincipalDiagnosisDesc': 'Abnormal finding of blood', 'PrincipalDiagnosis': 'R79.9', 'TotalExpenses': '4739.028', 'RevenueCodeDesc': 'EMERGENCY ROOM LABORATORY - CLINICAL DIAGNOSTIC LABORATORY - CLINICAL DIAGNOSTIC: HEMATOLOGY LABORATORY - CLINICAL DIAGNOSTIC: IMMUNOLOGY LABORATORY - CLINICAL DIAGNOSTIC: IMMUNOLOGY LABORATORY - CLINICAL DIAGNOSTIC: IMMUNOLOGY MEDICAL/SURGICAL SUPPLIES: STERILE SUPPLIES LABORATORY - CLINICAL DIAGNOSTIC: CHEMISTRY', 'start_index': 0}, page_content='MedicalClaim: 3076d98ae812aec7 # MemberName: 00f62513 # PrincipalDiagnosisDesc: Abnormal finding of blood # PrincipalDiagnosis: R79.9 # TotalExpenses: 4739.028 # RevenueCodeDesc: EMERGENCY ROOM LABORATORY - CLINICAL DIAGNOSTIC LABORATORY - CLINICAL DIAGNOSTIC: HEMATOLOGY LABORATORY - CLINICAL DIAGNOSTIC: IMMUNOLOGY LABORATORY - CLINICAL DIAGNOSTIC: IMMUNOLOGY LABORATORY - CLINICAL DIAGNOSTIC: IMMUNOLOGY MEDICAL/SURGICAL SUPPLIES: STERILE SUPPLIES LABORATORY - CLINICAL DIAGNOSTIC: CHEMISTRY')"
            ]
          },
          "metadata": {},
          "execution_count": 178
        }
      ]
    },
    {
      "cell_type": "code",
      "source": [
        "docs[2]"
      ],
      "metadata": {
        "colab": {
          "base_uri": "https://localhost:8080/"
        },
        "id": "a17V5dBxCLin",
        "outputId": "1a674aec-ebbd-45b7-af2b-3fa8a42c5abc"
      },
      "execution_count": 179,
      "outputs": [
        {
          "output_type": "execute_result",
          "data": {
            "text/plain": [
              "Document(metadata={'MedicalClaim': 'd0b551e232e1b6f1', 'MemberName': '00bdc46e', 'PrincipalDiagnosisDesc': 'Hypertensive heart diseas', 'PrincipalDiagnosis': 'I11.0', 'TotalExpenses': '36030.337', 'RevenueCodeDesc': 'PHYSICAL THERAPY: EVALUATION/RE-EVALUATION MEDICAL/SURGICAL SUPPLIES MEDICAL/SURGICAL/GYN LABORATORY - CLINICAL DIAGNOSTIC PHYSICAL THERAPY LABORATORY - CLINICAL DIAGNOSTIC: BACTERIOLOGY/MICROBIOLOGY LABORATORY - CLINICAL DIAGNOSTIC: HEMATOLOGY EMERGENCY ROOM LABORATORY - CLINICAL DIAGNOSTIC: CHEMISTRY OTHER DIAGNOSTIC SERVICES: PERIPHERAL VASCULAR LAB LABORATORY - CLINICAL DIAGNOSTIC: IMMUNOLOGY RADIOLOGY - DIAGNOSTIC: CHEST X-RAY LABORATORY - CLINICAL DIAGNOSTIC: UROLOGY DRUGS REQUIRE SPECIFIC ID: DRUGS REQUIRING DETAIL CODING PHARMACY MEDICAL/SURGICAL SUPPLIES: STERILE SUPPLIES EKG/ECG', 'start_index': 0}, page_content='MedicalClaim: d0b551e232e1b6f1 # MemberName: 00bdc46e # PrincipalDiagnosisDesc: Hypertensive heart diseas # PrincipalDiagnosis: I11.0 # TotalExpenses: 36030.337 # RevenueCodeDesc: PHYSICAL THERAPY: EVALUATION/RE-EVALUATION MEDICAL/SURGICAL SUPPLIES MEDICAL/SURGICAL/GYN LABORATORY - CLINICAL DIAGNOSTIC PHYSICAL THERAPY LABORATORY - CLINICAL DIAGNOSTIC: BACTERIOLOGY/MICROBIOLOGY LABORATORY - CLINICAL DIAGNOSTIC: HEMATOLOGY EMERGENCY ROOM LABORATORY - CLINICAL DIAGNOSTIC: CHEMISTRY OTHER DIAGNOSTIC SERVICES: PERIPHERAL VASCULAR LAB LABORATORY - CLINICAL DIAGNOSTIC: IMMUNOLOGY RADIOLOGY - DIAGNOSTIC: CHEST X-RAY LABORATORY - CLINICAL DIAGNOSTIC: UROLOGY DRUGS REQUIRE SPECIFIC ID: DRUGS REQUIRING DETAIL CODING PHARMACY MEDICAL/SURGICAL SUPPLIES: STERILE SUPPLIES EKG/ECG')"
            ]
          },
          "metadata": {},
          "execution_count": 179
        }
      ]
    },
    {
      "cell_type": "code",
      "source": [
        "docs[3]"
      ],
      "metadata": {
        "colab": {
          "base_uri": "https://localhost:8080/"
        },
        "id": "y7S2YA0ECxSV",
        "outputId": "682c5daa-0752-42d3-a76d-a7bd46a855b9"
      },
      "execution_count": 180,
      "outputs": [
        {
          "output_type": "execute_result",
          "data": {
            "text/plain": [
              "Document(metadata={'MedicalClaim': 'f92bb137b39f997b', 'MemberName': '00f62513', 'PrincipalDiagnosisDesc': 'Sepsis unspecified organi', 'PrincipalDiagnosis': 'A41.9', 'TotalExpenses': '115949.302', 'RevenueCodeDesc': 'OTHER DIAGNOSTIC SERVICES: PERIPHERAL VASCULAR LAB EKG/ECG RECOVERY ROOM DRUGS REQUIRE SPECIFIC ID: DRUGS REQUIRING DETAIL CODING PULMONARY FUNCTION PHARMACY: IV SOLUTIONS PHYSICAL THERAPY BLOOD STORAGE/PROCESSING: BLOOD ADMINISTRATION (EG. TRANSFUSION) ANESTHESIA CT SCAN RADIOLOGY - DIAGNOSTIC: CHEST X-RAY LABORATORY - CLINICAL DIAGNOSTIC: BACTERIOLOGY/MICROBIOLOGY LABORATORY - CLINICAL DIAGNOSTIC: IMMUNOLOGY BLOOD STORAGE/PROCESSING OPERATING ROOM SERVICES', 'start_index': 0}, page_content='MedicalClaim: f92bb137b39f997b # MemberName: 00f62513 # PrincipalDiagnosisDesc: Sepsis unspecified organi # PrincipalDiagnosis: A41.9 # TotalExpenses: 115949.302 # RevenueCodeDesc: OTHER DIAGNOSTIC SERVICES: PERIPHERAL VASCULAR LAB EKG/ECG RECOVERY ROOM DRUGS REQUIRE SPECIFIC ID: DRUGS REQUIRING DETAIL CODING PULMONARY FUNCTION PHARMACY: IV SOLUTIONS PHYSICAL THERAPY BLOOD STORAGE/PROCESSING: BLOOD ADMINISTRATION (EG. TRANSFUSION) ANESTHESIA CT SCAN RADIOLOGY - DIAGNOSTIC: CHEST X-RAY LABORATORY - CLINICAL DIAGNOSTIC: BACTERIOLOGY/MICROBIOLOGY LABORATORY - CLINICAL DIAGNOSTIC: IMMUNOLOGY BLOOD STORAGE/PROCESSING OPERATING ROOM SERVICES')"
            ]
          },
          "metadata": {},
          "execution_count": 180
        }
      ]
    },
    {
      "cell_type": "code",
      "source": [
        "docs[4]"
      ],
      "metadata": {
        "colab": {
          "base_uri": "https://localhost:8080/"
        },
        "id": "gVqApgwzEFmd",
        "outputId": "bba3c003-6da4-4f80-e23e-3760fa18d30e"
      },
      "execution_count": 181,
      "outputs": [
        {
          "output_type": "execute_result",
          "data": {
            "text/plain": [
              "Document(metadata={'MedicalClaim': '3d3f3e6226e870f9', 'MemberName': '00c10ea4', 'PrincipalDiagnosisDesc': 'Occlusion and stenosis of', 'PrincipalDiagnosis': 'I65.21', 'TotalExpenses': '74796.841', 'RevenueCodeDesc': 'DRUGS REQUIRE SPECIFIC ID: SELF ADMIN DRUGS (INSULIN ADMIN IN EMERGENCY-DIABETES COMA) PHYSICAL THERAPY: EVALUATION/RE-EVALUATION LABORATORY - PATHOLOGY ANESTHESIA DRUGS REQUIRE SPECIFIC ID: DRUGS REQUIRING DETAIL CODING OPERATING ROOM SERVICES LABORATORY - CLINICAL DIAGNOSTIC LABORATORY - CLINICAL DIAGNOSTIC: CHEMISTRY LABORATORY - CLINICAL DIAGNOSTIC: BACTERIOLOGY/MICROBIOLOGY RECOVERY ROOM INTERMEDIATE ICU MEDICAL/SURGICAL SUPPLIES: OTHER IMPLANTS PHARMACY LABORATORY - CLINICAL DIAGNOSTIC: HEMATOLOGY MEDICAL/SURGICAL SUPPLIES: STERILE SUPPLIES PHARMACY: OTHER MEDICAL/SURGICAL SUPPLIES LABORATORY - CLINICAL DIAGNOSTIC: IMMUNOLOGY INPATIENT DEMODIALYSIS', 'start_index': 0}, page_content='MedicalClaim: 3d3f3e6226e870f9 # MemberName: 00c10ea4 # PrincipalDiagnosisDesc: Occlusion and stenosis of # PrincipalDiagnosis: I65.21 # TotalExpenses: 74796.841 # RevenueCodeDesc: DRUGS REQUIRE SPECIFIC ID: SELF ADMIN DRUGS (INSULIN ADMIN IN EMERGENCY-DIABETES COMA) PHYSICAL THERAPY: EVALUATION/RE-EVALUATION LABORATORY - PATHOLOGY ANESTHESIA DRUGS REQUIRE SPECIFIC ID: DRUGS REQUIRING DETAIL CODING OPERATING ROOM SERVICES LABORATORY - CLINICAL DIAGNOSTIC LABORATORY - CLINICAL DIAGNOSTIC: CHEMISTRY LABORATORY - CLINICAL DIAGNOSTIC: BACTERIOLOGY/MICROBIOLOGY RECOVERY ROOM INTERMEDIATE ICU MEDICAL/SURGICAL SUPPLIES: OTHER IMPLANTS PHARMACY LABORATORY - CLINICAL DIAGNOSTIC: HEMATOLOGY MEDICAL/SURGICAL SUPPLIES: STERILE SUPPLIES PHARMACY: OTHER MEDICAL/SURGICAL SUPPLIES LABORATORY - CLINICAL DIAGNOSTIC: IMMUNOLOGY INPATIENT DEMODIALYSIS')"
            ]
          },
          "metadata": {},
          "execution_count": 181
        }
      ]
    },
    {
      "cell_type": "code",
      "source": [
        "docs[5]"
      ],
      "metadata": {
        "colab": {
          "base_uri": "https://localhost:8080/"
        },
        "id": "brPxnOy8EPrY",
        "outputId": "3e06c6cb-9b77-499b-efdf-0d5a42ef044d"
      },
      "execution_count": 182,
      "outputs": [
        {
          "output_type": "execute_result",
          "data": {
            "text/plain": [
              "Document(metadata={'MedicalClaim': 'fe3763cb500a3328', 'MemberName': '00c10ea4', 'PrincipalDiagnosisDesc': 'Chest pain unspecified', 'PrincipalDiagnosis': 'R07.9', 'TotalExpenses': '21864.479', 'RevenueCodeDesc': 'EKG/ECG LABORATORY - CLINICAL DIAGNOSTIC: HEMATOLOGY PHARMACY OTHER DIAGNOSTIC SERVICES: PERIPHERAL VASCULAR LAB INPATIENT DEMODIALYSIS MEDICAL/SURGICAL/GYN MEDICAL/SURGICAL SUPPLIES: STERILE SUPPLIES DRUGS REQUIRE SPECIFIC ID: DRUGS REQUIRING DETAIL CODING LABORATORY - CLINICAL DIAGNOSTIC: BACTERIOLOGY/MICROBIOLOGY LABORATORY - CLINICAL DIAGNOSTIC: IMMUNOLOGY TREATMENT/OBSERVATION ROOM: OBSERVATION ROOM CLINIC LABORATORY - CLINICAL DIAGNOSTIC: CHEMISTRY RADIOLOGY - DIAGNOSTIC: CHEST X-RAY EMERGENCY ROOM PHARMACY: OTHER LABORATORY - CLINICAL DIAGNOSTIC', 'start_index': 0}, page_content='MedicalClaim: fe3763cb500a3328 # MemberName: 00c10ea4 # PrincipalDiagnosisDesc: Chest pain unspecified # PrincipalDiagnosis: R07.9 # TotalExpenses: 21864.479 # RevenueCodeDesc: EKG/ECG LABORATORY - CLINICAL DIAGNOSTIC: HEMATOLOGY PHARMACY OTHER DIAGNOSTIC SERVICES: PERIPHERAL VASCULAR LAB INPATIENT DEMODIALYSIS MEDICAL/SURGICAL/GYN MEDICAL/SURGICAL SUPPLIES: STERILE SUPPLIES DRUGS REQUIRE SPECIFIC ID: DRUGS REQUIRING DETAIL CODING LABORATORY - CLINICAL DIAGNOSTIC: BACTERIOLOGY/MICROBIOLOGY LABORATORY - CLINICAL DIAGNOSTIC: IMMUNOLOGY TREATMENT/OBSERVATION ROOM: OBSERVATION ROOM CLINIC LABORATORY - CLINICAL DIAGNOSTIC: CHEMISTRY RADIOLOGY - DIAGNOSTIC: CHEST X-RAY EMERGENCY ROOM PHARMACY: OTHER LABORATORY - CLINICAL DIAGNOSTIC')"
            ]
          },
          "metadata": {},
          "execution_count": 182
        }
      ]
    },
    {
      "cell_type": "code",
      "source": [
        "docs[6]"
      ],
      "metadata": {
        "colab": {
          "base_uri": "https://localhost:8080/"
        },
        "id": "1F4uOHX9ESHW",
        "outputId": "c13cac25-2b96-4f86-dff2-9cc48c0b21c9"
      },
      "execution_count": 183,
      "outputs": [
        {
          "output_type": "execute_result",
          "data": {
            "text/plain": [
              "Document(metadata={'MedicalClaim': '01db6f5467574d6e', 'MemberName': '00bdc46e', 'PrincipalDiagnosisDesc': 'Hypertensive heart diseas', 'PrincipalDiagnosis': 'I11.0', 'TotalExpenses': '111436.402', 'RevenueCodeDesc': 'LABORATORY - CLINICAL DIAGNOSTIC: UROLOGY MEDICAL/SURGICAL/GYN PULMONARY FUNCTION RADIOLOGY - DIAGNOSTIC: CHEST X-RAY PHYSICAL THERAPY: EVALUATION/RE-EVALUATION PHYSICAL THERAPY RESPIRATORY SERVICES EMERGENCY ROOM CT SCAN: HEAD LABORATORY - CLINICAL DIAGNOSTIC: BACTERIOLOGY/MICROBIOLOGY CT SCAN LABORATORY - CLINICAL DIAGNOSTIC: HEMATOLOGY PHARMACY MEDICAL/SURGICAL SUPPLIES: STERILE SUPPLIES LABORATORY - CLINICAL DIAGNOSTIC RADIOLOGY - DIAGNOSTIC PHYSICAL THERAPY: VISIT CHARGE LABORATORY - CLINICAL DIAGNOSTIC: CHEMISTRY INTERMEDIATE ICU DRUGS REQUIRE SPECIFIC ID: DRUGS REQUIRING DETAIL CODING LABORATORY - CLINICAL DIAGNOSTIC: IMMUNOLOGY EKG/ECG MEDICAL/SURGICAL SUPPLIES OTHER IMAGING SERVICES: ULTRASOUND', 'start_index': 0}, page_content='MedicalClaim: 01db6f5467574d6e # MemberName: 00bdc46e # PrincipalDiagnosisDesc: Hypertensive heart diseas # PrincipalDiagnosis: I11.0 # TotalExpenses: 111436.402 # RevenueCodeDesc: LABORATORY - CLINICAL DIAGNOSTIC: UROLOGY MEDICAL/SURGICAL/GYN PULMONARY FUNCTION RADIOLOGY - DIAGNOSTIC: CHEST X-RAY PHYSICAL THERAPY: EVALUATION/RE-EVALUATION PHYSICAL THERAPY RESPIRATORY SERVICES EMERGENCY ROOM CT SCAN: HEAD LABORATORY - CLINICAL DIAGNOSTIC: BACTERIOLOGY/MICROBIOLOGY CT SCAN LABORATORY - CLINICAL DIAGNOSTIC: HEMATOLOGY PHARMACY MEDICAL/SURGICAL SUPPLIES: STERILE SUPPLIES LABORATORY - CLINICAL DIAGNOSTIC RADIOLOGY - DIAGNOSTIC PHYSICAL THERAPY: VISIT CHARGE LABORATORY - CLINICAL DIAGNOSTIC: CHEMISTRY INTERMEDIATE ICU DRUGS REQUIRE SPECIFIC ID: DRUGS REQUIRING DETAIL CODING LABORATORY - CLINICAL DIAGNOSTIC: IMMUNOLOGY EKG/ECG MEDICAL/SURGICAL SUPPLIES OTHER IMAGING SERVICES: ULTRASOUND')"
            ]
          },
          "metadata": {},
          "execution_count": 183
        }
      ]
    },
    {
      "cell_type": "code",
      "source": [
        "docs[7]"
      ],
      "metadata": {
        "colab": {
          "base_uri": "https://localhost:8080/"
        },
        "id": "Yr5t35y9EWHo",
        "outputId": "8689e000-d6dd-4b4d-b499-1dc273037823"
      },
      "execution_count": 184,
      "outputs": [
        {
          "output_type": "execute_result",
          "data": {
            "text/plain": [
              "Document(metadata={'MedicalClaim': 'bd40b943533deb7b', 'MemberName': '002451eb', 'PrincipalDiagnosisDesc': 'Chronic atrial fibrillati', 'PrincipalDiagnosis': 'I48.20', 'TotalExpenses': '23153.564000000002', 'RevenueCodeDesc': 'LABORATORY - CLINICAL DIAGNOSTIC: HEMATOLOGY LABORATORY - CLINICAL DIAGNOSTIC: HEMATOLOGY PREVENTIVE CARE SERVICES: ADMIN. OF VACCINE LABORATORY - CLINICAL DIAGNOSTIC: CHEMISTRY LABORATORY - CLINICAL DIAGNOSTIC: HEMATOLOGY EKG/ECG TREATMENT/OBSERVATION ROOM: OBSERVATION ROOM RADIOLOGY - DIAGNOSTIC: CHEST X-RAY EKG/ECG LABORATORY - CLINICAL DIAGNOSTIC: HEMATOLOGY LABORATORY - CLINICAL DIAGNOSTIC: IMMUNOLOGY EMERGENCY ROOM LABORATORY - CLINICAL DIAGNOSTIC: CHEMISTRY LABORATORY - CLINICAL DIAGNOSTIC LABORATORY - CLINICAL DIAGNOSTIC: CHEMISTRY CARDIOLOGY: ECHOCARDIOLOGY DRUGS REQUIRE SPECIFIC ID: DRUGS REQUIRING DETAIL CODING LABORATORY - CLINICAL DIAGNOSTIC: CHEMISTRY DRUGS REQUIRE SPECIFIC ID: DRUGS REQUIRING DETAIL CODING OTHER THERAPEUTIC SERV LABORATORY - CLINICAL DIAGNOSTIC: HEMATOLOGY LABORATORY - CLINICAL DIAGNOSTIC: CHEMISTRY PHARMACY PHARMACY PHARMACY MEDICAL/SURGICAL SUPPLIES: STERILE SUPPLIES LABORATORY - CLINICAL DIAGNOSTIC LABORATORY - CLINICAL DIAGNOSTIC LABORATORY - CLINICAL DIAGNOSTIC: CHEMISTRY LABORATORY - CLINICAL DIAGNOSTIC: CHEMISTRY LABORATORY - CLINICAL DIAGNOSTIC: CHEMISTRY LABORATORY - CLINICAL DIAGNOSTIC: CHEMISTRY', 'start_index': 1000}, page_content='- CLINICAL DIAGNOSTIC: CHEMISTRY PHARMACY PHARMACY PHARMACY MEDICAL/SURGICAL SUPPLIES: STERILE SUPPLIES LABORATORY - CLINICAL DIAGNOSTIC LABORATORY - CLINICAL DIAGNOSTIC LABORATORY - CLINICAL DIAGNOSTIC: CHEMISTRY LABORATORY - CLINICAL DIAGNOSTIC: CHEMISTRY LABORATORY - CLINICAL DIAGNOSTIC: CHEMISTRY LABORATORY - CLINICAL DIAGNOSTIC: CHEMISTRY')"
            ]
          },
          "metadata": {},
          "execution_count": 184
        }
      ]
    },
    {
      "cell_type": "code",
      "source": [
        "docs[8]"
      ],
      "metadata": {
        "colab": {
          "base_uri": "https://localhost:8080/"
        },
        "id": "32C_ThPEEYH_",
        "outputId": "083476ea-8f44-4e4d-837c-4fc712158539"
      },
      "execution_count": 185,
      "outputs": [
        {
          "output_type": "execute_result",
          "data": {
            "text/plain": [
              "Document(metadata={'MedicalClaim': '3da6d9035cb53f0d', 'MemberName': '00a90ae2', 'PrincipalDiagnosisDesc': 'Open bite of right hand i', 'PrincipalDiagnosis': 'S61.451A', 'TotalExpenses': '9587.557', 'RevenueCodeDesc': 'LABORATORY - CLINICAL DIAGNOSTIC: CHEMISTRY LABORATORY - CLINICAL DIAGNOSTIC: BACTERIOLOGY/MICROBIOLOGY DRUGS REQUIRE SPECIFIC ID: DRUGS REQUIRING DETAIL CODING LABORATORY - CLINICAL DIAGNOSTIC: CHEMISTRY LABORATORY - CLINICAL DIAGNOSTIC PREVENTIVE CARE SERVICES: ADMIN. OF VACCINE IV THERAPY DRUGS REQUIRE SPECIFIC ID: DRUGS REQUIRING DETAIL CODING DRUGS REQUIRE SPECIFIC ID: DRUGS REQUIRING DETAIL CODING EMERGENCY ROOM LABORATORY - CLINICAL DIAGNOSTIC: HEMATOLOGY', 'start_index': 0}, page_content='MedicalClaim: 3da6d9035cb53f0d # MemberName: 00a90ae2 # PrincipalDiagnosisDesc: Open bite of right hand i # PrincipalDiagnosis: S61.451A # TotalExpenses: 9587.557 # RevenueCodeDesc: LABORATORY - CLINICAL DIAGNOSTIC: CHEMISTRY LABORATORY - CLINICAL DIAGNOSTIC: BACTERIOLOGY/MICROBIOLOGY DRUGS REQUIRE SPECIFIC ID: DRUGS REQUIRING DETAIL CODING LABORATORY - CLINICAL DIAGNOSTIC: CHEMISTRY LABORATORY - CLINICAL DIAGNOSTIC PREVENTIVE CARE SERVICES: ADMIN. OF VACCINE IV THERAPY DRUGS REQUIRE SPECIFIC ID: DRUGS REQUIRING DETAIL CODING DRUGS REQUIRE SPECIFIC ID: DRUGS REQUIRING DETAIL CODING EMERGENCY ROOM LABORATORY - CLINICAL DIAGNOSTIC: HEMATOLOGY')"
            ]
          },
          "metadata": {},
          "execution_count": 185
        }
      ]
    },
    {
      "cell_type": "code",
      "source": [
        "docs[9]"
      ],
      "metadata": {
        "colab": {
          "base_uri": "https://localhost:8080/"
        },
        "id": "ZLrPeALqEYCP",
        "outputId": "7f506f1a-b511-4ad6-d008-0e52d7e3113c"
      },
      "execution_count": 186,
      "outputs": [
        {
          "output_type": "execute_result",
          "data": {
            "text/plain": [
              "Document(metadata={'MedicalClaim': '8cc4cd548a13b44b', 'MemberName': '00bdc46e', 'PrincipalDiagnosisDesc': 'Incisional hernia with ob', 'PrincipalDiagnosis': 'K43.0', 'TotalExpenses': '35680.729', 'RevenueCodeDesc': 'MEDICAL/SURGICAL SUPPLIES MEDICAL/SURGICAL/GYN DRUGS REQUIRE SPECIFIC ID: DRUGS REQUIRING DETAIL CODING LABORATORY - CLINICAL DIAGNOSTIC EMERGENCY ROOM LABORATORY - CLINICAL DIAGNOSTIC: CHEMISTRY LABORATORY - CLINICAL DIAGNOSTIC: HEMATOLOGY LABORATORY - CLINICAL DIAGNOSTIC: UROLOGY RADIOLOGY - DIAGNOSTIC CT SCAN PHARMACY PHYSICAL THERAPY: VISIT CHARGE EKG/ECG PHYSICAL THERAPY: EVALUATION/RE-EVALUATION PHYSICAL THERAPY', 'start_index': 0}, page_content='MedicalClaim: 8cc4cd548a13b44b # MemberName: 00bdc46e # PrincipalDiagnosisDesc: Incisional hernia with ob # PrincipalDiagnosis: K43.0 # TotalExpenses: 35680.729 # RevenueCodeDesc: MEDICAL/SURGICAL SUPPLIES MEDICAL/SURGICAL/GYN DRUGS REQUIRE SPECIFIC ID: DRUGS REQUIRING DETAIL CODING LABORATORY - CLINICAL DIAGNOSTIC EMERGENCY ROOM LABORATORY - CLINICAL DIAGNOSTIC: CHEMISTRY LABORATORY - CLINICAL DIAGNOSTIC: HEMATOLOGY LABORATORY - CLINICAL DIAGNOSTIC: UROLOGY RADIOLOGY - DIAGNOSTIC CT SCAN PHARMACY PHYSICAL THERAPY: VISIT CHARGE EKG/ECG PHYSICAL THERAPY: EVALUATION/RE-EVALUATION PHYSICAL THERAPY')"
            ]
          },
          "metadata": {},
          "execution_count": 186
        }
      ]
    },
    {
      "cell_type": "markdown",
      "source": [
        "### 4. Let's implement a retriever"
      ],
      "metadata": {
        "id": "HD9GwvndkM_e"
      }
    },
    {
      "cell_type": "code",
      "source": [
        "retriever = db.as_retriever()"
      ],
      "metadata": {
        "id": "VkGzfzAYkPyW"
      },
      "execution_count": 170,
      "outputs": []
    },
    {
      "cell_type": "code",
      "source": [],
      "metadata": {
        "id": "JTd5QZ17kP09"
      },
      "execution_count": null,
      "outputs": []
    },
    {
      "cell_type": "code",
      "source": [
        "qdocs = \"\\n\\n\".join([docs[i].page_content for i in range(len(docs))])\n"
      ],
      "metadata": {
        "id": "Fl3y9UbxkjEY"
      },
      "execution_count": 171,
      "outputs": []
    },
    {
      "cell_type": "code",
      "source": [
        "print(qdocs)"
      ],
      "metadata": {
        "id": "O1UKrbrUkpXE",
        "colab": {
          "base_uri": "https://localhost:8080/"
        },
        "outputId": "9ff05e57-115b-4998-8253-c8d025f4cd02"
      },
      "execution_count": 172,
      "outputs": [
        {
          "output_type": "stream",
          "name": "stdout",
          "text": [
            "MedicalClaim: 6016589b30e19fd0 # MemberName: 00c10ea4 # PrincipalDiagnosisDesc: Myalgia unspecified site # PrincipalDiagnosis: M79.10 # TotalExpenses: 6728.981 # RevenueCodeDesc: LABORATORY - CLINICAL DIAGNOSTIC DRUGS REQUIRE SPECIFIC ID: DRUGS REQUIRING DETAIL CODING EMERGENCY ROOM EKG/ECG MEDICAL/SURGICAL SUPPLIES: STERILE SUPPLIES LABORATORY - CLINICAL DIAGNOSTIC: HEMATOLOGY LABORATORY - CLINICAL DIAGNOSTIC: CHEMISTRY EMERGENCY ROOM EMERGENCY ROOM PHARMACY\n",
            "\n",
            "MedicalClaim: 3076d98ae812aec7 # MemberName: 00f62513 # PrincipalDiagnosisDesc: Abnormal finding of blood # PrincipalDiagnosis: R79.9 # TotalExpenses: 4739.028 # RevenueCodeDesc: EMERGENCY ROOM LABORATORY - CLINICAL DIAGNOSTIC LABORATORY - CLINICAL DIAGNOSTIC: HEMATOLOGY LABORATORY - CLINICAL DIAGNOSTIC: IMMUNOLOGY LABORATORY - CLINICAL DIAGNOSTIC: IMMUNOLOGY LABORATORY - CLINICAL DIAGNOSTIC: IMMUNOLOGY MEDICAL/SURGICAL SUPPLIES: STERILE SUPPLIES LABORATORY - CLINICAL DIAGNOSTIC: CHEMISTRY\n",
            "\n",
            "MedicalClaim: d0b551e232e1b6f1 # MemberName: 00bdc46e # PrincipalDiagnosisDesc: Hypertensive heart diseas # PrincipalDiagnosis: I11.0 # TotalExpenses: 36030.337 # RevenueCodeDesc: PHYSICAL THERAPY: EVALUATION/RE-EVALUATION MEDICAL/SURGICAL SUPPLIES MEDICAL/SURGICAL/GYN LABORATORY - CLINICAL DIAGNOSTIC PHYSICAL THERAPY LABORATORY - CLINICAL DIAGNOSTIC: BACTERIOLOGY/MICROBIOLOGY LABORATORY - CLINICAL DIAGNOSTIC: HEMATOLOGY EMERGENCY ROOM LABORATORY - CLINICAL DIAGNOSTIC: CHEMISTRY OTHER DIAGNOSTIC SERVICES: PERIPHERAL VASCULAR LAB LABORATORY - CLINICAL DIAGNOSTIC: IMMUNOLOGY RADIOLOGY - DIAGNOSTIC: CHEST X-RAY LABORATORY - CLINICAL DIAGNOSTIC: UROLOGY DRUGS REQUIRE SPECIFIC ID: DRUGS REQUIRING DETAIL CODING PHARMACY MEDICAL/SURGICAL SUPPLIES: STERILE SUPPLIES EKG/ECG\n",
            "\n",
            "MedicalClaim: f92bb137b39f997b # MemberName: 00f62513 # PrincipalDiagnosisDesc: Sepsis unspecified organi # PrincipalDiagnosis: A41.9 # TotalExpenses: 115949.302 # RevenueCodeDesc: OTHER DIAGNOSTIC SERVICES: PERIPHERAL VASCULAR LAB EKG/ECG RECOVERY ROOM DRUGS REQUIRE SPECIFIC ID: DRUGS REQUIRING DETAIL CODING PULMONARY FUNCTION PHARMACY: IV SOLUTIONS PHYSICAL THERAPY BLOOD STORAGE/PROCESSING: BLOOD ADMINISTRATION (EG. TRANSFUSION) ANESTHESIA CT SCAN RADIOLOGY - DIAGNOSTIC: CHEST X-RAY LABORATORY - CLINICAL DIAGNOSTIC: BACTERIOLOGY/MICROBIOLOGY LABORATORY - CLINICAL DIAGNOSTIC: IMMUNOLOGY BLOOD STORAGE/PROCESSING OPERATING ROOM SERVICES\n",
            "\n",
            "MedicalClaim: 3d3f3e6226e870f9 # MemberName: 00c10ea4 # PrincipalDiagnosisDesc: Occlusion and stenosis of # PrincipalDiagnosis: I65.21 # TotalExpenses: 74796.841 # RevenueCodeDesc: DRUGS REQUIRE SPECIFIC ID: SELF ADMIN DRUGS (INSULIN ADMIN IN EMERGENCY-DIABETES COMA) PHYSICAL THERAPY: EVALUATION/RE-EVALUATION LABORATORY - PATHOLOGY ANESTHESIA DRUGS REQUIRE SPECIFIC ID: DRUGS REQUIRING DETAIL CODING OPERATING ROOM SERVICES LABORATORY - CLINICAL DIAGNOSTIC LABORATORY - CLINICAL DIAGNOSTIC: CHEMISTRY LABORATORY - CLINICAL DIAGNOSTIC: BACTERIOLOGY/MICROBIOLOGY RECOVERY ROOM INTERMEDIATE ICU MEDICAL/SURGICAL SUPPLIES: OTHER IMPLANTS PHARMACY LABORATORY - CLINICAL DIAGNOSTIC: HEMATOLOGY MEDICAL/SURGICAL SUPPLIES: STERILE SUPPLIES PHARMACY: OTHER MEDICAL/SURGICAL SUPPLIES LABORATORY - CLINICAL DIAGNOSTIC: IMMUNOLOGY INPATIENT DEMODIALYSIS\n"
          ]
        }
      ]
    },
    {
      "cell_type": "code",
      "source": [
        "llm = ChatOpenAI(temperature=0.0, model='gpt-4-0125-preview',openai_api_key=OPENAI_API_KEY)"
      ],
      "metadata": {
        "id": "my7u-AL-jsxN",
        "colab": {
          "base_uri": "https://localhost:8080/"
        },
        "outputId": "58aab28d-4a05-492f-ac78-cb1af8235736"
      },
      "execution_count": 173,
      "outputs": [
        {
          "output_type": "stream",
          "name": "stderr",
          "text": [
            "/usr/local/lib/python3.10/dist-packages/langchain_core/_api/deprecation.py:139: LangChainDeprecationWarning: The class `ChatOpenAI` was deprecated in LangChain 0.0.10 and will be removed in 0.3.0. An updated version of the class exists in the langchain-openai package and should be used instead. To use it run `pip install -U langchain-openai` and import as `from langchain_openai import ChatOpenAI`.\n",
            "  warn_deprecated(\n"
          ]
        }
      ]
    },
    {
      "cell_type": "markdown",
      "source": [
        "## 5. Let's formulate a query"
      ],
      "metadata": {
        "id": "1hYcD90xr0Ud"
      }
    },
    {
      "cell_type": "code",
      "source": [
        "response = llm.call_as_llm(f\"the following document lists Medical Events involving Emergency Room services. Your tasks are: \\\n",
        "(1) extract *ALL* events with medical code I11.0, (2) for each event extract the Membername and TotalExpenses, \\\n",
        "(3) for event provide a 1 paragraph summary of RevenueCodeDesc {qdocs}\")"
      ],
      "metadata": {
        "id": "bnI34m83kq7E"
      },
      "execution_count": 190,
      "outputs": []
    },
    {
      "cell_type": "code",
      "source": [
        "response"
      ],
      "metadata": {
        "colab": {
          "base_uri": "https://localhost:8080/",
          "height": 143
        },
        "id": "_fkWAlz5E8c1",
        "outputId": "f71aac48-10f1-4b1f-a1a5-bb5b8c9a63a0"
      },
      "execution_count": 191,
      "outputs": [
        {
          "output_type": "execute_result",
          "data": {
            "text/plain": [
              "'For the medical event with code I11.0, the details are as follows:\\n\\n- **MemberName:** 00bdc46e\\n- **TotalExpenses:** 36030.337\\n\\n**Summary of RevenueCodeDesc for MedicalClaim d0b551e232e1b6f1:**\\n\\nThis medical claim involves a patient diagnosed with Hypertensive heart disease (I11.0) and includes a wide range of services amounting to a total expense of $36,030.337. The services provided encompass various diagnostic and therapeutic procedures. Diagnostic services included a comprehensive set of laboratory clinical diagnostics such as bacteriology/microbiology, hematology, chemistry, immunology, urology, and a chest X-ray. Therapeutic services involved physical therapy evaluations and re-evaluations, emergency room services, and the provision of medical/surgical supplies including sterile supplies. Additionally, the claim covers drugs requiring specific identification and detail coding, highlighting the complexity and multifaceted nature of the treatment provided. This extensive array of services underscores the serious implications of hypertensive heart disease and the multifaceted approach required for its management in an emergency setting.'"
            ],
            "application/vnd.google.colaboratory.intrinsic+json": {
              "type": "string"
            }
          },
          "metadata": {},
          "execution_count": 191
        }
      ]
    },
    {
      "cell_type": "code",
      "source": [
        "display(Markdown(response))"
      ],
      "metadata": {
        "id": "q3GhoHfakysn",
        "colab": {
          "base_uri": "https://localhost:8080/",
          "height": 221
        },
        "outputId": "9f52e87d-2271-47a9-aa3c-df5d6e4d0d17"
      },
      "execution_count": 192,
      "outputs": [
        {
          "output_type": "display_data",
          "data": {
            "text/plain": [
              "<IPython.core.display.Markdown object>"
            ],
            "text/markdown": "For the medical event with code I11.0, the details are as follows:\n\n- **MemberName:** 00bdc46e\n- **TotalExpenses:** 36030.337\n\n**Summary of RevenueCodeDesc for MedicalClaim d0b551e232e1b6f1:**\n\nThis medical claim involves a patient diagnosed with Hypertensive heart disease (I11.0) and includes a wide range of services amounting to a total expense of $36,030.337. The services provided encompass various diagnostic and therapeutic procedures. Diagnostic services included a comprehensive set of laboratory clinical diagnostics such as bacteriology/microbiology, hematology, chemistry, immunology, urology, and a chest X-ray. Therapeutic services involved physical therapy evaluations and re-evaluations, emergency room services, and the provision of medical/surgical supplies including sterile supplies. Additionally, the claim covers drugs requiring specific identification and detail coding, highlighting the complexity and multifaceted nature of the treatment provided. This extensive array of services underscores the serious implications of hypertensive heart disease and the multifaceted approach required for its management in an emergency setting."
          },
          "metadata": {}
        }
      ]
    },
    {
      "cell_type": "code",
      "source": [],
      "metadata": {
        "id": "uvmCG_EhLqbW"
      },
      "execution_count": null,
      "outputs": []
    },
    {
      "cell_type": "markdown",
      "source": [
        "## 6. Let's formulate another query"
      ],
      "metadata": {
        "id": "76e3W8s2FxHQ"
      }
    },
    {
      "cell_type": "code",
      "source": [
        "response = llm.call_as_llm(f\"the following document lists Medical Events involving Emergency Room services. Your tasks are: \\\n",
        "(1) compute total expenses {qdocs}\")"
      ],
      "metadata": {
        "id": "79D70kYOFzAJ"
      },
      "execution_count": 193,
      "outputs": []
    },
    {
      "cell_type": "code",
      "source": [
        "display(Markdown(response))"
      ],
      "metadata": {
        "colab": {
          "base_uri": "https://localhost:8080/",
          "height": 370
        },
        "id": "yPyfAMZlF_uX",
        "outputId": "c24d7ebe-4f99-4c5b-fad5-bd04658d0235"
      },
      "execution_count": 194,
      "outputs": [
        {
          "output_type": "display_data",
          "data": {
            "text/plain": [
              "<IPython.core.display.Markdown object>"
            ],
            "text/markdown": "To compute the total expenses from the provided medical claims, we will sum up the TotalExpenses from each claim.\n\n1. MedicalClaim: 6016589b30e19fd0\n   - TotalExpenses: $6,728.981\n\n2. MedicalClaim: 3076d98ae812aec7\n   - TotalExpenses: $4,739.028\n\n3. MedicalClaim: d0b551e232e1b6f1\n   - TotalExpenses: $36,030.337\n\n4. MedicalClaim: f92bb137b39f997b\n   - TotalExpenses: $115,949.302\n\n5. MedicalClaim: 3d3f3e6226e870f9\n   - TotalExpenses: $74,796.841\n\nAdding these amounts together gives the total expenses:\n\nTotal = $6,728.981 + $4,739.028 + $36,030.337 + $115,949.302 + $74,796.841\nTotal = $238,244.489\n\nTherefore, the total expenses for all the listed medical claims involving emergency room services is $238,244.489."
          },
          "metadata": {}
        }
      ]
    },
    {
      "cell_type": "code",
      "source": [],
      "metadata": {
        "id": "nMlUf4cBGBgq"
      },
      "execution_count": null,
      "outputs": []
    }
  ]
}