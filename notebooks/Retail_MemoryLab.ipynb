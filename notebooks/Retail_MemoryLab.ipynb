{
  "nbformat": 4,
  "nbformat_minor": 0,
  "metadata": {
    "colab": {
      "provenance": [],
      "authorship_tag": "ABX9TyOw0MZ/0atUyCxaxfeq3RIA"
    },
    "kernelspec": {
      "name": "python3",
      "display_name": "Python 3"
    },
    "language_info": {
      "name": "python"
    }
  },
  "cells": [
    {
      "cell_type": "markdown",
      "source": [
        "## GenerativeAI4DS-II\n",
        "## Retail Lab: Implementing basic memory services in LangChain\n"
      ],
      "metadata": {
        "id": "6Sw5D2XvB6of"
      }
    },
    {
      "cell_type": "markdown",
      "source": [
        "### LLMS are stateless, they don't keep previous conversations in memory. Conversational bots need to keep track of past interactions with the user.\n",
        "### In this lab you will learn how to implement \"stateful\" LLMs through LangChain's API."
      ],
      "metadata": {
        "id": "6svar5-1CGi_"
      }
    },
    {
      "cell_type": "markdown",
      "source": [
        "### Get your [OpenAI API Key](https://platform.openai.com/account/api-keys)"
      ],
      "metadata": {
        "id": "Dl_KD3DSCR4w"
      }
    },
    {
      "cell_type": "code",
      "source": [
        "#OPENAI_API_KEY=\"YOU-NEED-YOUR-OWN-KEY\""
      ],
      "metadata": {
        "id": "5ipJpykzVyuX"
      },
      "execution_count": 12,
      "outputs": []
    },
    {
      "cell_type": "code",
      "execution_count": 13,
      "metadata": {
        "colab": {
          "base_uri": "https://localhost:8080/"
        },
        "id": "LyCRmhg2BytA",
        "outputId": "8d598d71-1af3-4e03-cf89-1af28d25511b"
      },
      "outputs": [
        {
          "output_type": "stream",
          "name": "stdout",
          "text": [
            "Requirement already satisfied: langchain in /usr/local/lib/python3.10/dist-packages (0.2.6)\n",
            "Requirement already satisfied: PyYAML>=5.3 in /usr/local/lib/python3.10/dist-packages (from langchain) (6.0.1)\n",
            "Requirement already satisfied: SQLAlchemy<3,>=1.4 in /usr/local/lib/python3.10/dist-packages (from langchain) (2.0.31)\n",
            "Requirement already satisfied: aiohttp<4.0.0,>=3.8.3 in /usr/local/lib/python3.10/dist-packages (from langchain) (3.9.5)\n",
            "Requirement already satisfied: async-timeout<5.0.0,>=4.0.0 in /usr/local/lib/python3.10/dist-packages (from langchain) (4.0.3)\n",
            "Requirement already satisfied: langchain-core<0.3.0,>=0.2.10 in /usr/local/lib/python3.10/dist-packages (from langchain) (0.2.10)\n",
            "Requirement already satisfied: langchain-text-splitters<0.3.0,>=0.2.0 in /usr/local/lib/python3.10/dist-packages (from langchain) (0.2.2)\n",
            "Requirement already satisfied: langsmith<0.2.0,>=0.1.17 in /usr/local/lib/python3.10/dist-packages (from langchain) (0.1.83)\n",
            "Requirement already satisfied: numpy<2,>=1 in /usr/local/lib/python3.10/dist-packages (from langchain) (1.25.2)\n",
            "Requirement already satisfied: pydantic<3,>=1 in /usr/local/lib/python3.10/dist-packages (from langchain) (2.7.4)\n",
            "Requirement already satisfied: requests<3,>=2 in /usr/local/lib/python3.10/dist-packages (from langchain) (2.31.0)\n",
            "Requirement already satisfied: tenacity!=8.4.0,<9.0.0,>=8.1.0 in /usr/local/lib/python3.10/dist-packages (from langchain) (8.4.2)\n",
            "Requirement already satisfied: aiosignal>=1.1.2 in /usr/local/lib/python3.10/dist-packages (from aiohttp<4.0.0,>=3.8.3->langchain) (1.3.1)\n",
            "Requirement already satisfied: attrs>=17.3.0 in /usr/local/lib/python3.10/dist-packages (from aiohttp<4.0.0,>=3.8.3->langchain) (23.2.0)\n",
            "Requirement already satisfied: frozenlist>=1.1.1 in /usr/local/lib/python3.10/dist-packages (from aiohttp<4.0.0,>=3.8.3->langchain) (1.4.1)\n",
            "Requirement already satisfied: multidict<7.0,>=4.5 in /usr/local/lib/python3.10/dist-packages (from aiohttp<4.0.0,>=3.8.3->langchain) (6.0.5)\n",
            "Requirement already satisfied: yarl<2.0,>=1.0 in /usr/local/lib/python3.10/dist-packages (from aiohttp<4.0.0,>=3.8.3->langchain) (1.9.4)\n",
            "Requirement already satisfied: jsonpatch<2.0,>=1.33 in /usr/local/lib/python3.10/dist-packages (from langchain-core<0.3.0,>=0.2.10->langchain) (1.33)\n",
            "Requirement already satisfied: packaging<25,>=23.2 in /usr/local/lib/python3.10/dist-packages (from langchain-core<0.3.0,>=0.2.10->langchain) (24.1)\n",
            "Requirement already satisfied: orjson<4.0.0,>=3.9.14 in /usr/local/lib/python3.10/dist-packages (from langsmith<0.2.0,>=0.1.17->langchain) (3.10.5)\n",
            "Requirement already satisfied: annotated-types>=0.4.0 in /usr/local/lib/python3.10/dist-packages (from pydantic<3,>=1->langchain) (0.7.0)\n",
            "Requirement already satisfied: pydantic-core==2.18.4 in /usr/local/lib/python3.10/dist-packages (from pydantic<3,>=1->langchain) (2.18.4)\n",
            "Requirement already satisfied: typing-extensions>=4.6.1 in /usr/local/lib/python3.10/dist-packages (from pydantic<3,>=1->langchain) (4.12.2)\n",
            "Requirement already satisfied: charset-normalizer<4,>=2 in /usr/local/lib/python3.10/dist-packages (from requests<3,>=2->langchain) (3.3.2)\n",
            "Requirement already satisfied: idna<4,>=2.5 in /usr/local/lib/python3.10/dist-packages (from requests<3,>=2->langchain) (3.7)\n",
            "Requirement already satisfied: urllib3<3,>=1.21.1 in /usr/local/lib/python3.10/dist-packages (from requests<3,>=2->langchain) (2.0.7)\n",
            "Requirement already satisfied: certifi>=2017.4.17 in /usr/local/lib/python3.10/dist-packages (from requests<3,>=2->langchain) (2024.6.2)\n",
            "Requirement already satisfied: greenlet!=0.4.17 in /usr/local/lib/python3.10/dist-packages (from SQLAlchemy<3,>=1.4->langchain) (3.0.3)\n",
            "Requirement already satisfied: jsonpointer>=1.9 in /usr/local/lib/python3.10/dist-packages (from jsonpatch<2.0,>=1.33->langchain-core<0.3.0,>=0.2.10->langchain) (3.0.0)\n"
          ]
        }
      ],
      "source": [
        "!pip install --upgrade langchain;"
      ]
    },
    {
      "cell_type": "code",
      "source": [
        "\n",
        "!pip install openai"
      ],
      "metadata": {
        "colab": {
          "base_uri": "https://localhost:8080/"
        },
        "id": "JoM-v1DoCsI5",
        "outputId": "d83f72aa-afb1-4e2d-cb84-f5521c2b2ef5"
      },
      "execution_count": 14,
      "outputs": [
        {
          "output_type": "stream",
          "name": "stdout",
          "text": [
            "Requirement already satisfied: openai in /usr/local/lib/python3.10/dist-packages (1.35.7)\n",
            "Requirement already satisfied: anyio<5,>=3.5.0 in /usr/local/lib/python3.10/dist-packages (from openai) (3.7.1)\n",
            "Requirement already satisfied: distro<2,>=1.7.0 in /usr/lib/python3/dist-packages (from openai) (1.7.0)\n",
            "Requirement already satisfied: httpx<1,>=0.23.0 in /usr/local/lib/python3.10/dist-packages (from openai) (0.27.0)\n",
            "Requirement already satisfied: pydantic<3,>=1.9.0 in /usr/local/lib/python3.10/dist-packages (from openai) (2.7.4)\n",
            "Requirement already satisfied: sniffio in /usr/local/lib/python3.10/dist-packages (from openai) (1.3.1)\n",
            "Requirement already satisfied: tqdm>4 in /usr/local/lib/python3.10/dist-packages (from openai) (4.66.4)\n",
            "Requirement already satisfied: typing-extensions<5,>=4.7 in /usr/local/lib/python3.10/dist-packages (from openai) (4.12.2)\n",
            "Requirement already satisfied: idna>=2.8 in /usr/local/lib/python3.10/dist-packages (from anyio<5,>=3.5.0->openai) (3.7)\n",
            "Requirement already satisfied: exceptiongroup in /usr/local/lib/python3.10/dist-packages (from anyio<5,>=3.5.0->openai) (1.2.1)\n",
            "Requirement already satisfied: certifi in /usr/local/lib/python3.10/dist-packages (from httpx<1,>=0.23.0->openai) (2024.6.2)\n",
            "Requirement already satisfied: httpcore==1.* in /usr/local/lib/python3.10/dist-packages (from httpx<1,>=0.23.0->openai) (1.0.5)\n",
            "Requirement already satisfied: h11<0.15,>=0.13 in /usr/local/lib/python3.10/dist-packages (from httpcore==1.*->httpx<1,>=0.23.0->openai) (0.14.0)\n",
            "Requirement already satisfied: annotated-types>=0.4.0 in /usr/local/lib/python3.10/dist-packages (from pydantic<3,>=1.9.0->openai) (0.7.0)\n",
            "Requirement already satisfied: pydantic-core==2.18.4 in /usr/local/lib/python3.10/dist-packages (from pydantic<3,>=1.9.0->openai) (2.18.4)\n"
          ]
        }
      ]
    },
    {
      "cell_type": "code",
      "source": [
        "!pip install langchain-community"
      ],
      "metadata": {
        "colab": {
          "base_uri": "https://localhost:8080/"
        },
        "id": "f_KTgX_PSKMX",
        "outputId": "24a4fecf-9543-4864-d583-3f16d2a62866"
      },
      "execution_count": 15,
      "outputs": [
        {
          "output_type": "stream",
          "name": "stdout",
          "text": [
            "Requirement already satisfied: langchain-community in /usr/local/lib/python3.10/dist-packages (0.2.6)\n",
            "Requirement already satisfied: PyYAML>=5.3 in /usr/local/lib/python3.10/dist-packages (from langchain-community) (6.0.1)\n",
            "Requirement already satisfied: SQLAlchemy<3,>=1.4 in /usr/local/lib/python3.10/dist-packages (from langchain-community) (2.0.31)\n",
            "Requirement already satisfied: aiohttp<4.0.0,>=3.8.3 in /usr/local/lib/python3.10/dist-packages (from langchain-community) (3.9.5)\n",
            "Requirement already satisfied: dataclasses-json<0.7,>=0.5.7 in /usr/local/lib/python3.10/dist-packages (from langchain-community) (0.6.7)\n",
            "Requirement already satisfied: langchain<0.3.0,>=0.2.6 in /usr/local/lib/python3.10/dist-packages (from langchain-community) (0.2.6)\n",
            "Requirement already satisfied: langchain-core<0.3.0,>=0.2.10 in /usr/local/lib/python3.10/dist-packages (from langchain-community) (0.2.10)\n",
            "Requirement already satisfied: langsmith<0.2.0,>=0.1.0 in /usr/local/lib/python3.10/dist-packages (from langchain-community) (0.1.83)\n",
            "Requirement already satisfied: numpy<2,>=1 in /usr/local/lib/python3.10/dist-packages (from langchain-community) (1.25.2)\n",
            "Requirement already satisfied: requests<3,>=2 in /usr/local/lib/python3.10/dist-packages (from langchain-community) (2.31.0)\n",
            "Requirement already satisfied: tenacity!=8.4.0,<9.0.0,>=8.1.0 in /usr/local/lib/python3.10/dist-packages (from langchain-community) (8.4.2)\n",
            "Requirement already satisfied: aiosignal>=1.1.2 in /usr/local/lib/python3.10/dist-packages (from aiohttp<4.0.0,>=3.8.3->langchain-community) (1.3.1)\n",
            "Requirement already satisfied: attrs>=17.3.0 in /usr/local/lib/python3.10/dist-packages (from aiohttp<4.0.0,>=3.8.3->langchain-community) (23.2.0)\n",
            "Requirement already satisfied: frozenlist>=1.1.1 in /usr/local/lib/python3.10/dist-packages (from aiohttp<4.0.0,>=3.8.3->langchain-community) (1.4.1)\n",
            "Requirement already satisfied: multidict<7.0,>=4.5 in /usr/local/lib/python3.10/dist-packages (from aiohttp<4.0.0,>=3.8.3->langchain-community) (6.0.5)\n",
            "Requirement already satisfied: yarl<2.0,>=1.0 in /usr/local/lib/python3.10/dist-packages (from aiohttp<4.0.0,>=3.8.3->langchain-community) (1.9.4)\n",
            "Requirement already satisfied: async-timeout<5.0,>=4.0 in /usr/local/lib/python3.10/dist-packages (from aiohttp<4.0.0,>=3.8.3->langchain-community) (4.0.3)\n",
            "Requirement already satisfied: marshmallow<4.0.0,>=3.18.0 in /usr/local/lib/python3.10/dist-packages (from dataclasses-json<0.7,>=0.5.7->langchain-community) (3.21.3)\n",
            "Requirement already satisfied: typing-inspect<1,>=0.4.0 in /usr/local/lib/python3.10/dist-packages (from dataclasses-json<0.7,>=0.5.7->langchain-community) (0.9.0)\n",
            "Requirement already satisfied: langchain-text-splitters<0.3.0,>=0.2.0 in /usr/local/lib/python3.10/dist-packages (from langchain<0.3.0,>=0.2.6->langchain-community) (0.2.2)\n",
            "Requirement already satisfied: pydantic<3,>=1 in /usr/local/lib/python3.10/dist-packages (from langchain<0.3.0,>=0.2.6->langchain-community) (2.7.4)\n",
            "Requirement already satisfied: jsonpatch<2.0,>=1.33 in /usr/local/lib/python3.10/dist-packages (from langchain-core<0.3.0,>=0.2.10->langchain-community) (1.33)\n",
            "Requirement already satisfied: packaging<25,>=23.2 in /usr/local/lib/python3.10/dist-packages (from langchain-core<0.3.0,>=0.2.10->langchain-community) (24.1)\n",
            "Requirement already satisfied: orjson<4.0.0,>=3.9.14 in /usr/local/lib/python3.10/dist-packages (from langsmith<0.2.0,>=0.1.0->langchain-community) (3.10.5)\n",
            "Requirement already satisfied: charset-normalizer<4,>=2 in /usr/local/lib/python3.10/dist-packages (from requests<3,>=2->langchain-community) (3.3.2)\n",
            "Requirement already satisfied: idna<4,>=2.5 in /usr/local/lib/python3.10/dist-packages (from requests<3,>=2->langchain-community) (3.7)\n",
            "Requirement already satisfied: urllib3<3,>=1.21.1 in /usr/local/lib/python3.10/dist-packages (from requests<3,>=2->langchain-community) (2.0.7)\n",
            "Requirement already satisfied: certifi>=2017.4.17 in /usr/local/lib/python3.10/dist-packages (from requests<3,>=2->langchain-community) (2024.6.2)\n",
            "Requirement already satisfied: typing-extensions>=4.6.0 in /usr/local/lib/python3.10/dist-packages (from SQLAlchemy<3,>=1.4->langchain-community) (4.12.2)\n",
            "Requirement already satisfied: greenlet!=0.4.17 in /usr/local/lib/python3.10/dist-packages (from SQLAlchemy<3,>=1.4->langchain-community) (3.0.3)\n",
            "Requirement already satisfied: jsonpointer>=1.9 in /usr/local/lib/python3.10/dist-packages (from jsonpatch<2.0,>=1.33->langchain-core<0.3.0,>=0.2.10->langchain-community) (3.0.0)\n",
            "Requirement already satisfied: annotated-types>=0.4.0 in /usr/local/lib/python3.10/dist-packages (from pydantic<3,>=1->langchain<0.3.0,>=0.2.6->langchain-community) (0.7.0)\n",
            "Requirement already satisfied: pydantic-core==2.18.4 in /usr/local/lib/python3.10/dist-packages (from pydantic<3,>=1->langchain<0.3.0,>=0.2.6->langchain-community) (2.18.4)\n",
            "Requirement already satisfied: mypy-extensions>=0.3.0 in /usr/local/lib/python3.10/dist-packages (from typing-inspect<1,>=0.4.0->dataclasses-json<0.7,>=0.5.7->langchain-community) (1.0.0)\n"
          ]
        }
      ]
    },
    {
      "cell_type": "code",
      "source": [
        "import os\n",
        "import openai\n",
        "\n"
      ],
      "metadata": {
        "id": "IWoj8JJzCxKB"
      },
      "execution_count": 16,
      "outputs": []
    },
    {
      "cell_type": "code",
      "source": [],
      "metadata": {
        "id": "HRQ0G9VBCxHt"
      },
      "execution_count": 16,
      "outputs": []
    },
    {
      "cell_type": "code",
      "source": [],
      "metadata": {
        "id": "MNrWieviCxE0"
      },
      "execution_count": 16,
      "outputs": []
    },
    {
      "cell_type": "code",
      "source": [],
      "metadata": {
        "id": "Wz5TOnffCxBd"
      },
      "execution_count": 16,
      "outputs": []
    },
    {
      "cell_type": "markdown",
      "source": [
        "### 1. Model\n",
        "#### This time we specify a model with memory capabilities"
      ],
      "metadata": {
        "id": "fYYaGF0fCV4-"
      }
    },
    {
      "cell_type": "code",
      "source": [
        "from langchain.chat_models import ChatOpenAI\n",
        "from langchain.chains import ConversationChain\n",
        "from langchain.memory import ConversationBufferMemory\n"
      ],
      "metadata": {
        "id": "wdRFVAmGDJPA"
      },
      "execution_count": 17,
      "outputs": []
    },
    {
      "cell_type": "code",
      "source": [
        "\n",
        "llm = ChatOpenAI(temperature=0.0, model='gpt-3.5-turbo',openai_api_key=OPENAI_API_KEY)"
      ],
      "metadata": {
        "id": "yPo6awxi_Jtz"
      },
      "execution_count": 18,
      "outputs": []
    },
    {
      "cell_type": "markdown",
      "source": [
        "### 2. Memory functionality\n",
        "#### This time we specify a model with memory capabilities\n",
        "#### We also initialize the system with information on three different products we sell"
      ],
      "metadata": {
        "id": "WOGipbhe_LvZ"
      }
    },
    {
      "cell_type": "code",
      "source": [],
      "metadata": {
        "id": "OmJI_K-9hm_6"
      },
      "execution_count": 20,
      "outputs": []
    },
    {
      "cell_type": "code",
      "source": [
        "## We set verbose=True to inspect how the LLM operates\n",
        "memory = ConversationBufferMemory()\n",
        "conversation = ConversationChain(\n",
        "    llm=llm,\n",
        "    memory = memory,\n",
        "    verbose=True\n",
        ")"
      ],
      "metadata": {
        "id": "KB6UJOmtDaBp"
      },
      "execution_count": 49,
      "outputs": []
    },
    {
      "cell_type": "code",
      "source": [
        "memory.chat_memory.add_user_message(\"Product Name:Saturn trs (J), Section Name: Womens Nightwear, Socks & Tigh, Product Description: Pyjama bottoms in sweatshirt fabric with wide elastication at the waist and tapered legs with elasticated hems. Soft brushed inside., Product Price: 30 US Dollars\")"
      ],
      "metadata": {
        "id": "IKNMqmB3gqDc"
      },
      "execution_count": 50,
      "outputs": []
    },
    {
      "cell_type": "code",
      "source": [
        "memory.chat_memory.add_user_message(\"Product Name:OLEANDER LINEN STRAP TOP, Section Name: Womens Casual, Product Description: Top in slub jersey made from a viscose and linen blend with a V-neck, narrow shoulder straps and buttons down the front., Product Price: 75 US Dollars\")"
      ],
      "metadata": {
        "id": "tmSv8xoUkMxJ"
      },
      "execution_count": 51,
      "outputs": []
    },
    {
      "cell_type": "code",
      "source": [
        "memory.chat_memory.add_user_message(\"Product Name:Ginger Top, Section Name: Womens Swimwear, beachwear, Product Description: Fully lined, non-wired bikini top with adjustable shoulder straps, removable inserts that shape the bust and provide good support, lacing at the front and a frill trim at the hem. No fasteners. , Product Price: 55 US Dollars\")\n",
        "\n",
        "\n",
        "\n"
      ],
      "metadata": {
        "id": "aIWIygyokMu4"
      },
      "execution_count": 52,
      "outputs": []
    },
    {
      "cell_type": "code",
      "source": [],
      "metadata": {
        "id": "2ajpwLINkMsR"
      },
      "execution_count": null,
      "outputs": []
    },
    {
      "cell_type": "code",
      "source": [],
      "metadata": {
        "id": "QZCMOdS-kMpc"
      },
      "execution_count": null,
      "outputs": []
    },
    {
      "cell_type": "markdown",
      "source": [
        "### 3. Conversations\n",
        "#### Now that we have a model with memory capabilities we can implement basic conversational bots"
      ],
      "metadata": {
        "id": "CTPTtOGv_dui"
      }
    },
    {
      "cell_type": "code",
      "source": [
        "conversation.predict(input=\"how many products have you got ?\")"
      ],
      "metadata": {
        "colab": {
          "base_uri": "https://localhost:8080/",
          "height": 327
        },
        "id": "8ovtrZw6-GUx",
        "outputId": "b66c57a7-a6e6-4f95-975e-e35ccc4b75ac"
      },
      "execution_count": 53,
      "outputs": [
        {
          "output_type": "stream",
          "name": "stdout",
          "text": [
            "\n",
            "\n",
            "\u001b[1m> Entering new ConversationChain chain...\u001b[0m\n",
            "Prompt after formatting:\n",
            "\u001b[32;1m\u001b[1;3mThe following is a friendly conversation between a human and an AI. The AI is talkative and provides lots of specific details from its context. If the AI does not know the answer to a question, it truthfully says it does not know.\n",
            "\n",
            "Current conversation:\n",
            "Human: Product Name:Saturn trs (J), Section Name: Womens Nightwear, Socks & Tigh, Product Description: Pyjama bottoms in sweatshirt fabric with wide elastication at the waist and tapered legs with elasticated hems. Soft brushed inside., Product Price: 30 US Dollars\n",
            "Human: Product Name:OLEANDER LINEN STRAP TOP, Section Name: Womens Casual, Product Description: Top in slub jersey made from a viscose and linen blend with a V-neck, narrow shoulder straps and buttons down the front., Product Price: 75 US Dollars\n",
            "Human: Product Name:Ginger Top, Section Name: Womens Swimwear, beachwear, Product Description: Fully lined, non-wired bikini top with adjustable shoulder straps, removable inserts that shape the bust and provide good support, lacing at the front and a frill trim at the hem. No fasteners. , Product Price: 55 US Dollars\n",
            "Human: how many products have you got ?\n",
            "AI:\u001b[0m\n",
            "\n",
            "\u001b[1m> Finished chain.\u001b[0m\n"
          ]
        },
        {
          "output_type": "execute_result",
          "data": {
            "text/plain": [
              "\"I currently have information on three products: Saturn trs (J) in the Women's Nightwear, Socks & Tights section priced at 30 US Dollars, OLEANDER LINEN STRAP TOP in the Women's Casual section priced at 75 US Dollars, and Ginger Top in the Women's Swimwear, beachwear section priced at 55 US Dollars.\""
            ],
            "application/vnd.google.colaboratory.intrinsic+json": {
              "type": "string"
            }
          },
          "metadata": {},
          "execution_count": 53
        }
      ]
    },
    {
      "cell_type": "code",
      "source": [
        "conversation.predict(input=\"i need a special nightwear, what have you got ?\")"
      ],
      "metadata": {
        "colab": {
          "base_uri": "https://localhost:8080/",
          "height": 361
        },
        "id": "G51fxUpgkRcq",
        "outputId": "3be8f5e1-a3f4-4ed1-a95b-f70a895d3453"
      },
      "execution_count": 54,
      "outputs": [
        {
          "output_type": "stream",
          "name": "stdout",
          "text": [
            "\n",
            "\n",
            "\u001b[1m> Entering new ConversationChain chain...\u001b[0m\n",
            "Prompt after formatting:\n",
            "\u001b[32;1m\u001b[1;3mThe following is a friendly conversation between a human and an AI. The AI is talkative and provides lots of specific details from its context. If the AI does not know the answer to a question, it truthfully says it does not know.\n",
            "\n",
            "Current conversation:\n",
            "Human: Product Name:Saturn trs (J), Section Name: Womens Nightwear, Socks & Tigh, Product Description: Pyjama bottoms in sweatshirt fabric with wide elastication at the waist and tapered legs with elasticated hems. Soft brushed inside., Product Price: 30 US Dollars\n",
            "Human: Product Name:OLEANDER LINEN STRAP TOP, Section Name: Womens Casual, Product Description: Top in slub jersey made from a viscose and linen blend with a V-neck, narrow shoulder straps and buttons down the front., Product Price: 75 US Dollars\n",
            "Human: Product Name:Ginger Top, Section Name: Womens Swimwear, beachwear, Product Description: Fully lined, non-wired bikini top with adjustable shoulder straps, removable inserts that shape the bust and provide good support, lacing at the front and a frill trim at the hem. No fasteners. , Product Price: 55 US Dollars\n",
            "Human: how many products have you got ?\n",
            "AI: I currently have information on three products: Saturn trs (J) in the Women's Nightwear, Socks & Tights section priced at 30 US Dollars, OLEANDER LINEN STRAP TOP in the Women's Casual section priced at 75 US Dollars, and Ginger Top in the Women's Swimwear, beachwear section priced at 55 US Dollars.\n",
            "Human: i need a special nightwear, what have you got ?\n",
            "AI:\u001b[0m\n",
            "\n",
            "\u001b[1m> Finished chain.\u001b[0m\n"
          ]
        },
        {
          "output_type": "execute_result",
          "data": {
            "text/plain": [
              "\"For special nightwear, I recommend the Saturn trs (J) in the Women's Nightwear, Socks & Tights section. It is pyjama bottoms in sweatshirt fabric with wide elastication at the waist and tapered legs with elasticated hems. The soft brushed inside adds extra comfort. It is priced at 30 US Dollars.\""
            ],
            "application/vnd.google.colaboratory.intrinsic+json": {
              "type": "string"
            }
          },
          "metadata": {},
          "execution_count": 54
        }
      ]
    },
    {
      "cell_type": "code",
      "source": [
        "conversation.predict(input=\"i need a jersey, what have you got ?\")"
      ],
      "metadata": {
        "colab": {
          "base_uri": "https://localhost:8080/",
          "height": 378
        },
        "id": "BYEqltmEkRaU",
        "outputId": "b71dcf7e-75fc-4534-8da9-59281414a9b4"
      },
      "execution_count": 55,
      "outputs": [
        {
          "output_type": "stream",
          "name": "stdout",
          "text": [
            "\n",
            "\n",
            "\u001b[1m> Entering new ConversationChain chain...\u001b[0m\n",
            "Prompt after formatting:\n",
            "\u001b[32;1m\u001b[1;3mThe following is a friendly conversation between a human and an AI. The AI is talkative and provides lots of specific details from its context. If the AI does not know the answer to a question, it truthfully says it does not know.\n",
            "\n",
            "Current conversation:\n",
            "Human: Product Name:Saturn trs (J), Section Name: Womens Nightwear, Socks & Tigh, Product Description: Pyjama bottoms in sweatshirt fabric with wide elastication at the waist and tapered legs with elasticated hems. Soft brushed inside., Product Price: 30 US Dollars\n",
            "Human: Product Name:OLEANDER LINEN STRAP TOP, Section Name: Womens Casual, Product Description: Top in slub jersey made from a viscose and linen blend with a V-neck, narrow shoulder straps and buttons down the front., Product Price: 75 US Dollars\n",
            "Human: Product Name:Ginger Top, Section Name: Womens Swimwear, beachwear, Product Description: Fully lined, non-wired bikini top with adjustable shoulder straps, removable inserts that shape the bust and provide good support, lacing at the front and a frill trim at the hem. No fasteners. , Product Price: 55 US Dollars\n",
            "Human: how many products have you got ?\n",
            "AI: I currently have information on three products: Saturn trs (J) in the Women's Nightwear, Socks & Tights section priced at 30 US Dollars, OLEANDER LINEN STRAP TOP in the Women's Casual section priced at 75 US Dollars, and Ginger Top in the Women's Swimwear, beachwear section priced at 55 US Dollars.\n",
            "Human: i need a special nightwear, what have you got ?\n",
            "AI: For special nightwear, I recommend the Saturn trs (J) in the Women's Nightwear, Socks & Tights section. It is pyjama bottoms in sweatshirt fabric with wide elastication at the waist and tapered legs with elasticated hems. The soft brushed inside adds extra comfort. It is priced at 30 US Dollars.\n",
            "Human: i need a jersey, what have you got ?\n",
            "AI:\u001b[0m\n",
            "\n",
            "\u001b[1m> Finished chain.\u001b[0m\n"
          ]
        },
        {
          "output_type": "execute_result",
          "data": {
            "text/plain": [
              "\"For a jersey, I recommend the OLEANDER LINEN STRAP TOP in the Women's Casual section. It is a top in slub jersey made from a viscose and linen blend with a V-neck, narrow shoulder straps, and buttons down the front. It is priced at 75 US Dollars.\""
            ],
            "application/vnd.google.colaboratory.intrinsic+json": {
              "type": "string"
            }
          },
          "metadata": {},
          "execution_count": 55
        }
      ]
    },
    {
      "cell_type": "code",
      "source": [
        "conversation.predict(input=\"I am going on vacation to the seaside, can you suggest anything to me ?\")"
      ],
      "metadata": {
        "colab": {
          "base_uri": "https://localhost:8080/",
          "height": 429
        },
        "id": "eKTy2AppkRX9",
        "outputId": "9c476f9b-9ef2-43a8-9108-079f4fff0e86"
      },
      "execution_count": 56,
      "outputs": [
        {
          "output_type": "stream",
          "name": "stdout",
          "text": [
            "\n",
            "\n",
            "\u001b[1m> Entering new ConversationChain chain...\u001b[0m\n",
            "Prompt after formatting:\n",
            "\u001b[32;1m\u001b[1;3mThe following is a friendly conversation between a human and an AI. The AI is talkative and provides lots of specific details from its context. If the AI does not know the answer to a question, it truthfully says it does not know.\n",
            "\n",
            "Current conversation:\n",
            "Human: Product Name:Saturn trs (J), Section Name: Womens Nightwear, Socks & Tigh, Product Description: Pyjama bottoms in sweatshirt fabric with wide elastication at the waist and tapered legs with elasticated hems. Soft brushed inside., Product Price: 30 US Dollars\n",
            "Human: Product Name:OLEANDER LINEN STRAP TOP, Section Name: Womens Casual, Product Description: Top in slub jersey made from a viscose and linen blend with a V-neck, narrow shoulder straps and buttons down the front., Product Price: 75 US Dollars\n",
            "Human: Product Name:Ginger Top, Section Name: Womens Swimwear, beachwear, Product Description: Fully lined, non-wired bikini top with adjustable shoulder straps, removable inserts that shape the bust and provide good support, lacing at the front and a frill trim at the hem. No fasteners. , Product Price: 55 US Dollars\n",
            "Human: how many products have you got ?\n",
            "AI: I currently have information on three products: Saturn trs (J) in the Women's Nightwear, Socks & Tights section priced at 30 US Dollars, OLEANDER LINEN STRAP TOP in the Women's Casual section priced at 75 US Dollars, and Ginger Top in the Women's Swimwear, beachwear section priced at 55 US Dollars.\n",
            "Human: i need a special nightwear, what have you got ?\n",
            "AI: For special nightwear, I recommend the Saturn trs (J) in the Women's Nightwear, Socks & Tights section. It is pyjama bottoms in sweatshirt fabric with wide elastication at the waist and tapered legs with elasticated hems. The soft brushed inside adds extra comfort. It is priced at 30 US Dollars.\n",
            "Human: i need a jersey, what have you got ?\n",
            "AI: For a jersey, I recommend the OLEANDER LINEN STRAP TOP in the Women's Casual section. It is a top in slub jersey made from a viscose and linen blend with a V-neck, narrow shoulder straps, and buttons down the front. It is priced at 75 US Dollars.\n",
            "Human: I am going on vacation to the seaside, can you suggest anything to me ?\n",
            "AI:\u001b[0m\n",
            "\n",
            "\u001b[1m> Finished chain.\u001b[0m\n"
          ]
        },
        {
          "output_type": "execute_result",
          "data": {
            "text/plain": [
              "\"For your vacation to the seaside, I recommend the Ginger Top in the Women's Swimwear, beachwear section. It is a fully lined, non-wired bikini top with adjustable shoulder straps, removable inserts for shaping and support, lacing at the front, and a frill trim at the hem. It does not have any fasteners and is priced at 55 US Dollars. Enjoy your vacation!\""
            ],
            "application/vnd.google.colaboratory.intrinsic+json": {
              "type": "string"
            }
          },
          "metadata": {},
          "execution_count": 56
        }
      ]
    },
    {
      "cell_type": "code",
      "source": [
        "conversation.predict(input=\"Do you offer any discount?\")"
      ],
      "metadata": {
        "colab": {
          "base_uri": "https://localhost:8080/",
          "height": 429
        },
        "id": "fWoYXLq2kRVn",
        "outputId": "4cea2a55-9043-4733-8830-c55b6203a54f"
      },
      "execution_count": 57,
      "outputs": [
        {
          "output_type": "stream",
          "name": "stdout",
          "text": [
            "\n",
            "\n",
            "\u001b[1m> Entering new ConversationChain chain...\u001b[0m\n",
            "Prompt after formatting:\n",
            "\u001b[32;1m\u001b[1;3mThe following is a friendly conversation between a human and an AI. The AI is talkative and provides lots of specific details from its context. If the AI does not know the answer to a question, it truthfully says it does not know.\n",
            "\n",
            "Current conversation:\n",
            "Human: Product Name:Saturn trs (J), Section Name: Womens Nightwear, Socks & Tigh, Product Description: Pyjama bottoms in sweatshirt fabric with wide elastication at the waist and tapered legs with elasticated hems. Soft brushed inside., Product Price: 30 US Dollars\n",
            "Human: Product Name:OLEANDER LINEN STRAP TOP, Section Name: Womens Casual, Product Description: Top in slub jersey made from a viscose and linen blend with a V-neck, narrow shoulder straps and buttons down the front., Product Price: 75 US Dollars\n",
            "Human: Product Name:Ginger Top, Section Name: Womens Swimwear, beachwear, Product Description: Fully lined, non-wired bikini top with adjustable shoulder straps, removable inserts that shape the bust and provide good support, lacing at the front and a frill trim at the hem. No fasteners. , Product Price: 55 US Dollars\n",
            "Human: how many products have you got ?\n",
            "AI: I currently have information on three products: Saturn trs (J) in the Women's Nightwear, Socks & Tights section priced at 30 US Dollars, OLEANDER LINEN STRAP TOP in the Women's Casual section priced at 75 US Dollars, and Ginger Top in the Women's Swimwear, beachwear section priced at 55 US Dollars.\n",
            "Human: i need a special nightwear, what have you got ?\n",
            "AI: For special nightwear, I recommend the Saturn trs (J) in the Women's Nightwear, Socks & Tights section. It is pyjama bottoms in sweatshirt fabric with wide elastication at the waist and tapered legs with elasticated hems. The soft brushed inside adds extra comfort. It is priced at 30 US Dollars.\n",
            "Human: i need a jersey, what have you got ?\n",
            "AI: For a jersey, I recommend the OLEANDER LINEN STRAP TOP in the Women's Casual section. It is a top in slub jersey made from a viscose and linen blend with a V-neck, narrow shoulder straps, and buttons down the front. It is priced at 75 US Dollars.\n",
            "Human: I am going on vacation to the seaside, can you suggest anything to me ?\n",
            "AI: For your vacation to the seaside, I recommend the Ginger Top in the Women's Swimwear, beachwear section. It is a fully lined, non-wired bikini top with adjustable shoulder straps, removable inserts for shaping and support, lacing at the front, and a frill trim at the hem. It does not have any fasteners and is priced at 55 US Dollars. Enjoy your vacation!\n",
            "Human: Do you offer any discount?\n",
            "AI:\u001b[0m\n",
            "\n",
            "\u001b[1m> Finished chain.\u001b[0m\n"
          ]
        },
        {
          "output_type": "execute_result",
          "data": {
            "text/plain": [
              "'I do not have information on any discounts at the moment.'"
            ],
            "application/vnd.google.colaboratory.intrinsic+json": {
              "type": "string"
            }
          },
          "metadata": {},
          "execution_count": 57
        }
      ]
    },
    {
      "cell_type": "code",
      "source": [],
      "metadata": {
        "id": "zxRJVw7Ndy9O"
      },
      "execution_count": null,
      "outputs": []
    }
  ]
}