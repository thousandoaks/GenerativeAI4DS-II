{
  "nbformat": 4,
  "nbformat_minor": 0,
  "metadata": {
    "colab": {
      "provenance": [],
      "authorship_tag": "ABX9TyOavmGJ3U1dgCz7z0wpL3rT"
    },
    "kernelspec": {
      "name": "python3",
      "display_name": "Python 3"
    },
    "language_info": {
      "name": "python"
    }
  },
  "cells": [
    {
      "cell_type": "markdown",
      "source": [
        "## GenerativeAI4DS-II\n",
        "### Healthcare Lab (Sequential Chains)\n"
      ],
      "metadata": {
        "id": "6Sw5D2XvB6of"
      }
    },
    {
      "cell_type": "markdown",
      "source": [
        "### In this lab you will develop sequential chains using LangChain.\n",
        "### Chains refer to sequences of calls - whether to an LLM, a tool, or a data preprocessing step."
      ],
      "metadata": {
        "id": "6svar5-1CGi_"
      }
    },
    {
      "cell_type": "markdown",
      "source": [
        "### Get your [OpenAI API Key](https://platform.openai.com/account/api-keys)"
      ],
      "metadata": {
        "id": "Dl_KD3DSCR4w"
      }
    },
    {
      "cell_type": "code",
      "source": [
        "#OPENAI_API_KEY=\"YOU-NEED-YOUR-OWN-KEY\""
      ],
      "metadata": {
        "id": "5ipJpykzVyuX"
      },
      "execution_count": 3,
      "outputs": []
    },
    {
      "cell_type": "code",
      "execution_count": 4,
      "metadata": {
        "colab": {
          "base_uri": "https://localhost:8080/"
        },
        "id": "LyCRmhg2BytA",
        "outputId": "4f41c72a-a0fe-4f2f-9207-bb6bef427674"
      },
      "outputs": [
        {
          "output_type": "stream",
          "name": "stdout",
          "text": [
            "Collecting langchain\n",
            "  Downloading langchain-0.2.6-py3-none-any.whl (975 kB)\n",
            "\u001b[2K     \u001b[90m━━━━━━━━━━━━━━━━━━━━━━━━━━━━━━━━━━━━━━━━\u001b[0m \u001b[32m975.5/975.5 kB\u001b[0m \u001b[31m11.9 MB/s\u001b[0m eta \u001b[36m0:00:00\u001b[0m\n",
            "\u001b[?25hRequirement already satisfied: PyYAML>=5.3 in /usr/local/lib/python3.10/dist-packages (from langchain) (6.0.1)\n",
            "Requirement already satisfied: SQLAlchemy<3,>=1.4 in /usr/local/lib/python3.10/dist-packages (from langchain) (2.0.31)\n",
            "Requirement already satisfied: aiohttp<4.0.0,>=3.8.3 in /usr/local/lib/python3.10/dist-packages (from langchain) (3.9.5)\n",
            "Requirement already satisfied: async-timeout<5.0.0,>=4.0.0 in /usr/local/lib/python3.10/dist-packages (from langchain) (4.0.3)\n",
            "Collecting langchain-core<0.3.0,>=0.2.10 (from langchain)\n",
            "  Downloading langchain_core-0.2.11-py3-none-any.whl (337 kB)\n",
            "\u001b[2K     \u001b[90m━━━━━━━━━━━━━━━━━━━━━━━━━━━━━━━━━━━━━━━━\u001b[0m \u001b[32m337.4/337.4 kB\u001b[0m \u001b[31m16.2 MB/s\u001b[0m eta \u001b[36m0:00:00\u001b[0m\n",
            "\u001b[?25hCollecting langchain-text-splitters<0.3.0,>=0.2.0 (from langchain)\n",
            "  Downloading langchain_text_splitters-0.2.2-py3-none-any.whl (25 kB)\n",
            "Collecting langsmith<0.2.0,>=0.1.17 (from langchain)\n",
            "  Downloading langsmith-0.1.83-py3-none-any.whl (127 kB)\n",
            "\u001b[2K     \u001b[90m━━━━━━━━━━━━━━━━━━━━━━━━━━━━━━━━━━━━━━━━\u001b[0m \u001b[32m127.5/127.5 kB\u001b[0m \u001b[31m604.9 kB/s\u001b[0m eta \u001b[36m0:00:00\u001b[0m\n",
            "\u001b[?25hRequirement already satisfied: numpy<2,>=1 in /usr/local/lib/python3.10/dist-packages (from langchain) (1.25.2)\n",
            "Requirement already satisfied: pydantic<3,>=1 in /usr/local/lib/python3.10/dist-packages (from langchain) (2.7.4)\n",
            "Requirement already satisfied: requests<3,>=2 in /usr/local/lib/python3.10/dist-packages (from langchain) (2.31.0)\n",
            "Requirement already satisfied: tenacity!=8.4.0,<9.0.0,>=8.1.0 in /usr/local/lib/python3.10/dist-packages (from langchain) (8.4.2)\n",
            "Requirement already satisfied: aiosignal>=1.1.2 in /usr/local/lib/python3.10/dist-packages (from aiohttp<4.0.0,>=3.8.3->langchain) (1.3.1)\n",
            "Requirement already satisfied: attrs>=17.3.0 in /usr/local/lib/python3.10/dist-packages (from aiohttp<4.0.0,>=3.8.3->langchain) (23.2.0)\n",
            "Requirement already satisfied: frozenlist>=1.1.1 in /usr/local/lib/python3.10/dist-packages (from aiohttp<4.0.0,>=3.8.3->langchain) (1.4.1)\n",
            "Requirement already satisfied: multidict<7.0,>=4.5 in /usr/local/lib/python3.10/dist-packages (from aiohttp<4.0.0,>=3.8.3->langchain) (6.0.5)\n",
            "Requirement already satisfied: yarl<2.0,>=1.0 in /usr/local/lib/python3.10/dist-packages (from aiohttp<4.0.0,>=3.8.3->langchain) (1.9.4)\n",
            "Collecting jsonpatch<2.0,>=1.33 (from langchain-core<0.3.0,>=0.2.10->langchain)\n",
            "  Downloading jsonpatch-1.33-py2.py3-none-any.whl (12 kB)\n",
            "Requirement already satisfied: packaging<25,>=23.2 in /usr/local/lib/python3.10/dist-packages (from langchain-core<0.3.0,>=0.2.10->langchain) (24.1)\n",
            "Collecting orjson<4.0.0,>=3.9.14 (from langsmith<0.2.0,>=0.1.17->langchain)\n",
            "  Downloading orjson-3.10.6-cp310-cp310-manylinux_2_17_x86_64.manylinux2014_x86_64.whl (141 kB)\n",
            "\u001b[2K     \u001b[90m━━━━━━━━━━━━━━━━━━━━━━━━━━━━━━━━━━━━━━━━\u001b[0m \u001b[32m141.1/141.1 kB\u001b[0m \u001b[31m12.7 MB/s\u001b[0m eta \u001b[36m0:00:00\u001b[0m\n",
            "\u001b[?25hRequirement already satisfied: annotated-types>=0.4.0 in /usr/local/lib/python3.10/dist-packages (from pydantic<3,>=1->langchain) (0.7.0)\n",
            "Requirement already satisfied: pydantic-core==2.18.4 in /usr/local/lib/python3.10/dist-packages (from pydantic<3,>=1->langchain) (2.18.4)\n",
            "Requirement already satisfied: typing-extensions>=4.6.1 in /usr/local/lib/python3.10/dist-packages (from pydantic<3,>=1->langchain) (4.12.2)\n",
            "Requirement already satisfied: charset-normalizer<4,>=2 in /usr/local/lib/python3.10/dist-packages (from requests<3,>=2->langchain) (3.3.2)\n",
            "Requirement already satisfied: idna<4,>=2.5 in /usr/local/lib/python3.10/dist-packages (from requests<3,>=2->langchain) (3.7)\n",
            "Requirement already satisfied: urllib3<3,>=1.21.1 in /usr/local/lib/python3.10/dist-packages (from requests<3,>=2->langchain) (2.0.7)\n",
            "Requirement already satisfied: certifi>=2017.4.17 in /usr/local/lib/python3.10/dist-packages (from requests<3,>=2->langchain) (2024.6.2)\n",
            "Requirement already satisfied: greenlet!=0.4.17 in /usr/local/lib/python3.10/dist-packages (from SQLAlchemy<3,>=1.4->langchain) (3.0.3)\n",
            "Collecting jsonpointer>=1.9 (from jsonpatch<2.0,>=1.33->langchain-core<0.3.0,>=0.2.10->langchain)\n",
            "  Downloading jsonpointer-3.0.0-py2.py3-none-any.whl (7.6 kB)\n",
            "Installing collected packages: orjson, jsonpointer, jsonpatch, langsmith, langchain-core, langchain-text-splitters, langchain\n",
            "Successfully installed jsonpatch-1.33 jsonpointer-3.0.0 langchain-0.2.6 langchain-core-0.2.11 langchain-text-splitters-0.2.2 langsmith-0.1.83 orjson-3.10.6\n"
          ]
        }
      ],
      "source": [
        "!pip install --upgrade langchain;"
      ]
    },
    {
      "cell_type": "code",
      "source": [
        "\n",
        "!pip install openai"
      ],
      "metadata": {
        "colab": {
          "base_uri": "https://localhost:8080/"
        },
        "id": "JoM-v1DoCsI5",
        "outputId": "fb1bbbc4-5caf-4a5a-b26a-7967a83c822e"
      },
      "execution_count": 5,
      "outputs": [
        {
          "output_type": "stream",
          "name": "stdout",
          "text": [
            "Collecting openai\n",
            "  Downloading openai-1.35.9-py3-none-any.whl (328 kB)\n",
            "\u001b[2K     \u001b[90m━━━━━━━━━━━━━━━━━━━━━━━━━━━━━━━━━━━━━━━━\u001b[0m \u001b[32m328.3/328.3 kB\u001b[0m \u001b[31m2.1 MB/s\u001b[0m eta \u001b[36m0:00:00\u001b[0m\n",
            "\u001b[?25hRequirement already satisfied: anyio<5,>=3.5.0 in /usr/local/lib/python3.10/dist-packages (from openai) (3.7.1)\n",
            "Requirement already satisfied: distro<2,>=1.7.0 in /usr/lib/python3/dist-packages (from openai) (1.7.0)\n",
            "Collecting httpx<1,>=0.23.0 (from openai)\n",
            "  Downloading httpx-0.27.0-py3-none-any.whl (75 kB)\n",
            "\u001b[2K     \u001b[90m━━━━━━━━━━━━━━━━━━━━━━━━━━━━━━━━━━━━━━━━\u001b[0m \u001b[32m75.6/75.6 kB\u001b[0m \u001b[31m4.9 MB/s\u001b[0m eta \u001b[36m0:00:00\u001b[0m\n",
            "\u001b[?25hRequirement already satisfied: pydantic<3,>=1.9.0 in /usr/local/lib/python3.10/dist-packages (from openai) (2.7.4)\n",
            "Requirement already satisfied: sniffio in /usr/local/lib/python3.10/dist-packages (from openai) (1.3.1)\n",
            "Requirement already satisfied: tqdm>4 in /usr/local/lib/python3.10/dist-packages (from openai) (4.66.4)\n",
            "Requirement already satisfied: typing-extensions<5,>=4.7 in /usr/local/lib/python3.10/dist-packages (from openai) (4.12.2)\n",
            "Requirement already satisfied: idna>=2.8 in /usr/local/lib/python3.10/dist-packages (from anyio<5,>=3.5.0->openai) (3.7)\n",
            "Requirement already satisfied: exceptiongroup in /usr/local/lib/python3.10/dist-packages (from anyio<5,>=3.5.0->openai) (1.2.1)\n",
            "Requirement already satisfied: certifi in /usr/local/lib/python3.10/dist-packages (from httpx<1,>=0.23.0->openai) (2024.6.2)\n",
            "Collecting httpcore==1.* (from httpx<1,>=0.23.0->openai)\n",
            "  Downloading httpcore-1.0.5-py3-none-any.whl (77 kB)\n",
            "\u001b[2K     \u001b[90m━━━━━━━━━━━━━━━━━━━━━━━━━━━━━━━━━━━━━━━━\u001b[0m \u001b[32m77.9/77.9 kB\u001b[0m \u001b[31m6.9 MB/s\u001b[0m eta \u001b[36m0:00:00\u001b[0m\n",
            "\u001b[?25hCollecting h11<0.15,>=0.13 (from httpcore==1.*->httpx<1,>=0.23.0->openai)\n",
            "  Downloading h11-0.14.0-py3-none-any.whl (58 kB)\n",
            "\u001b[2K     \u001b[90m━━━━━━━━━━━━━━━━━━━━━━━━━━━━━━━━━━━━━━━━\u001b[0m \u001b[32m58.3/58.3 kB\u001b[0m \u001b[31m4.3 MB/s\u001b[0m eta \u001b[36m0:00:00\u001b[0m\n",
            "\u001b[?25hRequirement already satisfied: annotated-types>=0.4.0 in /usr/local/lib/python3.10/dist-packages (from pydantic<3,>=1.9.0->openai) (0.7.0)\n",
            "Requirement already satisfied: pydantic-core==2.18.4 in /usr/local/lib/python3.10/dist-packages (from pydantic<3,>=1.9.0->openai) (2.18.4)\n",
            "Installing collected packages: h11, httpcore, httpx, openai\n",
            "Successfully installed h11-0.14.0 httpcore-1.0.5 httpx-0.27.0 openai-1.35.9\n"
          ]
        }
      ]
    },
    {
      "cell_type": "code",
      "source": [
        "!pip install langchain-community"
      ],
      "metadata": {
        "colab": {
          "base_uri": "https://localhost:8080/"
        },
        "id": "Qo3c_-8Qwv6B",
        "outputId": "848f058d-2c08-495b-e5a4-5457957741a8"
      },
      "execution_count": 6,
      "outputs": [
        {
          "output_type": "stream",
          "name": "stdout",
          "text": [
            "Collecting langchain-community\n",
            "  Downloading langchain_community-0.2.6-py3-none-any.whl (2.2 MB)\n",
            "\u001b[2K     \u001b[90m━━━━━━━━━━━━━━━━━━━━━━━━━━━━━━━━━━━━━━━━\u001b[0m \u001b[32m2.2/2.2 MB\u001b[0m \u001b[31m15.1 MB/s\u001b[0m eta \u001b[36m0:00:00\u001b[0m\n",
            "\u001b[?25hRequirement already satisfied: PyYAML>=5.3 in /usr/local/lib/python3.10/dist-packages (from langchain-community) (6.0.1)\n",
            "Requirement already satisfied: SQLAlchemy<3,>=1.4 in /usr/local/lib/python3.10/dist-packages (from langchain-community) (2.0.31)\n",
            "Requirement already satisfied: aiohttp<4.0.0,>=3.8.3 in /usr/local/lib/python3.10/dist-packages (from langchain-community) (3.9.5)\n",
            "Collecting dataclasses-json<0.7,>=0.5.7 (from langchain-community)\n",
            "  Downloading dataclasses_json-0.6.7-py3-none-any.whl (28 kB)\n",
            "Requirement already satisfied: langchain<0.3.0,>=0.2.6 in /usr/local/lib/python3.10/dist-packages (from langchain-community) (0.2.6)\n",
            "Requirement already satisfied: langchain-core<0.3.0,>=0.2.10 in /usr/local/lib/python3.10/dist-packages (from langchain-community) (0.2.11)\n",
            "Requirement already satisfied: langsmith<0.2.0,>=0.1.0 in /usr/local/lib/python3.10/dist-packages (from langchain-community) (0.1.83)\n",
            "Requirement already satisfied: numpy<2,>=1 in /usr/local/lib/python3.10/dist-packages (from langchain-community) (1.25.2)\n",
            "Requirement already satisfied: requests<3,>=2 in /usr/local/lib/python3.10/dist-packages (from langchain-community) (2.31.0)\n",
            "Requirement already satisfied: tenacity!=8.4.0,<9.0.0,>=8.1.0 in /usr/local/lib/python3.10/dist-packages (from langchain-community) (8.4.2)\n",
            "Requirement already satisfied: aiosignal>=1.1.2 in /usr/local/lib/python3.10/dist-packages (from aiohttp<4.0.0,>=3.8.3->langchain-community) (1.3.1)\n",
            "Requirement already satisfied: attrs>=17.3.0 in /usr/local/lib/python3.10/dist-packages (from aiohttp<4.0.0,>=3.8.3->langchain-community) (23.2.0)\n",
            "Requirement already satisfied: frozenlist>=1.1.1 in /usr/local/lib/python3.10/dist-packages (from aiohttp<4.0.0,>=3.8.3->langchain-community) (1.4.1)\n",
            "Requirement already satisfied: multidict<7.0,>=4.5 in /usr/local/lib/python3.10/dist-packages (from aiohttp<4.0.0,>=3.8.3->langchain-community) (6.0.5)\n",
            "Requirement already satisfied: yarl<2.0,>=1.0 in /usr/local/lib/python3.10/dist-packages (from aiohttp<4.0.0,>=3.8.3->langchain-community) (1.9.4)\n",
            "Requirement already satisfied: async-timeout<5.0,>=4.0 in /usr/local/lib/python3.10/dist-packages (from aiohttp<4.0.0,>=3.8.3->langchain-community) (4.0.3)\n",
            "Collecting marshmallow<4.0.0,>=3.18.0 (from dataclasses-json<0.7,>=0.5.7->langchain-community)\n",
            "  Downloading marshmallow-3.21.3-py3-none-any.whl (49 kB)\n",
            "\u001b[2K     \u001b[90m━━━━━━━━━━━━━━━━━━━━━━━━━━━━━━━━━━━━━━━━\u001b[0m \u001b[32m49.2/49.2 kB\u001b[0m \u001b[31m2.6 MB/s\u001b[0m eta \u001b[36m0:00:00\u001b[0m\n",
            "\u001b[?25hCollecting typing-inspect<1,>=0.4.0 (from dataclasses-json<0.7,>=0.5.7->langchain-community)\n",
            "  Downloading typing_inspect-0.9.0-py3-none-any.whl (8.8 kB)\n",
            "Requirement already satisfied: langchain-text-splitters<0.3.0,>=0.2.0 in /usr/local/lib/python3.10/dist-packages (from langchain<0.3.0,>=0.2.6->langchain-community) (0.2.2)\n",
            "Requirement already satisfied: pydantic<3,>=1 in /usr/local/lib/python3.10/dist-packages (from langchain<0.3.0,>=0.2.6->langchain-community) (2.7.4)\n",
            "Requirement already satisfied: jsonpatch<2.0,>=1.33 in /usr/local/lib/python3.10/dist-packages (from langchain-core<0.3.0,>=0.2.10->langchain-community) (1.33)\n",
            "Requirement already satisfied: packaging<25,>=23.2 in /usr/local/lib/python3.10/dist-packages (from langchain-core<0.3.0,>=0.2.10->langchain-community) (24.1)\n",
            "Requirement already satisfied: orjson<4.0.0,>=3.9.14 in /usr/local/lib/python3.10/dist-packages (from langsmith<0.2.0,>=0.1.0->langchain-community) (3.10.6)\n",
            "Requirement already satisfied: charset-normalizer<4,>=2 in /usr/local/lib/python3.10/dist-packages (from requests<3,>=2->langchain-community) (3.3.2)\n",
            "Requirement already satisfied: idna<4,>=2.5 in /usr/local/lib/python3.10/dist-packages (from requests<3,>=2->langchain-community) (3.7)\n",
            "Requirement already satisfied: urllib3<3,>=1.21.1 in /usr/local/lib/python3.10/dist-packages (from requests<3,>=2->langchain-community) (2.0.7)\n",
            "Requirement already satisfied: certifi>=2017.4.17 in /usr/local/lib/python3.10/dist-packages (from requests<3,>=2->langchain-community) (2024.6.2)\n",
            "Requirement already satisfied: typing-extensions>=4.6.0 in /usr/local/lib/python3.10/dist-packages (from SQLAlchemy<3,>=1.4->langchain-community) (4.12.2)\n",
            "Requirement already satisfied: greenlet!=0.4.17 in /usr/local/lib/python3.10/dist-packages (from SQLAlchemy<3,>=1.4->langchain-community) (3.0.3)\n",
            "Requirement already satisfied: jsonpointer>=1.9 in /usr/local/lib/python3.10/dist-packages (from jsonpatch<2.0,>=1.33->langchain-core<0.3.0,>=0.2.10->langchain-community) (3.0.0)\n",
            "Requirement already satisfied: annotated-types>=0.4.0 in /usr/local/lib/python3.10/dist-packages (from pydantic<3,>=1->langchain<0.3.0,>=0.2.6->langchain-community) (0.7.0)\n",
            "Requirement already satisfied: pydantic-core==2.18.4 in /usr/local/lib/python3.10/dist-packages (from pydantic<3,>=1->langchain<0.3.0,>=0.2.6->langchain-community) (2.18.4)\n",
            "Collecting mypy-extensions>=0.3.0 (from typing-inspect<1,>=0.4.0->dataclasses-json<0.7,>=0.5.7->langchain-community)\n",
            "  Downloading mypy_extensions-1.0.0-py3-none-any.whl (4.7 kB)\n",
            "Installing collected packages: mypy-extensions, marshmallow, typing-inspect, dataclasses-json, langchain-community\n",
            "Successfully installed dataclasses-json-0.6.7 langchain-community-0.2.6 marshmallow-3.21.3 mypy-extensions-1.0.0 typing-inspect-0.9.0\n"
          ]
        }
      ]
    },
    {
      "cell_type": "code",
      "source": [
        "import os\n",
        "import openai\n",
        "\n"
      ],
      "metadata": {
        "id": "IWoj8JJzCxKB"
      },
      "execution_count": 7,
      "outputs": []
    },
    {
      "cell_type": "code",
      "source": [],
      "metadata": {
        "id": "HRQ0G9VBCxHt"
      },
      "execution_count": 7,
      "outputs": []
    },
    {
      "cell_type": "code",
      "source": [
        "from langchain.chat_models import ChatOpenAI\n",
        "from langchain.prompts import ChatPromptTemplate\n",
        "from langchain.chains import LLMChain"
      ],
      "metadata": {
        "id": "MNrWieviCxE0"
      },
      "execution_count": 8,
      "outputs": []
    },
    {
      "cell_type": "code",
      "source": [
        "from langchain.chains import SequentialChain"
      ],
      "metadata": {
        "id": "Wz5TOnffCxBd"
      },
      "execution_count": 9,
      "outputs": []
    },
    {
      "cell_type": "markdown",
      "source": [
        "### 1. First LLMChain\n"
      ],
      "metadata": {
        "id": "fYYaGF0fCV4-"
      }
    },
    {
      "cell_type": "code",
      "source": [
        "llm1 = ChatOpenAI(temperature=0.0, model='gpt-3.5-turbo',openai_api_key=OPENAI_API_KEY)\n",
        "\n",
        "first_prompt = ChatPromptTemplate.from_template(\n",
        "    \"Produce a JSON file from the following medical information:\"\n",
        "    \"\\n\\n{Patient_Information}\"\n",
        ")"
      ],
      "metadata": {
        "id": "DOXSGr7fGSz7"
      },
      "execution_count": 31,
      "outputs": []
    },
    {
      "cell_type": "code",
      "source": [
        "# chain 1 input= Patient's medical information\n",
        "chain_one = LLMChain(llm=llm1, prompt=first_prompt,\n",
        "                     output_key=\"Patient_Information_JSON\"\n",
        "                    )"
      ],
      "metadata": {
        "id": "gXICtvifdvV0"
      },
      "execution_count": 32,
      "outputs": []
    },
    {
      "cell_type": "markdown",
      "source": [
        "### 2. Second LLMChain"
      ],
      "metadata": {
        "id": "bZDj8liwaJIn"
      }
    },
    {
      "cell_type": "code",
      "source": [
        "llm2 = ChatOpenAI(temperature=0.0, model='gpt-3.5-turbo',openai_api_key=OPENAI_API_KEY)\n",
        "\n",
        "second_prompt = ChatPromptTemplate.from_template(\n",
        "    \"Provide a medical diagnosis given the following medical information:\"\n",
        "    \"\\n\\n{Patient_Information}\"\n",
        ")"
      ],
      "metadata": {
        "id": "SiIp1nISaT9P"
      },
      "execution_count": 33,
      "outputs": []
    },
    {
      "cell_type": "code",
      "source": [
        "# chain 2 input= Patient's medical information\n",
        "chain_two = LLMChain(llm=llm2, prompt=second_prompt,\n",
        "                     output_key=\"Medical_Diagnosis\"\n",
        "                    )"
      ],
      "metadata": {
        "id": "SvgGFn45aT6w"
      },
      "execution_count": 34,
      "outputs": []
    },
    {
      "cell_type": "code",
      "source": [],
      "metadata": {
        "id": "oJY5qGfqaT4F"
      },
      "execution_count": 13,
      "outputs": []
    },
    {
      "cell_type": "markdown",
      "source": [
        "### 3. Third LLMChain"
      ],
      "metadata": {
        "id": "i4HPbmalhdkN"
      }
    },
    {
      "cell_type": "code",
      "source": [
        "llm3 = ChatOpenAI(temperature=0.0, model='gpt-3.5-turbo',openai_api_key=OPENAI_API_KEY)\n",
        "\n",
        "third_prompt = ChatPromptTemplate.from_template(\n",
        "    \"Provide a medical prognosis given the following medical information and medical diagnosis\"\n",
        "    \"\\n\\n{Patient_Information}{Medical_Diagnosis}\"\n",
        ")"
      ],
      "metadata": {
        "id": "o8u5N7-lhi8-"
      },
      "execution_count": 35,
      "outputs": []
    },
    {
      "cell_type": "code",
      "source": [
        "# chain 3 input= Patient's medical information\n",
        "chain_three= LLMChain(llm=llm3, prompt=third_prompt,\n",
        "                     output_key=\"Medical_Prognosis\"\n",
        "                    )"
      ],
      "metadata": {
        "id": "3NySWXclhkwd"
      },
      "execution_count": 36,
      "outputs": []
    },
    {
      "cell_type": "markdown",
      "source": [
        "### 5. Composite Chain\n",
        "#### We combine the previous chains into a composite one"
      ],
      "metadata": {
        "id": "COIYrnKRy8io"
      }
    },
    {
      "cell_type": "code",
      "source": [
        "# composite_chain: input= Physical_Examination\n",
        "# and output= Medical_Diagnosis\n",
        "\n",
        "composite_chain = SequentialChain(\n",
        "    chains=[chain_one,chain_two,chain_three],\n",
        "    input_variables=[\"Patient_Information\"],\n",
        "    output_variables=[\"Patient_Information_JSON\",\"Medical_Diagnosis\",\"Medical_Prognosis\"],\n",
        "    verbose=True)"
      ],
      "metadata": {
        "id": "vT4PP83Mx-1-"
      },
      "execution_count": 38,
      "outputs": []
    },
    {
      "cell_type": "markdown",
      "source": [
        "### 5. Chain Execution"
      ],
      "metadata": {
        "id": "sIz14BiZzG1f"
      }
    },
    {
      "cell_type": "code",
      "source": [],
      "metadata": {
        "id": "f7-peou4bH11"
      },
      "execution_count": null,
      "outputs": []
    },
    {
      "cell_type": "code",
      "source": [
        "Mark_Thompson_Medical_Information='''\n",
        "\n",
        "**Patient Information:**\n",
        "- **Name:** John Doe\n",
        "- **Age:** 62 years old\n",
        "- **Gender:** Male\n",
        "- **Medical History:** Type 2 diabetes mellitus, hypertension, chronic pancreatitis\n",
        "- **Family History:** Father diagnosed with colon cancer at age 70\n",
        "\n",
        "**Presenting Symptoms:**\n",
        "- Unintentional weight loss of 15 pounds over 3 months\n",
        "- Persistent upper abdominal pain radiating to the back\n",
        "- Jaundice (yellowing of the skin and eyes)\n",
        "- Dark urine and pale stools\n",
        "- Loss of appetite and early satiety\n",
        "\n",
        "**Physical Examination:**\n",
        "- Cachexia (severe weight loss)\n",
        "- Icterus (jaundice)\n",
        "- Palpable non-tender gallbladder (Courvoisier's sign)\n",
        "- Epigastric tenderness\n",
        "\n",
        "**Diagnostic Workup:**\n",
        "\n",
        "1. **Laboratory Tests:**\n",
        "   - Complete blood count (CBC): Normocytic anemia\n",
        "   - Liver function tests (LFTs): Elevated bilirubin, alkaline phosphatase, and gamma-glutamyl transferase (GGT)\n",
        "   - Tumor markers: Elevated CA 19-9 and CEA levels\n",
        "\n",
        "2. **Imaging Studies:**\n",
        "   - **Abdominal Ultrasound:**\n",
        "     - Dilated bile ducts\n",
        "     - Mass in the head of the pancreas\n",
        "   - **Contrast-Enhanced CT Scan of the Abdomen:**\n",
        "     - Hypoattenuating mass in the head of the pancreas measuring 4.5 cm\n",
        "     - Dilatation of the pancreatic and bile ducts (double duct sign)\n",
        "     - Involvement of the superior mesenteric artery\n",
        "     - Suspicious lesions in the liver suggestive of metastasis\n",
        "   - **MRI/MRCP:**\n",
        "     - Detailed view of the biliary tree and pancreatic ducts confirming CT findings\n",
        "\n",
        "3. **Biopsy:**\n",
        "   - **Endoscopic Ultrasound-Guided Fine Needle Aspiration (EUS-FNA):**\n",
        "     - Cytology: Adenocarcinoma cells\n",
        "\n",
        "\n",
        "'''"
      ],
      "metadata": {
        "id": "-Vl67PsJbHzW"
      },
      "execution_count": 39,
      "outputs": []
    },
    {
      "cell_type": "code",
      "source": [],
      "metadata": {
        "id": "4udQlztWbHw2"
      },
      "execution_count": null,
      "outputs": []
    },
    {
      "cell_type": "code",
      "source": [],
      "metadata": {
        "id": "BE32UvtubHuI"
      },
      "execution_count": null,
      "outputs": []
    },
    {
      "cell_type": "code",
      "source": [
        "composite_chain_output=composite_chain(Mark_Thompson_Medical_Information)"
      ],
      "metadata": {
        "colab": {
          "base_uri": "https://localhost:8080/"
        },
        "id": "zRtsfxAxx-xa",
        "outputId": "763a78e5-e8c0-4415-8e03-e93eea9d3c3a"
      },
      "execution_count": 46,
      "outputs": [
        {
          "output_type": "stream",
          "name": "stdout",
          "text": [
            "\n",
            "\n",
            "\u001b[1m> Entering new SequentialChain chain...\u001b[0m\n",
            "\n",
            "\u001b[1m> Finished chain.\u001b[0m\n"
          ]
        }
      ]
    },
    {
      "cell_type": "code",
      "source": [
        "type(composite_chain_output)"
      ],
      "metadata": {
        "colab": {
          "base_uri": "https://localhost:8080/"
        },
        "id": "CrmV9-u_epUl",
        "outputId": "34746268-6551-4926-fda6-425229f4270c"
      },
      "execution_count": 47,
      "outputs": [
        {
          "output_type": "execute_result",
          "data": {
            "text/plain": [
              "dict"
            ]
          },
          "metadata": {},
          "execution_count": 47
        }
      ]
    },
    {
      "cell_type": "code",
      "source": [
        "composite_chain_output['Patient_Information_JSON']"
      ],
      "metadata": {
        "colab": {
          "base_uri": "https://localhost:8080/",
          "height": 143
        },
        "id": "NiABRaOiepSV",
        "outputId": "a90d44c2-c31b-4492-c1e9-5615c4ee5cb1"
      },
      "execution_count": 48,
      "outputs": [
        {
          "output_type": "execute_result",
          "data": {
            "text/plain": [
              "'{\\n    \"Patient Information\": {\\n        \"Name\": \"John Doe\",\\n        \"Age\": \"62 years old\",\\n        \"Gender\": \"Male\",\\n        \"Medical History\": [\"Type 2 diabetes mellitus\", \"Hypertension\", \"Chronic pancreatitis\"],\\n        \"Family History\": \"Father diagnosed with colon cancer at age 70\"\\n    },\\n    \"Presenting Symptoms\": [\\n        \"Unintentional weight loss of 15 pounds over 3 months\",\\n        \"Persistent upper abdominal pain radiating to the back\",\\n        \"Jaundice (yellowing of the skin and eyes)\",\\n        \"Dark urine and pale stools\",\\n        \"Loss of appetite and early satiety\"\\n    ],\\n    \"Physical Examination\": [\\n        \"Cachexia (severe weight loss)\",\\n        \"Icterus (jaundice)\",\\n        \"Palpable non-tender gallbladder (Courvoisier\\'s sign)\",\\n        \"Epigastric tenderness\"\\n    ],\\n    \"Diagnostic Workup\": {\\n        \"Laboratory Tests\": {\\n            \"Complete blood count (CBC)\": \"Normocytic anemia\",\\n            \"Liver function tests (LFTs)\": \"Elevated bilirubin, alkaline phosphatase, and gamma-glutamyl transferase (GGT)\",\\n            \"Tumor markers\": \"Elevated CA 19-9 and CEA levels\"\\n        },\\n        \"Imaging Studies\": {\\n            \"Abdominal Ultrasound\": {\\n                \"Findings\": [\"Dilated bile ducts\", \"Mass in the head of the pancreas\"]\\n            },\\n            \"Contrast-Enhanced CT Scan of the Abdomen\": {\\n                \"Findings\": [\"Hypoattenuating mass in the head of the pancreas measuring 4.5 cm\", \"Dilatation of the pancreatic and bile ducts (double duct sign)\", \"Involvement of the superior mesenteric artery\", \"Suspicious lesions in the liver suggestive of metastasis\"]\\n            },\\n            \"MRI/MRCP\": {\\n                \"Findings\": \"Detailed view of the biliary tree and pancreatic ducts confirming CT findings\"\\n            }\\n        },\\n        \"Biopsy\": {\\n            \"Endoscopic Ultrasound-Guided Fine Needle Aspiration (EUS-FNA)\": {\\n                \"Cytology\": \"Adenocarcinoma cells\"\\n            }\\n        }\\n    }\\n}'"
            ],
            "application/vnd.google.colaboratory.intrinsic+json": {
              "type": "string"
            }
          },
          "metadata": {},
          "execution_count": 48
        }
      ]
    },
    {
      "cell_type": "code",
      "source": [
        "composite_chain_output['Medical_Diagnosis']"
      ],
      "metadata": {
        "colab": {
          "base_uri": "https://localhost:8080/",
          "height": 143
        },
        "id": "j8ytsbWoepP-",
        "outputId": "0b7a58d8-5af0-40c1-fc37-976b8637ea13"
      },
      "execution_count": 49,
      "outputs": [
        {
          "output_type": "execute_result",
          "data": {
            "text/plain": [
              "\"Based on the patient's medical history, presenting symptoms, physical examination findings, and diagnostic workup results, the medical diagnosis for John Doe is **Pancreatic Adenocarcinoma**. \\n\\nPancreatic adenocarcinoma is a type of cancer that originates in the cells lining the ducts of the pancreas. The presence of a mass in the head of the pancreas, dilatation of the bile ducts, elevated tumor markers (CA 19-9 and CEA), and confirmation of adenocarcinoma cells on biopsy all point towards this diagnosis. The involvement of the superior mesenteric artery and suspicious lesions in the liver suggest advanced disease with possible metastasis. \\n\\nTreatment options for pancreatic adenocarcinoma may include surgery, chemotherapy, radiation therapy, and palliative care to manage symptoms and improve quality of life. It is important for John Doe to discuss treatment options with his healthcare team to determine the best course of action for his specific case.\""
            ],
            "application/vnd.google.colaboratory.intrinsic+json": {
              "type": "string"
            }
          },
          "metadata": {},
          "execution_count": 49
        }
      ]
    },
    {
      "cell_type": "code",
      "source": [
        "composite_chain_output['Medical_Prognosis']"
      ],
      "metadata": {
        "colab": {
          "base_uri": "https://localhost:8080/",
          "height": 143
        },
        "id": "U-ZQSKZSepNj",
        "outputId": "b7bf28f6-1ac6-416d-d001-6202d9b244c0"
      },
      "execution_count": 50,
      "outputs": [
        {
          "output_type": "execute_result",
          "data": {
            "text/plain": [
              "\"The prognosis for pancreatic adenocarcinoma is generally poor, as it is often diagnosed at an advanced stage when the cancer has already spread. The 5-year survival rate for pancreatic cancer is low, around 10%. However, survival rates can vary depending on the stage of the cancer at diagnosis, the overall health of the patient, and the effectiveness of treatment.\\n\\nGiven John Doe's advanced presentation with involvement of surrounding structures and possible liver metastasis, his prognosis may be guarded. It is important for him to work closely with his healthcare team to develop a comprehensive treatment plan and to address any symptoms or complications that may arise. Palliative care may also play a role in managing pain and improving quality of life.\\n\\nRegular follow-up appointments and monitoring will be essential to track the progression of the cancer and response to treatment. It is important for John Doe to maintain open communication with his healthcare providers and to seek support from loved ones and counseling services to cope with the challenges of a pancreatic cancer diagnosis.\""
            ],
            "application/vnd.google.colaboratory.intrinsic+json": {
              "type": "string"
            }
          },
          "metadata": {},
          "execution_count": 50
        }
      ]
    }
  ]
}