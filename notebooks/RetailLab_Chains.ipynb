{
  "nbformat": 4,
  "nbformat_minor": 0,
  "metadata": {
    "colab": {
      "provenance": [],
      "authorship_tag": "ABX9TyMzfHRZoNE9cng2HtUO6A1S"
    },
    "kernelspec": {
      "name": "python3",
      "display_name": "Python 3"
    },
    "language_info": {
      "name": "python"
    }
  },
  "cells": [
    {
      "cell_type": "markdown",
      "source": [
        "## GenerativeAI4DS-II\n",
        "### Retail Lab (Sequential Chains)\n"
      ],
      "metadata": {
        "id": "6Sw5D2XvB6of"
      }
    },
    {
      "cell_type": "markdown",
      "source": [
        "### In this lab you will develop sequential chains using LangChain.\n",
        "### Chains refer to sequences of calls - whether to an LLM, a tool, or a data preprocessing step."
      ],
      "metadata": {
        "id": "6svar5-1CGi_"
      }
    },
    {
      "cell_type": "markdown",
      "source": [
        "### Get your [OpenAI API Key](https://platform.openai.com/account/api-keys)"
      ],
      "metadata": {
        "id": "Dl_KD3DSCR4w"
      }
    },
    {
      "cell_type": "code",
      "source": [
        "#OPENAI_API_KEY=\"YOU-NEED-YOUR-KEY\""
      ],
      "metadata": {
        "id": "5ipJpykzVyuX"
      },
      "execution_count": 1,
      "outputs": []
    },
    {
      "cell_type": "code",
      "execution_count": 2,
      "metadata": {
        "colab": {
          "base_uri": "https://localhost:8080/"
        },
        "id": "LyCRmhg2BytA",
        "outputId": "b7e7652a-f6a9-4c9f-ed7e-1171be0dd7b2"
      },
      "outputs": [
        {
          "output_type": "stream",
          "name": "stdout",
          "text": [
            "Collecting langchain\n",
            "  Downloading langchain-0.2.6-py3-none-any.whl (975 kB)\n",
            "\u001b[2K     \u001b[90m━━━━━━━━━━━━━━━━━━━━━━━━━━━━━━━━━━━━━━━━\u001b[0m \u001b[32m975.5/975.5 kB\u001b[0m \u001b[31m5.0 MB/s\u001b[0m eta \u001b[36m0:00:00\u001b[0m\n",
            "\u001b[?25hRequirement already satisfied: PyYAML>=5.3 in /usr/local/lib/python3.10/dist-packages (from langchain) (6.0.1)\n",
            "Requirement already satisfied: SQLAlchemy<3,>=1.4 in /usr/local/lib/python3.10/dist-packages (from langchain) (2.0.31)\n",
            "Requirement already satisfied: aiohttp<4.0.0,>=3.8.3 in /usr/local/lib/python3.10/dist-packages (from langchain) (3.9.5)\n",
            "Requirement already satisfied: async-timeout<5.0.0,>=4.0.0 in /usr/local/lib/python3.10/dist-packages (from langchain) (4.0.3)\n",
            "Collecting langchain-core<0.3.0,>=0.2.10 (from langchain)\n",
            "  Downloading langchain_core-0.2.11-py3-none-any.whl (337 kB)\n",
            "\u001b[2K     \u001b[90m━━━━━━━━━━━━━━━━━━━━━━━━━━━━━━━━━━━━━━━━\u001b[0m \u001b[32m337.4/337.4 kB\u001b[0m \u001b[31m5.8 MB/s\u001b[0m eta \u001b[36m0:00:00\u001b[0m\n",
            "\u001b[?25hCollecting langchain-text-splitters<0.3.0,>=0.2.0 (from langchain)\n",
            "  Downloading langchain_text_splitters-0.2.2-py3-none-any.whl (25 kB)\n",
            "Collecting langsmith<0.2.0,>=0.1.17 (from langchain)\n",
            "  Downloading langsmith-0.1.83-py3-none-any.whl (127 kB)\n",
            "\u001b[2K     \u001b[90m━━━━━━━━━━━━━━━━━━━━━━━━━━━━━━━━━━━━━━━━\u001b[0m \u001b[32m127.5/127.5 kB\u001b[0m \u001b[31m9.4 MB/s\u001b[0m eta \u001b[36m0:00:00\u001b[0m\n",
            "\u001b[?25hRequirement already satisfied: numpy<2,>=1 in /usr/local/lib/python3.10/dist-packages (from langchain) (1.25.2)\n",
            "Requirement already satisfied: pydantic<3,>=1 in /usr/local/lib/python3.10/dist-packages (from langchain) (2.7.4)\n",
            "Requirement already satisfied: requests<3,>=2 in /usr/local/lib/python3.10/dist-packages (from langchain) (2.31.0)\n",
            "Requirement already satisfied: tenacity!=8.4.0,<9.0.0,>=8.1.0 in /usr/local/lib/python3.10/dist-packages (from langchain) (8.4.2)\n",
            "Requirement already satisfied: aiosignal>=1.1.2 in /usr/local/lib/python3.10/dist-packages (from aiohttp<4.0.0,>=3.8.3->langchain) (1.3.1)\n",
            "Requirement already satisfied: attrs>=17.3.0 in /usr/local/lib/python3.10/dist-packages (from aiohttp<4.0.0,>=3.8.3->langchain) (23.2.0)\n",
            "Requirement already satisfied: frozenlist>=1.1.1 in /usr/local/lib/python3.10/dist-packages (from aiohttp<4.0.0,>=3.8.3->langchain) (1.4.1)\n",
            "Requirement already satisfied: multidict<7.0,>=4.5 in /usr/local/lib/python3.10/dist-packages (from aiohttp<4.0.0,>=3.8.3->langchain) (6.0.5)\n",
            "Requirement already satisfied: yarl<2.0,>=1.0 in /usr/local/lib/python3.10/dist-packages (from aiohttp<4.0.0,>=3.8.3->langchain) (1.9.4)\n",
            "Collecting jsonpatch<2.0,>=1.33 (from langchain-core<0.3.0,>=0.2.10->langchain)\n",
            "  Downloading jsonpatch-1.33-py2.py3-none-any.whl (12 kB)\n",
            "Requirement already satisfied: packaging<25,>=23.2 in /usr/local/lib/python3.10/dist-packages (from langchain-core<0.3.0,>=0.2.10->langchain) (24.1)\n",
            "Collecting orjson<4.0.0,>=3.9.14 (from langsmith<0.2.0,>=0.1.17->langchain)\n",
            "  Downloading orjson-3.10.6-cp310-cp310-manylinux_2_17_x86_64.manylinux2014_x86_64.whl (141 kB)\n",
            "\u001b[2K     \u001b[90m━━━━━━━━━━━━━━━━━━━━━━━━━━━━━━━━━━━━━━━━\u001b[0m \u001b[32m141.1/141.1 kB\u001b[0m \u001b[31m4.5 MB/s\u001b[0m eta \u001b[36m0:00:00\u001b[0m\n",
            "\u001b[?25hRequirement already satisfied: annotated-types>=0.4.0 in /usr/local/lib/python3.10/dist-packages (from pydantic<3,>=1->langchain) (0.7.0)\n",
            "Requirement already satisfied: pydantic-core==2.18.4 in /usr/local/lib/python3.10/dist-packages (from pydantic<3,>=1->langchain) (2.18.4)\n",
            "Requirement already satisfied: typing-extensions>=4.6.1 in /usr/local/lib/python3.10/dist-packages (from pydantic<3,>=1->langchain) (4.12.2)\n",
            "Requirement already satisfied: charset-normalizer<4,>=2 in /usr/local/lib/python3.10/dist-packages (from requests<3,>=2->langchain) (3.3.2)\n",
            "Requirement already satisfied: idna<4,>=2.5 in /usr/local/lib/python3.10/dist-packages (from requests<3,>=2->langchain) (3.7)\n",
            "Requirement already satisfied: urllib3<3,>=1.21.1 in /usr/local/lib/python3.10/dist-packages (from requests<3,>=2->langchain) (2.0.7)\n",
            "Requirement already satisfied: certifi>=2017.4.17 in /usr/local/lib/python3.10/dist-packages (from requests<3,>=2->langchain) (2024.6.2)\n",
            "Requirement already satisfied: greenlet!=0.4.17 in /usr/local/lib/python3.10/dist-packages (from SQLAlchemy<3,>=1.4->langchain) (3.0.3)\n",
            "Collecting jsonpointer>=1.9 (from jsonpatch<2.0,>=1.33->langchain-core<0.3.0,>=0.2.10->langchain)\n",
            "  Downloading jsonpointer-3.0.0-py2.py3-none-any.whl (7.6 kB)\n",
            "Installing collected packages: orjson, jsonpointer, jsonpatch, langsmith, langchain-core, langchain-text-splitters, langchain\n",
            "Successfully installed jsonpatch-1.33 jsonpointer-3.0.0 langchain-0.2.6 langchain-core-0.2.11 langchain-text-splitters-0.2.2 langsmith-0.1.83 orjson-3.10.6\n"
          ]
        }
      ],
      "source": [
        "!pip install --upgrade langchain;"
      ]
    },
    {
      "cell_type": "code",
      "source": [
        "\n",
        "!pip install openai"
      ],
      "metadata": {
        "colab": {
          "base_uri": "https://localhost:8080/"
        },
        "id": "JoM-v1DoCsI5",
        "outputId": "19bb2985-8178-4f1b-c418-b008bc531192"
      },
      "execution_count": 3,
      "outputs": [
        {
          "output_type": "stream",
          "name": "stdout",
          "text": [
            "Collecting openai\n",
            "  Downloading openai-1.35.9-py3-none-any.whl (328 kB)\n",
            "\u001b[2K     \u001b[90m━━━━━━━━━━━━━━━━━━━━━━━━━━━━━━━━━━━━━━━━\u001b[0m \u001b[32m328.3/328.3 kB\u001b[0m \u001b[31m2.7 MB/s\u001b[0m eta \u001b[36m0:00:00\u001b[0m\n",
            "\u001b[?25hRequirement already satisfied: anyio<5,>=3.5.0 in /usr/local/lib/python3.10/dist-packages (from openai) (3.7.1)\n",
            "Requirement already satisfied: distro<2,>=1.7.0 in /usr/lib/python3/dist-packages (from openai) (1.7.0)\n",
            "Collecting httpx<1,>=0.23.0 (from openai)\n",
            "  Downloading httpx-0.27.0-py3-none-any.whl (75 kB)\n",
            "\u001b[2K     \u001b[90m━━━━━━━━━━━━━━━━━━━━━━━━━━━━━━━━━━━━━━━━\u001b[0m \u001b[32m75.6/75.6 kB\u001b[0m \u001b[31m4.2 MB/s\u001b[0m eta \u001b[36m0:00:00\u001b[0m\n",
            "\u001b[?25hRequirement already satisfied: pydantic<3,>=1.9.0 in /usr/local/lib/python3.10/dist-packages (from openai) (2.7.4)\n",
            "Requirement already satisfied: sniffio in /usr/local/lib/python3.10/dist-packages (from openai) (1.3.1)\n",
            "Requirement already satisfied: tqdm>4 in /usr/local/lib/python3.10/dist-packages (from openai) (4.66.4)\n",
            "Requirement already satisfied: typing-extensions<5,>=4.7 in /usr/local/lib/python3.10/dist-packages (from openai) (4.12.2)\n",
            "Requirement already satisfied: idna>=2.8 in /usr/local/lib/python3.10/dist-packages (from anyio<5,>=3.5.0->openai) (3.7)\n",
            "Requirement already satisfied: exceptiongroup in /usr/local/lib/python3.10/dist-packages (from anyio<5,>=3.5.0->openai) (1.2.1)\n",
            "Requirement already satisfied: certifi in /usr/local/lib/python3.10/dist-packages (from httpx<1,>=0.23.0->openai) (2024.6.2)\n",
            "Collecting httpcore==1.* (from httpx<1,>=0.23.0->openai)\n",
            "  Downloading httpcore-1.0.5-py3-none-any.whl (77 kB)\n",
            "\u001b[2K     \u001b[90m━━━━━━━━━━━━━━━━━━━━━━━━━━━━━━━━━━━━━━━━\u001b[0m \u001b[32m77.9/77.9 kB\u001b[0m \u001b[31m3.8 MB/s\u001b[0m eta \u001b[36m0:00:00\u001b[0m\n",
            "\u001b[?25hCollecting h11<0.15,>=0.13 (from httpcore==1.*->httpx<1,>=0.23.0->openai)\n",
            "  Downloading h11-0.14.0-py3-none-any.whl (58 kB)\n",
            "\u001b[2K     \u001b[90m━━━━━━━━━━━━━━━━━━━━━━━━━━━━━━━━━━━━━━━━\u001b[0m \u001b[32m58.3/58.3 kB\u001b[0m \u001b[31m4.5 MB/s\u001b[0m eta \u001b[36m0:00:00\u001b[0m\n",
            "\u001b[?25hRequirement already satisfied: annotated-types>=0.4.0 in /usr/local/lib/python3.10/dist-packages (from pydantic<3,>=1.9.0->openai) (0.7.0)\n",
            "Requirement already satisfied: pydantic-core==2.18.4 in /usr/local/lib/python3.10/dist-packages (from pydantic<3,>=1.9.0->openai) (2.18.4)\n",
            "Installing collected packages: h11, httpcore, httpx, openai\n",
            "Successfully installed h11-0.14.0 httpcore-1.0.5 httpx-0.27.0 openai-1.35.9\n"
          ]
        }
      ]
    },
    {
      "cell_type": "code",
      "source": [
        "!pip install langchain-community"
      ],
      "metadata": {
        "colab": {
          "base_uri": "https://localhost:8080/"
        },
        "id": "Qo3c_-8Qwv6B",
        "outputId": "8c401fce-b952-4b50-ecad-a6e108ce8baf"
      },
      "execution_count": 4,
      "outputs": [
        {
          "output_type": "stream",
          "name": "stdout",
          "text": [
            "Collecting langchain-community\n",
            "  Downloading langchain_community-0.2.6-py3-none-any.whl (2.2 MB)\n",
            "\u001b[2K     \u001b[90m━━━━━━━━━━━━━━━━━━━━━━━━━━━━━━━━━━━━━━━━\u001b[0m \u001b[32m2.2/2.2 MB\u001b[0m \u001b[31m19.9 MB/s\u001b[0m eta \u001b[36m0:00:00\u001b[0m\n",
            "\u001b[?25hRequirement already satisfied: PyYAML>=5.3 in /usr/local/lib/python3.10/dist-packages (from langchain-community) (6.0.1)\n",
            "Requirement already satisfied: SQLAlchemy<3,>=1.4 in /usr/local/lib/python3.10/dist-packages (from langchain-community) (2.0.31)\n",
            "Requirement already satisfied: aiohttp<4.0.0,>=3.8.3 in /usr/local/lib/python3.10/dist-packages (from langchain-community) (3.9.5)\n",
            "Collecting dataclasses-json<0.7,>=0.5.7 (from langchain-community)\n",
            "  Downloading dataclasses_json-0.6.7-py3-none-any.whl (28 kB)\n",
            "Requirement already satisfied: langchain<0.3.0,>=0.2.6 in /usr/local/lib/python3.10/dist-packages (from langchain-community) (0.2.6)\n",
            "Requirement already satisfied: langchain-core<0.3.0,>=0.2.10 in /usr/local/lib/python3.10/dist-packages (from langchain-community) (0.2.11)\n",
            "Requirement already satisfied: langsmith<0.2.0,>=0.1.0 in /usr/local/lib/python3.10/dist-packages (from langchain-community) (0.1.83)\n",
            "Requirement already satisfied: numpy<2,>=1 in /usr/local/lib/python3.10/dist-packages (from langchain-community) (1.25.2)\n",
            "Requirement already satisfied: requests<3,>=2 in /usr/local/lib/python3.10/dist-packages (from langchain-community) (2.31.0)\n",
            "Requirement already satisfied: tenacity!=8.4.0,<9.0.0,>=8.1.0 in /usr/local/lib/python3.10/dist-packages (from langchain-community) (8.4.2)\n",
            "Requirement already satisfied: aiosignal>=1.1.2 in /usr/local/lib/python3.10/dist-packages (from aiohttp<4.0.0,>=3.8.3->langchain-community) (1.3.1)\n",
            "Requirement already satisfied: attrs>=17.3.0 in /usr/local/lib/python3.10/dist-packages (from aiohttp<4.0.0,>=3.8.3->langchain-community) (23.2.0)\n",
            "Requirement already satisfied: frozenlist>=1.1.1 in /usr/local/lib/python3.10/dist-packages (from aiohttp<4.0.0,>=3.8.3->langchain-community) (1.4.1)\n",
            "Requirement already satisfied: multidict<7.0,>=4.5 in /usr/local/lib/python3.10/dist-packages (from aiohttp<4.0.0,>=3.8.3->langchain-community) (6.0.5)\n",
            "Requirement already satisfied: yarl<2.0,>=1.0 in /usr/local/lib/python3.10/dist-packages (from aiohttp<4.0.0,>=3.8.3->langchain-community) (1.9.4)\n",
            "Requirement already satisfied: async-timeout<5.0,>=4.0 in /usr/local/lib/python3.10/dist-packages (from aiohttp<4.0.0,>=3.8.3->langchain-community) (4.0.3)\n",
            "Collecting marshmallow<4.0.0,>=3.18.0 (from dataclasses-json<0.7,>=0.5.7->langchain-community)\n",
            "  Downloading marshmallow-3.21.3-py3-none-any.whl (49 kB)\n",
            "\u001b[2K     \u001b[90m━━━━━━━━━━━━━━━━━━━━━━━━━━━━━━━━━━━━━━━━\u001b[0m \u001b[32m49.2/49.2 kB\u001b[0m \u001b[31m4.3 MB/s\u001b[0m eta \u001b[36m0:00:00\u001b[0m\n",
            "\u001b[?25hCollecting typing-inspect<1,>=0.4.0 (from dataclasses-json<0.7,>=0.5.7->langchain-community)\n",
            "  Downloading typing_inspect-0.9.0-py3-none-any.whl (8.8 kB)\n",
            "Requirement already satisfied: langchain-text-splitters<0.3.0,>=0.2.0 in /usr/local/lib/python3.10/dist-packages (from langchain<0.3.0,>=0.2.6->langchain-community) (0.2.2)\n",
            "Requirement already satisfied: pydantic<3,>=1 in /usr/local/lib/python3.10/dist-packages (from langchain<0.3.0,>=0.2.6->langchain-community) (2.7.4)\n",
            "Requirement already satisfied: jsonpatch<2.0,>=1.33 in /usr/local/lib/python3.10/dist-packages (from langchain-core<0.3.0,>=0.2.10->langchain-community) (1.33)\n",
            "Requirement already satisfied: packaging<25,>=23.2 in /usr/local/lib/python3.10/dist-packages (from langchain-core<0.3.0,>=0.2.10->langchain-community) (24.1)\n",
            "Requirement already satisfied: orjson<4.0.0,>=3.9.14 in /usr/local/lib/python3.10/dist-packages (from langsmith<0.2.0,>=0.1.0->langchain-community) (3.10.6)\n",
            "Requirement already satisfied: charset-normalizer<4,>=2 in /usr/local/lib/python3.10/dist-packages (from requests<3,>=2->langchain-community) (3.3.2)\n",
            "Requirement already satisfied: idna<4,>=2.5 in /usr/local/lib/python3.10/dist-packages (from requests<3,>=2->langchain-community) (3.7)\n",
            "Requirement already satisfied: urllib3<3,>=1.21.1 in /usr/local/lib/python3.10/dist-packages (from requests<3,>=2->langchain-community) (2.0.7)\n",
            "Requirement already satisfied: certifi>=2017.4.17 in /usr/local/lib/python3.10/dist-packages (from requests<3,>=2->langchain-community) (2024.6.2)\n",
            "Requirement already satisfied: typing-extensions>=4.6.0 in /usr/local/lib/python3.10/dist-packages (from SQLAlchemy<3,>=1.4->langchain-community) (4.12.2)\n",
            "Requirement already satisfied: greenlet!=0.4.17 in /usr/local/lib/python3.10/dist-packages (from SQLAlchemy<3,>=1.4->langchain-community) (3.0.3)\n",
            "Requirement already satisfied: jsonpointer>=1.9 in /usr/local/lib/python3.10/dist-packages (from jsonpatch<2.0,>=1.33->langchain-core<0.3.0,>=0.2.10->langchain-community) (3.0.0)\n",
            "Requirement already satisfied: annotated-types>=0.4.0 in /usr/local/lib/python3.10/dist-packages (from pydantic<3,>=1->langchain<0.3.0,>=0.2.6->langchain-community) (0.7.0)\n",
            "Requirement already satisfied: pydantic-core==2.18.4 in /usr/local/lib/python3.10/dist-packages (from pydantic<3,>=1->langchain<0.3.0,>=0.2.6->langchain-community) (2.18.4)\n",
            "Collecting mypy-extensions>=0.3.0 (from typing-inspect<1,>=0.4.0->dataclasses-json<0.7,>=0.5.7->langchain-community)\n",
            "  Downloading mypy_extensions-1.0.0-py3-none-any.whl (4.7 kB)\n",
            "Installing collected packages: mypy-extensions, marshmallow, typing-inspect, dataclasses-json, langchain-community\n",
            "Successfully installed dataclasses-json-0.6.7 langchain-community-0.2.6 marshmallow-3.21.3 mypy-extensions-1.0.0 typing-inspect-0.9.0\n"
          ]
        }
      ]
    },
    {
      "cell_type": "code",
      "source": [
        "import os\n",
        "import openai\n",
        "\n"
      ],
      "metadata": {
        "id": "IWoj8JJzCxKB"
      },
      "execution_count": 5,
      "outputs": []
    },
    {
      "cell_type": "code",
      "source": [],
      "metadata": {
        "id": "HRQ0G9VBCxHt"
      },
      "execution_count": 5,
      "outputs": []
    },
    {
      "cell_type": "code",
      "source": [
        "from langchain.chat_models import ChatOpenAI\n",
        "from langchain.prompts import ChatPromptTemplate\n",
        "from langchain.chains import LLMChain"
      ],
      "metadata": {
        "id": "MNrWieviCxE0"
      },
      "execution_count": 6,
      "outputs": []
    },
    {
      "cell_type": "code",
      "source": [
        "from langchain.chains import SequentialChain"
      ],
      "metadata": {
        "id": "Wz5TOnffCxBd"
      },
      "execution_count": 7,
      "outputs": []
    },
    {
      "cell_type": "markdown",
      "source": [
        "### 1. First LLMChain\n"
      ],
      "metadata": {
        "id": "fYYaGF0fCV4-"
      }
    },
    {
      "cell_type": "code",
      "source": [
        "llm1 = ChatOpenAI(temperature=0.0, model='gpt-3.5-turbo',openai_api_key=OPENAI_API_KEY)\n",
        "\n",
        "first_prompt = ChatPromptTemplate.from_template(\n",
        "    \"Produce a JSON file from the following product information:\"\n",
        "    \"\\n\\n{Product_Information}\"\n",
        ")"
      ],
      "metadata": {
        "id": "DOXSGr7fGSz7",
        "colab": {
          "base_uri": "https://localhost:8080/"
        },
        "outputId": "53dc4335-a360-4875-c1c9-db94a6db727f"
      },
      "execution_count": 8,
      "outputs": [
        {
          "output_type": "stream",
          "name": "stderr",
          "text": [
            "/usr/local/lib/python3.10/dist-packages/langchain_core/_api/deprecation.py:139: LangChainDeprecationWarning: The class `ChatOpenAI` was deprecated in LangChain 0.0.10 and will be removed in 0.3.0. An updated version of the class exists in the langchain-openai package and should be used instead. To use it run `pip install -U langchain-openai` and import as `from langchain_openai import ChatOpenAI`.\n",
            "  warn_deprecated(\n"
          ]
        }
      ]
    },
    {
      "cell_type": "code",
      "source": [
        "# chain 1 input= Product_Information\n",
        "chain_one = LLMChain(llm=llm1, prompt=first_prompt,\n",
        "                     output_key=\"Product_Information_JSON\"\n",
        "                    )"
      ],
      "metadata": {
        "id": "gXICtvifdvV0",
        "colab": {
          "base_uri": "https://localhost:8080/"
        },
        "outputId": "4eb41434-ea09-4bc3-fa61-087ecc36981d"
      },
      "execution_count": 9,
      "outputs": [
        {
          "output_type": "stream",
          "name": "stderr",
          "text": [
            "/usr/local/lib/python3.10/dist-packages/langchain_core/_api/deprecation.py:139: LangChainDeprecationWarning: The class `LLMChain` was deprecated in LangChain 0.1.17 and will be removed in 1.0. Use RunnableSequence, e.g., `prompt | llm` instead.\n",
            "  warn_deprecated(\n"
          ]
        }
      ]
    },
    {
      "cell_type": "markdown",
      "source": [
        "### 2. Second LLMChain"
      ],
      "metadata": {
        "id": "bZDj8liwaJIn"
      }
    },
    {
      "cell_type": "code",
      "source": [
        "llm2 = ChatOpenAI(temperature=0.0, model='gpt-3.5-turbo',openai_api_key=OPENAI_API_KEY)\n",
        "\n",
        "second_prompt = ChatPromptTemplate.from_template(\n",
        "    \"Translate the following product information into Spanish:\"\n",
        "    \"\\n\\n{Product_Information}\"\n",
        ")"
      ],
      "metadata": {
        "id": "SiIp1nISaT9P"
      },
      "execution_count": 10,
      "outputs": []
    },
    {
      "cell_type": "code",
      "source": [
        "# chain 2 input= Product_Information\n",
        "chain_two = LLMChain(llm=llm2, prompt=second_prompt,\n",
        "                     output_key=\"Product_Information_Spanish\"\n",
        "                    )"
      ],
      "metadata": {
        "id": "SvgGFn45aT6w"
      },
      "execution_count": 11,
      "outputs": []
    },
    {
      "cell_type": "code",
      "source": [],
      "metadata": {
        "id": "oJY5qGfqaT4F"
      },
      "execution_count": 11,
      "outputs": []
    },
    {
      "cell_type": "markdown",
      "source": [
        "### 3. Third LLMChain"
      ],
      "metadata": {
        "id": "i4HPbmalhdkN"
      }
    },
    {
      "cell_type": "code",
      "source": [
        "llm3 = ChatOpenAI(temperature=0.0, model='gpt-3.5-turbo',openai_api_key=OPENAI_API_KEY)\n",
        "\n",
        "third_prompt = ChatPromptTemplate.from_template(\n",
        "    \"Translate the following product information into Mandarin Chinese:\"\n",
        "    \"\\n\\n{Product_Information}\"\n",
        ")"
      ],
      "metadata": {
        "id": "o8u5N7-lhi8-"
      },
      "execution_count": 12,
      "outputs": []
    },
    {
      "cell_type": "code",
      "source": [
        "# chain 3 input= Product_Information\n",
        "chain_three = LLMChain(llm=llm3, prompt=third_prompt,\n",
        "                     output_key=\"Product_Information_Mandarin_Chinese\"\n",
        "                    )"
      ],
      "metadata": {
        "id": "3NySWXclhkwd"
      },
      "execution_count": 13,
      "outputs": []
    },
    {
      "cell_type": "markdown",
      "source": [
        "### 4. Fourth LLMChain"
      ],
      "metadata": {
        "id": "879kWq0ZtweJ"
      }
    },
    {
      "cell_type": "code",
      "source": [
        "llm4 = ChatOpenAI(temperature=0.0, model='gpt-4o',openai_api_key=OPENAI_API_KEY)\n",
        "\n",
        "fourth_prompt = ChatPromptTemplate.from_template(\n",
        "    \"Create a short text for an email marketing campaign aimed at female university students :\"\n",
        "    \"\\n\\n{Product_Information}\"\n",
        ")"
      ],
      "metadata": {
        "id": "K20ZUvqNrNK0"
      },
      "execution_count": 14,
      "outputs": []
    },
    {
      "cell_type": "code",
      "source": [
        "# chain 4 input= Product_Information\n",
        "chain_four = LLMChain(llm=llm4, prompt=fourth_prompt,\n",
        "                     output_key=\"email_marketing_female_university_students\"\n",
        "                    )"
      ],
      "metadata": {
        "id": "vJ4Tp5V8rNIt"
      },
      "execution_count": 15,
      "outputs": []
    },
    {
      "cell_type": "markdown",
      "source": [
        "### 5. Fifth LLMChain"
      ],
      "metadata": {
        "id": "nlKjfdbovTfu"
      }
    },
    {
      "cell_type": "code",
      "source": [
        "llm5 = ChatOpenAI(temperature=0.0, model='gpt-4o',openai_api_key=OPENAI_API_KEY)\n",
        "\n",
        "fifth_prompt = ChatPromptTemplate.from_template(\n",
        "    \"Create a short text for an email marketing campaign aimed at female working women in their 50s :\"\n",
        "    \"\\n\\n{Product_Information}\"\n",
        ")"
      ],
      "metadata": {
        "id": "NrIhRR2drNGN"
      },
      "execution_count": 16,
      "outputs": []
    },
    {
      "cell_type": "code",
      "source": [
        "# chain 5 input= Product_Information\n",
        "chain_five = LLMChain(llm=llm5, prompt=fifth_prompt,\n",
        "                     output_key=\"email_marketing_female_working_fifties\"\n",
        "                    )"
      ],
      "metadata": {
        "id": "gEdIk7AJrNDv"
      },
      "execution_count": 17,
      "outputs": []
    },
    {
      "cell_type": "code",
      "source": [],
      "metadata": {
        "id": "rpX_N_F3rNBC"
      },
      "execution_count": 17,
      "outputs": []
    },
    {
      "cell_type": "markdown",
      "source": [
        "### 6. Composite Chain\n",
        "#### We combine the previous chains into a composite one"
      ],
      "metadata": {
        "id": "COIYrnKRy8io"
      }
    },
    {
      "cell_type": "code",
      "source": [
        "# composite_chain: input= Physical_Examination\n",
        "# and output= Medical_Diagnosis\n",
        "\n",
        "composite_chain = SequentialChain(\n",
        "    chains=[chain_one,chain_two,chain_three,chain_four,chain_five],\n",
        "    input_variables=[\"Product_Information\"],\n",
        "    output_variables=[\"Product_Information_JSON\",\"Product_Information_Spanish\",\"Product_Information_Mandarin_Chinese\",\"email_marketing_female_university_students\",\"email_marketing_female_working_fifties\"],\n",
        "    verbose=True)"
      ],
      "metadata": {
        "id": "vT4PP83Mx-1-"
      },
      "execution_count": 18,
      "outputs": []
    },
    {
      "cell_type": "markdown",
      "source": [
        "### 7. Chain Execution"
      ],
      "metadata": {
        "id": "sIz14BiZzG1f"
      }
    },
    {
      "cell_type": "code",
      "source": [
        "Product_Saturn_Trousers='''\n",
        "Product Name:Saturn trs (J),\n",
        "Section Name: Womens Nightwear, Socks & Tigh,\n",
        "Product Description: Pyjama bottoms in sweatshirt fabric with wide elastication at the waist and tapered legs with elasticated hems. Soft brushed inside.,\n",
        "Product Price: 30 US Dollars\")\n",
        "'''\n",
        "\n",
        "\n"
      ],
      "metadata": {
        "id": "f7-peou4bH11"
      },
      "execution_count": 19,
      "outputs": []
    },
    {
      "cell_type": "code",
      "source": [
        "composite_chain_output=composite_chain(Product_Saturn_Trousers)"
      ],
      "metadata": {
        "colab": {
          "base_uri": "https://localhost:8080/"
        },
        "id": "zRtsfxAxx-xa",
        "outputId": "61e72ddc-d9a0-4185-ca69-2f5bbbdea12e"
      },
      "execution_count": 20,
      "outputs": [
        {
          "output_type": "stream",
          "name": "stderr",
          "text": [
            "/usr/local/lib/python3.10/dist-packages/langchain_core/_api/deprecation.py:139: LangChainDeprecationWarning: The method `Chain.__call__` was deprecated in langchain 0.1.0 and will be removed in 0.3.0. Use invoke instead.\n",
            "  warn_deprecated(\n"
          ]
        },
        {
          "output_type": "stream",
          "name": "stdout",
          "text": [
            "\n",
            "\n",
            "\u001b[1m> Entering new SequentialChain chain...\u001b[0m\n",
            "\n",
            "\u001b[1m> Finished chain.\u001b[0m\n"
          ]
        }
      ]
    },
    {
      "cell_type": "code",
      "source": [
        "type(composite_chain_output)"
      ],
      "metadata": {
        "colab": {
          "base_uri": "https://localhost:8080/"
        },
        "id": "CrmV9-u_epUl",
        "outputId": "0126c63d-f881-466b-f1a1-7ac6d2c5f7af"
      },
      "execution_count": 21,
      "outputs": [
        {
          "output_type": "execute_result",
          "data": {
            "text/plain": [
              "dict"
            ]
          },
          "metadata": {},
          "execution_count": 21
        }
      ]
    },
    {
      "cell_type": "code",
      "source": [
        "composite_chain_output.keys()"
      ],
      "metadata": {
        "colab": {
          "base_uri": "https://localhost:8080/"
        },
        "id": "mCE_oYoCwLMw",
        "outputId": "9cc8cfc7-9426-4ed0-d560-b7510787517f"
      },
      "execution_count": 22,
      "outputs": [
        {
          "output_type": "execute_result",
          "data": {
            "text/plain": [
              "dict_keys(['Product_Information', 'Product_Information_JSON', 'Product_Information_Spanish', 'Product_Information_Mandarin_Chinese', 'email_marketing_female_university_students', 'email_marketing_female_working_fifties'])"
            ]
          },
          "metadata": {},
          "execution_count": 22
        }
      ]
    },
    {
      "cell_type": "code",
      "source": [
        "composite_chain_output"
      ],
      "metadata": {
        "colab": {
          "base_uri": "https://localhost:8080/"
        },
        "id": "2DgFjeI7tMUK",
        "outputId": "1aef623a-cd6f-48f3-f7ef-03862e5fe440"
      },
      "execution_count": 23,
      "outputs": [
        {
          "output_type": "execute_result",
          "data": {
            "text/plain": [
              "{'Product_Information': '\\nProduct Name:Saturn trs (J),\\nSection Name: Womens Nightwear, Socks & Tigh,\\nProduct Description: Pyjama bottoms in sweatshirt fabric with wide elastication at the waist and tapered legs with elasticated hems. Soft brushed inside., \\nProduct Price: 30 US Dollars\")\\n',\n",
              " 'Product_Information_JSON': '{\\n  \"Product\": {\\n    \"Product Name\": \"Saturn trs (J)\",\\n    \"Section Name\": \"Womens Nightwear, Socks & Tigh\",\\n    \"Product Description\": \"Pyjama bottoms in sweatshirt fabric with wide elastication at the waist and tapered legs with elasticated hems. Soft brushed inside.\",\\n    \"Product Price\": \"30 US Dollars\"\\n  }\\n}',\n",
              " 'Product_Information_Spanish': 'Nombre del producto: Saturn trs (J),\\nNombre de la sección: Ropa de dormir para mujeres, calcetines y medias,\\nDescripción del producto: Pantalones de pijama en tela de sudadera con amplia elasticidad en la cintura y piernas cónicas con dobladillos elásticos. Suave cepillado por dentro.,\\nPrecio del producto: 30 dólares estadounidenses',\n",
              " 'Product_Information_Mandarin_Chinese': '产品名称：Saturn trs（J），\\n部门名称：女士睡衣、袜子和紧身裤，\\n产品描述：运动衫面料的睡裤，腰部宽松弹性设计，锥形腿部带有弹性裤脚。内部柔软刷毛。,\\n产品价格：30美元。',\n",
              " 'email_marketing_female_university_students': \"Subject: Cozy Up in Style with Saturn trs (J) – Perfect for Your Campus Nights!\\n\\nDear [Name],\\n\\nAre you ready to elevate your nightwear game? Introducing the Saturn trs (J) – the ultimate blend of comfort and style, exclusively from our Women's Nightwear, Socks & Tights collection.\\n\\nOur pyjama bottoms are crafted from soft sweatshirt fabric, featuring wide elastication at the waist and tapered legs with elasticated hems. The brushed inside ensures you stay warm and cozy, making them perfect for those late-night study sessions or relaxing movie marathons.\\n\\nAnd the best part? They're just $30!\\n\\nDon't miss out on the chance to add these must-have pyjama bottoms to your wardrobe. Click the link below to shop now and experience the perfect combination of comfort and chic.\\n\\n[Shop Now Button]\\n\\nStay comfy and stylish,\\n[Your Brand Name]\\n\\nP.S. Follow us on social media for the latest updates and exclusive offers!\\n\\n[Social Media Icons]\",\n",
              " 'email_marketing_female_working_fifties': \"Subject: Comfort Meets Style: Discover Saturn trs (J) Nightwear for Women in Their 50s\\n\\nDear [First Name],\\n\\nWe know how important it is to find the perfect balance between comfort and style, especially after a long day at work. That's why we're excited to introduce you to our latest addition in the Women's Nightwear collection: the Saturn trs (J) Pyjama Bottoms.\\n\\nDesigned with you in mind, these pyjama bottoms feature:\\n- **Soft Sweatshirt Fabric**: Enjoy the cozy feel of soft brushed inside material.\\n- **Wide Elasticated Waist**: Experience ultimate comfort with a fit that adapts to your body.\\n- **Tapered Legs with Elasticated Hems**: Look chic and feel relaxed, whether you're lounging at home or getting ready for bed.\\n\\nAll this comfort and style for just $30!\\n\\nTreat yourself to the luxury you deserve. Click here to shop now and elevate your nightwear game.\\n\\nWarm regards,\\n\\n[Your Company Name]\\n[Contact Information]\\n[Unsubscribe Link]\\n\\nP.S. Don't forget to check out our matching socks and tights to complete your cozy night-in look!\"}"
            ]
          },
          "metadata": {},
          "execution_count": 23
        }
      ]
    },
    {
      "cell_type": "code",
      "source": [
        "composite_chain_output['Product_Information_JSON']"
      ],
      "metadata": {
        "colab": {
          "base_uri": "https://localhost:8080/",
          "height": 71
        },
        "id": "NiABRaOiepSV",
        "outputId": "d191ce25-a440-4198-b82c-e08316093ccf"
      },
      "execution_count": 24,
      "outputs": [
        {
          "output_type": "execute_result",
          "data": {
            "text/plain": [
              "'{\\n  \"Product\": {\\n    \"Product Name\": \"Saturn trs (J)\",\\n    \"Section Name\": \"Womens Nightwear, Socks & Tigh\",\\n    \"Product Description\": \"Pyjama bottoms in sweatshirt fabric with wide elastication at the waist and tapered legs with elasticated hems. Soft brushed inside.\",\\n    \"Product Price\": \"30 US Dollars\"\\n  }\\n}'"
            ],
            "application/vnd.google.colaboratory.intrinsic+json": {
              "type": "string"
            }
          },
          "metadata": {},
          "execution_count": 24
        }
      ]
    },
    {
      "cell_type": "code",
      "source": [
        "composite_chain_output['Product_Information_Spanish']"
      ],
      "metadata": {
        "colab": {
          "base_uri": "https://localhost:8080/",
          "height": 71
        },
        "id": "j8ytsbWoepP-",
        "outputId": "9ad458f7-7987-404e-d595-f85d3afd61b6"
      },
      "execution_count": 25,
      "outputs": [
        {
          "output_type": "execute_result",
          "data": {
            "text/plain": [
              "'Nombre del producto: Saturn trs (J),\\nNombre de la sección: Ropa de dormir para mujeres, calcetines y medias,\\nDescripción del producto: Pantalones de pijama en tela de sudadera con amplia elasticidad en la cintura y piernas cónicas con dobladillos elásticos. Suave cepillado por dentro.,\\nPrecio del producto: 30 dólares estadounidenses'"
            ],
            "application/vnd.google.colaboratory.intrinsic+json": {
              "type": "string"
            }
          },
          "metadata": {},
          "execution_count": 25
        }
      ]
    },
    {
      "cell_type": "code",
      "source": [
        "composite_chain_output['Product_Information_Mandarin_Chinese']"
      ],
      "metadata": {
        "colab": {
          "base_uri": "https://localhost:8080/",
          "height": 35
        },
        "id": "U-ZQSKZSepNj",
        "outputId": "34ddc1c6-b84a-4346-afa8-e48cb34c3ab8"
      },
      "execution_count": 26,
      "outputs": [
        {
          "output_type": "execute_result",
          "data": {
            "text/plain": [
              "'产品名称：Saturn trs（J），\\n部门名称：女士睡衣、袜子和紧身裤，\\n产品描述：运动衫面料的睡裤，腰部宽松弹性设计，锥形腿部带有弹性裤脚。内部柔软刷毛。,\\n产品价格：30美元。'"
            ],
            "application/vnd.google.colaboratory.intrinsic+json": {
              "type": "string"
            }
          },
          "metadata": {},
          "execution_count": 26
        }
      ]
    },
    {
      "cell_type": "code",
      "source": [
        "composite_chain_output['email_marketing_female_university_students']"
      ],
      "metadata": {
        "colab": {
          "base_uri": "https://localhost:8080/",
          "height": 143
        },
        "id": "84Kwq_nxvIx_",
        "outputId": "99eb7a62-6f83-4c93-f80b-70a1487a906c"
      },
      "execution_count": 27,
      "outputs": [
        {
          "output_type": "execute_result",
          "data": {
            "text/plain": [
              "\"Subject: Cozy Up in Style with Saturn trs (J) – Perfect for Your Campus Nights!\\n\\nDear [Name],\\n\\nAre you ready to elevate your nightwear game? Introducing the Saturn trs (J) – the ultimate blend of comfort and style, exclusively from our Women's Nightwear, Socks & Tights collection.\\n\\nOur pyjama bottoms are crafted from soft sweatshirt fabric, featuring wide elastication at the waist and tapered legs with elasticated hems. The brushed inside ensures you stay warm and cozy, making them perfect for those late-night study sessions or relaxing movie marathons.\\n\\nAnd the best part? They're just $30!\\n\\nDon't miss out on the chance to add these must-have pyjama bottoms to your wardrobe. Click the link below to shop now and experience the perfect combination of comfort and chic.\\n\\n[Shop Now Button]\\n\\nStay comfy and stylish,\\n[Your Brand Name]\\n\\nP.S. Follow us on social media for the latest updates and exclusive offers!\\n\\n[Social Media Icons]\""
            ],
            "application/vnd.google.colaboratory.intrinsic+json": {
              "type": "string"
            }
          },
          "metadata": {},
          "execution_count": 27
        }
      ]
    },
    {
      "cell_type": "code",
      "source": [
        "composite_chain_output['email_marketing_female_working_fifties']"
      ],
      "metadata": {
        "colab": {
          "base_uri": "https://localhost:8080/",
          "height": 143
        },
        "id": "WosYEybvv3Z6",
        "outputId": "309d3e2d-a47f-4afb-badc-fc16a35cdf15"
      },
      "execution_count": 28,
      "outputs": [
        {
          "output_type": "execute_result",
          "data": {
            "text/plain": [
              "\"Subject: Comfort Meets Style: Discover Saturn trs (J) Nightwear for Women in Their 50s\\n\\nDear [First Name],\\n\\nWe know how important it is to find the perfect balance between comfort and style, especially after a long day at work. That's why we're excited to introduce you to our latest addition in the Women's Nightwear collection: the Saturn trs (J) Pyjama Bottoms.\\n\\nDesigned with you in mind, these pyjama bottoms feature:\\n- **Soft Sweatshirt Fabric**: Enjoy the cozy feel of soft brushed inside material.\\n- **Wide Elasticated Waist**: Experience ultimate comfort with a fit that adapts to your body.\\n- **Tapered Legs with Elasticated Hems**: Look chic and feel relaxed, whether you're lounging at home or getting ready for bed.\\n\\nAll this comfort and style for just $30!\\n\\nTreat yourself to the luxury you deserve. Click here to shop now and elevate your nightwear game.\\n\\nWarm regards,\\n\\n[Your Company Name]\\n[Contact Information]\\n[Unsubscribe Link]\\n\\nP.S. Don't forget to check out our matching socks and tights to complete your cozy night-in look!\""
            ],
            "application/vnd.google.colaboratory.intrinsic+json": {
              "type": "string"
            }
          },
          "metadata": {},
          "execution_count": 28
        }
      ]
    },
    {
      "cell_type": "code",
      "source": [],
      "metadata": {
        "id": "gLdWQAamwR2m"
      },
      "execution_count": 28,
      "outputs": []
    }
  ]
}